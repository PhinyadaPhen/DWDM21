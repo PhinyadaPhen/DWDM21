{
  "nbformat": 4,
  "nbformat_minor": 0,
  "metadata": {
    "colab": {
      "name": "Data101(Chapter2).ipynb",
      "provenance": [],
      "authorship_tag": "ABX9TyOv8os20yFy50Myr11UzMqZ",
      "include_colab_link": true
    },
    "kernelspec": {
      "name": "python3",
      "display_name": "Python 3"
    },
    "language_info": {
      "name": "python"
    }
  },
  "cells": [
    {
      "cell_type": "markdown",
      "metadata": {
        "id": "view-in-github",
        "colab_type": "text"
      },
      "source": [
        "<a href=\"https://colab.research.google.com/github/PhinyadaPhen/DWDM21/blob/main/Data101(Chapter2).ipynb\" target=\"_parent\"><img src=\"https://colab.research.google.com/assets/colab-badge.svg\" alt=\"Open In Colab\"/></a>"
      ]
    },
    {
      "cell_type": "markdown",
      "metadata": {
        "id": "pdpCVu1SzzKo"
      },
      "source": [
        "ข้อความที่อยู่ใน text box จะเป็นภาษา markdown"
      ]
    },
    {
      "cell_type": "code",
      "metadata": {
        "id": "1jJRbY5msPzt"
      },
      "source": [
        "import pandas # บรรทัดนี้จะเรียกใช้แพ็คเกจ pandas โดย import ตามด้วยชื่อ package "
      ],
      "execution_count": null,
      "outputs": []
    },
    {
      "cell_type": "markdown",
      "metadata": {
        "id": "ThhTDSpitpy2"
      },
      "source": [
        "ข้อดีหนึ่งของ python คือมี package สำหรับทำงานต่างๆ มากมาย \n",
        "\n",
        "ซึ่ง pandas เป็น package สำหรับทำงานกับข้อมูลที่อยู่ในรูปแบบตาราง \n",
        "\n",
        "โดย pandas จะเรียกตารางนั้นว่า dataframe"
      ]
    },
    {
      "cell_type": "code",
      "metadata": {
        "id": "F1ZRbO6htAvJ"
      },
      "source": [
        "import pandas as pd # เหมือนกับข้างบน แต่ว่าตั้งชื่อให้ package ที๋โหลดมาใหม่ว่า pd"
      ],
      "execution_count": null,
      "outputs": []
    },
    {
      "cell_type": "markdown",
      "metadata": {
        "id": "IUMUwCwGuss2"
      },
      "source": [
        "ไฟล์ .csv (CSV = comma separated values) เป็นไฟล์หลักที่เราจะได้ใช้กันในวิชานี้ \n",
        "\n"
      ]
    },
    {
      "cell_type": "code",
      "metadata": {
        "id": "WupojcipuoBF"
      },
      "source": [
        "data_df = pd.read_csv('data.csv')"
      ],
      "execution_count": null,
      "outputs": []
    },
    {
      "cell_type": "code",
      "metadata": {
        "colab": {
          "base_uri": "https://localhost:8080/",
          "height": 141
        },
        "id": "x12ii1vOxNf3",
        "outputId": "b1067cb0-07f4-4cdd-f3c6-8b3cbf70504b"
      },
      "source": [
        "data_df"
      ],
      "execution_count": null,
      "outputs": [
        {
          "output_type": "execute_result",
          "data": {
            "text/html": [
              "<div>\n",
              "<style scoped>\n",
              "    .dataframe tbody tr th:only-of-type {\n",
              "        vertical-align: middle;\n",
              "    }\n",
              "\n",
              "    .dataframe tbody tr th {\n",
              "        vertical-align: top;\n",
              "    }\n",
              "\n",
              "    .dataframe thead th {\n",
              "        text-align: right;\n",
              "    }\n",
              "</style>\n",
              "<table border=\"1\" class=\"dataframe\">\n",
              "  <thead>\n",
              "    <tr style=\"text-align: right;\">\n",
              "      <th></th>\n",
              "      <th>\\tname</th>\n",
              "      <th>age</th>\n",
              "      <th>city</th>\n",
              "    </tr>\n",
              "  </thead>\n",
              "  <tbody>\n",
              "    <tr>\n",
              "      <th>0</th>\n",
              "      <td>\\tTom</td>\n",
              "      <td>27</td>\n",
              "      <td>Khon Kaen</td>\n",
              "    </tr>\n",
              "    <tr>\n",
              "      <th>1</th>\n",
              "      <td>\\tPaul</td>\n",
              "      <td>15</td>\n",
              "      <td>Bangkok</td>\n",
              "    </tr>\n",
              "    <tr>\n",
              "      <th>2</th>\n",
              "      <td>\\tSarah</td>\n",
              "      <td>49</td>\n",
              "      <td>London</td>\n",
              "    </tr>\n",
              "  </tbody>\n",
              "</table>\n",
              "</div>"
            ],
            "text/plain": [
              "    \\tname  age       city\n",
              "0    \\tTom   27  Khon Kaen\n",
              "1   \\tPaul   15    Bangkok\n",
              "2  \\tSarah   49     London"
            ]
          },
          "metadata": {
            "tags": []
          },
          "execution_count": 219
        }
      ]
    },
    {
      "cell_type": "code",
      "metadata": {
        "colab": {
          "base_uri": "https://localhost:8080/",
          "height": 141
        },
        "id": "7IrpXSSRxPMW",
        "outputId": "f9cbabfc-9e16-4e4b-fbea-9b74ec87995b"
      },
      "source": [
        "data_df2 = pandas.read_csv('data.csv')\n",
        "data_df2"
      ],
      "execution_count": null,
      "outputs": [
        {
          "output_type": "execute_result",
          "data": {
            "text/html": [
              "<div>\n",
              "<style scoped>\n",
              "    .dataframe tbody tr th:only-of-type {\n",
              "        vertical-align: middle;\n",
              "    }\n",
              "\n",
              "    .dataframe tbody tr th {\n",
              "        vertical-align: top;\n",
              "    }\n",
              "\n",
              "    .dataframe thead th {\n",
              "        text-align: right;\n",
              "    }\n",
              "</style>\n",
              "<table border=\"1\" class=\"dataframe\">\n",
              "  <thead>\n",
              "    <tr style=\"text-align: right;\">\n",
              "      <th></th>\n",
              "      <th>\\tname</th>\n",
              "      <th>age</th>\n",
              "      <th>city</th>\n",
              "    </tr>\n",
              "  </thead>\n",
              "  <tbody>\n",
              "    <tr>\n",
              "      <th>0</th>\n",
              "      <td>\\tTom</td>\n",
              "      <td>27</td>\n",
              "      <td>Khon Kaen</td>\n",
              "    </tr>\n",
              "    <tr>\n",
              "      <th>1</th>\n",
              "      <td>\\tPaul</td>\n",
              "      <td>15</td>\n",
              "      <td>Bangkok</td>\n",
              "    </tr>\n",
              "    <tr>\n",
              "      <th>2</th>\n",
              "      <td>\\tSarah</td>\n",
              "      <td>49</td>\n",
              "      <td>London</td>\n",
              "    </tr>\n",
              "  </tbody>\n",
              "</table>\n",
              "</div>"
            ],
            "text/plain": [
              "    \\tname  age       city\n",
              "0    \\tTom   27  Khon Kaen\n",
              "1   \\tPaul   15    Bangkok\n",
              "2  \\tSarah   49     London"
            ]
          },
          "metadata": {
            "tags": []
          },
          "execution_count": 220
        }
      ]
    },
    {
      "cell_type": "markdown",
      "metadata": {
        "id": "wl6-fhEZyhN8"
      },
      "source": [
        "# Basic Python \n",
        "### variables"
      ]
    },
    {
      "cell_type": "markdown",
      "metadata": {
        "id": "r7nbFplr1iQB"
      },
      "source": [
        "ข้อกำหนดในการตั้งชื่อตัวแปร\n",
        "\n",
        "\n",
        "1.   ชื่อห้ามมีเว้นวรรค\n",
        "2.   พยายามใช้ภาษาอังกฤษ \n",
        "3.   ตัวเล็กกับตัวใหญ่ แตกต่างกัน (case sensitive) \n",
        "4.   ห้ามใช้ตัวเลขเป็นตัวหน้า\n",
        "\n",
        "\n"
      ]
    },
    {
      "cell_type": "code",
      "metadata": {
        "id": "DOQ3uKiJyIr3"
      },
      "source": [
        "variable_a = 12 # กล่องสำหรับเก็บข้อมูลของเรา\n",
        "variable_b = 'abcd' # ' ตัวนี้เรียกว่า quote (โค้ท)\n",
        "variable_c = variable_a  "
      ],
      "execution_count": null,
      "outputs": []
    },
    {
      "cell_type": "code",
      "metadata": {
        "colab": {
          "base_uri": "https://localhost:8080/",
          "height": 132
        },
        "id": "DkjE0xga1Hu2",
        "outputId": "3e83f273-f0d4-4430-d017-9bd938b48b04"
      },
      "source": [
        "# ชื่อห้ามมีเว้นวรรค\n",
        "variable a"
      ],
      "execution_count": null,
      "outputs": [
        {
          "output_type": "error",
          "ename": "SyntaxError",
          "evalue": "ignored",
          "traceback": [
            "\u001b[0;36m  File \u001b[0;32m\"<ipython-input-222-391088da48f7>\"\u001b[0;36m, line \u001b[0;32m2\u001b[0m\n\u001b[0;31m    variable a\u001b[0m\n\u001b[0m             ^\u001b[0m\n\u001b[0;31mSyntaxError\u001b[0m\u001b[0;31m:\u001b[0m invalid syntax\n"
          ]
        }
      ]
    },
    {
      "cell_type": "code",
      "metadata": {
        "colab": {
          "base_uri": "https://localhost:8080/"
        },
        "id": "ruTOGVad2l2K",
        "outputId": "4924ca20-0b3c-4bb9-c898-1c05c96b51a2"
      },
      "source": [
        "# พยายามใช้ภาษาอังกฤษ\n",
        "# colab ใช้ภาษาไทยได้ แต่ไม่ควรใช้ \n",
        "ตัวอย่าง = 3\n",
        "ตัวอย่าง"
      ],
      "execution_count": null,
      "outputs": [
        {
          "output_type": "execute_result",
          "data": {
            "text/plain": [
              "3"
            ]
          },
          "metadata": {
            "tags": []
          },
          "execution_count": 224
        }
      ]
    },
    {
      "cell_type": "code",
      "metadata": {
        "colab": {
          "base_uri": "https://localhost:8080/"
        },
        "id": "gdHHxV0O2uHP",
        "outputId": "15858087-0518-49e2-a0c8-401f171747ca"
      },
      "source": [
        "# ตัวเล็กกับตัวใหญ่ แตกต่างกัน (case sensitive)\n",
        "v_a = 1\n",
        "V_a = 2\n",
        "print(v_a)\n",
        "print(V_a)"
      ],
      "execution_count": null,
      "outputs": [
        {
          "output_type": "stream",
          "text": [
            "1\n",
            "2\n"
          ],
          "name": "stdout"
        }
      ]
    },
    {
      "cell_type": "code",
      "metadata": {
        "colab": {
          "base_uri": "https://localhost:8080/"
        },
        "id": "dyr2ZP-v3LPe",
        "outputId": "33fa824c-fbcb-49a4-99ca-c8475d66a5a5"
      },
      "source": [
        "# ห้ามใช้ตัวเลขเป็นตัวหน้า\n",
        "variable1 = 1\n",
        "print(variable1)"
      ],
      "execution_count": null,
      "outputs": [
        {
          "output_type": "stream",
          "text": [
            "1\n"
          ],
          "name": "stdout"
        }
      ]
    },
    {
      "cell_type": "code",
      "metadata": {
        "id": "DeVsN2Wc3oAN"
      },
      "source": [
        "variable_a = 12 # กล่องสำหรับเก็บข้อมูลของเรา\n",
        "variable_b = 'abcd' # ' ตัวนี้เรียกว่า quote (โค้ท)\n",
        "variable_c = variable_a  \n",
        "variable_d = -41.2\n",
        "variable_4 = \"KKU\" # เรียกว่า double quote"
      ],
      "execution_count": null,
      "outputs": []
    },
    {
      "cell_type": "code",
      "metadata": {
        "colab": {
          "base_uri": "https://localhost:8080/"
        },
        "id": "qfrfwoCN4jEK",
        "outputId": "143cb314-8e61-40ef-8d3e-0fa110f13853"
      },
      "source": [
        "variable_x = variable_c + variable_d\n",
        "print(variable_x)"
      ],
      "execution_count": null,
      "outputs": [
        {
          "output_type": "stream",
          "text": [
            "-29.200000000000003\n"
          ],
          "name": "stdout"
        }
      ]
    },
    {
      "cell_type": "code",
      "metadata": {
        "colab": {
          "base_uri": "https://localhost:8080/"
        },
        "id": "OWGocaa94ub9",
        "outputId": "ac64542c-36e1-450c-ead3-f8453273b852"
      },
      "source": [
        "print(variable_b + variable_4)"
      ],
      "execution_count": null,
      "outputs": [
        {
          "output_type": "stream",
          "text": [
            "abcdKKU\n"
          ],
          "name": "stdout"
        }
      ]
    },
    {
      "cell_type": "markdown",
      "metadata": {
        "id": "yYqn3y447Gq8"
      },
      "source": [
        "# Casting \n",
        "###int() float() str() "
      ]
    },
    {
      "cell_type": "code",
      "metadata": {
        "colab": {
          "base_uri": "https://localhost:8080/"
        },
        "id": "AvYliYUU6dU1",
        "outputId": "f576e7d1-ed15-4184-a24d-e2db5466fd5c"
      },
      "source": [
        "print(variable_x)\n",
        "print(int(variable_x))"
      ],
      "execution_count": null,
      "outputs": [
        {
          "output_type": "stream",
          "text": [
            "-29.200000000000003\n",
            "-29\n"
          ],
          "name": "stdout"
        }
      ]
    },
    {
      "cell_type": "code",
      "metadata": {
        "colab": {
          "base_uri": "https://localhost:8080/"
        },
        "id": "6Kmtser27aSE",
        "outputId": "e1eb882d-917f-4cef-c91d-5d0e9f69d957"
      },
      "source": [
        "V_X  = str(variable_x)\n",
        "print(V_X)"
      ],
      "execution_count": null,
      "outputs": [
        {
          "output_type": "stream",
          "text": [
            "-29.200000000000003\n"
          ],
          "name": "stdout"
        }
      ]
    },
    {
      "cell_type": "code",
      "metadata": {
        "colab": {
          "base_uri": "https://localhost:8080/",
          "height": 168
        },
        "id": "OV6Br2PF71SM",
        "outputId": "62c30a42-45f9-4cd3-f8ef-8f8ee4f0ca38"
      },
      "source": [
        "V_X + variable_a"
      ],
      "execution_count": null,
      "outputs": [
        {
          "output_type": "error",
          "ename": "TypeError",
          "evalue": "ignored",
          "traceback": [
            "\u001b[0;31m---------------------------------------------------------------------------\u001b[0m",
            "\u001b[0;31mTypeError\u001b[0m                                 Traceback (most recent call last)",
            "\u001b[0;32m<ipython-input-232-d83c0918f5c6>\u001b[0m in \u001b[0;36m<module>\u001b[0;34m()\u001b[0m\n\u001b[0;32m----> 1\u001b[0;31m \u001b[0mV_X\u001b[0m \u001b[0;34m+\u001b[0m \u001b[0mvariable_a\u001b[0m\u001b[0;34m\u001b[0m\u001b[0;34m\u001b[0m\u001b[0m\n\u001b[0m",
            "\u001b[0;31mTypeError\u001b[0m: can only concatenate str (not \"int\") to str"
          ]
        }
      ]
    },
    {
      "cell_type": "code",
      "metadata": {
        "colab": {
          "base_uri": "https://localhost:8080/",
          "height": 168
        },
        "id": "SytyrnV174ls",
        "outputId": "093beacc-f88a-4cbb-dd81-cd6584e7f761"
      },
      "source": [
        "variable_a + v_X"
      ],
      "execution_count": null,
      "outputs": [
        {
          "output_type": "error",
          "ename": "NameError",
          "evalue": "ignored",
          "traceback": [
            "\u001b[0;31m---------------------------------------------------------------------------\u001b[0m",
            "\u001b[0;31mNameError\u001b[0m                                 Traceback (most recent call last)",
            "\u001b[0;32m<ipython-input-234-7bd38430ab5d>\u001b[0m in \u001b[0;36m<module>\u001b[0;34m()\u001b[0m\n\u001b[0;32m----> 1\u001b[0;31m \u001b[0mvariable_a\u001b[0m \u001b[0;34m+\u001b[0m \u001b[0mv_X\u001b[0m\u001b[0;34m\u001b[0m\u001b[0;34m\u001b[0m\u001b[0m\n\u001b[0m",
            "\u001b[0;31mNameError\u001b[0m: name 'v_X' is not defined"
          ]
        }
      ]
    },
    {
      "cell_type": "code",
      "metadata": {
        "colab": {
          "base_uri": "https://localhost:8080/",
          "height": 36
        },
        "id": "l2W-wopp7_sE",
        "outputId": "722e8374-3349-4c19-fba8-62b300a65b2c"
      },
      "source": [
        "V_X"
      ],
      "execution_count": null,
      "outputs": [
        {
          "output_type": "execute_result",
          "data": {
            "application/vnd.google.colaboratory.intrinsic+json": {
              "type": "string"
            },
            "text/plain": [
              "'-29.200000000000003'"
            ]
          },
          "metadata": {
            "tags": []
          },
          "execution_count": 236
        }
      ]
    },
    {
      "cell_type": "code",
      "metadata": {
        "colab": {
          "base_uri": "https://localhost:8080/"
        },
        "id": "QaoDVFxP8bgm",
        "outputId": "5094ec86-c6a5-48aa-855e-f0685fd6e452"
      },
      "source": [
        "float(V_X)"
      ],
      "execution_count": null,
      "outputs": [
        {
          "output_type": "execute_result",
          "data": {
            "text/plain": [
              "-29.200000000000003"
            ]
          },
          "metadata": {
            "tags": []
          },
          "execution_count": 237
        }
      ]
    },
    {
      "cell_type": "markdown",
      "metadata": {
        "id": "__CjXSoy84i3"
      },
      "source": [
        "# Data Structure\n",
        "### list()"
      ]
    },
    {
      "cell_type": "code",
      "metadata": {
        "id": "kGa8nbhz8228"
      },
      "source": [
        "list_a = [1,2,0.2,'abs'] # [] square brackets\n",
        "list_b = [2,'xyz',list_a,[1,2,0.0]]"
      ],
      "execution_count": null,
      "outputs": []
    },
    {
      "cell_type": "code",
      "metadata": {
        "colab": {
          "base_uri": "https://localhost:8080/"
        },
        "id": "37G0-Cl593ay",
        "outputId": "5e536597-37d5-41cc-82d8-b9bf6165cdfe"
      },
      "source": [
        "list_a # list คือการเอามาเรียงต่อกันเป็นทอด ๆ"
      ],
      "execution_count": null,
      "outputs": [
        {
          "output_type": "execute_result",
          "data": {
            "text/plain": [
              "[1, 2, 0.2, 'abs']"
            ]
          },
          "metadata": {
            "tags": []
          },
          "execution_count": 239
        }
      ]
    },
    {
      "cell_type": "code",
      "metadata": {
        "colab": {
          "base_uri": "https://localhost:8080/"
        },
        "id": "I_0gPf5F94sM",
        "outputId": "17534716-ee67-4fd1-ac4a-ee4af674e9d7"
      },
      "source": [
        "list_b # เวลานับจะเริ่มนับจาก 0"
      ],
      "execution_count": null,
      "outputs": [
        {
          "output_type": "execute_result",
          "data": {
            "text/plain": [
              "[2, 'xyz', [1, 2, 0.2, 'abs'], [1, 2, 0.0]]"
            ]
          },
          "metadata": {
            "tags": []
          },
          "execution_count": 240
        }
      ]
    },
    {
      "cell_type": "code",
      "metadata": {
        "colab": {
          "base_uri": "https://localhost:8080/"
        },
        "id": "Xo8cznqg97Db",
        "outputId": "53c5670b-ccaa-46d0-f672-f19a9e48b7c7"
      },
      "source": [
        "len(list_b) # len คือ จำนวน"
      ],
      "execution_count": null,
      "outputs": [
        {
          "output_type": "execute_result",
          "data": {
            "text/plain": [
              "4"
            ]
          },
          "metadata": {
            "tags": []
          },
          "execution_count": 241
        }
      ]
    },
    {
      "cell_type": "code",
      "metadata": {
        "colab": {
          "base_uri": "https://localhost:8080/"
        },
        "id": "GIRlH0fP-Wgc",
        "outputId": "ebadd0b1-f601-457b-f2a8-77997166b134"
      },
      "source": [
        "list_b[3] # แปลว่าเลือก ตัวที่ 3 ของ list_b"
      ],
      "execution_count": null,
      "outputs": [
        {
          "output_type": "execute_result",
          "data": {
            "text/plain": [
              "[1, 2, 0.0]"
            ]
          },
          "metadata": {
            "tags": []
          },
          "execution_count": 242
        }
      ]
    },
    {
      "cell_type": "code",
      "metadata": {
        "colab": {
          "base_uri": "https://localhost:8080/"
        },
        "id": "FLbQSTL3-icc",
        "outputId": "a28e8eb1-cb21-4c05-ccc3-08efefcc9d7f"
      },
      "source": [
        "list_b[3][1] # แปลว่าเลือกตัวที่ 3 ของ list_b และเลือกตัวที่ 1 ในลำดับในตัวที่ 3 อีกที"
      ],
      "execution_count": null,
      "outputs": [
        {
          "output_type": "execute_result",
          "data": {
            "text/plain": [
              "2"
            ]
          },
          "metadata": {
            "tags": []
          },
          "execution_count": 243
        }
      ]
    },
    {
      "cell_type": "markdown",
      "metadata": {
        "id": "nSkWkcE__FCG"
      },
      "source": [
        "### string คือ list ของ ตัวหนังสือ"
      ]
    },
    {
      "cell_type": "code",
      "metadata": {
        "id": "D2J9uJvE-nk9"
      },
      "source": [
        "a = 'Stat KKU'"
      ],
      "execution_count": null,
      "outputs": []
    },
    {
      "cell_type": "code",
      "metadata": {
        "colab": {
          "base_uri": "https://localhost:8080/"
        },
        "id": "cbvzSqAa_Twi",
        "outputId": "ebd21134-9f7c-4f5d-949e-eb9613799584"
      },
      "source": [
        "a[4] # คำตอบที่ได้คือ เว้นวรรค เพราะ เว้นวรรค คือลำดับที่ 4 ของ a"
      ],
      "execution_count": null,
      "outputs": [
        {
          "output_type": "execute_result",
          "data": {
            "application/vnd.google.colaboratory.intrinsic+json": {
              "type": "string"
            },
            "text/plain": [
              "' '"
            ]
          },
          "metadata": {
            "tags": []
          },
          "execution_count": 245
        }
      ]
    },
    {
      "cell_type": "markdown",
      "metadata": {
        "id": "rSf8QwiX_kL_"
      },
      "source": [
        "## วิธีสร้าง list ว่าง "
      ]
    },
    {
      "cell_type": "code",
      "metadata": {
        "id": "RASEcJqd_WD9"
      },
      "source": [
        "list_c = list() # แบบที่ 1\n",
        "list_d = [] # แบบที่ 2"
      ],
      "execution_count": null,
      "outputs": []
    },
    {
      "cell_type": "code",
      "metadata": {
        "colab": {
          "base_uri": "https://localhost:8080/"
        },
        "id": "-SvStyQW_105",
        "outputId": "4b6457c1-98a3-405d-f65b-b9e2e3de89f1"
      },
      "source": [
        "list_c"
      ],
      "execution_count": null,
      "outputs": [
        {
          "output_type": "execute_result",
          "data": {
            "text/plain": [
              "[]"
            ]
          },
          "metadata": {
            "tags": []
          },
          "execution_count": 247
        }
      ]
    },
    {
      "cell_type": "code",
      "metadata": {
        "colab": {
          "base_uri": "https://localhost:8080/"
        },
        "id": "D-I6LHUgAAXc",
        "outputId": "5754e861-f23a-4473-d799-d50e353f5461"
      },
      "source": [
        "list_d"
      ],
      "execution_count": null,
      "outputs": [
        {
          "output_type": "execute_result",
          "data": {
            "text/plain": [
              "[]"
            ]
          },
          "metadata": {
            "tags": []
          },
          "execution_count": 248
        }
      ]
    },
    {
      "cell_type": "markdown",
      "metadata": {
        "id": "4DE1-784AWKf"
      },
      "source": [
        "เติมค่าลงไปใน  list (.append())"
      ]
    },
    {
      "cell_type": "code",
      "metadata": {
        "colab": {
          "base_uri": "https://localhost:8080/"
        },
        "id": "XOTIDpm0A8aZ",
        "outputId": "81bdd634-0797-4443-a0aa-8d778301a5fc"
      },
      "source": [
        "list_d.append('a')\n",
        "list_d"
      ],
      "execution_count": null,
      "outputs": [
        {
          "output_type": "execute_result",
          "data": {
            "text/plain": [
              "['a']"
            ]
          },
          "metadata": {
            "tags": []
          },
          "execution_count": 249
        }
      ]
    },
    {
      "cell_type": "markdown",
      "metadata": {
        "id": "C-P1f1dABJSi"
      },
      "source": [
        "การชี้ค่าใน list (indexing)\n",
        "\n",
        "\n",
        "1.   ใช้ลำดับในการชี้\n",
        "2.   ลำดับเริ่มจาก 0 \n",
        "3.   สามารถชี้จากข้างหลังได้โดยใช้ negative index\n",
        "\n"
      ]
    },
    {
      "cell_type": "code",
      "metadata": {
        "colab": {
          "base_uri": "https://localhost:8080/"
        },
        "id": "otju47WDBESE",
        "outputId": "299bdbbe-421d-40ae-b892-704f70af9da1"
      },
      "source": [
        "list_b"
      ],
      "execution_count": null,
      "outputs": [
        {
          "output_type": "execute_result",
          "data": {
            "text/plain": [
              "[2, 'xyz', [1, 2, 0.2, 'abs'], [1, 2, 0.0]]"
            ]
          },
          "metadata": {
            "tags": []
          },
          "execution_count": 250
        }
      ]
    },
    {
      "cell_type": "code",
      "metadata": {
        "colab": {
          "base_uri": "https://localhost:8080/"
        },
        "id": "w24-jPKjBfIb",
        "outputId": "0469a553-268d-4cfb-9dde-1861e1c31343"
      },
      "source": [
        "list_b[-1] # ถ้าจะเริ่มชี้จากหลังสุดจะเริ่มที่ลำดับ -1"
      ],
      "execution_count": null,
      "outputs": [
        {
          "output_type": "execute_result",
          "data": {
            "text/plain": [
              "[1, 2, 0.0]"
            ]
          },
          "metadata": {
            "tags": []
          },
          "execution_count": 251
        }
      ]
    },
    {
      "cell_type": "markdown",
      "metadata": {
        "id": "TwI0aVMXCIi1"
      },
      "source": [
        "### list slicing"
      ]
    },
    {
      "cell_type": "code",
      "metadata": {
        "colab": {
          "base_uri": "https://localhost:8080/"
        },
        "id": "uBZvC4wABh3K",
        "outputId": "8cf7450b-60af-40b0-d906-c0639b1e1666"
      },
      "source": [
        "list_ex = [1,2,3,5,6,8,-1,20,50,0]\n",
        "list_ex"
      ],
      "execution_count": null,
      "outputs": [
        {
          "output_type": "execute_result",
          "data": {
            "text/plain": [
              "[1, 2, 3, 5, 6, 8, -1, 20, 50, 0]"
            ]
          },
          "metadata": {
            "tags": []
          },
          "execution_count": 252
        }
      ]
    },
    {
      "cell_type": "markdown",
      "metadata": {
        "id": "uKwgDSFCDGha"
      },
      "source": [
        "เราจะตัด list โดยเอาตั้งแต่ [ตัวหน้า:ตัวก่อนตัวหลัง]\n",
        "\n",
        "ถ้าเป็นสัญลักษณ์คณิตศาสตร์ [ตัวหน้า:ตัวหลัง] -> [ตัวหน้า,ตัวหลัง)"
      ]
    },
    {
      "cell_type": "code",
      "metadata": {
        "colab": {
          "base_uri": "https://localhost:8080/"
        },
        "id": "w7dyZhVBCXhE",
        "outputId": "228d5f19-bf53-4b6f-96ea-51ef31409eaa"
      },
      "source": [
        "list_ex[1:6] # เราจะตัด list โดยเอาตั้งแต่ [ ตัวหน้า : ตัวก่อนตัวหลัง ]"
      ],
      "execution_count": null,
      "outputs": [
        {
          "output_type": "execute_result",
          "data": {
            "text/plain": [
              "[2, 3, 5, 6, 8]"
            ]
          },
          "metadata": {
            "tags": []
          },
          "execution_count": 253
        }
      ]
    },
    {
      "cell_type": "code",
      "metadata": {
        "colab": {
          "base_uri": "https://localhost:8080/"
        },
        "id": "0QdQp-aoCjID",
        "outputId": "b81f64c6-cd14-4fc0-93db-2fdedfc16d2b"
      },
      "source": [
        "list_ex[4:]"
      ],
      "execution_count": null,
      "outputs": [
        {
          "output_type": "execute_result",
          "data": {
            "text/plain": [
              "[6, 8, -1, 20, 50, 0]"
            ]
          },
          "metadata": {
            "tags": []
          },
          "execution_count": 254
        }
      ]
    },
    {
      "cell_type": "code",
      "metadata": {
        "colab": {
          "base_uri": "https://localhost:8080/"
        },
        "id": "G9A4gVDTDdJN",
        "outputId": "67ec6e19-4f8a-4a2a-ad89-fe1f04f5f408"
      },
      "source": [
        "list_ex[:6]"
      ],
      "execution_count": null,
      "outputs": [
        {
          "output_type": "execute_result",
          "data": {
            "text/plain": [
              "[1, 2, 3, 5, 6, 8]"
            ]
          },
          "metadata": {
            "tags": []
          },
          "execution_count": 255
        }
      ]
    },
    {
      "cell_type": "markdown",
      "metadata": {
        "id": "vBBu3YhqEKFp"
      },
      "source": [
        "[จุดเริ่มต้น:จุดสุดท้าย:step]"
      ]
    },
    {
      "cell_type": "code",
      "metadata": {
        "colab": {
          "base_uri": "https://localhost:8080/"
        },
        "id": "XKdFlHkZDikM",
        "outputId": "652bd386-e04b-4bb1-9171-da2aa8bb8867"
      },
      "source": [
        "list_ex[::2]"
      ],
      "execution_count": null,
      "outputs": [
        {
          "output_type": "execute_result",
          "data": {
            "text/plain": [
              "[1, 3, 6, -1, 50]"
            ]
          },
          "metadata": {
            "tags": []
          },
          "execution_count": 256
        }
      ]
    },
    {
      "cell_type": "code",
      "metadata": {
        "colab": {
          "base_uri": "https://localhost:8080/"
        },
        "id": "3x6wBzerD62k",
        "outputId": "fb8e2c42-2e2b-4767-d796-5768dbdfc004"
      },
      "source": [
        "list_ex[::-1] # การกลับ list "
      ],
      "execution_count": null,
      "outputs": [
        {
          "output_type": "execute_result",
          "data": {
            "text/plain": [
              "[0, 50, 20, -1, 8, 6, 5, 3, 2, 1]"
            ]
          },
          "metadata": {
            "tags": []
          },
          "execution_count": 257
        }
      ]
    },
    {
      "cell_type": "code",
      "metadata": {
        "colab": {
          "base_uri": "https://localhost:8080/"
        },
        "id": "tL9J-BB_Epm8",
        "outputId": "f8c0d59e-4e3c-435f-bd64-d679665d517e"
      },
      "source": [
        "a"
      ],
      "execution_count": null,
      "outputs": [
        {
          "output_type": "execute_result",
          "data": {
            "application/vnd.google.colaboratory.intrinsic+json": {
              "type": "string"
            },
            "text/plain": [
              "'Stat KKU'"
            ]
          },
          "metadata": {
            "tags": []
          },
          "execution_count": 258
        }
      ]
    },
    {
      "cell_type": "code",
      "metadata": {
        "colab": {
          "base_uri": "https://localhost:8080/"
        },
        "id": "vBfPOwmgFv0n",
        "outputId": "f486713c-363c-4153-86b6-546002040b4d"
      },
      "source": [
        "a[-3:]"
      ],
      "execution_count": null,
      "outputs": [
        {
          "output_type": "execute_result",
          "data": {
            "application/vnd.google.colaboratory.intrinsic+json": {
              "type": "string"
            },
            "text/plain": [
              "'KKU'"
            ]
          },
          "metadata": {
            "tags": []
          },
          "execution_count": 259
        }
      ]
    },
    {
      "cell_type": "code",
      "metadata": {
        "colab": {
          "base_uri": "https://localhost:8080/"
        },
        "id": "sQXQoCtiF28L",
        "outputId": "42367f44-e21d-4741-a66c-23f4b6eb8909"
      },
      "source": [
        "a[5:8:]"
      ],
      "execution_count": null,
      "outputs": [
        {
          "output_type": "execute_result",
          "data": {
            "application/vnd.google.colaboratory.intrinsic+json": {
              "type": "string"
            },
            "text/plain": [
              "'KKU'"
            ]
          },
          "metadata": {
            "tags": []
          },
          "execution_count": 260
        }
      ]
    },
    {
      "cell_type": "code",
      "metadata": {
        "colab": {
          "base_uri": "https://localhost:8080/"
        },
        "id": "9dl7vChZF-VN",
        "outputId": "4e295fcb-b673-4f21-84a4-493c343121b8"
      },
      "source": [
        "a[5::]"
      ],
      "execution_count": null,
      "outputs": [
        {
          "output_type": "execute_result",
          "data": {
            "application/vnd.google.colaboratory.intrinsic+json": {
              "type": "string"
            },
            "text/plain": [
              "'KKU'"
            ]
          },
          "metadata": {
            "tags": []
          },
          "execution_count": 261
        }
      ]
    },
    {
      "cell_type": "code",
      "metadata": {
        "colab": {
          "base_uri": "https://localhost:8080/"
        },
        "id": "gB1MsSqOGGtL",
        "outputId": "b0e51d13-3f0d-4803-cbd4-ee972afa65e7"
      },
      "source": [
        "a[-3::]"
      ],
      "execution_count": null,
      "outputs": [
        {
          "output_type": "execute_result",
          "data": {
            "application/vnd.google.colaboratory.intrinsic+json": {
              "type": "string"
            },
            "text/plain": [
              "'KKU'"
            ]
          },
          "metadata": {
            "tags": []
          },
          "execution_count": 262
        }
      ]
    },
    {
      "cell_type": "code",
      "metadata": {
        "colab": {
          "base_uri": "https://localhost:8080/"
        },
        "id": "93krd18UGXni",
        "outputId": "5424cd3c-ab5d-43f2-ace3-318aa3111d09"
      },
      "source": [
        "a[-3::1]"
      ],
      "execution_count": null,
      "outputs": [
        {
          "output_type": "execute_result",
          "data": {
            "application/vnd.google.colaboratory.intrinsic+json": {
              "type": "string"
            },
            "text/plain": [
              "'KKU'"
            ]
          },
          "metadata": {
            "tags": []
          },
          "execution_count": 263
        }
      ]
    },
    {
      "cell_type": "markdown",
      "metadata": {
        "id": "BjbedaLTGt0t"
      },
      "source": [
        "### list+list"
      ]
    },
    {
      "cell_type": "code",
      "metadata": {
        "colab": {
          "base_uri": "https://localhost:8080/"
        },
        "id": "LaLZzyDHGs2C",
        "outputId": "d6f5b598-3e16-4fcf-8f41-7f1708b6e0c6"
      },
      "source": [
        "print(list_a)\n",
        "print(list_b)"
      ],
      "execution_count": null,
      "outputs": [
        {
          "output_type": "stream",
          "text": [
            "[1, 2, 0.2, 'abs']\n",
            "[2, 'xyz', [1, 2, 0.2, 'abs'], [1, 2, 0.0]]\n"
          ],
          "name": "stdout"
        }
      ]
    },
    {
      "cell_type": "code",
      "metadata": {
        "colab": {
          "base_uri": "https://localhost:8080/"
        },
        "id": "ExGCAASoG5ny",
        "outputId": "a4378729-7284-4cc0-a2a8-ddca71374ddd"
      },
      "source": [
        "list_a + list_b"
      ],
      "execution_count": null,
      "outputs": [
        {
          "output_type": "execute_result",
          "data": {
            "text/plain": [
              "[1, 2, 0.2, 'abs', 2, 'xyz', [1, 2, 0.2, 'abs'], [1, 2, 0.0]]"
            ]
          },
          "metadata": {
            "tags": []
          },
          "execution_count": 265
        }
      ]
    },
    {
      "cell_type": "markdown",
      "metadata": {
        "id": "xz3Fc_x6LRvQ"
      },
      "source": [
        "format string"
      ]
    },
    {
      "cell_type": "markdown",
      "metadata": {
        "id": "FHqFBYzvLu3l"
      },
      "source": [
        "``` python\n",
        "f'string{ตัวแปร}'\n",
        "```\n",
        "{} เรียกว่า curly brackets"
      ]
    },
    {
      "cell_type": "code",
      "metadata": {
        "colab": {
          "base_uri": "https://localhost:8080/"
        },
        "id": "nlrGmuNoLjSZ",
        "outputId": "ced05ea8-270b-4e53-b615-78eecbb4a54c"
      },
      "source": [
        "f'ตัวแปร list_a มีค่าคือ {list_a}'"
      ],
      "execution_count": null,
      "outputs": [
        {
          "output_type": "execute_result",
          "data": {
            "application/vnd.google.colaboratory.intrinsic+json": {
              "type": "string"
            },
            "text/plain": [
              "\"ตัวแปร list_a มีค่าคือ [1, 2, 0.2, 'abs']\""
            ]
          },
          "metadata": {
            "tags": []
          },
          "execution_count": 266
        }
      ]
    },
    {
      "cell_type": "markdown",
      "metadata": {
        "id": "_cAxNneiIK3v"
      },
      "source": [
        "# Loop"
      ]
    },
    {
      "cell_type": "markdown",
      "metadata": {
        "id": "w7p_gQHYBZi9"
      },
      "source": [
        "**Loop** คือ เขียนให้โปรแกรมทำงานซ้ำๆ หลายๆรอบ หรือทำงานคล้ายๆ กัน"
      ]
    },
    {
      "cell_type": "markdown",
      "metadata": {
        "id": "P_LcilREKbXA"
      },
      "source": [
        "indent แปลว่า เว้น\n",
        "``` python\n",
        "for ตัวแปรที่จะรับค่าจากลิสต์ in ลิสต์ที่จะนำมาวนลูป:\n",
        "  do something # in_loop\n",
        "  do another thing # in_loop\n",
        "\n",
        "do other thing # out side  loop\n"
      ]
    },
    {
      "cell_type": "code",
      "metadata": {
        "colab": {
          "base_uri": "https://localhost:8080/"
        },
        "id": "jtHf_IpTJmXO",
        "outputId": "e9042169-ebb9-4610-dee4-bff5bbaddd91"
      },
      "source": [
        "for i in [1,2,3,4,5]: # ตัวอย่าง\n",
        "  print(i+1)"
      ],
      "execution_count": 1,
      "outputs": [
        {
          "output_type": "stream",
          "text": [
            "2\n",
            "3\n",
            "4\n",
            "5\n",
            "6\n"
          ],
          "name": "stdout"
        }
      ]
    },
    {
      "cell_type": "code",
      "metadata": {
        "colab": {
          "base_uri": "https://localhost:8080/"
        },
        "id": "a89X69ynMZIS",
        "outputId": "f033d9ab-cd65-482f-fe11-752fe6ebc931"
      },
      "source": [
        "for x in [1,2,3,4,5]:\n",
        "  print(f'ค่าตัวแปร x คือ {x} และ x+2 = {x+2}')"
      ],
      "execution_count": 2,
      "outputs": [
        {
          "output_type": "stream",
          "text": [
            "ค่าตัวแปร x คือ 1 และ x+2 = 3\n",
            "ค่าตัวแปร x คือ 2 และ x+2 = 4\n",
            "ค่าตัวแปร x คือ 3 และ x+2 = 5\n",
            "ค่าตัวแปร x คือ 4 และ x+2 = 6\n",
            "ค่าตัวแปร x คือ 5 และ x+2 = 7\n"
          ],
          "name": "stdout"
        }
      ]
    },
    {
      "cell_type": "code",
      "metadata": {
        "colab": {
          "base_uri": "https://localhost:8080/"
        },
        "id": "MlDhtSIKM60a",
        "outputId": "9c63c6e9-bc95-4a6b-9c41-a04cfdc2016c"
      },
      "source": [
        "list5=[1,2,3,4,5]\n",
        "for x in list5:\n",
        "  print(f'ค่าตัวแปร x คือ {x} และ x+2 = {x+2}')"
      ],
      "execution_count": 3,
      "outputs": [
        {
          "output_type": "stream",
          "text": [
            "ค่าตัวแปร x คือ 1 และ x+2 = 3\n",
            "ค่าตัวแปร x คือ 2 และ x+2 = 4\n",
            "ค่าตัวแปร x คือ 3 และ x+2 = 5\n",
            "ค่าตัวแปร x คือ 4 และ x+2 = 6\n",
            "ค่าตัวแปร x คือ 5 และ x+2 = 7\n"
          ],
          "name": "stdout"
        }
      ]
    },
    {
      "cell_type": "code",
      "metadata": {
        "colab": {
          "base_uri": "https://localhost:8080/"
        },
        "id": "a6h5pAEzNVKf",
        "outputId": "e09f5b92-9019-47c4-fce0-ece26c2c6957"
      },
      "source": [
        "list(range(10)) "
      ],
      "execution_count": 4,
      "outputs": [
        {
          "output_type": "execute_result",
          "data": {
            "text/plain": [
              "[0, 1, 2, 3, 4, 5, 6, 7, 8, 9]"
            ]
          },
          "metadata": {
            "tags": []
          },
          "execution_count": 4
        }
      ]
    },
    {
      "cell_type": "code",
      "metadata": {
        "colab": {
          "base_uri": "https://localhost:8080/"
        },
        "id": "xoaSCKAsNZc0",
        "outputId": "a1690fd1-212e-44b4-e258-b8c1486670cc"
      },
      "source": [
        "for i in range(2,7):\n",
        "  print(i)"
      ],
      "execution_count": 5,
      "outputs": [
        {
          "output_type": "stream",
          "text": [
            "2\n",
            "3\n",
            "4\n",
            "5\n",
            "6\n"
          ],
          "name": "stdout"
        }
      ]
    },
    {
      "cell_type": "code",
      "metadata": {
        "colab": {
          "base_uri": "https://localhost:8080/"
        },
        "id": "wLpWHklbN2mp",
        "outputId": "435aa84c-dbe7-4ea9-9164-21eae046418d"
      },
      "source": [
        "for i in range(2,7,2):\n",
        "  print(i)"
      ],
      "execution_count": 6,
      "outputs": [
        {
          "output_type": "stream",
          "text": [
            "2\n",
            "4\n",
            "6\n"
          ],
          "name": "stdout"
        }
      ]
    },
    {
      "cell_type": "code",
      "metadata": {
        "colab": {
          "base_uri": "https://localhost:8080/"
        },
        "id": "TBZVOGGVOZ4k",
        "outputId": "76cceac0-2b35-4ef4-eab5-f1d4b1fd48ca"
      },
      "source": [
        "for i in range(5):\n",
        "  print('hahaha')"
      ],
      "execution_count": 7,
      "outputs": [
        {
          "output_type": "stream",
          "text": [
            "hahaha\n",
            "hahaha\n",
            "hahaha\n",
            "hahaha\n",
            "hahaha\n"
          ],
          "name": "stdout"
        }
      ]
    },
    {
      "cell_type": "code",
      "metadata": {
        "colab": {
          "base_uri": "https://localhost:8080/"
        },
        "id": "9H-zz4veOooh",
        "outputId": "0fc4e53f-d812-4f19-fabd-43b990ee6ec4"
      },
      "source": [
        "for i in range(5):\n",
        "  print('hahaha')\n",
        "  x = i + 3\n",
        "  print(f'i={i} x={x}')"
      ],
      "execution_count": 8,
      "outputs": [
        {
          "output_type": "stream",
          "text": [
            "hahaha\n",
            "i=0 x=3\n",
            "hahaha\n",
            "i=1 x=4\n",
            "hahaha\n",
            "i=2 x=5\n",
            "hahaha\n",
            "i=3 x=6\n",
            "hahaha\n",
            "i=4 x=7\n"
          ],
          "name": "stdout"
        }
      ]
    },
    {
      "cell_type": "markdown",
      "metadata": {
        "id": "a5gClpEhPKqC"
      },
      "source": [
        "## Nested loop\n"
      ]
    },
    {
      "cell_type": "code",
      "metadata": {
        "colab": {
          "base_uri": "https://localhost:8080/"
        },
        "id": "BS59Xt15PPg7",
        "outputId": "c7f1b30a-e87f-4ff8-967c-41c9cda0d358"
      },
      "source": [
        "for i in range(3):\n",
        "  print(f'now i = {i}')\n",
        "  print('start j loop')\n",
        "  for j in range(4):\n",
        "    print(f'i = {i} j = {j} i+j = {i+j}')\n",
        "  print('end j loop')"
      ],
      "execution_count": 9,
      "outputs": [
        {
          "output_type": "stream",
          "text": [
            "now i = 0\n",
            "start j loop\n",
            "i = 0 j = 0 i+j = 0\n",
            "i = 0 j = 1 i+j = 1\n",
            "i = 0 j = 2 i+j = 2\n",
            "i = 0 j = 3 i+j = 3\n",
            "end j loop\n",
            "now i = 1\n",
            "start j loop\n",
            "i = 1 j = 0 i+j = 1\n",
            "i = 1 j = 1 i+j = 2\n",
            "i = 1 j = 2 i+j = 3\n",
            "i = 1 j = 3 i+j = 4\n",
            "end j loop\n",
            "now i = 2\n",
            "start j loop\n",
            "i = 2 j = 0 i+j = 2\n",
            "i = 2 j = 1 i+j = 3\n",
            "i = 2 j = 2 i+j = 4\n",
            "i = 2 j = 3 i+j = 5\n",
            "end j loop\n"
          ],
          "name": "stdout"
        }
      ]
    },
    {
      "cell_type": "markdown",
      "metadata": {
        "id": "vlVV3TA-INRU"
      },
      "source": [
        "# Condition\n",
        "### เงื่อนไข (if statement)"
      ]
    },
    {
      "cell_type": "markdown",
      "metadata": {
        "id": "EXm1VLC9FbY6"
      },
      "source": [
        "``` python\n",
        "if เงื่อนไขที่จะตรวจสอบ (โดยใช้สัญลักษณ์ ==,!=,<,>,<=,>=):\n",
        "  ถ้าเงื่อนไขเป็นจริง ทำงาน 1 \n",
        "  ถ้าเงื่อนไขเป็นจริง ทำงาน 2\n",
        "``` "
      ]
    },
    {
      "cell_type": "code",
      "metadata": {
        "colab": {
          "base_uri": "https://localhost:8080/"
        },
        "id": "4tlvzcoKGD-I",
        "outputId": "a8c93419-1dfe-4bed-b273-18cc3629e793"
      },
      "source": [
        "stringx = 'ICOULDSAYINEVERDARETOTHINKABOUTYOUINTHATWAY'\n",
        "\n",
        "if len(stringx) > 30:\n",
        "  print(f'{stringx}  is longer than 30 characters')"
      ],
      "execution_count": 20,
      "outputs": [
        {
          "output_type": "stream",
          "text": [
            "ICOULDSAYINEVERDARETOTHINKABOUTYOUINTHATWAY  is longer than 30 characters\n"
          ],
          "name": "stdout"
        }
      ]
    },
    {
      "cell_type": "code",
      "metadata": {
        "id": "AZ_QCfzMHaEA"
      },
      "source": [
        "stringx = 'ICOULDSAYINEVERDARETOTHINKABOUTYOUINTHATWAY'\n",
        "\n",
        "if len(stringx) > 100:\n",
        "  print(f'{stringx}  is longer than 30 characters')"
      ],
      "execution_count": 21,
      "outputs": []
    },
    {
      "cell_type": "markdown",
      "metadata": {
        "id": "r96e2XZCH60j"
      },
      "source": [
        "``` python\n",
        "if เงื่อนไขที่จะตรวจสอบ (โดยใช้สัญลักษณ์ ==,!=,<,>,<=,>=):\n",
        "  ถ้าเงื่อนไขเป็นจริง ทำงาน 1 \n",
        "  ถ้าเงื่อนไขเป็นจริง ทำงาน 2\n",
        "else: # ตรวจสอบเงื่อนไขข้างบนแล้วไม่เป็นจริง\n",
        "  ทำงานที่ X \n",
        "```"
      ]
    },
    {
      "cell_type": "code",
      "metadata": {
        "colab": {
          "base_uri": "https://localhost:8080/"
        },
        "id": "Pkqwzzz1IA-y",
        "outputId": "66b59991-5b31-4dca-b5b0-3e6960563a95"
      },
      "source": [
        "stringx = 'ICOULDSAYINEVERDARETOTHINKABOUTYOUINTHATWAY'\n",
        "\n",
        "if len(stringx) > 100:\n",
        "  print(f'{stringx}  is longer than 30 characters')\n",
        "else:\n",
        "  print(f'{stringx} in {len(stringx)} characters long')"
      ],
      "execution_count": 22,
      "outputs": [
        {
          "output_type": "stream",
          "text": [
            "ICOULDSAYINEVERDARETOTHINKABOUTYOUINTHATWAY in 43 characters long\n"
          ],
          "name": "stdout"
        }
      ]
    },
    {
      "cell_type": "markdown",
      "metadata": {
        "id": "_Lfaw0pbJQuJ"
      },
      "source": [
        "``` python\n",
        "if เงื่อนไขที่จะตรวจสอบ (โดยใช้สัญลักษณ์ ==,!=,<,>,<=,>=):\n",
        "  ถ้าเงื่อนไขเป็นจริง ทำงาน 1 \n",
        "  ถ้าเงื่อนไขเป็นจริง ทำงาน 2\n",
        "elif เงื่อนไขที่จะตรวจสอบต่อไปถ้าเงื่อนไขข้างบนไม่เป็นจริง:\n",
        "  ถ้าเงื่อนไขเป็นจริง ทำงาน a1 \n",
        "  ถ้าเงื่อนไขเป็นจริง ทำงาน a2\n",
        "elif เงื่อนไขที่จะตรวจสอบต่อไปถ้าเงื่อนไขข้างบนไม่เป็นจริง:\n",
        "  ถ้าเงื่อนไขเป็นจริง ทำงาน b1 \n",
        "  ถ้าเงื่อนไขเป็นจริง ทำงาน b2\n",
        "else: # ตรวจสอบเงื่อนไขข้างบนแล้วไม่เป็นจริง\n",
        "  ทำงานที่ X \n",
        "```"
      ]
    },
    {
      "cell_type": "code",
      "metadata": {
        "colab": {
          "base_uri": "https://localhost:8080/"
        },
        "id": "c5MTgo1ZLNa4",
        "outputId": "6927c863-54fe-427e-c8ae-2268b33c08b4"
      },
      "source": [
        "password  = '414891120'\n",
        "\n",
        "input_pass = '414'\n",
        "if input_pass == password:\n",
        "  print('Welcome!')\n",
        "elif len(input_pass) > len(password):\n",
        "  print('Too long, try again!')\n",
        "elif len(input_pass) < len(password):\n",
        "  print('Too short, try again!')\n",
        "else:\n",
        "  print('Wrong password, try again!')"
      ],
      "execution_count": 23,
      "outputs": [
        {
          "output_type": "stream",
          "text": [
            "Too short, try again!\n"
          ],
          "name": "stdout"
        }
      ]
    },
    {
      "cell_type": "markdown",
      "metadata": {
        "id": "0tX0LI9iK516"
      },
      "source": [
        "QUIZ 1 หา min\n"
      ]
    },
    {
      "cell_type": "code",
      "metadata": {
        "id": "tmGX932aNfcS"
      },
      "source": [
        "list_ex = [1,5,9,-19,-2,0] # หาค่าน้อยที่สุดใน list_ex โดยไม่ใช้ function min (commit ก่อน 10.30 : QUIZ 1)"
      ],
      "execution_count": 24,
      "outputs": []
    },
    {
      "cell_type": "code",
      "metadata": {
        "id": "gkQHs4Vpw7Vm",
        "colab": {
          "base_uri": "https://localhost:8080/"
        },
        "outputId": "84a91930-607e-4d81-c12c-370b1f593236"
      },
      "source": [
        "list_ex[3:4:2]"
      ],
      "execution_count": 25,
      "outputs": [
        {
          "output_type": "execute_result",
          "data": {
            "text/plain": [
              "[-19]"
            ]
          },
          "metadata": {
            "tags": []
          },
          "execution_count": 25
        }
      ]
    },
    {
      "cell_type": "code",
      "metadata": {
        "id": "l-1AuFwhTFUu",
        "colab": {
          "base_uri": "https://localhost:8080/"
        },
        "outputId": "7a490edf-1f87-43bb-dcdb-d023b86784e5"
      },
      "source": [
        "min = 100000000\n",
        "for i in list_ex:\n",
        "  if i < min:\n",
        "    min = i\n",
        "\n",
        "print(min)"
      ],
      "execution_count": 26,
      "outputs": [
        {
          "output_type": "stream",
          "text": [
            "-19\n"
          ],
          "name": "stdout"
        }
      ]
    },
    {
      "cell_type": "code",
      "metadata": {
        "colab": {
          "base_uri": "https://localhost:8080/"
        },
        "id": "7tAjfq8RPnCO",
        "outputId": "14dd0f14-4469-4a63-e589-f7e039fabe53"
      },
      "source": [
        "min = 100000000\n",
        "print(list_ex)\n",
        "for i in list_ex:\n",
        "  print(f'now i = {1}, min = {min}')\n",
        "  if i < min:\n",
        "    print(f'i < min, update min -> {i}')\n",
        "    min = i\n",
        "  else:\n",
        "    print('i >= min, not update')\n",
        "  print('end condition, go to next i')\n",
        "\n",
        "print(min)"
      ],
      "execution_count": 27,
      "outputs": [
        {
          "output_type": "stream",
          "text": [
            "[1, 5, 9, -19, -2, 0]\n",
            "now i = 1, min = 100000000\n",
            "i < min, update min -> 1\n",
            "end condition, go to next i\n",
            "now i = 1, min = 1\n",
            "i >= min, not update\n",
            "end condition, go to next i\n",
            "now i = 1, min = 1\n",
            "i >= min, not update\n",
            "end condition, go to next i\n",
            "now i = 1, min = 1\n",
            "i < min, update min -> -19\n",
            "end condition, go to next i\n",
            "now i = 1, min = -19\n",
            "i >= min, not update\n",
            "end condition, go to next i\n",
            "now i = 1, min = -19\n",
            "i >= min, not update\n",
            "end condition, go to next i\n",
            "-19\n"
          ],
          "name": "stdout"
        }
      ]
    },
    {
      "cell_type": "markdown",
      "metadata": {
        "id": "YVV66NSAK-9Y"
      },
      "source": [
        "HW03 ตัดเกรด"
      ]
    },
    {
      "cell_type": "code",
      "metadata": {
        "id": "OcPLEx_zVv99"
      },
      "source": [
        "score = [49,65,70,95,82,55,89,20,77,77,81,59,10] # ตัดเกรด คะแนนใน list score (ใช้ if กับ for)"
      ],
      "execution_count": 28,
      "outputs": []
    },
    {
      "cell_type": "code",
      "metadata": {
        "id": "u1LUi53DxDuT",
        "colab": {
          "base_uri": "https://localhost:8080/"
        },
        "outputId": "a7a7c2e4-262c-4ee6-b612-d94d9ef8bf58"
      },
      "source": [
        "score = [49,65,70,95,82,55,89,20,77,77,81,59,10]\n",
        "for i in score:\n",
        "  if i >= 90:\n",
        "    print('เกรด A')\n",
        "  elif i >= 85:\n",
        "    print('เกรด B+')\n",
        "  elif i >= 75:\n",
        "    print('เกรด B')\n",
        "  elif i >= 70:\n",
        "    print('เกรด C+')\n",
        "  elif i >= 60:\n",
        "    print('เกรด C')\n",
        "  elif i >= 55:\n",
        "    print('เกรด D+')\n",
        "  elif i >= 50:\n",
        "    print('เกรด D')\n",
        "  else:\n",
        "    print('เกรด F')"
      ],
      "execution_count": 29,
      "outputs": [
        {
          "output_type": "stream",
          "text": [
            "เกรด F\n",
            "เกรด C\n",
            "เกรด C+\n",
            "เกรด A\n",
            "เกรด B\n",
            "เกรด D+\n",
            "เกรด B+\n",
            "เกรด F\n",
            "เกรด B\n",
            "เกรด B\n",
            "เกรด B\n",
            "เกรด D+\n",
            "เกรด F\n"
          ],
          "name": "stdout"
        }
      ]
    },
    {
      "cell_type": "markdown",
      "metadata": {
        "id": "VMNCC-vaFaiT"
      },
      "source": [
        "# Function\n",
        "\n",
        "```python\n",
        "def ชื่อฟังก์ชั่น(input1,input2,...):\n",
        "    งานxxx\n",
        "    งานyyy\n",
        "  return output\n",
        "```\n",
        "\n",
        "ส่วนประกอบสำคัญ\n",
        "*   input\n",
        "*   process ไม่มีไม่ได้\n",
        "*   output\n",
        "\n",
        "\n"
      ]
    },
    {
      "cell_type": "markdown",
      "metadata": {
        "id": "RPnpUNH3yCrl"
      },
      "source": [
        "![image.png](data:image/png;base64,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)"
      ]
    },
    {
      "cell_type": "markdown",
      "metadata": {
        "id": "cLqEJShHyx2I"
      },
      "source": [
        "## Example1\n"
      ]
    },
    {
      "cell_type": "code",
      "metadata": {
        "id": "bbqkwYM_HPmq"
      },
      "source": [
        "def grading(score):  #คีย์ลัดในการย่อหน้าบรรทัด คือ Ctrl+[, Ctrl+]\n",
        "  if score >= 90:\n",
        "      grade = 'A'\n",
        "  elif score >= 85:\n",
        "      grade = 'B+'\n",
        "  elif score >= 75:\n",
        "      grade = 'B'\n",
        "  elif score >= 70:\n",
        "      grade = 'C+'\n",
        "  elif score >= 60:\n",
        "      grade = 'C'\n",
        "  elif score >= 55:\n",
        "      grade = 'D+'\n",
        "  elif score >= 50:\n",
        "      grade = 'D'\n",
        "  else:\n",
        "      grade = 'F'\n",
        "  return grade"
      ],
      "execution_count": 35,
      "outputs": []
    },
    {
      "cell_type": "code",
      "metadata": {
        "colab": {
          "base_uri": "https://localhost:8080/"
        },
        "id": "uujPoSRB0OLh",
        "outputId": "718962ef-f6d7-4383-de5b-3785e0f510ea"
      },
      "source": [
        "score = [49,65,70,95,82,55,89,20,77,77,81,59,10]\n",
        "for i in score:\n",
        "    print(f'คะแนน {i} ได้เกรด {grading(i)}')"
      ],
      "execution_count": 36,
      "outputs": [
        {
          "output_type": "stream",
          "text": [
            "คะแนน 49 ได้เกรด F\n",
            "คะแนน 65 ได้เกรด C\n",
            "คะแนน 70 ได้เกรด C+\n",
            "คะแนน 95 ได้เกรด A\n",
            "คะแนน 82 ได้เกรด B\n",
            "คะแนน 55 ได้เกรด D+\n",
            "คะแนน 89 ได้เกรด B+\n",
            "คะแนน 20 ได้เกรด F\n",
            "คะแนน 77 ได้เกรด B\n",
            "คะแนน 77 ได้เกรด B\n",
            "คะแนน 81 ได้เกรด B\n",
            "คะแนน 59 ได้เกรด D+\n",
            "คะแนน 10 ได้เกรด F\n"
          ],
          "name": "stdout"
        }
      ]
    },
    {
      "cell_type": "code",
      "metadata": {
        "id": "eroxLDhe016L"
      },
      "source": [
        "def grading_list(list_score):\n",
        "  grade_list = []\n",
        "  for score in list_score:\n",
        "    if score >= 90:\n",
        "       grade = 'A'\n",
        "    elif score >= 85:\n",
        "       grade = 'B+'\n",
        "    elif score >= 75:\n",
        "       grade = 'B'\n",
        "    elif score >= 70:\n",
        "       grade = 'C+'\n",
        "    elif score >= 60:\n",
        "       grade = 'C'\n",
        "    elif score >= 55:\n",
        "       grade = 'D+'\n",
        "    elif score >= 50:\n",
        "       grade = 'D'\n",
        "    else:\n",
        "      grade = 'F'\n",
        "    grade_list.append([score,grade])\n",
        "  return grade_list"
      ],
      "execution_count": 44,
      "outputs": []
    },
    {
      "cell_type": "code",
      "metadata": {
        "colab": {
          "base_uri": "https://localhost:8080/"
        },
        "id": "Qn6Dg1hr3LEm",
        "outputId": "5ec8b9df-57e7-4c0e-92d3-b88c023461a5"
      },
      "source": [
        "g = grading_list(score)\n",
        "g"
      ],
      "execution_count": 46,
      "outputs": [
        {
          "output_type": "execute_result",
          "data": {
            "text/plain": [
              "[[49, 'F'],\n",
              " [65, 'C'],\n",
              " [70, 'C+'],\n",
              " [95, 'A'],\n",
              " [82, 'B'],\n",
              " [55, 'D+'],\n",
              " [89, 'B+'],\n",
              " [20, 'F'],\n",
              " [77, 'B'],\n",
              " [77, 'B'],\n",
              " [81, 'B'],\n",
              " [59, 'D+'],\n",
              " [10, 'F']]"
            ]
          },
          "metadata": {
            "tags": []
          },
          "execution_count": 46
        }
      ]
    },
    {
      "cell_type": "code",
      "metadata": {
        "colab": {
          "base_uri": "https://localhost:8080/"
        },
        "id": "vytu_jno5Eyl",
        "outputId": "d33a31d7-ef0b-4292-dbdc-24a59dfe3bbb"
      },
      "source": [
        "for i in g:\n",
        "    print(f'คะแนน {i[0]} ได้เกรด {i[1]}')"
      ],
      "execution_count": 48,
      "outputs": [
        {
          "output_type": "stream",
          "text": [
            "คะแนน 49 ได้เกรด F\n",
            "คะแนน 65 ได้เกรด C\n",
            "คะแนน 70 ได้เกรด C+\n",
            "คะแนน 95 ได้เกรด A\n",
            "คะแนน 82 ได้เกรด B\n",
            "คะแนน 55 ได้เกรด D+\n",
            "คะแนน 89 ได้เกรด B+\n",
            "คะแนน 20 ได้เกรด F\n",
            "คะแนน 77 ได้เกรด B\n",
            "คะแนน 77 ได้เกรด B\n",
            "คะแนน 81 ได้เกรด B\n",
            "คะแนน 59 ได้เกรด D+\n",
            "คะแนน 10 ได้เกรด F\n"
          ],
          "name": "stdout"
        }
      ]
    },
    {
      "cell_type": "code",
      "metadata": {
        "id": "k1jUZ5AD5VLl"
      },
      "source": [
        "def grading2(score):  #คีย์ลัดในการย่อหน้าบรรทัด คือ Ctrl+[, Ctrl+]\n",
        "    if score >= 90:\n",
        "        return  'A'\n",
        "    elif score >= 85:\n",
        "        return  'B+'\n",
        "    elif score >= 75:\n",
        "        return  'B'\n",
        "    elif score >= 70:\n",
        "        return  'C+'\n",
        "    elif score >= 60:\n",
        "        return  'C'\n",
        "    elif score >= 55:\n",
        "        return  'D+'\n",
        "    elif score >= 50:\n",
        "        return  'D'\n",
        "    else:\n",
        "        return  'F'"
      ],
      "execution_count": 50,
      "outputs": []
    },
    {
      "cell_type": "code",
      "metadata": {
        "colab": {
          "base_uri": "https://localhost:8080/"
        },
        "id": "bzrEa5LR7ryL",
        "outputId": "3fffdf8b-0b19-434e-b18b-30228192dfae"
      },
      "source": [
        "score = [49,65,70,95,82,55,89,20,77,77,81,59,10]\n",
        "for i in score:\n",
        "    print(f'คะแนน {i} ได้เกรด {grading2(i)}')"
      ],
      "execution_count": 51,
      "outputs": [
        {
          "output_type": "stream",
          "text": [
            "คะแนน 49 ได้เกรด F\n",
            "คะแนน 65 ได้เกรด C\n",
            "คะแนน 70 ได้เกรด C+\n",
            "คะแนน 95 ได้เกรด A\n",
            "คะแนน 82 ได้เกรด B\n",
            "คะแนน 55 ได้เกรด D+\n",
            "คะแนน 89 ได้เกรด B+\n",
            "คะแนน 20 ได้เกรด F\n",
            "คะแนน 77 ได้เกรด B\n",
            "คะแนน 77 ได้เกรด B\n",
            "คะแนน 81 ได้เกรด B\n",
            "คะแนน 59 ได้เกรด D+\n",
            "คะแนน 10 ได้เกรด F\n"
          ],
          "name": "stdout"
        }
      ]
    },
    {
      "cell_type": "markdown",
      "metadata": {
        "id": "6aqoYrcw9Jrh"
      },
      "source": [
        "## Example2 (ไม่มี input)"
      ]
    },
    {
      "cell_type": "code",
      "metadata": {
        "id": "iCsv3P3m77tl"
      },
      "source": [
        "def mypi():\n",
        "    return 3.14"
      ],
      "execution_count": 52,
      "outputs": []
    },
    {
      "cell_type": "code",
      "metadata": {
        "colab": {
          "base_uri": "https://localhost:8080/"
        },
        "id": "__9aZ-tZ9UCt",
        "outputId": "8c526e39-2f33-43e4-9119-b4bda8be9aff"
      },
      "source": [
        "r=10\n",
        "print(f'รัศมี = {r} จะมีเส้นรอบวง = {2*mypi()*r}')"
      ],
      "execution_count": 54,
      "outputs": [
        {
          "output_type": "stream",
          "text": [
            "รัศมี = 10 จะมีเส้นรอบวง = 62.800000000000004\n"
          ],
          "name": "stdout"
        }
      ]
    },
    {
      "cell_type": "code",
      "metadata": {
        "colab": {
          "base_uri": "https://localhost:8080/"
        },
        "id": "U549BnZb9jSE",
        "outputId": "ba4dcbe2-b0be-47b2-8bc0-500d1b852414"
      },
      "source": [
        "import math # function ที่เขา set ไว้ในโปรแกรมอยู่แล้ว\n",
        "math.pi"
      ],
      "execution_count": 56,
      "outputs": [
        {
          "output_type": "execute_result",
          "data": {
            "text/plain": [
              "3.141592653589793"
            ]
          },
          "metadata": {
            "tags": []
          },
          "execution_count": 56
        }
      ]
    },
    {
      "cell_type": "markdown",
      "metadata": {
        "id": "WMFMIHX39ztZ"
      },
      "source": [
        "## Example3 (ไม่มี output)"
      ]
    },
    {
      "cell_type": "code",
      "metadata": {
        "id": "iwRjdZZI9qgl"
      },
      "source": [
        "def grading_nooutput(score):  #คีย์ลัดในการย่อหน้าบรรทัด คือ Ctrl+[, Ctrl+]\n",
        "    if i >= 90:\n",
        "        print('เกรด A')\n",
        "    elif i >= 85:\n",
        "        print('เกรด B+')\n",
        "    elif i >= 75:\n",
        "        print('เกรด B')\n",
        "    elif i >= 70:\n",
        "        print('เกรด C+')\n",
        "    elif i >= 60:\n",
        "        print('เกรด C')\n",
        "    elif i >= 55:\n",
        "        print('เกรด D+')\n",
        "    elif i >= 50:\n",
        "        print('เกรด D')\n",
        "    else:\n",
        "        print('เกรด F')"
      ],
      "execution_count": 57,
      "outputs": []
    },
    {
      "cell_type": "code",
      "metadata": {
        "colab": {
          "base_uri": "https://localhost:8080/"
        },
        "id": "1Ttdd52s-PVr",
        "outputId": "9a0c3836-a553-4a13-d745-0af6f900b20c"
      },
      "source": [
        "score = [49,65,70,95,82,55,89,20,77,77,81,59,10]\n",
        "for i in score:\n",
        "    print(f'คะแนน {i}', end=' ') \n",
        "    grading_nooutput(i)"
      ],
      "execution_count": 64,
      "outputs": [
        {
          "output_type": "stream",
          "text": [
            "คะแนน 49 เกรด F\n",
            "คะแนน 65 เกรด C\n",
            "คะแนน 70 เกรด C+\n",
            "คะแนน 95 เกรด A\n",
            "คะแนน 82 เกรด B\n",
            "คะแนน 55 เกรด D+\n",
            "คะแนน 89 เกรด B+\n",
            "คะแนน 20 เกรด F\n",
            "คะแนน 77 เกรด B\n",
            "คะแนน 77 เกรด B\n",
            "คะแนน 81 เกรด B\n",
            "คะแนน 59 เกรด D+\n",
            "คะแนน 10 เกรด F\n"
          ],
          "name": "stdout"
        }
      ]
    },
    {
      "cell_type": "markdown",
      "metadata": {
        "id": "LRxo-P_k_g7N"
      },
      "source": [
        "Example3 (ไม่มี input และ output)"
      ]
    },
    {
      "cell_type": "code",
      "metadata": {
        "id": "hOKY_OyS-S-E"
      },
      "source": [
        "def draw_rect():\n",
        "    print('=============')\n",
        "    print('|           |')\n",
        "    print('|    ily    |')\n",
        "    print('|           |')\n",
        "    print('=============')"
      ],
      "execution_count": 68,
      "outputs": []
    },
    {
      "cell_type": "code",
      "metadata": {
        "colab": {
          "base_uri": "https://localhost:8080/"
        },
        "id": "JOov09GX_9Ma",
        "outputId": "844e412c-aa25-4836-993d-387576983718"
      },
      "source": [
        "draw_rect()\n",
        "draw_rect()"
      ],
      "execution_count": 69,
      "outputs": [
        {
          "output_type": "stream",
          "text": [
            "=============\n",
            "|           |\n",
            "|    ily    |\n",
            "|           |\n",
            "=============\n",
            "=============\n",
            "|           |\n",
            "|    ily    |\n",
            "|           |\n",
            "=============\n"
          ],
          "name": "stdout"
        }
      ]
    },
    {
      "cell_type": "markdown",
      "metadata": {
        "id": "6HsKtkelBDZg"
      },
      "source": [
        "#### ลักษณะของ input(parameter)\n",
        "\n",
        "\n",
        "*   จำเป็นต้องใส่ (non-default argument)\n",
        "*   ไม่จำเป็นต้องใส่ (default argument)\n",
        "\n"
      ]
    },
    {
      "cell_type": "code",
      "metadata": {
        "id": "tDPw7dcuAy6j"
      },
      "source": [
        "def A(input1, input2 = 3):\n",
        "    return input1+input2"
      ],
      "execution_count": 70,
      "outputs": []
    },
    {
      "cell_type": "code",
      "metadata": {
        "colab": {
          "base_uri": "https://localhost:8080/"
        },
        "id": "KI6nWZ9bBqvv",
        "outputId": "85d0e3fc-67ec-45a4-9704-a36be679500a"
      },
      "source": [
        "A(1)"
      ],
      "execution_count": 71,
      "outputs": [
        {
          "output_type": "execute_result",
          "data": {
            "text/plain": [
              "4"
            ]
          },
          "metadata": {
            "tags": []
          },
          "execution_count": 71
        }
      ]
    },
    {
      "cell_type": "code",
      "metadata": {
        "colab": {
          "base_uri": "https://localhost:8080/"
        },
        "id": "u-F45F5QByuy",
        "outputId": "c47c911e-4bab-40a2-b31b-2ca41620b155"
      },
      "source": [
        "A(1,6)"
      ],
      "execution_count": 73,
      "outputs": [
        {
          "output_type": "execute_result",
          "data": {
            "text/plain": [
              "7"
            ]
          },
          "metadata": {
            "tags": []
          },
          "execution_count": 73
        }
      ]
    },
    {
      "cell_type": "code",
      "metadata": {
        "id": "K_amJdAXB7zC"
      },
      "source": [
        "def printlove(input1, input2 = 'Stat', input3 = 'KKU'):\n",
        "    print(f'{input1} love {input2} {input3}')"
      ],
      "execution_count": 77,
      "outputs": []
    },
    {
      "cell_type": "code",
      "metadata": {
        "colab": {
          "base_uri": "https://localhost:8080/"
        },
        "id": "mlJeJhkHDFXa",
        "outputId": "5942bc5c-7a69-4d72-d61a-d16828ac7343"
      },
      "source": [
        "printlove('Phinyada')"
      ],
      "execution_count": 78,
      "outputs": [
        {
          "output_type": "stream",
          "text": [
            "Phinyada love Stat KKU\n"
          ],
          "name": "stdout"
        }
      ]
    },
    {
      "cell_type": "code",
      "metadata": {
        "colab": {
          "base_uri": "https://localhost:8080/"
        },
        "id": "T5_p1eCiDJLZ",
        "outputId": "b9f28d93-1295-4f65-a5d3-a891609d05b9"
      },
      "source": [
        "printlove('Phinyada','SI','Stat')"
      ],
      "execution_count": 79,
      "outputs": [
        {
          "output_type": "stream",
          "text": [
            "Phinyada love SI Stat\n"
          ],
          "name": "stdout"
        }
      ]
    },
    {
      "cell_type": "code",
      "metadata": {
        "colab": {
          "base_uri": "https://localhost:8080/"
        },
        "id": "ZEilgD0KDU7h",
        "outputId": "dc60dcb2-0f2f-4bf5-cd2e-133b01b7a60b"
      },
      "source": [
        "printlove(input3 = 'Phinyada', input2 = 'SI', input1 = 'Stat')"
      ],
      "execution_count": 80,
      "outputs": [
        {
          "output_type": "stream",
          "text": [
            "Stat love SI Phinyada\n"
          ],
          "name": "stdout"
        }
      ]
    },
    {
      "cell_type": "markdown",
      "metadata": {
        "id": "xtr-Dv7rFCDe"
      },
      "source": [
        "#### Quiz ส่ง 11.05 (27/07/2021)\n",
        "สร้างฟังก์ชั่น (วาดข้างๆกัน หรือ บน-ล่าง ก้ได้)\n",
        "\n",
        "\n",
        "*   วาดรูปบ้าน\n",
        "*   วาดรูปต้นไม้\n",
        "\n"
      ]
    },
    {
      "cell_type": "code",
      "metadata": {
        "id": "CocN89s9DeH5"
      },
      "source": [
        "def drawH():\n",
        "    print('        /\\         ')\n",
        "    print('       /  \\        ')\n",
        "    print('      /    \\       ')\n",
        "    print('     /      \\      ')\n",
        "    print('     ========      ')\n",
        "    print('      |    |       ***** ')\n",
        "    print('      |    |     ********* ')\n",
        "    print('      ======      *******  ')\n",
        "    print('                    | | ')\n",
        "    print('                    | |  ')\n",
        "    print('                    | |  ')"
      ],
      "execution_count": 86,
      "outputs": []
    },
    {
      "cell_type": "code",
      "metadata": {
        "id": "l2Xy4FeHHE0m",
        "outputId": "6b40febe-dcfd-4953-9f0d-8b8f7c165f89",
        "colab": {
          "base_uri": "https://localhost:8080/"
        }
      },
      "source": [
        "drawH()"
      ],
      "execution_count": 87,
      "outputs": [
        {
          "output_type": "stream",
          "text": [
            "        /\\         \n",
            "       /  \\        \n",
            "      /    \\       \n",
            "     /      \\      \n",
            "     ========      \n",
            "      |    |       ***** \n",
            "      |    |     ********* \n",
            "      ======      *******  \n",
            "                    | | \n",
            "                    | |  \n",
            "                    | |  \n"
          ],
          "name": "stdout"
        }
      ]
    },
    {
      "cell_type": "code",
      "metadata": {
        "id": "x_6UTk2LHI1g"
      },
      "source": [
        ""
      ],
      "execution_count": null,
      "outputs": []
    }
  ]
}