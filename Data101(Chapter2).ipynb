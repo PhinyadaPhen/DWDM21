{
  "nbformat": 4,
  "nbformat_minor": 0,
  "metadata": {
    "colab": {
      "name": "Data101(Chapter2).ipynb",
      "provenance": [],
      "authorship_tag": "ABX9TyN+Rgpp2vL4Y4plugL1yFfu",
      "include_colab_link": true
    },
    "kernelspec": {
      "name": "python3",
      "display_name": "Python 3"
    },
    "language_info": {
      "name": "python"
    }
  },
  "cells": [
    {
      "cell_type": "markdown",
      "metadata": {
        "id": "view-in-github",
        "colab_type": "text"
      },
      "source": [
        "<a href=\"https://colab.research.google.com/github/PhinyadaPhen/DWDM21/blob/main/Data101(Chapter2).ipynb\" target=\"_parent\"><img src=\"https://colab.research.google.com/assets/colab-badge.svg\" alt=\"Open In Colab\"/></a>"
      ]
    },
    {
      "cell_type": "markdown",
      "metadata": {
        "id": "pdpCVu1SzzKo"
      },
      "source": [
        "ข้อความที่อยู่ใน text box จะเป็นภาษา markdown"
      ]
    },
    {
      "cell_type": "code",
      "metadata": {
        "id": "1jJRbY5msPzt"
      },
      "source": [
        "import pandas # บรรทัดนี้จะเรียกใช้แพ็คเกจ pandas โดย import ตามด้วยชื่อ package "
      ],
      "execution_count": 8,
      "outputs": []
    },
    {
      "cell_type": "markdown",
      "metadata": {
        "id": "ThhTDSpitpy2"
      },
      "source": [
        "ข้อดีหนึ่งของ python คือมี package สำหรับทำงานต่างๆ มากมาย \n",
        "\n",
        "ซึ่ง pandas เป็น package สำหรับทำงานกับข้อมูลที่อยู่ในรูปแบบตาราง \n",
        "\n",
        "โดย pandas จะเรียกตารางนั้นว่า dataframe"
      ]
    },
    {
      "cell_type": "code",
      "metadata": {
        "id": "F1ZRbO6htAvJ"
      },
      "source": [
        "import pandas as pd # เหมือนกับข้างบน แต่ว่าตั้งชื่อให้ package ที๋โหลดมาใหม่ว่า pd"
      ],
      "execution_count": 9,
      "outputs": []
    },
    {
      "cell_type": "markdown",
      "metadata": {
        "id": "IUMUwCwGuss2"
      },
      "source": [
        "ไฟล์ .csv (CSV = comma separated values) เป็นไฟล์หลักที่เราจะได้ใช้กันในวิชานี้ \n",
        "\n"
      ]
    },
    {
      "cell_type": "code",
      "metadata": {
        "id": "WupojcipuoBF"
      },
      "source": [
        "data_df = pd.read_csv('data.csv')"
      ],
      "execution_count": 10,
      "outputs": []
    },
    {
      "cell_type": "code",
      "metadata": {
        "colab": {
          "base_uri": "https://localhost:8080/",
          "height": 142
        },
        "id": "x12ii1vOxNf3",
        "outputId": "5eabafde-623a-490d-eae6-65beb0affccf"
      },
      "source": [
        "data_df"
      ],
      "execution_count": 11,
      "outputs": [
        {
          "output_type": "execute_result",
          "data": {
            "text/html": [
              "<div>\n",
              "<style scoped>\n",
              "    .dataframe tbody tr th:only-of-type {\n",
              "        vertical-align: middle;\n",
              "    }\n",
              "\n",
              "    .dataframe tbody tr th {\n",
              "        vertical-align: top;\n",
              "    }\n",
              "\n",
              "    .dataframe thead th {\n",
              "        text-align: right;\n",
              "    }\n",
              "</style>\n",
              "<table border=\"1\" class=\"dataframe\">\n",
              "  <thead>\n",
              "    <tr style=\"text-align: right;\">\n",
              "      <th></th>\n",
              "      <th>name</th>\n",
              "      <th>age</th>\n",
              "      <th>city</th>\n",
              "    </tr>\n",
              "  </thead>\n",
              "  <tbody>\n",
              "    <tr>\n",
              "      <th>0</th>\n",
              "      <td>Tom</td>\n",
              "      <td>27</td>\n",
              "      <td>Khon Kaen</td>\n",
              "    </tr>\n",
              "    <tr>\n",
              "      <th>1</th>\n",
              "      <td>Paul</td>\n",
              "      <td>15</td>\n",
              "      <td>Bangkok</td>\n",
              "    </tr>\n",
              "    <tr>\n",
              "      <th>2</th>\n",
              "      <td>Sarah</td>\n",
              "      <td>49</td>\n",
              "      <td>London</td>\n",
              "    </tr>\n",
              "  </tbody>\n",
              "</table>\n",
              "</div>"
            ],
            "text/plain": [
              "    name  age       city\n",
              "0    Tom   27  Khon Kaen\n",
              "1   Paul   15    Bangkok\n",
              "2  Sarah   49     London"
            ]
          },
          "metadata": {
            "tags": []
          },
          "execution_count": 11
        }
      ]
    },
    {
      "cell_type": "code",
      "metadata": {
        "colab": {
          "base_uri": "https://localhost:8080/",
          "height": 142
        },
        "id": "7IrpXSSRxPMW",
        "outputId": "e6850064-df84-4e2b-bccd-39419a48f49e"
      },
      "source": [
        "data_df2 = pandas.read_csv('data.csv')\n",
        "data_df2"
      ],
      "execution_count": 12,
      "outputs": [
        {
          "output_type": "execute_result",
          "data": {
            "text/html": [
              "<div>\n",
              "<style scoped>\n",
              "    .dataframe tbody tr th:only-of-type {\n",
              "        vertical-align: middle;\n",
              "    }\n",
              "\n",
              "    .dataframe tbody tr th {\n",
              "        vertical-align: top;\n",
              "    }\n",
              "\n",
              "    .dataframe thead th {\n",
              "        text-align: right;\n",
              "    }\n",
              "</style>\n",
              "<table border=\"1\" class=\"dataframe\">\n",
              "  <thead>\n",
              "    <tr style=\"text-align: right;\">\n",
              "      <th></th>\n",
              "      <th>name</th>\n",
              "      <th>age</th>\n",
              "      <th>city</th>\n",
              "    </tr>\n",
              "  </thead>\n",
              "  <tbody>\n",
              "    <tr>\n",
              "      <th>0</th>\n",
              "      <td>Tom</td>\n",
              "      <td>27</td>\n",
              "      <td>Khon Kaen</td>\n",
              "    </tr>\n",
              "    <tr>\n",
              "      <th>1</th>\n",
              "      <td>Paul</td>\n",
              "      <td>15</td>\n",
              "      <td>Bangkok</td>\n",
              "    </tr>\n",
              "    <tr>\n",
              "      <th>2</th>\n",
              "      <td>Sarah</td>\n",
              "      <td>49</td>\n",
              "      <td>London</td>\n",
              "    </tr>\n",
              "  </tbody>\n",
              "</table>\n",
              "</div>"
            ],
            "text/plain": [
              "    name  age       city\n",
              "0    Tom   27  Khon Kaen\n",
              "1   Paul   15    Bangkok\n",
              "2  Sarah   49     London"
            ]
          },
          "metadata": {
            "tags": []
          },
          "execution_count": 12
        }
      ]
    },
    {
      "cell_type": "markdown",
      "metadata": {
        "id": "wl6-fhEZyhN8"
      },
      "source": [
        "# Basic Python \n",
        "### variables"
      ]
    },
    {
      "cell_type": "markdown",
      "metadata": {
        "id": "r7nbFplr1iQB"
      },
      "source": [
        "ข้อกำหนดในการตั้งชื่อตัวแปร\n",
        "\n",
        "\n",
        "1.   ชื่อห้ามมีเว้นวรรค\n",
        "2.   พยายามใช้ภาษาอังกฤษ \n",
        "3.   ตัวเล็กกับตัวใหญ่ แตกต่างกัน (case sensitive) \n",
        "4.   ห้ามใช้ตัวเลขเป็นตัวหน้า\n",
        "\n",
        "\n"
      ]
    },
    {
      "cell_type": "code",
      "metadata": {
        "id": "DOQ3uKiJyIr3"
      },
      "source": [
        "variable_a = 12 # กล่องสำหรับเก็บข้อมูลของเรา\n",
        "variable_b = 'abcd' # ' ตัวนี้เรียกว่า quote (โค้ท)\n",
        "variable_c = variable_a  "
      ],
      "execution_count": 13,
      "outputs": []
    },
    {
      "cell_type": "code",
      "metadata": {
        "colab": {
          "base_uri": "https://localhost:8080/",
          "height": 128
        },
        "id": "DkjE0xga1Hu2",
        "outputId": "3d2363a4-0e75-4983-cde1-fc1b2951c0b1"
      },
      "source": [
        "# ชื่อห้ามมีเว้นวรรค\n",
        "variable a"
      ],
      "execution_count": 15,
      "outputs": [
        {
          "output_type": "error",
          "ename": "SyntaxError",
          "evalue": "ignored",
          "traceback": [
            "\u001b[0;36m  File \u001b[0;32m\"<ipython-input-15-391088da48f7>\"\u001b[0;36m, line \u001b[0;32m2\u001b[0m\n\u001b[0;31m    variable a\u001b[0m\n\u001b[0m             ^\u001b[0m\n\u001b[0;31mSyntaxError\u001b[0m\u001b[0;31m:\u001b[0m invalid syntax\n"
          ]
        }
      ]
    },
    {
      "cell_type": "code",
      "metadata": {
        "colab": {
          "base_uri": "https://localhost:8080/"
        },
        "id": "ruTOGVad2l2K",
        "outputId": "2cdcd139-16c4-47bb-8ca0-a29c4e0c2677"
      },
      "source": [
        "# พยายามใช้ภาษาอังกฤษ\n",
        "# colab ใช้ภาษาไทยได้ แต่ไม่ควรใช้ \n",
        "ตัวอย่าง = 3\n",
        "ตัวอย่าง"
      ],
      "execution_count": 16,
      "outputs": [
        {
          "output_type": "execute_result",
          "data": {
            "text/plain": [
              "3"
            ]
          },
          "metadata": {
            "tags": []
          },
          "execution_count": 16
        }
      ]
    },
    {
      "cell_type": "code",
      "metadata": {
        "colab": {
          "base_uri": "https://localhost:8080/"
        },
        "id": "gdHHxV0O2uHP",
        "outputId": "382d940a-e292-47a6-f9c7-59861942fba9"
      },
      "source": [
        "# ตัวเล็กกับตัวใหญ่ แตกต่างกัน (case sensitive)\n",
        "v_a = 1\n",
        "V_a = 2\n",
        "print(v_a)\n",
        "print(V_a)"
      ],
      "execution_count": 17,
      "outputs": [
        {
          "output_type": "stream",
          "text": [
            "1\n",
            "2\n"
          ],
          "name": "stdout"
        }
      ]
    },
    {
      "cell_type": "code",
      "metadata": {
        "colab": {
          "base_uri": "https://localhost:8080/"
        },
        "id": "dyr2ZP-v3LPe",
        "outputId": "707ee7f7-648b-444b-b03e-92716c6d39a7"
      },
      "source": [
        "# ห้ามใช้ตัวเลขเป็นตัวหน้า\n",
        "variable1 = 1\n",
        "print(variable1)"
      ],
      "execution_count": 18,
      "outputs": [
        {
          "output_type": "stream",
          "text": [
            "1\n"
          ],
          "name": "stdout"
        }
      ]
    },
    {
      "cell_type": "code",
      "metadata": {
        "id": "DeVsN2Wc3oAN"
      },
      "source": [
        "variable_a = 12 # กล่องสำหรับเก็บข้อมูลของเรา\n",
        "variable_b = 'abcd' # ' ตัวนี้เรียกว่า quote (โค้ท)\n",
        "variable_c = variable_a  \n",
        "variable_d = -41.2\n",
        "variable_4 = \"KKU\" # เรียกว่า double quote"
      ],
      "execution_count": 19,
      "outputs": []
    },
    {
      "cell_type": "code",
      "metadata": {
        "colab": {
          "base_uri": "https://localhost:8080/"
        },
        "id": "qfrfwoCN4jEK",
        "outputId": "6638a2cf-94ff-432b-b019-d09ed614835e"
      },
      "source": [
        "variable_x = variable_c + variable_d\n",
        "print(variable_x)"
      ],
      "execution_count": 20,
      "outputs": [
        {
          "output_type": "stream",
          "text": [
            "-29.200000000000003\n"
          ],
          "name": "stdout"
        }
      ]
    },
    {
      "cell_type": "code",
      "metadata": {
        "colab": {
          "base_uri": "https://localhost:8080/"
        },
        "id": "OWGocaa94ub9",
        "outputId": "be45ee50-3a87-4040-ca31-e58c3a08b6e5"
      },
      "source": [
        "print(variable_b + variable_4)"
      ],
      "execution_count": 21,
      "outputs": [
        {
          "output_type": "stream",
          "text": [
            "abcdKKU\n"
          ],
          "name": "stdout"
        }
      ]
    },
    {
      "cell_type": "markdown",
      "metadata": {
        "id": "yYqn3y447Gq8"
      },
      "source": [
        "# Casting \n",
        "###int() float() str() "
      ]
    },
    {
      "cell_type": "code",
      "metadata": {
        "colab": {
          "base_uri": "https://localhost:8080/"
        },
        "id": "AvYliYUU6dU1",
        "outputId": "12ee107f-c2f4-43de-e452-8df5b78938a7"
      },
      "source": [
        "print(variable_x)\n",
        "print(int(variable_x))"
      ],
      "execution_count": 22,
      "outputs": [
        {
          "output_type": "stream",
          "text": [
            "-29.200000000000003\n",
            "-29\n"
          ],
          "name": "stdout"
        }
      ]
    },
    {
      "cell_type": "code",
      "metadata": {
        "colab": {
          "base_uri": "https://localhost:8080/"
        },
        "id": "6Kmtser27aSE",
        "outputId": "0d173e80-ca15-46f4-e8e4-d9b3f72fa188"
      },
      "source": [
        "V_X  = str(variable_x)\n",
        "print(V_X)"
      ],
      "execution_count": 23,
      "outputs": [
        {
          "output_type": "stream",
          "text": [
            "-29.200000000000003\n"
          ],
          "name": "stdout"
        }
      ]
    },
    {
      "cell_type": "code",
      "metadata": {
        "colab": {
          "base_uri": "https://localhost:8080/",
          "height": 162
        },
        "id": "OV6Br2PF71SM",
        "outputId": "f082a518-2327-40ad-eeee-bb2d0dd04ef0"
      },
      "source": [
        "V_X + variable_a"
      ],
      "execution_count": 24,
      "outputs": [
        {
          "output_type": "error",
          "ename": "TypeError",
          "evalue": "ignored",
          "traceback": [
            "\u001b[0;31m---------------------------------------------------------------------------\u001b[0m",
            "\u001b[0;31mTypeError\u001b[0m                                 Traceback (most recent call last)",
            "\u001b[0;32m<ipython-input-24-d83c0918f5c6>\u001b[0m in \u001b[0;36m<module>\u001b[0;34m()\u001b[0m\n\u001b[0;32m----> 1\u001b[0;31m \u001b[0mV_X\u001b[0m \u001b[0;34m+\u001b[0m \u001b[0mvariable_a\u001b[0m\u001b[0;34m\u001b[0m\u001b[0;34m\u001b[0m\u001b[0m\n\u001b[0m",
            "\u001b[0;31mTypeError\u001b[0m: can only concatenate str (not \"int\") to str"
          ]
        }
      ]
    },
    {
      "cell_type": "code",
      "metadata": {
        "colab": {
          "base_uri": "https://localhost:8080/",
          "height": 162
        },
        "id": "SytyrnV174ls",
        "outputId": "950681c1-0629-4100-fe36-6fc0995c8383"
      },
      "source": [
        "variable_a + v_X"
      ],
      "execution_count": 66,
      "outputs": [
        {
          "output_type": "error",
          "ename": "NameError",
          "evalue": "ignored",
          "traceback": [
            "\u001b[0;31m---------------------------------------------------------------------------\u001b[0m",
            "\u001b[0;31mNameError\u001b[0m                                 Traceback (most recent call last)",
            "\u001b[0;32m<ipython-input-66-7bd38430ab5d>\u001b[0m in \u001b[0;36m<module>\u001b[0;34m()\u001b[0m\n\u001b[0;32m----> 1\u001b[0;31m \u001b[0mvariable_a\u001b[0m \u001b[0;34m+\u001b[0m \u001b[0mv_X\u001b[0m\u001b[0;34m\u001b[0m\u001b[0;34m\u001b[0m\u001b[0m\n\u001b[0m",
            "\u001b[0;31mNameError\u001b[0m: name 'v_X' is not defined"
          ]
        }
      ]
    },
    {
      "cell_type": "code",
      "metadata": {
        "colab": {
          "base_uri": "https://localhost:8080/",
          "height": 35
        },
        "id": "l2W-wopp7_sE",
        "outputId": "71e18e78-557e-418d-8517-9b4a5c634c39"
      },
      "source": [
        "V_X"
      ],
      "execution_count": 25,
      "outputs": [
        {
          "output_type": "execute_result",
          "data": {
            "application/vnd.google.colaboratory.intrinsic+json": {
              "type": "string"
            },
            "text/plain": [
              "'-29.200000000000003'"
            ]
          },
          "metadata": {
            "tags": []
          },
          "execution_count": 25
        }
      ]
    },
    {
      "cell_type": "code",
      "metadata": {
        "colab": {
          "base_uri": "https://localhost:8080/"
        },
        "id": "QaoDVFxP8bgm",
        "outputId": "2371963a-1f53-4d82-ef94-750646000db4"
      },
      "source": [
        "float(V_X)"
      ],
      "execution_count": 26,
      "outputs": [
        {
          "output_type": "execute_result",
          "data": {
            "text/plain": [
              "-29.200000000000003"
            ]
          },
          "metadata": {
            "tags": []
          },
          "execution_count": 26
        }
      ]
    },
    {
      "cell_type": "markdown",
      "metadata": {
        "id": "__CjXSoy84i3"
      },
      "source": [
        "# Data Structure\n",
        "### list()"
      ]
    },
    {
      "cell_type": "code",
      "metadata": {
        "id": "kGa8nbhz8228"
      },
      "source": [
        "list_a = [1,2,0.2,'abs'] # [] square brackets\n",
        "list_b = [2,'xyz',list_a,[1,2,0.0]]"
      ],
      "execution_count": 27,
      "outputs": []
    },
    {
      "cell_type": "code",
      "metadata": {
        "colab": {
          "base_uri": "https://localhost:8080/"
        },
        "id": "37G0-Cl593ay",
        "outputId": "73822e9f-d789-428d-fa2e-9bb6a72621e8"
      },
      "source": [
        "list_a # list คือการเอามาเรียงต่อกันเป็นทอด ๆ"
      ],
      "execution_count": 28,
      "outputs": [
        {
          "output_type": "execute_result",
          "data": {
            "text/plain": [
              "[1, 2, 0.2, 'abs']"
            ]
          },
          "metadata": {
            "tags": []
          },
          "execution_count": 28
        }
      ]
    },
    {
      "cell_type": "code",
      "metadata": {
        "colab": {
          "base_uri": "https://localhost:8080/"
        },
        "id": "I_0gPf5F94sM",
        "outputId": "23686de7-d082-4e02-8298-4391ec8be486"
      },
      "source": [
        "list_b # เวลานับจะเริ่มนับจาก 0"
      ],
      "execution_count": 29,
      "outputs": [
        {
          "output_type": "execute_result",
          "data": {
            "text/plain": [
              "[2, 'xyz', [1, 2, 0.2, 'abs'], [1, 2, 0.0]]"
            ]
          },
          "metadata": {
            "tags": []
          },
          "execution_count": 29
        }
      ]
    },
    {
      "cell_type": "code",
      "metadata": {
        "colab": {
          "base_uri": "https://localhost:8080/"
        },
        "id": "Xo8cznqg97Db",
        "outputId": "c9158273-43fb-47f9-9aa1-dc8277660ed4"
      },
      "source": [
        "len(list_b) # len คือ จำนวน"
      ],
      "execution_count": 30,
      "outputs": [
        {
          "output_type": "execute_result",
          "data": {
            "text/plain": [
              "4"
            ]
          },
          "metadata": {
            "tags": []
          },
          "execution_count": 30
        }
      ]
    },
    {
      "cell_type": "code",
      "metadata": {
        "colab": {
          "base_uri": "https://localhost:8080/"
        },
        "id": "GIRlH0fP-Wgc",
        "outputId": "bbcb6160-8658-4d13-c460-54af4e2015cc"
      },
      "source": [
        "list_b[3] # แปลว่าเลือก ตัวที่ 3 ของ list_b"
      ],
      "execution_count": 31,
      "outputs": [
        {
          "output_type": "execute_result",
          "data": {
            "text/plain": [
              "[1, 2, 0.0]"
            ]
          },
          "metadata": {
            "tags": []
          },
          "execution_count": 31
        }
      ]
    },
    {
      "cell_type": "code",
      "metadata": {
        "colab": {
          "base_uri": "https://localhost:8080/"
        },
        "id": "FLbQSTL3-icc",
        "outputId": "a4958b98-4e80-4ce4-ced4-651d59157a16"
      },
      "source": [
        "list_b[3][1] # แปลว่าเลือกตัวที่ 3 ของ list_b และเลือกตัวที่ 1 ในลำดับในตัวที่ 3 อีกที"
      ],
      "execution_count": 32,
      "outputs": [
        {
          "output_type": "execute_result",
          "data": {
            "text/plain": [
              "2"
            ]
          },
          "metadata": {
            "tags": []
          },
          "execution_count": 32
        }
      ]
    },
    {
      "cell_type": "markdown",
      "metadata": {
        "id": "nSkWkcE__FCG"
      },
      "source": [
        "### string คือ list ของ ตัวหนังสือ"
      ]
    },
    {
      "cell_type": "code",
      "metadata": {
        "id": "D2J9uJvE-nk9"
      },
      "source": [
        "a = 'Stat KKU'"
      ],
      "execution_count": 33,
      "outputs": []
    },
    {
      "cell_type": "code",
      "metadata": {
        "colab": {
          "base_uri": "https://localhost:8080/",
          "height": 35
        },
        "id": "cbvzSqAa_Twi",
        "outputId": "5da9092c-9d07-4ef7-ef14-a54dbf4bf9c2"
      },
      "source": [
        "a[4] # คำตอบที่ได้คือ เว้นวรรค เพราะ เว้นวรรค คือลำดับที่ 4 ของ a"
      ],
      "execution_count": 34,
      "outputs": [
        {
          "output_type": "execute_result",
          "data": {
            "application/vnd.google.colaboratory.intrinsic+json": {
              "type": "string"
            },
            "text/plain": [
              "' '"
            ]
          },
          "metadata": {
            "tags": []
          },
          "execution_count": 34
        }
      ]
    },
    {
      "cell_type": "markdown",
      "metadata": {
        "id": "rSf8QwiX_kL_"
      },
      "source": [
        "## วิธีสร้าง list ว่าง "
      ]
    },
    {
      "cell_type": "code",
      "metadata": {
        "id": "RASEcJqd_WD9"
      },
      "source": [
        "list_c = list() # แบบที่ 1\n",
        "list_d = [] # แบบที่ 2"
      ],
      "execution_count": 35,
      "outputs": []
    },
    {
      "cell_type": "code",
      "metadata": {
        "colab": {
          "base_uri": "https://localhost:8080/"
        },
        "id": "-SvStyQW_105",
        "outputId": "9d1d455b-320a-48c1-fcd4-496f501474e8"
      },
      "source": [
        "list_c"
      ],
      "execution_count": 36,
      "outputs": [
        {
          "output_type": "execute_result",
          "data": {
            "text/plain": [
              "[]"
            ]
          },
          "metadata": {
            "tags": []
          },
          "execution_count": 36
        }
      ]
    },
    {
      "cell_type": "code",
      "metadata": {
        "colab": {
          "base_uri": "https://localhost:8080/"
        },
        "id": "D-I6LHUgAAXc",
        "outputId": "8b349b09-0fc0-4a01-ed46-003ec4a119ee"
      },
      "source": [
        "list_d"
      ],
      "execution_count": 37,
      "outputs": [
        {
          "output_type": "execute_result",
          "data": {
            "text/plain": [
              "[]"
            ]
          },
          "metadata": {
            "tags": []
          },
          "execution_count": 37
        }
      ]
    },
    {
      "cell_type": "markdown",
      "metadata": {
        "id": "4DE1-784AWKf"
      },
      "source": [
        "เติมค่าลงไปใน  list (.append())"
      ]
    },
    {
      "cell_type": "code",
      "metadata": {
        "colab": {
          "base_uri": "https://localhost:8080/"
        },
        "id": "XOTIDpm0A8aZ",
        "outputId": "a69b2e6b-c679-4093-bb04-21b3897c12a7"
      },
      "source": [
        "list_d.append('a')\n",
        "list_d"
      ],
      "execution_count": 38,
      "outputs": [
        {
          "output_type": "execute_result",
          "data": {
            "text/plain": [
              "['a']"
            ]
          },
          "metadata": {
            "tags": []
          },
          "execution_count": 38
        }
      ]
    },
    {
      "cell_type": "markdown",
      "metadata": {
        "id": "C-P1f1dABJSi"
      },
      "source": [
        "การชี้ค่าใน list (indexing)\n",
        "\n",
        "\n",
        "1.   ใช้ลำดับในการชี้\n",
        "2.   ลำดับเริ่มจาก 0 \n",
        "3.   สามารถชี้จากข้างหลังได้โดยใช้ negative index\n",
        "\n"
      ]
    },
    {
      "cell_type": "code",
      "metadata": {
        "colab": {
          "base_uri": "https://localhost:8080/"
        },
        "id": "otju47WDBESE",
        "outputId": "2bbd8294-9262-478d-ae51-453d46a6989a"
      },
      "source": [
        "list_b"
      ],
      "execution_count": 39,
      "outputs": [
        {
          "output_type": "execute_result",
          "data": {
            "text/plain": [
              "[2, 'xyz', [1, 2, 0.2, 'abs'], [1, 2, 0.0]]"
            ]
          },
          "metadata": {
            "tags": []
          },
          "execution_count": 39
        }
      ]
    },
    {
      "cell_type": "code",
      "metadata": {
        "colab": {
          "base_uri": "https://localhost:8080/"
        },
        "id": "w24-jPKjBfIb",
        "outputId": "bf86fb70-9df2-4d82-b885-276cf5f0999c"
      },
      "source": [
        "list_b[-1] # ถ้าจะเริ่มชี้จากหลังสุดจะเริ่มที่ลำดับ -1"
      ],
      "execution_count": 40,
      "outputs": [
        {
          "output_type": "execute_result",
          "data": {
            "text/plain": [
              "[1, 2, 0.0]"
            ]
          },
          "metadata": {
            "tags": []
          },
          "execution_count": 40
        }
      ]
    },
    {
      "cell_type": "markdown",
      "metadata": {
        "id": "TwI0aVMXCIi1"
      },
      "source": [
        "### list slicing"
      ]
    },
    {
      "cell_type": "code",
      "metadata": {
        "colab": {
          "base_uri": "https://localhost:8080/"
        },
        "id": "uBZvC4wABh3K",
        "outputId": "acbb8371-6a0c-4c34-c5f7-4fa967732f67"
      },
      "source": [
        "list_ex = [1,2,3,5,6,8,-1,20,50,0]\n",
        "list_ex"
      ],
      "execution_count": 41,
      "outputs": [
        {
          "output_type": "execute_result",
          "data": {
            "text/plain": [
              "[1, 2, 3, 5, 6, 8, -1, 20, 50, 0]"
            ]
          },
          "metadata": {
            "tags": []
          },
          "execution_count": 41
        }
      ]
    },
    {
      "cell_type": "markdown",
      "metadata": {
        "id": "uKwgDSFCDGha"
      },
      "source": [
        "เราจะตัด list โดยเอาตั้งแต่ [ตัวหน้า:ตัวก่อนตัวหลัง]\n",
        "\n",
        "ถ้าเป็นสัญลักษณ์คณิตศาสตร์ [ตัวหน้า:ตัวหลัง] -> [ตัวหน้า,ตัวหลัง)"
      ]
    },
    {
      "cell_type": "code",
      "metadata": {
        "colab": {
          "base_uri": "https://localhost:8080/"
        },
        "id": "w7dyZhVBCXhE",
        "outputId": "a0e0652f-ab73-4dea-e040-f68bddf4b079"
      },
      "source": [
        "list_ex[1:6] # เราจะตัด list โดยเอาตั้งแต่ [ ตัวหน้า : ตัวก่อนตัวหลัง ]"
      ],
      "execution_count": 42,
      "outputs": [
        {
          "output_type": "execute_result",
          "data": {
            "text/plain": [
              "[2, 3, 5, 6, 8]"
            ]
          },
          "metadata": {
            "tags": []
          },
          "execution_count": 42
        }
      ]
    },
    {
      "cell_type": "code",
      "metadata": {
        "colab": {
          "base_uri": "https://localhost:8080/"
        },
        "id": "0QdQp-aoCjID",
        "outputId": "6740d743-839a-4a2e-b568-059ed42bd3d1"
      },
      "source": [
        "list_ex[4:]"
      ],
      "execution_count": 43,
      "outputs": [
        {
          "output_type": "execute_result",
          "data": {
            "text/plain": [
              "[6, 8, -1, 20, 50, 0]"
            ]
          },
          "metadata": {
            "tags": []
          },
          "execution_count": 43
        }
      ]
    },
    {
      "cell_type": "code",
      "metadata": {
        "colab": {
          "base_uri": "https://localhost:8080/"
        },
        "id": "G9A4gVDTDdJN",
        "outputId": "e9be44b4-2d7e-4d08-c344-d4cd1fe8a15d"
      },
      "source": [
        "list_ex[:6]"
      ],
      "execution_count": 44,
      "outputs": [
        {
          "output_type": "execute_result",
          "data": {
            "text/plain": [
              "[1, 2, 3, 5, 6, 8]"
            ]
          },
          "metadata": {
            "tags": []
          },
          "execution_count": 44
        }
      ]
    },
    {
      "cell_type": "markdown",
      "metadata": {
        "id": "vBBu3YhqEKFp"
      },
      "source": [
        "[จุดเริ่มต้น:จุดสุดท้าย:step]"
      ]
    },
    {
      "cell_type": "code",
      "metadata": {
        "colab": {
          "base_uri": "https://localhost:8080/"
        },
        "id": "XKdFlHkZDikM",
        "outputId": "5a6ed4aa-a05b-43a4-9976-f87a84e0c7a4"
      },
      "source": [
        "list_ex[::2]"
      ],
      "execution_count": 45,
      "outputs": [
        {
          "output_type": "execute_result",
          "data": {
            "text/plain": [
              "[1, 3, 6, -1, 50]"
            ]
          },
          "metadata": {
            "tags": []
          },
          "execution_count": 45
        }
      ]
    },
    {
      "cell_type": "code",
      "metadata": {
        "colab": {
          "base_uri": "https://localhost:8080/"
        },
        "id": "3x6wBzerD62k",
        "outputId": "177c54e4-6c9f-4299-c7a3-9a4e41478d34"
      },
      "source": [
        "list_ex[::-1] # การกลับ list "
      ],
      "execution_count": 46,
      "outputs": [
        {
          "output_type": "execute_result",
          "data": {
            "text/plain": [
              "[0, 50, 20, -1, 8, 6, 5, 3, 2, 1]"
            ]
          },
          "metadata": {
            "tags": []
          },
          "execution_count": 46
        }
      ]
    },
    {
      "cell_type": "code",
      "metadata": {
        "colab": {
          "base_uri": "https://localhost:8080/",
          "height": 36
        },
        "id": "tL9J-BB_Epm8",
        "outputId": "fdaf3a44-2071-4fa1-8953-d4498d45a0fd"
      },
      "source": [
        "a"
      ],
      "execution_count": 47,
      "outputs": [
        {
          "output_type": "execute_result",
          "data": {
            "application/vnd.google.colaboratory.intrinsic+json": {
              "type": "string"
            },
            "text/plain": [
              "'Stat KKU'"
            ]
          },
          "metadata": {
            "tags": []
          },
          "execution_count": 47
        }
      ]
    },
    {
      "cell_type": "code",
      "metadata": {
        "colab": {
          "base_uri": "https://localhost:8080/",
          "height": 36
        },
        "id": "vBfPOwmgFv0n",
        "outputId": "8825a070-da76-4a86-cb4d-1d3abca89bc1"
      },
      "source": [
        "a[-3:]"
      ],
      "execution_count": 48,
      "outputs": [
        {
          "output_type": "execute_result",
          "data": {
            "application/vnd.google.colaboratory.intrinsic+json": {
              "type": "string"
            },
            "text/plain": [
              "'KKU'"
            ]
          },
          "metadata": {
            "tags": []
          },
          "execution_count": 48
        }
      ]
    },
    {
      "cell_type": "code",
      "metadata": {
        "colab": {
          "base_uri": "https://localhost:8080/",
          "height": 36
        },
        "id": "sQXQoCtiF28L",
        "outputId": "2192bcd8-3ab3-4797-d355-f76caffc9f97"
      },
      "source": [
        "a[5:8:]"
      ],
      "execution_count": 49,
      "outputs": [
        {
          "output_type": "execute_result",
          "data": {
            "application/vnd.google.colaboratory.intrinsic+json": {
              "type": "string"
            },
            "text/plain": [
              "'KKU'"
            ]
          },
          "metadata": {
            "tags": []
          },
          "execution_count": 49
        }
      ]
    },
    {
      "cell_type": "code",
      "metadata": {
        "colab": {
          "base_uri": "https://localhost:8080/",
          "height": 36
        },
        "id": "9dl7vChZF-VN",
        "outputId": "3c92bcbb-4453-42ed-d036-206a3ba6a9a1"
      },
      "source": [
        "a[5::]"
      ],
      "execution_count": 50,
      "outputs": [
        {
          "output_type": "execute_result",
          "data": {
            "application/vnd.google.colaboratory.intrinsic+json": {
              "type": "string"
            },
            "text/plain": [
              "'KKU'"
            ]
          },
          "metadata": {
            "tags": []
          },
          "execution_count": 50
        }
      ]
    },
    {
      "cell_type": "code",
      "metadata": {
        "colab": {
          "base_uri": "https://localhost:8080/",
          "height": 36
        },
        "id": "gB1MsSqOGGtL",
        "outputId": "783e5a36-a4b9-437e-cedc-8e62c820b07b"
      },
      "source": [
        "a[-3::]"
      ],
      "execution_count": 51,
      "outputs": [
        {
          "output_type": "execute_result",
          "data": {
            "application/vnd.google.colaboratory.intrinsic+json": {
              "type": "string"
            },
            "text/plain": [
              "'KKU'"
            ]
          },
          "metadata": {
            "tags": []
          },
          "execution_count": 51
        }
      ]
    },
    {
      "cell_type": "code",
      "metadata": {
        "colab": {
          "base_uri": "https://localhost:8080/",
          "height": 36
        },
        "id": "93krd18UGXni",
        "outputId": "3cd82de1-8f3c-43ad-d881-dfae33a31f82"
      },
      "source": [
        "a[-3::1]"
      ],
      "execution_count": 52,
      "outputs": [
        {
          "output_type": "execute_result",
          "data": {
            "application/vnd.google.colaboratory.intrinsic+json": {
              "type": "string"
            },
            "text/plain": [
              "'KKU'"
            ]
          },
          "metadata": {
            "tags": []
          },
          "execution_count": 52
        }
      ]
    },
    {
      "cell_type": "markdown",
      "metadata": {
        "id": "BjbedaLTGt0t"
      },
      "source": [
        "### list+list"
      ]
    },
    {
      "cell_type": "code",
      "metadata": {
        "colab": {
          "base_uri": "https://localhost:8080/"
        },
        "id": "LaLZzyDHGs2C",
        "outputId": "8a1e494b-2cca-424f-c454-1588851bf376"
      },
      "source": [
        "print(list_a)\n",
        "print(list_b)"
      ],
      "execution_count": 53,
      "outputs": [
        {
          "output_type": "stream",
          "text": [
            "[1, 2, 0.2, 'abs']\n",
            "[2, 'xyz', [1, 2, 0.2, 'abs'], [1, 2, 0.0]]\n"
          ],
          "name": "stdout"
        }
      ]
    },
    {
      "cell_type": "code",
      "metadata": {
        "colab": {
          "base_uri": "https://localhost:8080/"
        },
        "id": "ExGCAASoG5ny",
        "outputId": "ef20af1c-42c8-4ca6-83bd-821abd7dc518"
      },
      "source": [
        "list_a + list_b"
      ],
      "execution_count": 54,
      "outputs": [
        {
          "output_type": "execute_result",
          "data": {
            "text/plain": [
              "[1, 2, 0.2, 'abs', 2, 'xyz', [1, 2, 0.2, 'abs'], [1, 2, 0.0]]"
            ]
          },
          "metadata": {
            "tags": []
          },
          "execution_count": 54
        }
      ]
    },
    {
      "cell_type": "markdown",
      "metadata": {
        "id": "xz3Fc_x6LRvQ"
      },
      "source": [
        "format string"
      ]
    },
    {
      "cell_type": "markdown",
      "metadata": {
        "id": "FHqFBYzvLu3l"
      },
      "source": [
        "``` python\n",
        "f'string{ตัวแปร}'\n",
        "```\n",
        "{} เรียกว่า curly brackets"
      ]
    },
    {
      "cell_type": "code",
      "metadata": {
        "colab": {
          "base_uri": "https://localhost:8080/",
          "height": 36
        },
        "id": "nlrGmuNoLjSZ",
        "outputId": "38697dcd-1e7f-474c-cf8e-0b5c982c0702"
      },
      "source": [
        "f'ตัวแปร list_a มีค่าคือ {list_a}'"
      ],
      "execution_count": 55,
      "outputs": [
        {
          "output_type": "execute_result",
          "data": {
            "application/vnd.google.colaboratory.intrinsic+json": {
              "type": "string"
            },
            "text/plain": [
              "\"ตัวแปร list_a มีค่าคือ [1, 2, 0.2, 'abs']\""
            ]
          },
          "metadata": {
            "tags": []
          },
          "execution_count": 55
        }
      ]
    },
    {
      "cell_type": "markdown",
      "metadata": {
        "id": "_cAxNneiIK3v"
      },
      "source": [
        "# Loop"
      ]
    },
    {
      "cell_type": "markdown",
      "metadata": {
        "id": "w7p_gQHYBZi9"
      },
      "source": [
        "**Loop** คือ เขียนให้โปรแกรมทำงานซ้ำๆ หลายๆรอบ หรือทำงานคล้ายๆ กัน"
      ]
    },
    {
      "cell_type": "markdown",
      "metadata": {
        "id": "P_LcilREKbXA"
      },
      "source": [
        "indent แปลว่า เว้น\n",
        "``` python\n",
        "for ตัวแปรที่จะรับค่าจากลิสต์ in ลิสต์ที่จะนำมาวนลูป:\n",
        "  do something # in_loop\n",
        "  do another thing # in_loop\n",
        "\n",
        "do other thing # out side  loop\n"
      ]
    },
    {
      "cell_type": "code",
      "metadata": {
        "colab": {
          "base_uri": "https://localhost:8080/"
        },
        "id": "jtHf_IpTJmXO",
        "outputId": "3e3b578c-00ec-4813-813e-82243d8d981e"
      },
      "source": [
        "for i in [1,2,3,4,5]: # ตัวอย่าง\n",
        "  print(i+1)"
      ],
      "execution_count": 67,
      "outputs": [
        {
          "output_type": "stream",
          "text": [
            "2\n",
            "3\n",
            "4\n",
            "5\n",
            "6\n"
          ],
          "name": "stdout"
        }
      ]
    },
    {
      "cell_type": "code",
      "metadata": {
        "colab": {
          "base_uri": "https://localhost:8080/"
        },
        "id": "a89X69ynMZIS",
        "outputId": "19f3efa2-5577-490e-b44b-1a1cfddd3c20"
      },
      "source": [
        "for x in [1,2,3,4,5]:\n",
        "  print(f'ค่าตัวแปร x คือ {x} และ x+2 = {x+2}')"
      ],
      "execution_count": 57,
      "outputs": [
        {
          "output_type": "stream",
          "text": [
            "ค่าตัวแปร x คือ 1 และ x+2 = 3\n",
            "ค่าตัวแปร x คือ 2 และ x+2 = 4\n",
            "ค่าตัวแปร x คือ 3 และ x+2 = 5\n",
            "ค่าตัวแปร x คือ 4 และ x+2 = 6\n",
            "ค่าตัวแปร x คือ 5 และ x+2 = 7\n"
          ],
          "name": "stdout"
        }
      ]
    },
    {
      "cell_type": "code",
      "metadata": {
        "colab": {
          "base_uri": "https://localhost:8080/"
        },
        "id": "MlDhtSIKM60a",
        "outputId": "f94ad2f6-bbdb-44b2-c390-df810829419b"
      },
      "source": [
        "list5=[1,2,3,4,5]\n",
        "for x in list5:\n",
        "  print(f'ค่าตัวแปร x คือ {x} และ x+2 = {x+2}')"
      ],
      "execution_count": 58,
      "outputs": [
        {
          "output_type": "stream",
          "text": [
            "ค่าตัวแปร x คือ 1 และ x+2 = 3\n",
            "ค่าตัวแปร x คือ 2 และ x+2 = 4\n",
            "ค่าตัวแปร x คือ 3 และ x+2 = 5\n",
            "ค่าตัวแปร x คือ 4 และ x+2 = 6\n",
            "ค่าตัวแปร x คือ 5 และ x+2 = 7\n"
          ],
          "name": "stdout"
        }
      ]
    },
    {
      "cell_type": "code",
      "metadata": {
        "colab": {
          "base_uri": "https://localhost:8080/"
        },
        "id": "a6h5pAEzNVKf",
        "outputId": "488a525c-0d19-4f03-98d5-631883d0af8f"
      },
      "source": [
        "list(range(10)) "
      ],
      "execution_count": 59,
      "outputs": [
        {
          "output_type": "execute_result",
          "data": {
            "text/plain": [
              "[0, 1, 2, 3, 4, 5, 6, 7, 8, 9]"
            ]
          },
          "metadata": {
            "tags": []
          },
          "execution_count": 59
        }
      ]
    },
    {
      "cell_type": "code",
      "metadata": {
        "colab": {
          "base_uri": "https://localhost:8080/"
        },
        "id": "xoaSCKAsNZc0",
        "outputId": "4fcd6e5b-b983-496c-bf75-1f3c2381cd9e"
      },
      "source": [
        "for i in range(2,7):\n",
        "  print(i)"
      ],
      "execution_count": 60,
      "outputs": [
        {
          "output_type": "stream",
          "text": [
            "2\n",
            "3\n",
            "4\n",
            "5\n",
            "6\n"
          ],
          "name": "stdout"
        }
      ]
    },
    {
      "cell_type": "code",
      "metadata": {
        "colab": {
          "base_uri": "https://localhost:8080/"
        },
        "id": "wLpWHklbN2mp",
        "outputId": "6c31fcea-8227-438b-aae9-3be9659cba9f"
      },
      "source": [
        "for i in range(2,7,2):\n",
        "  print(i)"
      ],
      "execution_count": 61,
      "outputs": [
        {
          "output_type": "stream",
          "text": [
            "2\n",
            "4\n",
            "6\n"
          ],
          "name": "stdout"
        }
      ]
    },
    {
      "cell_type": "code",
      "metadata": {
        "colab": {
          "base_uri": "https://localhost:8080/"
        },
        "id": "TBZVOGGVOZ4k",
        "outputId": "32ed037f-9d24-48d4-cd7e-995606bee023"
      },
      "source": [
        "for i in range(5):\n",
        "  print('hahaha')"
      ],
      "execution_count": 62,
      "outputs": [
        {
          "output_type": "stream",
          "text": [
            "hahaha\n",
            "hahaha\n",
            "hahaha\n",
            "hahaha\n",
            "hahaha\n"
          ],
          "name": "stdout"
        }
      ]
    },
    {
      "cell_type": "code",
      "metadata": {
        "colab": {
          "base_uri": "https://localhost:8080/"
        },
        "id": "9H-zz4veOooh",
        "outputId": "8efb577a-bd15-4ac5-b7a4-635893a1987c"
      },
      "source": [
        "for i in range(5):\n",
        "  print('hahaha')\n",
        "  x = i + 3\n",
        "  print(f'i={i} x={x}')"
      ],
      "execution_count": 63,
      "outputs": [
        {
          "output_type": "stream",
          "text": [
            "hahaha\n",
            "i=0 x=3\n",
            "hahaha\n",
            "i=1 x=4\n",
            "hahaha\n",
            "i=2 x=5\n",
            "hahaha\n",
            "i=3 x=6\n",
            "hahaha\n",
            "i=4 x=7\n"
          ],
          "name": "stdout"
        }
      ]
    },
    {
      "cell_type": "markdown",
      "metadata": {
        "id": "a5gClpEhPKqC"
      },
      "source": [
        "## Nested loop\n"
      ]
    },
    {
      "cell_type": "code",
      "metadata": {
        "colab": {
          "base_uri": "https://localhost:8080/"
        },
        "id": "BS59Xt15PPg7",
        "outputId": "65d97341-ec73-420f-993c-06b080b9f1fd"
      },
      "source": [
        "for i in range(3):\n",
        "  print(f'now i = {i}')\n",
        "  print('start j loop')\n",
        "  for j in range(4):\n",
        "    print(f'i = {i} j = {j} i+j = {i+j}')\n",
        "  print('end j loop')"
      ],
      "execution_count": 65,
      "outputs": [
        {
          "output_type": "stream",
          "text": [
            "now i = 0\n",
            "start j loop\n",
            "i = 0 j = 0 i+j = 0\n",
            "i = 0 j = 1 i+j = 1\n",
            "i = 0 j = 2 i+j = 2\n",
            "i = 0 j = 3 i+j = 3\n",
            "end j loop\n",
            "now i = 1\n",
            "start j loop\n",
            "i = 1 j = 0 i+j = 1\n",
            "i = 1 j = 1 i+j = 2\n",
            "i = 1 j = 2 i+j = 3\n",
            "i = 1 j = 3 i+j = 4\n",
            "end j loop\n",
            "now i = 2\n",
            "start j loop\n",
            "i = 2 j = 0 i+j = 2\n",
            "i = 2 j = 1 i+j = 3\n",
            "i = 2 j = 2 i+j = 4\n",
            "i = 2 j = 3 i+j = 5\n",
            "end j loop\n"
          ],
          "name": "stdout"
        }
      ]
    },
    {
      "cell_type": "markdown",
      "metadata": {
        "id": "vlVV3TA-INRU"
      },
      "source": [
        "# Condition\n",
        "### เงื่อนไข (if statement)"
      ]
    },
    {
      "cell_type": "markdown",
      "metadata": {
        "id": "EXm1VLC9FbY6"
      },
      "source": [
        "``` python\n",
        "if เงื่อนไขที่จะตรวจสอบ (โดยใช้สัญลักษณ์ ==,!=,<,>,<=,>=):\n",
        "  ถ้าเงื่อนไขเป็นจริง ทำงาน 1 \n",
        "  ถ้าเงื่อนไขเป็นจริง ทำงาน 2\n",
        "``` "
      ]
    },
    {
      "cell_type": "code",
      "metadata": {
        "colab": {
          "base_uri": "https://localhost:8080/"
        },
        "id": "4tlvzcoKGD-I",
        "outputId": "579d71ef-a3fa-4087-d073-e1879f10baee"
      },
      "source": [
        "stringx = 'ICOULDSAYINEVERDARETOTHINKABOUTYOUINTHATWAY'\n",
        "\n",
        "if len(stringx) > 30:\n",
        "  print(f'{stringx}  is longer than 30 characters')"
      ],
      "execution_count": 76,
      "outputs": [
        {
          "output_type": "stream",
          "text": [
            "ICOULDSAYINEVERDARETOTHINKABOUTYOUINTHATWAY  is longer than 30 characters\n"
          ],
          "name": "stdout"
        }
      ]
    },
    {
      "cell_type": "code",
      "metadata": {
        "id": "AZ_QCfzMHaEA"
      },
      "source": [
        "stringx = 'ICOULDSAYINEVERDARETOTHINKABOUTYOUINTHATWAY'\n",
        "\n",
        "if len(stringx) > 100:\n",
        "  print(f'{stringx}  is longer than 30 characters')"
      ],
      "execution_count": 77,
      "outputs": []
    },
    {
      "cell_type": "markdown",
      "metadata": {
        "id": "r96e2XZCH60j"
      },
      "source": [
        "``` python\n",
        "if เงื่อนไขที่จะตรวจสอบ (โดยใช้สัญลักษณ์ ==,!=,<,>,<=,>=):\n",
        "  ถ้าเงื่อนไขเป็นจริง ทำงาน 1 \n",
        "  ถ้าเงื่อนไขเป็นจริง ทำงาน 2\n",
        "else: # ตรวจสอบเงื่อนไขข้างบนแล้วไม่เป็นจริง\n",
        "  ทำงานที่ X \n",
        "```"
      ]
    },
    {
      "cell_type": "code",
      "metadata": {
        "colab": {
          "base_uri": "https://localhost:8080/"
        },
        "id": "Pkqwzzz1IA-y",
        "outputId": "22f34729-2d96-4f33-8492-f331849414c5"
      },
      "source": [
        "stringx = 'ICOULDSAYINEVERDARETOTHINKABOUTYOUINTHATWAY'\n",
        "\n",
        "if len(stringx) > 100:\n",
        "  print(f'{stringx}  is longer than 30 characters')\n",
        "else:\n",
        "  print(f'{stringx} in {len(stringx)} characters long')"
      ],
      "execution_count": 81,
      "outputs": [
        {
          "output_type": "stream",
          "text": [
            "ICOULDSAYINEVERDARETOTHINKABOUTYOUINTHATWAY in 43 characters long\n"
          ],
          "name": "stdout"
        }
      ]
    },
    {
      "cell_type": "markdown",
      "metadata": {
        "id": "_Lfaw0pbJQuJ"
      },
      "source": [
        "``` python\n",
        "if เงื่อนไขที่จะตรวจสอบ (โดยใช้สัญลักษณ์ ==,!=,<,>,<=,>=):\n",
        "  ถ้าเงื่อนไขเป็นจริง ทำงาน 1 \n",
        "  ถ้าเงื่อนไขเป็นจริง ทำงาน 2\n",
        "elif เงื่อนไขที่จะตรวจสอบต่อไปถ้าเงื่อนไขข้างบนไม่เป็นจริง:\n",
        "  ถ้าเงื่อนไขเป็นจริง ทำงาน a1 \n",
        "  ถ้าเงื่อนไขเป็นจริง ทำงาน a2\n",
        "elif เงื่อนไขที่จะตรวจสอบต่อไปถ้าเงื่อนไขข้างบนไม่เป็นจริง:\n",
        "  ถ้าเงื่อนไขเป็นจริง ทำงาน b1 \n",
        "  ถ้าเงื่อนไขเป็นจริง ทำงาน b2\n",
        "else: # ตรวจสอบเงื่อนไขข้างบนแล้วไม่เป็นจริง\n",
        "  ทำงานที่ X \n",
        "```"
      ]
    },
    {
      "cell_type": "code",
      "metadata": {
        "colab": {
          "base_uri": "https://localhost:8080/"
        },
        "id": "c5MTgo1ZLNa4",
        "outputId": "ace7f543-ac3c-43a9-f53e-8e5832578745"
      },
      "source": [
        "password  = '414891120'\n",
        "\n",
        "input_pass = '414'\n",
        "if input_pass == password:\n",
        "  print('Welcome!')\n",
        "elif len(input_pass) > len(password):\n",
        "  print('Too long, try again!')\n",
        "elif len(input_pass) < len(password):\n",
        "  print('Too short, try again!')\n",
        "else:\n",
        "  print('Wrong password, try again!')"
      ],
      "execution_count": 86,
      "outputs": [
        {
          "output_type": "stream",
          "text": [
            "Too short, try again!\n"
          ],
          "name": "stdout"
        }
      ]
    },
    {
      "cell_type": "markdown",
      "metadata": {
        "id": "0tX0LI9iK516"
      },
      "source": [
        "QUIZ 1 หา min\n"
      ]
    },
    {
      "cell_type": "code",
      "metadata": {
        "id": "tmGX932aNfcS"
      },
      "source": [
        "list_ex = [1,5,9,-19,-2,0] # หาค่าน้อยที่สุดใน list_ex โดยไม่ใช้ function min (commit ก่อน 10.30 : QUIZ 1)"
      ],
      "execution_count": 93,
      "outputs": []
    },
    {
      "cell_type": "code",
      "metadata": {
        "colab": {
          "base_uri": "https://localhost:8080/"
        },
        "id": "MymQXgQjOc3f",
        "outputId": "91584933-45ed-4f50-e787-be2e33327e46"
      },
      "source": [
        "list_ex = [1,5,9,-19,-2,0]\n",
        "Q = list_ex[0] \n",
        "i = 0\n",
        "for m in list_ex: \n",
        "    if(m<Q): \n",
        "        Q = m \n",
        "        imin = i \n",
        "    i += 1\n",
        "print(min(list_ex))"
      ],
      "execution_count": 96,
      "outputs": [
        {
          "output_type": "stream",
          "text": [
            "-19\n"
          ],
          "name": "stdout"
        }
      ]
    },
    {
      "cell_type": "code",
      "metadata": {
        "id": "l-1AuFwhTFUu",
        "outputId": "9e4efa79-1c74-43e7-e664-1c49851ebcf5",
        "colab": {
          "base_uri": "https://localhost:8080/"
        }
      },
      "source": [
        "min = 100000000\n",
        "for i in list_ex:\n",
        "  if i < min:\n",
        "    min = i\n",
        "\n",
        "print(min)"
      ],
      "execution_count": 98,
      "outputs": [
        {
          "output_type": "stream",
          "text": [
            "-19\n"
          ],
          "name": "stdout"
        }
      ]
    },
    {
      "cell_type": "code",
      "metadata": {
        "colab": {
          "base_uri": "https://localhost:8080/"
        },
        "id": "7tAjfq8RPnCO",
        "outputId": "062f7dd0-2ca7-4d95-87e4-7718e857d5d7"
      },
      "source": [
        "min = 100000000\n",
        "print(list_ex)\n",
        "for i in list_ex:\n",
        "  print(f'now i = {1}, min = {min}')\n",
        "  if i < min:\n",
        "    print(f'i < min, update min -> {i}')\n",
        "    min = i\n",
        "  else:\n",
        "    print('i >= min, not update')\n",
        "  print('end condition, go to next i')\n",
        "\n",
        "print(min)"
      ],
      "execution_count": 100,
      "outputs": [
        {
          "output_type": "stream",
          "text": [
            "[1, 5, 9, -19, -2, 0]\n",
            "now i = 1, min = 100000000\n",
            "i < min, update min -> 1\n",
            "end condition, go to next i\n",
            "now i = 1, min = 1\n",
            "i >= min, not update\n",
            "end condition, go to next i\n",
            "now i = 1, min = 1\n",
            "i >= min, not update\n",
            "end condition, go to next i\n",
            "now i = 1, min = 1\n",
            "i < min, update min -> -19\n",
            "end condition, go to next i\n",
            "now i = 1, min = -19\n",
            "i >= min, not update\n",
            "end condition, go to next i\n",
            "now i = 1, min = -19\n",
            "i >= min, not update\n",
            "end condition, go to next i\n",
            "-19\n"
          ],
          "name": "stdout"
        }
      ]
    },
    {
      "cell_type": "markdown",
      "metadata": {
        "id": "YVV66NSAK-9Y"
      },
      "source": [
        "HW03 ตัดเกรด"
      ]
    },
    {
      "cell_type": "code",
      "metadata": {
        "id": "OcPLEx_zVv99"
      },
      "source": [
        "score = [49,65,70,95,82,55,89,20,77,77,81,59,10] # ตัดเกรด คะแนนใน list score (ใช้ if กับ for)"
      ],
      "execution_count": 101,
      "outputs": []
    },
    {
      "cell_type": "markdown",
      "metadata": {
        "id": "VMNCC-vaFaiT"
      },
      "source": [
        "# Function"
      ]
    },
    {
      "cell_type": "code",
      "metadata": {
        "id": "bbqkwYM_HPmq"
      },
      "source": [
        ""
      ],
      "execution_count": 65,
      "outputs": []
    }
  ]
}