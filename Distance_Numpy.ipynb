{
  "nbformat": 4,
  "nbformat_minor": 0,
  "metadata": {
    "colab": {
      "name": "Distance_Numpy.ipynb",
      "provenance": [],
      "authorship_tag": "ABX9TyMtGs/SNX8S+/D2u/bC0Xo6",
      "include_colab_link": true
    },
    "kernelspec": {
      "name": "python3",
      "display_name": "Python 3"
    },
    "language_info": {
      "name": "python"
    }
  },
  "cells": [
    {
      "cell_type": "markdown",
      "metadata": {
        "id": "view-in-github",
        "colab_type": "text"
      },
      "source": [
        "<a href=\"https://colab.research.google.com/github/PhinyadaPhen/DWDM21/blob/main/Distance_Numpy.ipynb\" target=\"_parent\"><img src=\"https://colab.research.google.com/assets/colab-badge.svg\" alt=\"Open In Colab\"/></a>"
      ]
    },
    {
      "cell_type": "code",
      "metadata": {
        "id": "wFQRoKlbcrtg"
      },
      "source": [
        "import numpy as np # package สำหรับทำงานกับข้อมูลที่เป็นตัวเลข (อยู่ในรูปแบบ matrix)"
      ],
      "execution_count": 1,
      "outputs": []
    },
    {
      "cell_type": "markdown",
      "metadata": {
        "id": "RsvrIL9pdcE-"
      },
      "source": [
        "#Numpy Array"
      ]
    },
    {
      "cell_type": "markdown",
      "metadata": {
        "id": "oDFAKVl2dkuM"
      },
      "source": [
        "สร้าง numpy array"
      ]
    },
    {
      "cell_type": "code",
      "metadata": {
        "id": "nN49o2zbdSw9"
      },
      "source": [
        "np_a = np.array([[1,2,3],[4,5,6]]) # สร้าง numpy array ที่มี 2 แถว 3 หลัก "
      ],
      "execution_count": 2,
      "outputs": []
    },
    {
      "cell_type": "code",
      "metadata": {
        "colab": {
          "base_uri": "https://localhost:8080/"
        },
        "id": "uVr_7gugd4rt",
        "outputId": "5b8d1864-576b-4613-a758-abb0c3bd6a49"
      },
      "source": [
        "np_a"
      ],
      "execution_count": 3,
      "outputs": [
        {
          "output_type": "execute_result",
          "data": {
            "text/plain": [
              "array([[1, 2, 3],\n",
              "       [4, 5, 6]])"
            ]
          },
          "metadata": {},
          "execution_count": 3
        }
      ]
    },
    {
      "cell_type": "code",
      "metadata": {
        "colab": {
          "base_uri": "https://localhost:8080/"
        },
        "id": "9pOwobYXd6Rd",
        "outputId": "a174d282-442f-405b-9612-fbf90ee4fef5"
      },
      "source": [
        "np_a.shape"
      ],
      "execution_count": 4,
      "outputs": [
        {
          "output_type": "execute_result",
          "data": {
            "text/plain": [
              "(2, 3)"
            ]
          },
          "metadata": {},
          "execution_count": 4
        }
      ]
    },
    {
      "cell_type": "code",
      "metadata": {
        "colab": {
          "base_uri": "https://localhost:8080/"
        },
        "id": "GbHplwgleLjz",
        "outputId": "58c36396-4713-495b-eda3-26932c6b5e99"
      },
      "source": [
        "np_b = np.array([[1,4],[2,5],[3,6]])\n",
        "np_b"
      ],
      "execution_count": 5,
      "outputs": [
        {
          "output_type": "execute_result",
          "data": {
            "text/plain": [
              "array([[1, 4],\n",
              "       [2, 5],\n",
              "       [3, 6]])"
            ]
          },
          "metadata": {},
          "execution_count": 5
        }
      ]
    },
    {
      "cell_type": "markdown",
      "metadata": {
        "id": "YszaxFyffAoO"
      },
      "source": [
        "## สร้าง matrix เริ่มต้น (Zeros,ones)"
      ]
    },
    {
      "cell_type": "code",
      "metadata": {
        "colab": {
          "base_uri": "https://localhost:8080/"
        },
        "id": "1po4NvE_etdF",
        "outputId": "37545b87-9b3e-407e-9a6c-b93465e1846e"
      },
      "source": [
        "np_z = np.zeros((4,5))\n",
        "np_z"
      ],
      "execution_count": 6,
      "outputs": [
        {
          "output_type": "execute_result",
          "data": {
            "text/plain": [
              "array([[0., 0., 0., 0., 0.],\n",
              "       [0., 0., 0., 0., 0.],\n",
              "       [0., 0., 0., 0., 0.],\n",
              "       [0., 0., 0., 0., 0.]])"
            ]
          },
          "metadata": {},
          "execution_count": 6
        }
      ]
    },
    {
      "cell_type": "code",
      "metadata": {
        "colab": {
          "base_uri": "https://localhost:8080/"
        },
        "id": "iuPO1jcKfe92",
        "outputId": "e3722ed7-8465-423b-d487-ff33fc974702"
      },
      "source": [
        "np_o = np.ones((5,6))\n",
        "np_o"
      ],
      "execution_count": 7,
      "outputs": [
        {
          "output_type": "execute_result",
          "data": {
            "text/plain": [
              "array([[1., 1., 1., 1., 1., 1.],\n",
              "       [1., 1., 1., 1., 1., 1.],\n",
              "       [1., 1., 1., 1., 1., 1.],\n",
              "       [1., 1., 1., 1., 1., 1.],\n",
              "       [1., 1., 1., 1., 1., 1.]])"
            ]
          },
          "metadata": {},
          "execution_count": 7
        }
      ]
    },
    {
      "cell_type": "code",
      "metadata": {
        "colab": {
          "base_uri": "https://localhost:8080/"
        },
        "id": "R_kfglDtf046",
        "outputId": "313258bb-9c23-40a5-f8b5-023756ef9277"
      },
      "source": [
        "np_200 = 200 * np.ones((4,7))\n",
        "np_200"
      ],
      "execution_count": 8,
      "outputs": [
        {
          "output_type": "execute_result",
          "data": {
            "text/plain": [
              "array([[200., 200., 200., 200., 200., 200., 200.],\n",
              "       [200., 200., 200., 200., 200., 200., 200.],\n",
              "       [200., 200., 200., 200., 200., 200., 200.],\n",
              "       [200., 200., 200., 200., 200., 200., 200.]])"
            ]
          },
          "metadata": {},
          "execution_count": 8
        }
      ]
    },
    {
      "cell_type": "markdown",
      "metadata": {
        "id": "XqTga2h5gbEz"
      },
      "source": [
        "## สร้าง matrix randoom"
      ]
    },
    {
      "cell_type": "code",
      "metadata": {
        "colab": {
          "base_uri": "https://localhost:8080/"
        },
        "id": "0GX87tk7gMni",
        "outputId": "40a23a12-d172-49fa-ac58-f67a1f41c308"
      },
      "source": [
        "np.random.randn(5,5) # randoom เลขมาจาก normal distribution ที่มี mu=0 std=1"
      ],
      "execution_count": 9,
      "outputs": [
        {
          "output_type": "execute_result",
          "data": {
            "text/plain": [
              "array([[ 0.98602972,  1.09392797, -1.59430782, -0.79900299,  0.90306401],\n",
              "       [ 0.16786709,  0.36959819, -1.60085574, -0.23625232,  0.98331529],\n",
              "       [ 0.3493704 ,  0.19358178, -0.76727193, -0.56442074, -1.25524751],\n",
              "       [-0.86648881,  0.93073697, -0.9903553 ,  0.48775385, -0.70639197],\n",
              "       [-0.79196495,  0.48386479,  1.1320756 , -1.02476673, -0.4100534 ]])"
            ]
          },
          "metadata": {},
          "execution_count": 9
        }
      ]
    },
    {
      "cell_type": "code",
      "metadata": {
        "colab": {
          "base_uri": "https://localhost:8080/"
        },
        "id": "TUPnibTTgvxi",
        "outputId": "4dd9a03d-fecc-4b46-9879-b01169c465e4"
      },
      "source": [
        "2 + (5*np.random.randn(3,3)) # randoom เลขมาจาก normal distribution ที่มี mu=2 std=5"
      ],
      "execution_count": 10,
      "outputs": [
        {
          "output_type": "execute_result",
          "data": {
            "text/plain": [
              "array([[-3.83058558, -6.8342214 ,  6.06080296],\n",
              "       [-1.08706641,  1.24341314,  2.82077616],\n",
              "       [-8.66106389,  0.04440961,  4.80855519]])"
            ]
          },
          "metadata": {},
          "execution_count": 10
        }
      ]
    },
    {
      "cell_type": "code",
      "metadata": {
        "colab": {
          "base_uri": "https://localhost:8080/"
        },
        "id": "Wq5xykduhehE",
        "outputId": "7d6d1811-ef1b-4096-cbfe-bc419dcbc580"
      },
      "source": [
        "np.random.randint(5,11,(4,5)) # random เลขจำนวนเต็ม ระหว่าง [5,11) ขนาด (4,5)"
      ],
      "execution_count": 11,
      "outputs": [
        {
          "output_type": "execute_result",
          "data": {
            "text/plain": [
              "array([[8, 7, 9, 9, 6],\n",
              "       [7, 8, 6, 8, 7],\n",
              "       [7, 8, 7, 9, 8],\n",
              "       [9, 9, 6, 7, 7]])"
            ]
          },
          "metadata": {},
          "execution_count": 11
        }
      ]
    },
    {
      "cell_type": "markdown",
      "metadata": {
        "id": "6CzVLMCAep2T"
      },
      "source": [
        "## matrix properties"
      ]
    },
    {
      "cell_type": "code",
      "metadata": {
        "id": "gP3kFRkcOj3T",
        "colab": {
          "base_uri": "https://localhost:8080/"
        },
        "outputId": "75fec7ac-54c5-4b05-f0a1-caf0ac06fbbb"
      },
      "source": [
        "np_a"
      ],
      "execution_count": 12,
      "outputs": [
        {
          "output_type": "execute_result",
          "data": {
            "text/plain": [
              "array([[1, 2, 3],\n",
              "       [4, 5, 6]])"
            ]
          },
          "metadata": {},
          "execution_count": 12
        }
      ]
    },
    {
      "cell_type": "code",
      "metadata": {
        "colab": {
          "base_uri": "https://localhost:8080/"
        },
        "id": "aHHuUsrgebcD",
        "outputId": "55167274-1486-4c2a-fe36-a5c8e2b93d11"
      },
      "source": [
        "np_a.T # transpose"
      ],
      "execution_count": 13,
      "outputs": [
        {
          "output_type": "execute_result",
          "data": {
            "text/plain": [
              "array([[1, 4],\n",
              "       [2, 5],\n",
              "       [3, 6]])"
            ]
          },
          "metadata": {},
          "execution_count": 13
        }
      ]
    },
    {
      "cell_type": "code",
      "metadata": {
        "id": "jWSF10I5hkf-",
        "colab": {
          "base_uri": "https://localhost:8080/"
        },
        "outputId": "30174396-7d2a-4c88-b016-fa8fecb004cf"
      },
      "source": [
        "1 + np_a # add scalar to matrix (มีแต่ขนาด)"
      ],
      "execution_count": 14,
      "outputs": [
        {
          "output_type": "execute_result",
          "data": {
            "text/plain": [
              "array([[2, 3, 4],\n",
              "       [5, 6, 7]])"
            ]
          },
          "metadata": {},
          "execution_count": 14
        }
      ]
    },
    {
      "cell_type": "code",
      "metadata": {
        "id": "tnpN1R7LO3g0",
        "colab": {
          "base_uri": "https://localhost:8080/"
        },
        "outputId": "994ffd5c-e81e-4f91-8c60-3158904e8cee"
      },
      "source": [
        "2 *np_a # multiply scalar to matrix"
      ],
      "execution_count": 15,
      "outputs": [
        {
          "output_type": "execute_result",
          "data": {
            "text/plain": [
              "array([[ 2,  4,  6],\n",
              "       [ 8, 10, 12]])"
            ]
          },
          "metadata": {},
          "execution_count": 15
        }
      ]
    },
    {
      "cell_type": "code",
      "metadata": {
        "id": "Yub2NhGmPOBd",
        "colab": {
          "base_uri": "https://localhost:8080/"
        },
        "outputId": "6f7802dc-90c7-47ba-b4f2-95cdeaf0d434"
      },
      "source": [
        "np_c = np.array([[6,5,4],[3,2,1]])\n",
        "np_c"
      ],
      "execution_count": 16,
      "outputs": [
        {
          "output_type": "execute_result",
          "data": {
            "text/plain": [
              "array([[6, 5, 4],\n",
              "       [3, 2, 1]])"
            ]
          },
          "metadata": {},
          "execution_count": 16
        }
      ]
    },
    {
      "cell_type": "code",
      "metadata": {
        "id": "R0WYw03RPG3K",
        "colab": {
          "base_uri": "https://localhost:8080/"
        },
        "outputId": "6766c8dd-081b-4a4f-df3f-e476f5d18094"
      },
      "source": [
        "np_a + np_c # adding matrix to matrix"
      ],
      "execution_count": 17,
      "outputs": [
        {
          "output_type": "execute_result",
          "data": {
            "text/plain": [
              "array([[7, 7, 7],\n",
              "       [7, 7, 7]])"
            ]
          },
          "metadata": {},
          "execution_count": 17
        }
      ]
    },
    {
      "cell_type": "code",
      "metadata": {
        "id": "aN84khrmPK9c",
        "colab": {
          "base_uri": "https://localhost:8080/"
        },
        "outputId": "e5fde081-ed2a-49fb-a477-c6409bcb67bf"
      },
      "source": [
        "np_a.shape"
      ],
      "execution_count": 18,
      "outputs": [
        {
          "output_type": "execute_result",
          "data": {
            "text/plain": [
              "(2, 3)"
            ]
          },
          "metadata": {},
          "execution_count": 18
        }
      ]
    },
    {
      "cell_type": "code",
      "metadata": {
        "id": "xfuJ_1IrQD-D",
        "colab": {
          "base_uri": "https://localhost:8080/"
        },
        "outputId": "2beea8ac-7b89-4a4b-b5f3-eac8cfa69fd5"
      },
      "source": [
        "np_c.shape"
      ],
      "execution_count": 19,
      "outputs": [
        {
          "output_type": "execute_result",
          "data": {
            "text/plain": [
              "(2, 3)"
            ]
          },
          "metadata": {},
          "execution_count": 19
        }
      ]
    },
    {
      "cell_type": "code",
      "metadata": {
        "id": "o5mDtI-MQpMk",
        "colab": {
          "base_uri": "https://localhost:8080/"
        },
        "outputId": "b069b950-90fc-4d4c-e941-e10cffc5255f"
      },
      "source": [
        "np_c.T"
      ],
      "execution_count": 20,
      "outputs": [
        {
          "output_type": "execute_result",
          "data": {
            "text/plain": [
              "array([[6, 3],\n",
              "       [5, 2],\n",
              "       [4, 1]])"
            ]
          },
          "metadata": {},
          "execution_count": 20
        }
      ]
    },
    {
      "cell_type": "markdown",
      "metadata": {
        "id": "05THecqWROLH"
      },
      "source": [
        "![image.png](data:image/png;base64,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)"
      ]
    },
    {
      "cell_type": "code",
      "metadata": {
        "id": "HDGAEperQGGj",
        "colab": {
          "base_uri": "https://localhost:8080/"
        },
        "outputId": "54046fc0-bf39-458c-f877-75ae0eda086d"
      },
      "source": [
        "np.dot(np_a,np_c.T) # multipling matrix to matrix (a,b) * (b,c) = (a,c) "
      ],
      "execution_count": 21,
      "outputs": [
        {
          "output_type": "execute_result",
          "data": {
            "text/plain": [
              "array([[28, 10],\n",
              "       [73, 28]])"
            ]
          },
          "metadata": {},
          "execution_count": 21
        }
      ]
    },
    {
      "cell_type": "markdown",
      "metadata": {
        "id": "5mgmqHfnRQIC"
      },
      "source": [
        "## Indexing & Slicing"
      ]
    },
    {
      "cell_type": "markdown",
      "metadata": {
        "id": "pqAqoly2jdTB"
      },
      "source": [
        "ชี้ตัวที่เป็นค่าใน matrix อย่างไร"
      ]
    },
    {
      "cell_type": "code",
      "metadata": {
        "id": "XKp8Fl1FQcyT",
        "colab": {
          "base_uri": "https://localhost:8080/"
        },
        "outputId": "f2edcb34-a010-42c9-9e18-e00726814b45"
      },
      "source": [
        "np_a"
      ],
      "execution_count": 22,
      "outputs": [
        {
          "output_type": "execute_result",
          "data": {
            "text/plain": [
              "array([[1, 2, 3],\n",
              "       [4, 5, 6]])"
            ]
          },
          "metadata": {},
          "execution_count": 22
        }
      ]
    },
    {
      "cell_type": "code",
      "metadata": {
        "id": "5OZ-EbxYRk9L",
        "colab": {
          "base_uri": "https://localhost:8080/"
        },
        "outputId": "4054c260-66e4-4ad2-bdbc-2737c33379f4"
      },
      "source": [
        "np_a[1,1] # แถว,หลัก เริ่มที่ 0"
      ],
      "execution_count": 23,
      "outputs": [
        {
          "output_type": "execute_result",
          "data": {
            "text/plain": [
              "5"
            ]
          },
          "metadata": {},
          "execution_count": 23
        }
      ]
    },
    {
      "cell_type": "code",
      "metadata": {
        "id": "-2w-HeUAR9w8",
        "colab": {
          "base_uri": "https://localhost:8080/"
        },
        "outputId": "03c50bf2-a20c-4cef-feaa-e01b89d91cbc"
      },
      "source": [
        "np_a[:2,:2]"
      ],
      "execution_count": 24,
      "outputs": [
        {
          "output_type": "execute_result",
          "data": {
            "text/plain": [
              "array([[1, 2],\n",
              "       [4, 5]])"
            ]
          },
          "metadata": {},
          "execution_count": 24
        }
      ]
    },
    {
      "cell_type": "code",
      "metadata": {
        "id": "2R8E-MlBSUuj",
        "colab": {
          "base_uri": "https://localhost:8080/"
        },
        "outputId": "738d1bfd-6292-4961-a553-c8f023b97cea"
      },
      "source": [
        "np_a[0,:] "
      ],
      "execution_count": 25,
      "outputs": [
        {
          "output_type": "execute_result",
          "data": {
            "text/plain": [
              "array([1, 2, 3])"
            ]
          },
          "metadata": {},
          "execution_count": 25
        }
      ]
    },
    {
      "cell_type": "markdown",
      "metadata": {
        "id": "nONy8ePDSncy"
      },
      "source": [
        "## Useful functions"
      ]
    },
    {
      "cell_type": "code",
      "metadata": {
        "id": "6WL2RmulS4Zb",
        "colab": {
          "base_uri": "https://localhost:8080/"
        },
        "outputId": "afbf015c-cc4b-452b-b621-839f46255b9e"
      },
      "source": [
        "np_a"
      ],
      "execution_count": 26,
      "outputs": [
        {
          "output_type": "execute_result",
          "data": {
            "text/plain": [
              "array([[1, 2, 3],\n",
              "       [4, 5, 6]])"
            ]
          },
          "metadata": {},
          "execution_count": 26
        }
      ]
    },
    {
      "cell_type": "code",
      "metadata": {
        "id": "5NmNe7HUSYgK",
        "colab": {
          "base_uri": "https://localhost:8080/"
        },
        "outputId": "0b9739b4-993c-4e62-c8b8-978f2f502e0f"
      },
      "source": [
        "np.sum(np_a) # การรวมเลข "
      ],
      "execution_count": 27,
      "outputs": [
        {
          "output_type": "execute_result",
          "data": {
            "text/plain": [
              "21"
            ]
          },
          "metadata": {},
          "execution_count": 27
        }
      ]
    },
    {
      "cell_type": "code",
      "metadata": {
        "id": "cSr0lH61Sz5k",
        "colab": {
          "base_uri": "https://localhost:8080/"
        },
        "outputId": "fa990ca8-e5a7-404b-aaab-856f72666f08"
      },
      "source": [
        "np.sum(np_a,axis=0) # axis=0 คือ การรวมเลขในแต่ละแถว"
      ],
      "execution_count": 28,
      "outputs": [
        {
          "output_type": "execute_result",
          "data": {
            "text/plain": [
              "array([5, 7, 9])"
            ]
          },
          "metadata": {},
          "execution_count": 28
        }
      ]
    },
    {
      "cell_type": "code",
      "metadata": {
        "id": "llyM6FXPUonF",
        "colab": {
          "base_uri": "https://localhost:8080/"
        },
        "outputId": "d4273a6c-3a5c-4958-ed3d-85e176f29be3"
      },
      "source": [
        "np.sum(np_a,axis=1) # axis=1 คือ การรวมเลขในแต่ละหลัก"
      ],
      "execution_count": 29,
      "outputs": [
        {
          "output_type": "execute_result",
          "data": {
            "text/plain": [
              "array([ 6, 15])"
            ]
          },
          "metadata": {},
          "execution_count": 29
        }
      ]
    },
    {
      "cell_type": "code",
      "metadata": {
        "id": "6fdgDVhPTA5j",
        "colab": {
          "base_uri": "https://localhost:8080/"
        },
        "outputId": "13722241-5b79-4532-d3e0-cf56229a4784"
      },
      "source": [
        "np.mean(np_a)"
      ],
      "execution_count": 30,
      "outputs": [
        {
          "output_type": "execute_result",
          "data": {
            "text/plain": [
              "3.5"
            ]
          },
          "metadata": {},
          "execution_count": 30
        }
      ]
    },
    {
      "cell_type": "code",
      "metadata": {
        "id": "iFApoxnKTdla",
        "colab": {
          "base_uri": "https://localhost:8080/"
        },
        "outputId": "1d2f03ea-315f-4b52-9254-bb0c2cec6ed9"
      },
      "source": [
        "np.mean(np_a,axis=0) # หา mean ของ column"
      ],
      "execution_count": 31,
      "outputs": [
        {
          "output_type": "execute_result",
          "data": {
            "text/plain": [
              "array([2.5, 3.5, 4.5])"
            ]
          },
          "metadata": {},
          "execution_count": 31
        }
      ]
    },
    {
      "cell_type": "markdown",
      "metadata": {
        "id": "keAgY5ymUtp3"
      },
      "source": [
        "### วนลูปเอง \n",
        "\n",
        "(กรณีจำ function ไม่ได้)"
      ]
    },
    {
      "cell_type": "markdown",
      "metadata": {
        "id": "onhKw_7CVAAV"
      },
      "source": [
        "#### summation"
      ]
    },
    {
      "cell_type": "code",
      "metadata": {
        "id": "i5QHGnf9VSFO",
        "colab": {
          "base_uri": "https://localhost:8080/"
        },
        "outputId": "6adb043c-843e-4180-f987-3c6abc0201c2"
      },
      "source": [
        "np_a.shape"
      ],
      "execution_count": 32,
      "outputs": [
        {
          "output_type": "execute_result",
          "data": {
            "text/plain": [
              "(2, 3)"
            ]
          },
          "metadata": {},
          "execution_count": 32
        }
      ]
    },
    {
      "cell_type": "markdown",
      "metadata": {
        "id": "2_ISvBitWtLi"
      },
      "source": [
        "```np.sum(np_a)```"
      ]
    },
    {
      "cell_type": "code",
      "metadata": {
        "id": "xI6Z1yURU_g4",
        "colab": {
          "base_uri": "https://localhost:8080/"
        },
        "outputId": "91d136df-dd02-4990-aad7-df3f21c1f594"
      },
      "source": [
        "sum_all = 0 \n",
        "\n",
        "for row in range(np_a.shape[0]):\n",
        "    for col in range(np_a.shape[1]):\n",
        "        sum_all = sum_all + np_a[row,col]\n",
        "        print(f'we are at row={row},col={col}  np_a[{row},{col}]={np_a[row,col]} sum_all=|{sum_all}')\n",
        "print(sum_all)"
      ],
      "execution_count": 33,
      "outputs": [
        {
          "output_type": "stream",
          "name": "stdout",
          "text": [
            "we are at row=0,col=0  np_a[0,0]=1 sum_all=|1\n",
            "we are at row=0,col=1  np_a[0,1]=2 sum_all=|3\n",
            "we are at row=0,col=2  np_a[0,2]=3 sum_all=|6\n",
            "we are at row=1,col=0  np_a[1,0]=4 sum_all=|10\n",
            "we are at row=1,col=1  np_a[1,1]=5 sum_all=|15\n",
            "we are at row=1,col=2  np_a[1,2]=6 sum_all=|21\n",
            "21\n"
          ]
        }
      ]
    },
    {
      "cell_type": "markdown",
      "metadata": {
        "id": "i2BCDl51W6pW"
      },
      "source": [
        "```np.sum(np_a,axis=0)```"
      ]
    },
    {
      "cell_type": "code",
      "metadata": {
        "id": "NDcvLEOaT0M7",
        "colab": {
          "base_uri": "https://localhost:8080/"
        },
        "outputId": "15d0b158-665c-4bbb-cd9a-7224bebfa299"
      },
      "source": [
        "sum_all = np.zeros(np_a.shape[1]) \n",
        "\n",
        "for row in range(np_a.shape[0]):\n",
        "    for col in range(np_a.shape[1]):\n",
        "        sum_all[col] = sum_all[col] + np_a[row,col]\n",
        "print(sum_all)"
      ],
      "execution_count": 34,
      "outputs": [
        {
          "output_type": "stream",
          "name": "stdout",
          "text": [
            "[5. 7. 9.]\n"
          ]
        }
      ]
    },
    {
      "cell_type": "markdown",
      "metadata": {
        "id": "BX36-QvTYwBA"
      },
      "source": [
        "Quiz กลุ่ม\n",
        "\n",
        "วนลูปหาค่า\n",
        "\n",
        "*```np.max(np_a,axis=1)```"
      ]
    },
    {
      "cell_type": "code",
      "metadata": {
        "id": "Admo4q8aid1x"
      },
      "source": [
        "import numpy as np"
      ],
      "execution_count": 35,
      "outputs": []
    },
    {
      "cell_type": "code",
      "metadata": {
        "id": "RoShkf13nb5p",
        "colab": {
          "base_uri": "https://localhost:8080/"
        },
        "outputId": "a05d58e7-c42e-4c39-a202-d57ae93cabd2"
      },
      "source": [
        "np_a"
      ],
      "execution_count": 36,
      "outputs": [
        {
          "output_type": "execute_result",
          "data": {
            "text/plain": [
              "array([[1, 2, 3],\n",
              "       [4, 5, 6]])"
            ]
          },
          "metadata": {},
          "execution_count": 36
        }
      ]
    },
    {
      "cell_type": "code",
      "metadata": {
        "id": "z9UVbG2IoF_E",
        "colab": {
          "base_uri": "https://localhost:8080/"
        },
        "outputId": "650d69a8-ff4e-4242-b2ef-3a4aa6025e34"
      },
      "source": [
        "max"
      ],
      "execution_count": 37,
      "outputs": [
        {
          "output_type": "execute_result",
          "data": {
            "text/plain": [
              "<function max>"
            ]
          },
          "metadata": {},
          "execution_count": 37
        }
      ]
    },
    {
      "cell_type": "code",
      "metadata": {
        "id": "neiajah5XmJy",
        "colab": {
          "base_uri": "https://localhost:8080/"
        },
        "outputId": "6b531208-ae5f-4526-eace-50f2009ca5f9"
      },
      "source": [
        "# np.max(np_a,axis=1)\n",
        "max_all = np.zeros(np_a.shape[0])\n",
        "\n",
        "for col in range(np_a.shape[1]):\n",
        "    for row in range(np_a.shape[0]):\n",
        "        max_all[row] = max(np_a[row,:])\n",
        "\n",
        "print(max_all)"
      ],
      "execution_count": 38,
      "outputs": [
        {
          "output_type": "stream",
          "name": "stdout",
          "text": [
            "[3. 6.]\n"
          ]
        }
      ]
    },
    {
      "cell_type": "code",
      "metadata": {
        "id": "xZ9oSR56drwK",
        "colab": {
          "base_uri": "https://localhost:8080/"
        },
        "outputId": "0d3f80c2-d3f7-427c-f958-47b3d671f0b4"
      },
      "source": [
        "#np.mean(np_a,axis=0)\n",
        "mean_all = np.zeros(np_a.shape[1])\n",
        "for row in range(np_a.shape[0]):\n",
        "     for col in range(np_a.shape[1]):\n",
        "          mean_all[col] = mean_all[col] + np_a[row,col]/np_a.shape[0]\n",
        "print(mean_all)"
      ],
      "execution_count": 39,
      "outputs": [
        {
          "output_type": "stream",
          "name": "stdout",
          "text": [
            "[2.5 3.5 4.5]\n"
          ]
        }
      ]
    },
    {
      "cell_type": "code",
      "metadata": {
        "id": "hiz1xxgHtohX",
        "colab": {
          "base_uri": "https://localhost:8080/"
        },
        "outputId": "7261ce7a-448a-4a58-eed0-e4b4c789e259"
      },
      "source": [
        "\n",
        "#np.mean(np_a,axis=1)\n",
        "sum_all = np.zeros(np_a.shape[0])\n",
        "for row in range(np_a.shape[0]):\n",
        "    for col in range(np_a.shape[1]): \n",
        "        sum_all[row] = sum_all[row] + np_a[row,col]\n",
        "sum_all = sum_all/np_a.shape[1]\n",
        "print(sum_all)"
      ],
      "execution_count": 40,
      "outputs": [
        {
          "output_type": "stream",
          "name": "stdout",
          "text": [
            "[2. 5.]\n"
          ]
        }
      ]
    },
    {
      "cell_type": "code",
      "metadata": {
        "id": "YkxmVfAZtqeT",
        "colab": {
          "base_uri": "https://localhost:8080/"
        },
        "outputId": "038a5d22-b5b6-4de0-8ea3-2b85b09984fc"
      },
      "source": [
        "#np.max(np_a)\n",
        "max_a = -100000000\n",
        "for row in range(np_a.shape[0]):\n",
        "    for col in range(np_a.shape[1]):\n",
        "        if np_a[row,col] > max_a :\n",
        "            max_a = np_a[row,col]\n",
        "print(max_a)"
      ],
      "execution_count": 41,
      "outputs": [
        {
          "output_type": "stream",
          "name": "stdout",
          "text": [
            "6\n"
          ]
        }
      ]
    },
    {
      "cell_type": "code",
      "metadata": {
        "id": "ngIMOTKDtsue",
        "colab": {
          "base_uri": "https://localhost:8080/"
        },
        "outputId": "e67f326b-b340-49dd-dc12-73016a658edf"
      },
      "source": [
        "### 10. np.min(np_a,axis=1)\n",
        "min_row = np.zeros(np_a.shape[0])\n",
        "for row in range(np_a.shape[0]):\n",
        "   min_row[row] = min(np_a[row,:])\n",
        "print(min_row)"
      ],
      "execution_count": 42,
      "outputs": [
        {
          "output_type": "stream",
          "name": "stdout",
          "text": [
            "[1. 4.]\n"
          ]
        }
      ]
    },
    {
      "cell_type": "code",
      "metadata": {
        "id": "OYpiQq0ktvXF",
        "colab": {
          "base_uri": "https://localhost:8080/"
        },
        "outputId": "7ee4c6d0-900b-4c4c-e02c-71bf9a423fc6"
      },
      "source": [
        "# np.min(np_a,axis=0)\n",
        "min_all = np.zeros(np_a.shape[1])\n",
        "\n",
        "for col in range(np_a.shape[1]):\n",
        "    min_all[col] = min(np_a[:,col])\n",
        "print(min_all)"
      ],
      "execution_count": 43,
      "outputs": [
        {
          "output_type": "stream",
          "name": "stdout",
          "text": [
            "[1. 2. 3.]\n"
          ]
        }
      ]
    },
    {
      "cell_type": "code",
      "metadata": {
        "id": "ExCBQL1otxMt",
        "colab": {
          "base_uri": "https://localhost:8080/"
        },
        "outputId": "236424da-f576-4824-fe94-08006abb4ddd"
      },
      "source": [
        "# np.min(np_a)  ลูกหมี\n",
        "minV = 100000\n",
        "for row in range(np_a.shape[0]):\n",
        "    for col in range(np_a.shape[1]):\n",
        "        if np_a[row,col] < minV:\n",
        "            minV = np_a[row,col]\n",
        "print(minV)"
      ],
      "execution_count": 44,
      "outputs": [
        {
          "output_type": "stream",
          "name": "stdout",
          "text": [
            "1\n"
          ]
        }
      ]
    },
    {
      "cell_type": "code",
      "metadata": {
        "id": "3TOyiQWOty1D",
        "colab": {
          "base_uri": "https://localhost:8080/"
        },
        "outputId": "dd9b18dc-b6e6-4fc1-ec06-4b1e5aa936ee"
      },
      "source": [
        "# np.max(np_a,axis=0)\n",
        "max_all = -100000 * np.ones(np_a.shape[1])\n",
        "for col in range(np_a.shape[1]):\n",
        "    for row in range(np_a.shape[0]):\n",
        "        if np_a[row,col] > max_all[col]: \n",
        "            max_all[col] = np_a[row,col]\n",
        "print(max_all)"
      ],
      "execution_count": 45,
      "outputs": [
        {
          "output_type": "stream",
          "name": "stdout",
          "text": [
            "[4. 5. 6.]\n"
          ]
        }
      ]
    },
    {
      "cell_type": "code",
      "metadata": {
        "id": "tZ086Vlct1XE",
        "colab": {
          "base_uri": "https://localhost:8080/"
        },
        "outputId": "f722c69a-92ec-4083-db0e-999ed158a33f"
      },
      "source": [
        "#np.mean(np_a)\n",
        "mean_all = 0\n",
        "for row in range(np_a.shape[0]):\n",
        "    for col in range(np_a.shape[1]):\n",
        "        mean_all = mean_all + np_a[row,col]\n",
        "mean_all = mean_all/(np_a.shape[0]*np_a.shape[1])\n",
        "print(mean_all)"
      ],
      "execution_count": 46,
      "outputs": [
        {
          "output_type": "stream",
          "name": "stdout",
          "text": [
            "3.5\n"
          ]
        }
      ]
    },
    {
      "cell_type": "markdown",
      "metadata": {
        "id": "gTy13ypVYj2i"
      },
      "source": [
        "# Distance Matrix"
      ]
    },
    {
      "cell_type": "code",
      "metadata": {
        "id": "3V0_owZkt24k",
        "colab": {
          "base_uri": "https://localhost:8080/"
        },
        "outputId": "cf92ee4d-134b-422f-9410-c039709cf6cc"
      },
      "source": [
        "data1 = np.array([[1,2],[3,5],[2,0],[4,5]])\n",
        "data1"
      ],
      "execution_count": 47,
      "outputs": [
        {
          "output_type": "execute_result",
          "data": {
            "text/plain": [
              "array([[1, 2],\n",
              "       [3, 5],\n",
              "       [2, 0],\n",
              "       [4, 5]])"
            ]
          },
          "metadata": {},
          "execution_count": 47
        }
      ]
    },
    {
      "cell_type": "code",
      "metadata": {
        "colab": {
          "base_uri": "https://localhost:8080/",
          "height": 282
        },
        "id": "6iq1TaeAY_zX",
        "outputId": "52f523d0-7016-4c92-fe50-9beb8956c194"
      },
      "source": [
        "from matplotlib import pyplot as plt \n",
        "plt.scatter(data1[:,0],data1[:,1])"
      ],
      "execution_count": 48,
      "outputs": [
        {
          "output_type": "execute_result",
          "data": {
            "text/plain": [
              "<matplotlib.collections.PathCollection at 0x7f596f8f4d90>"
            ]
          },
          "metadata": {},
          "execution_count": 48
        },
        {
          "output_type": "display_data",
          "data": {
            "image/png": "[encoded data removed]",
            "text/plain": [
              "<Figure size 432x288 with 1 Axes>"
            ]
          },
          "metadata": {
            "needs_background": "light"
          }
        }
      ]
    },
    {
      "cell_type": "markdown",
      "metadata": {
        "id": "wabT2ZcCabF8"
      },
      "source": [
        "## Euclidean Distance (L2-norm)\n",
        "$\\sqrt{(x_1-x_2)^2+(y_1-y_2)^2}$"
      ]
    },
    {
      "cell_type": "markdown",
      "metadata": {
        "id": "BTVLB1ImeJWs"
      },
      "source": [
        "dist(P1,P2) # คำนวณระยะห่างระหว่างจุด\n",
        " สูตรคำนวณ Distance\n"
      ]
    },
    {
      "cell_type": "code",
      "metadata": {
        "colab": {
          "base_uri": "https://localhost:8080/"
        },
        "id": "eiAvg18fZ6MD",
        "outputId": "b2d8f232-0c2b-4bd2-e9a0-f5b4305c0375"
      },
      "source": [
        "dist_p1_p2 = np.sqrt(np.power(data1[0,0]-data1[1,0],2)+np.power(data1[0,1]-data1[1,1],2))\n",
        "dist_p1_p2"
      ],
      "execution_count": 49,
      "outputs": [
        {
          "output_type": "execute_result",
          "data": {
            "text/plain": [
              "3.605551275463989"
            ]
          },
          "metadata": {},
          "execution_count": 49
        }
      ]
    },
    {
      "cell_type": "code",
      "metadata": {
        "colab": {
          "base_uri": "https://localhost:8080/"
        },
        "id": "QiXKDF2MdRKh",
        "outputId": "10f2fee6-38b3-4333-8877-806d91c3f407"
      },
      "source": [
        "dist_p1_p2 = np.power(np.power(data1[0,0]-data1[1,0],2)+np.power(data1[0,1]-data1[1,1],2),0.5)\n",
        "dist_p1_p2"
      ],
      "execution_count": 50,
      "outputs": [
        {
          "output_type": "execute_result",
          "data": {
            "text/plain": [
              "3.605551275463989"
            ]
          },
          "metadata": {},
          "execution_count": 50
        }
      ]
    },
    {
      "cell_type": "markdown",
      "metadata": {
        "id": "gGIzGt0SeUcB"
      },
      "source": [
        "dist(P2,P4)"
      ]
    },
    {
      "cell_type": "code",
      "metadata": {
        "colab": {
          "base_uri": "https://localhost:8080/"
        },
        "id": "QRZnTrjydzeW",
        "outputId": "12c1a736-2ead-4753-ab16-7f2406620436"
      },
      "source": [
        "dist_p2_p4 = np.sqrt(np.power(data1[1,0]-data1[3,0],2)+np.power(data1[1,1]-data1[3,1],2))\n",
        "dist_p2_p4"
      ],
      "execution_count": 51,
      "outputs": [
        {
          "output_type": "execute_result",
          "data": {
            "text/plain": [
              "1.0"
            ]
          },
          "metadata": {},
          "execution_count": 51
        }
      ]
    },
    {
      "cell_type": "markdown",
      "metadata": {
        "id": "qgfh-lvCf9ri"
      },
      "source": [
        "## Distance function"
      ]
    },
    {
      "cell_type": "markdown",
      "metadata": {
        "id": "aVR3dlCxgxrB"
      },
      "source": [
        "p1 = [x,y]"
      ]
    },
    {
      "cell_type": "markdown",
      "metadata": {
        "id": "d_0aI6Wjh5nh"
      },
      "source": [
        "dim = 2"
      ]
    },
    {
      "cell_type": "code",
      "metadata": {
        "id": "hP5he00hfhV8"
      },
      "source": [
        "def dist_l2_2(p1,p2):\n",
        "    return np.sqrt(np.power(p1[0]-p2[0],2)+np.power(p1[1]-p2[1],2))"
      ],
      "execution_count": 52,
      "outputs": []
    },
    {
      "cell_type": "code",
      "metadata": {
        "colab": {
          "base_uri": "https://localhost:8080/"
        },
        "id": "eu_kF5dgg7a5",
        "outputId": "04bc954a-b0b1-4bb9-a203-ff95c192a605"
      },
      "source": [
        "dist_l2_2(data1[0,:],data1[1,:])"
      ],
      "execution_count": 53,
      "outputs": [
        {
          "output_type": "execute_result",
          "data": {
            "text/plain": [
              "3.605551275463989"
            ]
          },
          "metadata": {},
          "execution_count": 53
        }
      ]
    },
    {
      "cell_type": "code",
      "metadata": {
        "colab": {
          "base_uri": "https://localhost:8080/"
        },
        "id": "c-Y-qeikhIu5",
        "outputId": "9905eeba-ded2-4155-fd13-b4d893144841"
      },
      "source": [
        "dist_l2_2(data1[1,:],data1[3,:])"
      ],
      "execution_count": 54,
      "outputs": [
        {
          "output_type": "execute_result",
          "data": {
            "text/plain": [
              "1.0"
            ]
          },
          "metadata": {},
          "execution_count": 54
        }
      ]
    },
    {
      "cell_type": "markdown",
      "metadata": {
        "id": "s-PP6rQmh81z"
      },
      "source": [
        "dim = n"
      ]
    },
    {
      "cell_type": "code",
      "metadata": {
        "id": "q_i6zYC8hRB2"
      },
      "source": [
        "def dist_l2_n(p1,p2):\n",
        "    sum = 0\n",
        "    for i in range(len(p1)):\n",
        "        sum = sum + np.power(p1[i]-p2[i],2)\n",
        "    return np.sqrt(np.power(p1[0]-p2[0],2)+np.power(p1[1]-p2[1],2))"
      ],
      "execution_count": 55,
      "outputs": []
    },
    {
      "cell_type": "code",
      "metadata": {
        "colab": {
          "base_uri": "https://localhost:8080/"
        },
        "id": "RMWp2gHCj1N2",
        "outputId": "e815a305-349a-45a2-d7a5-2b7ac38b5124"
      },
      "source": [
        "dist_l2_n(data1[0,:],data1[1,:])"
      ],
      "execution_count": 56,
      "outputs": [
        {
          "output_type": "execute_result",
          "data": {
            "text/plain": [
              "3.605551275463989"
            ]
          },
          "metadata": {},
          "execution_count": 56
        }
      ]
    },
    {
      "cell_type": "markdown",
      "metadata": {
        "id": "A6B7M-5RkPkQ"
      },
      "source": [
        "## Manhattan Distance (L1-norm)\n",
        "$|x_1-x_2|+|y_1-y_2|$"
      ]
    },
    {
      "cell_type": "markdown",
      "metadata": {
        "id": "r7iKG0rqkg6R"
      },
      "source": [
        "Quiz 6 เขียน function คำนวณ manhattance distance ของ ข้อมูล 2 dimensions"
      ]
    },
    {
      "cell_type": "code",
      "metadata": {
        "id": "9ulXzuUrkC9L"
      },
      "source": [
        "def dist_l2_q(p1,p2): \n",
        "   return np.abs( (p1[0] - p2[0]) + (p1[1] - p2[1]))"
      ],
      "execution_count": 57,
      "outputs": []
    },
    {
      "cell_type": "code",
      "metadata": {
        "colab": {
          "base_uri": "https://localhost:8080/"
        },
        "id": "BptdE-Q6n-V0",
        "outputId": "cd2a99fd-912d-49b8-f366-156a9bfc053e"
      },
      "source": [
        "dist_l2_q(data1[0,:],data1[1,:])"
      ],
      "execution_count": 58,
      "outputs": [
        {
          "output_type": "execute_result",
          "data": {
            "text/plain": [
              "5"
            ]
          },
          "metadata": {},
          "execution_count": 58
        }
      ]
    },
    {
      "cell_type": "markdown",
      "metadata": {
        "id": "F2Ga-ocloy9u"
      },
      "source": [
        "# HW13\n",
        "\n",
        "\n",
        "\n",
        "1.   Function คำนวณ manhattan distance ของ ข้อมูล N dimensions\n",
        "2.   Function คำนวณ L-$\\infty$ ของ ข้อมูล N dimensions\n",
        "3.   Function คำนวณ Distance Matrix ด้วย Euclidean Distance\n",
        "\n"
      ]
    },
    {
      "cell_type": "markdown",
      "metadata": {
        "id": "r51BIG8734hd"
      },
      "source": [
        "![image.png](data:image/png;base64,iVBORw0KGgoAAAANSUhEUgAAA44AAAHzCAYAAABv1EOiAAAgAElEQVR4AeydBViVSdvHORy6024xUQyMtbtd27Vz1TV27V3X3LXbtRtFBcUWW2yxMcHuRsEAFST9fdc8CBLPOeC6vt8bw3VxnZ5nnv/cM3P/5y4D5J9EQCIgEZAISAQkAhIBiYBEQCIgEZAISAT0IGCg5zP5kURAIiARkAhIBCQCEgGJgERAIiARkAhIBJDEUQqBREAiIBGQCEgEJAISAYmAREAiIBGQCOhFQBJHvfDIDyUCEgGJgERAIiARkAhIBCQCEgGJgERAEkcpAxIBiYBEQCIgEZAISAQkAhIBiYBEQCKgFwFJHPXCIz+UCEgEJAISAYmAREAiIBGQCEgEJAISAUkcpQxIBCQCEgGJgERAIiARkAhIBCQCEgGJgF4EJHHUC4/8UCIgEZAISAQkAhIBiYBEQCIgEZAISAQkcZQyIBGQCEgEJAISAYmAREAiIBGQCEgEJAJ6EZDEUS888kOJgERAIiARkAhIBCQCEgGJgERAIiARkMRRyoBEQCIgEZAISAQkAhIBiYBEQCIgEZAI6EVAEke98MgPJQISAYmAREAiIBGQCEgEJAISAYmAREASRykDEgGJgERAIiARkAhIBCQCEgGJgERAIqAXAUkc9cIjP5QISAQkAhIBiYBEQCIgEZAISAQkAhIBSRylDEgEJAISAYmAREAiIBGQCEgEJAISAYmAXgQkcdQLj/xQIiARkAhIBCQCEgGJgERAIiARkAhIBCRxlDIgEZAISAQkAhIBiYBEQCIgEZAISAQkAnoRkMRRLzzyQ4mAREAiIBGQCEgEJAISAYmAREAiIBGQxFHKgERAIiARkAhIBCQCEgGJgERAIiARkAjoRUASR73wyA8lAhIBiYBEQCIgEZAISAQkAhIBiYBEQBJHKQMSAYmAREAiIBGQCEgEJAISAYmAREAioBcBSRz1wiM/lAhIBCQCEoG/i8DHjx8R//Hx8crj321H/k4iIBGQCEgEJAISgf9/BCRx/P8fg//pHnz8GMOruwHsW7+W/dfDiY6J+5/G49/h5hOV/dSP/2zf4nj7OIgTezfjtXIpixYtxWOVD9sOnuZG8DuiY+Mk0fhnAf/2rUU9JWDbQv7o25Z6FdwokMMZexsrMn8/k7N3n/L23TtiY2O/qB+pZfBrCWjq9pK//qKO/Qu+LPom7jc+5i2Prxxn53ovtp8L5m1krJwbX4F/Aq6xvH1yjRO7NuC14xzPwiKIjfv32XuSy2V6z78CCvlTiYBEQCLwxQhI4vjFkMkffD0Ccby4uJEp/ZpTPo8dxhoNBgYaHBvP5srT50RHR3/9Jf4TWwi/xtZp/WlTvzpVqjeiw9CFHH7wnpi4j9/8bqJOTKFFjUqULVMGd3d3SpcunfTv7l6Zfl63eBUeqSiyX9OZ6ODTrB7XnVqumTHXinE3SPuvtSRL0ep0GLaIw7dCiPgQJRXlrwH9W/82/jXnPAdTr6AtJipjqs3Rghm+B7ly4yZhYWHpjmXszdX83LQGFcqqyGL5ZozdfZOQ8EjivkDRjzi/kB5NalO1Wg1q129E4+8b07BONSqULkbhkl1ZcuE+ryI+y/fbG7uYM7QTjWtWo3rDdgyas5ebryP55lMx4jgz2jegSll3SpV0w7VQHjLbmKLViHmipWivtZy78Yj3799/9Vz81mLx79N+JCdnd6Fx9XK4ly5F8WKFyZPFBlOtobL2aIv0YPWJQJ68COHDhw/pyqfqfb29xd4Fw+natA7VazSk7YBZ7LzygvfRX0JG4wk5uohfu7eiQe3qVKlYgfLlylKmjDtlypShbNlylC//HRUqVqZy1RrUrtuAxs1+oHOvAYycsgDvPWe4/yqCmLh41S6qvvnuNvsWjqBb09pUr9GANv1nsiPoBRGx337PUe2PfFMiIBH4t0dAEsd/+yH67+rg+9u+/NGiKPbGhmhSkwaL0gzbfobQV6//55Si+BA/hlXMjGkqxds45/fMPxtMZPSXWWq+VGqi/PpTxNYUw9Rjorw2pcqofVy5eY937979PcUqNpgjszrhnilRCVYhjCrX1lq70Pi3VVx8EkJkVNSX3pb8/rdGIOY+m36pSFYLo7TzOXE8TYrRZZYH+48e49mzZ+laHaPPjKVKVmuMEn+f4lGDbZVh7A24StjbtxlbJ+Ie4tG2APZmOg4qjNzpv/4ANx48IjIygtCDf1Anry0mCllLlFMjsjeYxOF7L4j6AsL6xfC/WktnFyfMU1w7sQ9ainScw85DJ3n67BkxMTFf3Pz/5g9e4dOjKFks1cdfW7gdf631JeDCBUJCQtKVz9QYxr88ysTGhXAwSyCiiYdhRllrM3b7ZYLD3mfokOPjx2jOTm1EfkdT3XMpxVxIlIvPj1qrbJSo151J60/zJCyC+I+6CWD8q2NMalIEx9T9zlaHCXuu8zLy6/ac+NCTrJkzj+VbTnH31QckF00tOfK1ROA/EwFJHP8zx+0/sNcfuOr1E+5OxhiqKkVi89OSt80srt659z9mdYwm4M/vsDPVprW+GRji/P1fPHjy/IsVmi8RkuigyVR1NEerpphorKk80INjJ88QGhqaMWU92cXj3wQw94fC2JikVKwSFaz0H43JWnkAG8/dJuxdxpSwZJeXT78ZArHcWNicfLbpKLoaOyr2ns5G393cvXuXqHQOAKIDp1Ezuw3GarIo3jPOR8c5W7h+72GG1omoM2Opms1GBxE1wEBbjO4L1nDmUiDhL/2ZXCs7tsaflfEk+TS0p8Hkvdx5EvrtSFv4eroUcNZBHI0p3mEKPtv2cO/ePQVH4cYo/9JDIJyNPXUTR2PXtkxe4MHBw4d5+vRphmTq8xVjuDyrsQ6yZ4hDjWHsP3GRV69epbt+x8fHcHJKY/J9BXFMklWNOTmq9GSZ/13CPqgRwBgu/dWEgs5qc9cQx3rjOHf9SYYI72csUj6LOjicSnnslT1Fa5WFgqVr0LRjP36ftJDtF4J5Fy1lNyVi8pVE4D8DAUkc/zPG6b+gl9Hc2jSQCplN9RBHI/K3ncXl67eIjIz8L7jnjN5CLBfGV8LOTJ04Zvp+OjfvPkxX4c7o1dS+J4hjZZ3E0YqKvyzh0LETCnH8EhdB5Vrvr7C8S0kcTLR/8yTdhBw1BrHhVCChr19/O6VdDRj5nh4E4ri9vDUF7HVZqj+RL40DlfpOZ8O2ndy+fTtdd8Doy+kQRxMXOs32IejWnXTbEp2POjeR6vqIqLYoXeas4OT5C4S9PMHUujmwNVEjjo40GL+Vq/eefDvSFqafOBZrN4l1W3dL4qhHKtN+FM4GfcSxaCsmzlvGgYMHefLkyReuL3FcmdMMFyczlbXNEIfqQ9hx4CTBwcHpykxcXDTHJzf6Z4ijoRX5avVj5bGbvH6v5uofR+CcFhRyVu+3c70/OB10X8Hi7x5ORB0aSWWFOBpi6pAHt0oNadtrKGNnr2Tv5WDeRX2JG2/aUZXvSAQkAv8/CEji+P+D+//YVeO4u7Ybha30uLN9si5oHKoyec9xXrx8+VWnnf9ZAIfj2doZCzUrh4EBWpc2HD1+Sjm1FskyvsVfbPAyGmeyVLfyaBypPmghB474fzlxjAxiYasCWBv/XWtjogKvxbFcb7z9A3gR+jLd0/tvgZFsMxUCMQGMrZIFK6PEMdL1qCVv4xGsWreJK1euKPF5+pTRmFtzaZDDFhNdFkcDQzLVHMKOwyd4+eqV/nUi/iWbfnLDyUKP/Bm70vWvZZwIOMebRx50zueow+KnJV/zCew/doaX32p9itjMjwWdsVDzytDYUP7HqWzw3cODBw++0DKWauz+p15GsqVvMbJaqbmqarB278jU+cs4eOiQYnH8Mhfgt2zuo6ttA7S56rNouReXLl3i9Wv9IRiCOJ6a2pR8jmpkTtfc0v++abaqDPc+wbPX71OFGLxjfZ8SZLdWw8QAw7zN2OF3nPDw8C/2MEkUrffbB1A6p40Kodbi2msN5++GfBUxTbyOfJQISAT+tQhI4vivxft/8moxd5bQKGtGY9tMKd5jCdduJ7hi/W8AFsWOPoWw1uHKaezagR279imn4V+alTKj+MW/30zHXFap4ro+KSXarNQfvpjD/icUhTnD5DX+Bdt/ccde1ZKqX+FJcrlKTh4Ms9BkvDcXr1xPl3xk9L7l9/4+AnH3F9JED8Ezss5KwZLfUbNRGwZNWYrvzt1cv57+2MU+WkqzXPaYqpGnxAMmSzf6Lt7A9bv39VodY6/PoWFuO3W5TpQtMzd6zF7GyXPnefPCl0GlM2OlVZNPIwr/MI4tO/14/PjxtyFukTv4yTUTloYq1zd0otovM9iyy49Hjx59m+v/fXH4N/7lB3b0L0k2a7XDA0McK/Vg+sIVHDl6lOfPvzQkIJojI6uQ285IJczAAKMCTZkxdylHjhxR4nv1kdK4uBgCZrUkv6r1UkUeEuU3nUdt5sqM2XhKibVMPLD5+DGKvb9X093vwi1Zt3UvL1680H8wo2fU324fQCkdxLFox9kcOHOVt2/fpiK0ehqUH0kEJAL/FghI4vhvMQz/zZ2I4uDgYlimY3HSGNuQLX9RSrmXokyT3zkYeI33ERH/zcCkuLfXpyZSMZP5p+yJyZQEjRUlO09i554EZfVbEcePH/zoU9gGUzWFVZubZuOWcfTEl1g943m2+Uc9CXeS3WM6ik8iidRmrcMYj7Wcv3jpq07CUwAvX/xtBKL9h1Muk6VqXKzGqjjtxsxixWovdu3axcmTJ7l69aqiiKaXNTn2uSetcusnjgYGRuRt+gf7TwTw5s0bHVaRcPYOLktmKzUX8M/yp7F0p/dcD04JV9WwF5ye0Zh8dmljvzSWRWn751x27P2GxDFqH/1LZsFKdR5moc7gWfju3f83XCr/9jD/F/wwin2/liOHjZocaMlSvS+zFq/E399fSY7zpa74HwIX0tI1E+apx0xjSZHmvzJ3qSeHP8VP6ieOsQTOb0cBZ3MVK90nedWaYeucnVx58pA7RxYcrUzQGqpbDRPXTZGx3LpEd9adukJ4ZELWWEEgQ8/MoXHRTJip9LvYD6PZuvfI1xHH3UMpl9tWJeGaCW4dprLz0Olv6kXzXyC48hYkAv+WCEji+G85LP89nYqPDuB3dyuMU29OSWTBmCzlOzBhqQ+HDh/hwoUL3LhxIykm5L8HCf13Eh39gcAd02lduQiZbMwxNbPCIWdRqnX4ncVr1nHq9OkvdxPVf8kUn36MOs7gUvZplQgxTloX2kz14MSZs3qU9BTNwbtDDCplh5mq5eaz0p6k3Gg0upUl0YdPBHqj7y4lTk7EwCaenqe68jd7+fFjHLGx8QpJ+VdfO/GmPsbFEStq+30jl+XE62TkMcpvIG5OFiqKoQHGRVszcd4SfHfsIDAwUFFARQkJfYpz4jXjX6+lXV4HzPRYHIXcaBwqMNJrO3ceqlvf4h540NrFPv127MrTf/4Kzn46kIiKDGbP3F+oVSIXdhbmmFnak61wJdoMmYant49Cgr/GEpN4n6qP0Uf4tXw2rNXmjTYnDX+fzQ6/gxnKTqva/n/9m/HExaWeowlWwVy2alZBLTlrD2D20lWcOPE3Y7iJJ/jMaga2qEBuJ2vMzS2xz1aICi37M3neUjZu2kRAQEC63hpxcbHcXNaJQpkt1NdCExeaDpvOynUb2L59Ozt37mT7tnUsmjiA5uVzY2uqJ4ZcY8V3/T24fC9YqVcp1q/IyPec3zmXrnVLkcPBCjOl3wWp1Gog81f5cO78hXTda0U78Z/WpNSpbt7uH07FT8lxktb5T2t5uR+nsuvwqXQx+a8XV3mDEoH/QAQkcfwPHLT/pC7Hvd9Gh+xmGOlQAjX2lRjmuZ7TZwOU+BIRUyFIgVAw9Snnuj5TNrL4eOW3ur6THn5CKRfXF9kfRV/Ev6jvJd77UoVd9EGcYCe2J9oR7YrX4v3EPop2xb0L0izcmnbs2MHWrVuVR3ESLrIoRkREJH1f7R4S7120K/5Fm4ntJ34/9euk96POMqKsvTrRMypC57menDwboNThSx+DeB4sbU52S2N1BejToYHWNh+VW/Tij7+WsmXXHvx2bMBz1nC61i1GJrOUSpBxrgb8sXwNJ0+f1msVyAgGifec/mMMIZe2MnNgW2q65cbR0gQLl06sCLjPy/C36cZZir6IcRAWNjHuiXIkxl9YjnWNRYp+xYRwcetfDGxbC7dcTliaWODScRkBD4J5H/m57mCK3/yNF2JMRV9Fv4RsisdEGdLVXPTBoZRStThqsHLvwsxFHkrc2Je6dca/20SX/LriDJMdOmjMKN55OkfPXFTmTko8Izk+ugpZrdXIQrI2DAwwdKrM0IWenLt0WXGdE/cu5uLNmzc5evRomrkoMsPqm4uiHyn78hlB8b7AOvH/8yefnkWfYlSV7NioxY1q89Jk1Bx2HTysHKyJfib+JR+/9MYt8TfJHxP7JX4rxj+5DOi6l+S///97HkNo0E7m/daJuqXzkcnaFIt8bZl7+BrPXoUpc0+4ZZ4eX4vc9sYq7qRa8jQYwtxla5QDgeSxq8kxSW8+CNyE5fvatWuKdTFx/RbWdkFIRUyqmP/6sBRj+Gh1D4pksVJdNzUWJflpvidHzpxVZFPI4a1btwgKCuLE8V1M71GFXLYmqgc5grgZZmvA3H2nefkuoQao6LPI9irijg8ePKiQUbHn7N69m1OnTinu2GKtStPnmJcE7lrIb53rUzp/ZmzMLMjb6i+O3grmQ7J17d3BhOQ4acrqGNpTue909h47ky4xTS1XiXIu+i7+xevUf2n6m/oLqV6L7+v6jXg/8Zpq10rVVIqX4reij2IuCRx17f0pfpTshbiekDvx20Q9RDwX7X1pX5I1K59KBL4aAUkcvxpC2YA+BGLf76ZLHgudxNEwU20mb9nF3fu6Y5U+fozkWeAhfBZMYGiPNjSq9h2l3Bsybv9T3n+IJv7tPQ6t+JOeretRsXQJSpStRJ1mXRk6dQ0n7r4mKh0Smth/kQ79yQVf5o7qTesGVSnj5kqRoiUoU6kWzX8cxtxNx3nwPERRGsWGoO9PbBqvbx1m5aTBdPq+JuVLFaNoUVdKuFeiTosuDJmyiiNXH/MmLJzo6DcEbp7HzL/ms8DDi1Vr17PacwULZ09j8rjRTFy6l9CXr5VNJM0148O47ufJhIGdaVKrIqVLuOFWpiK1W/Vh/Ooj3Hv5mg8fXnNkQlOq1WrIDz1/ZeLiTfjfeEFkVHTSBvQx5jyjvnNUJ44mxem1aBVnzp/PGHGMu8H02s5YqCm/CmnUYJarJgNnebBrz14uXrzIw4cPFauUKPcRHPyEsxtGUy+/dYKl2tCJKr/MZvvufUo5hzQKWHwYNw+sYtKgrjStUwn3km64uVeidsvejPU8xO0XoUREvuLopObUqN2IH3r8ysRFGzl2PZiIyChlc0+tOMQ8OcSsbuXIapY6oZOWHE0msf/sJSUxS3LlPXFsPn6M5UXgHpaM60/7xjUoV7IYRVxLUKZiTZp2HcoM74Ncv/+I12/eKEpB6msntBPDk8Oz6VY+G+ZGqVzRtNlpOmUrQTfvfVWsZ1TwRXwXj6Nfh++p/p07bq7FKOZWlkp1WtBt8CRW+V3iyYuXirwLZeXzXzwRIXe55N2b4o4Wqq6qJgXq8fOQX5k5YyqrPT3Ze+4x7yKikuTtc1tpn8W/306Pwk5pXf8+HTgkt15os9Vj2ubdPHj6VFGoEluLD/ahS9EMtpGlBsOXrOL85UDePg9g+5J5zJ6/jOWrN+C9zodVK5YwZ/pExo/5kyU7LxIc+iZpLirKYfQbHlw6xPqF4xnUtRm1mo1hx83HhCnEPobX1/1YNrYPLWtXoHTJkpStXI/WvUezbF8gwZ/ITZIiGHOB8bVyqpcD0brQ4s857Dl0hODghzw8s5UFo3rRqn51ypVyw61UWSrXbUHXwVNZd+w6Ia/DFflKajsRnKTHaJ5f3s3SCQPp2LQWFUqXoFixYriVqUTt5l0YONGDfRfvEfLqjaK4ppT1eMIeBhJw5jSnzgRw/uJlrly7wc1bD3geFkl0TPKDkQie3rjA2dMnOHb0EAf8/Ni7bz8HjwZwO/QdUTHJ1tLIp1wPOMmRA37s3rGNTevX4b1mNWt2nOXRm3dEJyMmMU/9WdinGnlsUpMlLVkbjGLz4dM8VbKZvuPC1PrkdTBRJY75Gw9j7nIvTp8+zbOrh/BdNIbebRpRrXxp3EqUokylOjTvMpApqw9y9XEw4e/eKbKWMG8jubF3JYsWLGLJ6vX4bPbFZ503S+bPYtLYUfw5ZwNXbtxVDiLS2zPEOD1d35di2azViaNVGQZ5buHmo8fKnBQHUoJICEu+qD95/dopZnUpRxZdSegM7ak13Jsr94OJjQ3n+p6VzJ8zj7lLVuKx2hvPlR4smjuTaRP+YMrSnTx6ljpBXQxP/RfTr0b+tKWjDLPSZOIWrj8OTZobYTuGUCaniquqxhSXuj2Y8td8Nq33Vv69vLZy4u5LImLSEsH48Hsc8fmLYT1bU79KOUq5lcD9uxo06zGCpfsuE/wqnJi3p5j3YzMaNGhJl4F/Mn/tfoIeh/EhhRyiEESRhOj1oyAOb17CpF9/pGXd5ozYcJEHLxNKPcW+ucnBVZP5uW19KpYpRckylajTsicjF+7k8qMQIj7oX8c+fnzP/VNbmDuqD63rV6VMieK4upagdIWaNGnfl3GLthJw6wGvw8XeH52GtMa8usl+rxkM6d6S2pXcKe5aDDf3ClRv3IGBE5bjd+46z8SeFhGh7F1J01k+kQj8ixCQxPFfBPT/6mVio27xZ+VPBEBF8TPQOFHvz/Xcuf8gheKXiNfLPaOo5WKPsSaV8mxgROGuM1n8WyvKZjXTWeLD0DI3tQd4ciH4NTHJTugT2098fH/Ll1HNXbE3MVTdtBVlVWNGtvLtmLnjPM9DQpVFP/H3yR+jnx1ndo9KZDdPaTVLrvCK51qr3NTsv5zAu+eY29ABcx1Ey7j8cKUcR0rCFMezI7PpXC4rZtrU2HyyqGjMyFlrKJtPr2dgSduUpFBjinPhWozYcovXbyOIizzDiHLqFkeNeWn6LVlNwMUEy45uRTQBhbgHC6ifyVJn3TyNbSm6T1nCzj17FQurOKkXG6hoV/wLBUsoRCGB3vxYJgvZa/7Gim17uBQYmMpVNo5g/3l0+y47FqnJVaKsaczIUX0A646tZaC7PebJXQA1pjgVrM5vPld4/jL8s8ITMJeWReww0eVebZyH1lMSkvS8e/cuxcb/4d5uJrYtTSZ9Y68xJUvpFvzpdYCbd+8rVq6USmU4AfN+oKieMhfGeZowe5sfD/5OkpbwK6wb3oQiDukkrDK0IGeFDkzbfIJ7j54g7lX0M/bqLBrktNWfcCYRf+VRg1OjaZwLuq1YGFKS0OQzJ+F5fOQe+hZ3xkIX/snb1thQ6ZeFnL5wRelfgjIfw4Updclhq2ZhSmltVOZh9jr8sXQNFwODCLuziDZ5dLnJGlFm8DYCbz/h7a3NTOj2PZWL58XJMlVtWrMKDN1ygNN+S/mjXVlyiM+T9znxudYetzYT2Xf5Fm/evk1QAmOvMb1hbuxMVOa0tgA/jJ/PzvUzGdO6JNl0tSva19rj2nQEm05fJeT1m2REJwHj8GubGN3CjUzmqQ9GUuKjtcjOd+3+YNPxSzx5/kIhkMr8jz7GyIo5sE2zZmlx/cmbs9cfKnKtfDdsAz0KZ8YyjdeJOVVH+xF4N1ghP+K7kXsGUSqrdVq8TMszdNtJbj0NVvrw5vwiOrtn0T3vjXPy/ajFHD17gVevQgia1URHrUUtLk2Gs2DZXOYNaESZbJa6572BFofCDRm+0o9rdx4oZDA2+hleXYqQxVJlvAwMMCrZj/3HLyqHYinXbxW5j48neNtASuWwSXv/wjXbpizD1u7gwYuQNIRBzEuRaOZWgAdtS2bFMvk6lyhvBhrsqgxg35kg3r9/wOpurmTV1e9SP+N//layg623nF/anXLZrXQeApvkacrCvad4fm0780b2pVnZXFhnNDGaYQ5azz3IzeDPhzLEh3Jq+UDqFHTQucdpTLNQpe8CDm34jbouTikSamlMHHCp0o9V527zOuI+e2f0o2X1kuTLZI1pij3TlLI/r+Kovx8bJnalaj47TFXx02Lv2oxJW07xONnh0eeRjCfknBe/NSmOs4W+eWWIRbYydJu+hcDbjz8n94p+wsF5faiaz14914AyjhpMnF1pMng+BwMCCQlN0EPUDx8/90w+kwj8kwhI4vhPoinbSoNAfHw0/iPLY6UnOY5R9rrMPXieMJUMayGrfsDJVN8inFLRSU3OEl4bkbnKUHZfe0xkmuLj8QQfHk/NHBZpE9Mkbbgpr2FoV5we83Zx//FTZWNNftNhFxbzQ2EbPTGdKdsyL9OX3SeOsaJdNiyN1ZQPDZZVfuPI8eQumh+45tkZV7vUJ+0p2064dy1Orq7kMNGmVUYMHWk4aTfXb98nIsxfN3G0Ls+AZV6cu3RJUU7S26TebOxKbmsTHQTchPxNR7NmwxYuX76sEMGUpOkzmkKRjAh9xs1HT7n/4IHiVvWZdERxY003SjimQ36UMdTiWKQIOUyNVDCwp+4fmwi4fFWxpsY88KZLUTs9G7fAWINViS547tzPo8dPPh0gxPPy+DQau9jqUTxTjo+hTRHajV9NQOBVxfqYgEMcj3y642pvlravyeVRY0mpHn9x9MyFVGT6M35qz2If7WBItZw6ZC1l/xLnkqF1IVqPX8O5oGu8ev2a98dG8F0mK50HA4m/+/yowabKINZv3a24xaWX4j/+wwEGlM6sQ/lN20eTAi1Zsn0/T4ITMmLGv9xOn5LOWKgqf2l/r83dgAnLvbgcdIW3oZvoW0xHVlONBRX6r2S//1menptG01x2KRTVpPvV2FPAzQVncx2EMcU4mlOk/TSOngviTeYrAy4AACAASURBVFgY8TG3mNM0D/amKmuBtgDN+v5AdRcRO6zyefJ2P8m9Q9leeB44ydPnzz9ZN2J5vHsEtfNlXE4NDAyxLtiYcat3cfXWnQTrWfh6ehZRI4Na8raYwKbdh7l//34C8YjwpU/xLFipEMeyPy1i58ETSVliI3f+QomsVmllX5ubpmM98PM/xePzy+hVJr0yMBosXNswZ+02bt65xZXZumotanFp0J02FfLhkMo9Pmk8U+GqtStJz1nrOHMpiJcvn7JroLuOxDsaLMr2ZsU6X86fP59ujLpY757v+pVyOW1Vrfga2+8YuW4nD0NC0xBHMdfF78PDQ1k3sAo5VOM5DTDMXJPpvocJfv2cbQPLkdNWLWGQBotyfdm+/6Ry0COyvT7e0p+KOW30z3mNJe4/zefIkl6U13EPujA1MMyrHMYFXLutWNLiP9xmw8Aa5LXVtY8km8eGdhQqnA1L87ShEYZ2VRm5fh93Hp9nSYeiOoiyBtt8rhTMbJ2BeaXBvEAr5u3059nL5KWAIri6biDV86aTwTlJlkxx6ziZHYcTSvtEvzzN/C7lya7LWpz0u0/3bWhNocaD8drrz6Onzz6TT7VFX74nEfiHEZDE8R8GVDaXEgFBMsJuedAgm5keYqbB4bsB+F27m4bYvT89mpLWGSFIyTaS1Ius8lpLtobjOX33ER+Skcf3F2dTN7u+vqm3q7Fype+KAzwJfpFkKY264UlrF90nsmk3TWOKdJjJwWNH2drXFRvVchyGONf8lV17DygxoLGx0YTuG0IpPdaotNdRvwcDbX7azlzN2QsXCQs9zHAdMY4au4r86uHNhcuXk1l1Uo7z51exBE6qjpOFjtgyIxdaT1jE3gOHlMyQwtKo70/IjyCLwgL5mWDG8/rAMMo5masqWBm+fyEX2vy0mriUA0eOERx8l10/F8PBXC1tfwKGGiNzbB0csc9UkcErN3Dp6jUFk8igBTRzsckwaUzso8ayMJ2mreVCUAJxjQvbw4ASjiktoynkWYORuS2OjnZkrtwHH1Ga4fHjJBnUhyXhJxhbMwdWqgcUOmTk07U1FgVoO8mLMxcDeb7vVypk1m1RTry3z48arMp0Z5HHaiV2KnkcmVp/4z8cZXDZjBNHA8NM1B+5knNBN4iICOfqnO/JrZIV9XN/Ut6rNt/3TF2xliAxlq8PM6pKNqzTWNIMMDB0pFr/2fjuPcCjO1sZ9l0W9e+lGK+U11Lrg8ahMiNWb+H6nbtEvr/FolZ5cDBTI4ZGGBsZoklDwPRcQxwwdJ/JwZPnlYOXV/4TaJAvo8pt8nY1mOf/nole2wi6cZM3d5fSwcVZpd6lqNk5nBXrtihZdJVY0KjD/F4xR9q4TY0NZbtNwXvzDiVmT1jkIrb/jJsqccxMjf4zWO+7mdU93cimJ3ZVozXDxt4Bu0zl6T1nBccDAgic0xwXHdlKjYyNMEzj0ZL83lM/12BZrA0zV23kctBFDo6qRh57NTdYQxwq9mT2Yk8lVjY4OFjvPBXEL8RvBBVz26kSNI19Bcb47OKRDuIo5pJYK++u/4VS2dWtlgZGRfjJYxu3nj7m4B91yOegRswMcarSj407DykusLFhBxheLS92anNCkXUNWjMbHBztyVK1Lz4zO/NdLvV7UJN/5T1tAdpOXsrJS0G8DXvEobENKOCYNrOxzt/rmHOGeRowacUGrt26yoExtXFxUhun1OObzmuNPdUGLsT/4o1P+2EMdzcPomoeW4wzOjeN8tBk5Cz2+p8k5MkpPLqVI4cemVa9b40FBZoOY8O+YzwLDv50MJQ6RZHaCivfkwh8HQKSOH4dfvLXGUAgKiqC43NbkEOf+56BGQU7zCXo0VOik8VTRT1fTn17068nCGJjMXSi8ZTdPHkeorglxn+4xNiqzqncVtLZNJJtUKYF2rL6+DlevXlDbORlptbJgnmGLAGfrqHNQ+upqzh74RxHR36XNm5EuZaWnI1GsmvfgYSEGGGHGFo6PYtYBu/BrBR9l6zh7IUL+omjYxWGeXhzMTAwA8QxGr+BrtiZqZMvjUMVhi5ZxamzZ784MUKSqEX4M7y8kx5ylcH7F/ialeTH2YI4HuX5Qx9+LmKnI7bOiExl2jJs2iK81q7D19dXSYIhkhm9fXmaaXX/HiETCoFJnibM2LCTW3fv8Xp7P4o5mKe1uIi+GmXCvc0QZixZwYaNG1MksUiPgMM7jo+qRBZLHYQ+mVyrKinC7S5Hfcat2cKFTQOo6PxlxNHSvTPzl6zg+PHjCcqoHrfx+KiTCimz0qmoph5fDZaluuK15zDBdzcywD1Thq2V4l61Ls2YuXIdV69d533YeabVz4mtSepriEOGbNT7dTY79h3kyaMLLGyZWwfBU/mtPny1eWk5fjH+Z8/z5tVNlv2QF0dV4viF7X66ppFLM/5au5Wbl9czokp2bP/GwUGCTBiRo+5gvH33cuv0FFrldVAljvmbDGe51ybFuizi7z5Gn2Ni7TzYG6fqv6EjlXtNwmuTr0IcBcmM8O2HWxYVi6OhI1V6T8bbZzw9ijmpZ5010OJUsjkDxs9l5eo1SnKx/fv3c/nyJa4vaEVBZx3ZSvWNja7PjPLRbORfbPfz4/CfgoCpkRwtWav3469FKxXimF6NSEEcQw//QeU89urE0aESf6zfzePQ1LGHSSujYnV8GTBdcds0USMxhtloPsmLoLv3OT21KS7OZiqeIYZkqz2ILXuOKHNVZEfV1ScDrRMlm/dn+rLVbNu+XVkTz6/rT+XcIrwk1XjrwlK8ry1Am8lLOHkpkOCDY6hfwPELXOF1X8eseBvmrd7E7Tu3ub28E27Z1RMP6Vrz1N83JF/j4Wzel7CWRVxbTmf37F+05hhmr8mw2R6cuXCGU7NaUiKrenZq9esnu1/jnDQeNp/DZy7+/f30s/jIZxKBDCEgiWOGYJJf+hoExIYYFvaEtQO/w0FfDKHWibrjtvE05GVSvFnM+z10yas7uU66C2uqzcrUtQu+5wIJfxvOY6/25FCJRTDOVIo2Q6fg5ePNmnmjaK8rjlBjQ9Vh3ty8c5c7K34gp0VaVxl9/dNmb8i0Ddu4cesmQdNq42CmptRrcWk1iX0HDvPiRTAPl7ck+xdeR1cfDJ2rM2rlOi4FBfHu1TGdFkdDp6r87uGtfE9RBD/qO9WMwvenAtioudoJJT17PcauTLBe/r3iz/E8W9WWPDpdYZNtqqnGXg0HQ+eqDFngwbETJ3l5cx4tslqrKyxmxekweR5rfNYrSqAoZC+KsL96FcqTdV0paJfWtdTY2Y1mfceweMVyVs0bRZdKudTrmWqsKffTbA75n+LGvKZkt1GzAhhgVqwdUxYuw3f7diW9/+3bt5WyDALHz9ZY9Zka92A5LfPYqrtWZgAnBTuNueJetXV5H6o4W2Kc0d8ZaLAonUAcRYZgUcoiZaKVlH3+GH2aEZWyknHiKEh1DpqPX8mWkbXIpQM/tfEX72kLNmf2ah+u3bhBxLubLGyRW4eraB6ajZnLnoMiOc0DtvUrTiZL9QMSXddSfV+bk0Yj5uF39Dgvgq/j0S4vjuZqFscvk+3Ea2ksStFr7jI2j6lDPns1gpPxdjXmRekwcTH7t47g+1x2KqVOtORvMoLl3psVi2MCcTzP5Lp5sE9NxrWZqfHLVNZt3ZFUYifCtw/F1LKKGjpS6adJeK0cTJNcdiqEVRwCFaX16Bl4eHkjCKMoAyPcZUNCXvDYszOFM1uqkKSM33sinsqjxoKSHcax0mczh8Y1IL+jGgHTkrv+YOYsWZV0YKJvngrvipdHx1ItrzrpMnSszNgNe/QSR9FG+PVFNCuUSWVsxOFpJhqOWsHFm/cIWtCGwqqlPwzJ9/1Itu8/oZTLeLKmO8WyqRMu0yItmbTIkyPHjiHWRJHk7MGWIVT4UoujYX5+mLiYExcOs6JrCbJZq7nQfulYGeJYsQfLfbYnhDrsGErFvPb/wCG0ITnrDGTN1n08eRzIpp8rkFuHa3AKmUlaLw3JUq0Pi722cO3MYvqVz5nWmmvkQJG6XRg9awFeK+YwvlcdCjup6UEarNzaMsd7K7fv3ZMuqym3EvnqGyEgieM3AlY2mxIB4UIT8vwKs9oUwlJXIhORAMCuIhMPXOLN24SkI7ERpxjopq8OpAnOxWrToc9gRgz7hc71XXHSS05d6Om5l4ePLzGvcSbMUvfFKCdNxi7n4JGjSgZPoeQ+uuXLj65qCX40mJfpw57jvkyoYa8joF6cplqTp3wjuv48lNGjhjHgx9bULV+cCl1mcODYSZ4/f8b9hY1xNFcjjkYU7TCDA4f9CXkexKImmXQmhNCYZaZE7db0HvQrIwUWDUuSWY+VV5urIVO9NnD1+nUi3vjrJo7O1RnxBcRxZ7/C2JqqK9SCrI5euU6JJ0ufhKaUIeVVfDArWmXHWi15iJAfs0y41WxJz/5DGPHrz3RpVJIsFiqxjZ82cW2O+vy51FMpB/Pm2Tp6iPgxtaQsxnlpOmoe23buVpRcQdaElS8u5ikr2+ZOS5SNslP/11ms37xNqU365MkTXjzYx8CyTiqxdxrMS3RmxebtBC1tR34VEioUEKO8jfhz8UqO+h9XCKNI7y4ImDiY0f8Xx+15jclmo+6mpTHPRul6beg9YCBDerehRgEhy+rExbhAC6bOHUDLYnnJ6STmpfr3DAxNsLC0wNzMBGMjYxwr/sSi5aszVCtPIY4Vv5A4Ghhg7JidbNbGKsk7DDEy0q2IpiSOD/Boq8NVVFuA1hMWsO/IMV68eMKRERXJZqM2Z4WCq8E8S3Fqte7OgAG9aFcln+46e4I4/j6H3Qohvc7KDvlw0kccjezI/10Duvw8lLGjh9K7aUmy6E2UU5C2E/+gT8VM6pZU0desJajzw48MHNyffu1rUNjJXAVHcV/GuDQbzsplA2iQw1aFnGjJ1/h3lntvSkYczzCuVm7sUlsctZmp+ctUfLbt5M6dO0rSm4gtvSmqShydqdpnEl5eY+hYyBErtTlqlJsGg6fhtXGrEj/9+vXrhDkaF8drnx8pmkUfcTTCNm8ZGrbryW/Df+O3Xk1wz2alx/VcS8FmI1i00psD4xuS38lchZRqyf/9MOYt90pT6kNtviYSx6p6iOOfGSGOl+fQqKCz+iGRYVa+/9OTCzfvcmt5J4pkVcNES8GWY9l1+LRixXq5fTBlc6lkRxVrUu76jF+5gau3bimxr2JNfHd6Dj9UKkomSxOd4SlaM2vs7B1wdLDH3tYGa4fSdJ+5klOHp9PBNYv6+BpoMHUqTNWmnRkwdBjDBnSnafm82KXJfJ1IMA3JXntAAsF78oRw//HUK+CESRKBS/xewqPYO1yrNaPHz7/Qt311haipW00NyVF7AJ6b93Dv9Cw6Fs+qkvgpoU1Dy2yUrNkiYT8aNoCf2jemSqmKtP9jKXuOniBwSSfcc6ROBqUla9VeTFu0iqPHjil6yPPnD9g3tiEFnNMe/GhMi9B+wiKOnvuyeHc1GZTvSQQygoAkjhlBSX7nH0FAxKk9vXuAn8s66N2Q83dYyM0HCUW9Y6OuMLqCrtgxQxwr9GbJhi2cOXtWUejv3r3G9rH1yKoz0YEZ5fqvJvDcPFpnTascCWLzh/cmggLPcvv8UfatX8Lk4b2oktscrYqyonGqyeTVg6jpYKrqXmSgscO920Q2bd+pEAhRj1FYqsRJuFCWnj59qiQDeLmyFU4WalkgjSjRdR6Hjp4g5OEauuaxUrWIaczy02T4PHx37lbKW4jrPHhwh8Pz21LAWj1Jh7ZASxb4bOHW7dtEhh3XQxxrMGrF2gxaHKM5PqIcDuY6FHUTV35c4KWUPkidkTRDQha5i58K2qqSO41ZPhoNncn6zVuV1PqixtmDB3c5vqQjRWxNVd0/tfmbMX35Gs5fuED4m3us61JAB+kVMV6NmbBmq2JhFqRNKHpE7KBngbRF5g0dqzBo3jL2H9jNRf897Fu/lBmj+1K7gDUmKklbRJzbb8u8CDgyk7b5bdST82jMKdBkGL6H/HkRkuBunSHM4kNZ3T4PdipWYI1ZXhoMmsbqdRs4duyY4jJ4P3Aj/StkVj+gMHOj26yl+B05SuD5lXQq4qjq2quxLkP3KXNYvmoVGzduZNu2bezbt0+xAoWFhaXIRJv6Hj5GneC38jqSn2issbMxwlBlLqqf7otslCWpVzUXVjoyPCquqp4+XL0uYiRf4N0lv7rFT1uE9tMWcsBfuKgFc2FKHXLaqVmHNVgXbcGI2cvYvmsX586d4+ZlH/qWyYylmvutQhxns+vAYZ49u6aXOJpkLU/XP+azY6+f4gr67NkzXoZeY3G7Qjjqis01KUqHUR2pmtVGhehpMMtTh/5TFrBxS8K8uX37FkGbh1Ilh42qu6FZsTbMmNuPxjnVLH9actUbwjKvZMTxw0GGfZcdm9Ryb+hE5d6TWbf1M3EM39CDImqWQW126gyYytpNXsxrW5hMlmrriwazvHUZvsibi0FXP2d1Bd5s6KmbOJpkoVy7X1ng6c3hI0eUTM/iMO+6RxeKZbZUXTcMDEwo0mo0i1au5ejkJhRwUnOD1VKo+SgWeHgr65GomZiexVGvq6p9xXRdVcWa9HrfcMXip1UjSIYudJrtTdC9hzxe86MOS6IW17aT2Xs0QEm89e7JZnqUzYlV6vET7WvMKNh8FH7nryXVlRX3KO71wqZhVM5ln9YzQWOGW9sxLPL0QdS59PPzU+pIinIo19b8pCM5kAbTXDUZMH0Z+w4dVmRf7KH3bp1hca9K5LBR8/YRLqW/47PjoBID+P7SXzQrmlllDhigsSpE08FTWLvZlzNnznD9+iV8BuuOXc1Ruz+em3ZyYUF7SmRPTfw+EVGborT8dTobfHcpyZFE3U1hkRX9Fs+fPr3LtoEVyGufSpYN7SnfbSyeG7Zy7rgfJ/aux3POOH5pUpJMap42Gjsq9JjEVr9jpOcOnXqtla8lAn8HAUkc/w5q8jd/CwGxqQmF+8am3rjocbfU5mnJ2tMXCH/7FlHOY0JVG1Vl20Cbjx+meXL81GllwRRtixPPN6/OMayirqyBWnI3n8Thdf0oo5p0R4upuTmmagqe2kZsWpr+Y5qQV8eJv5FLC2Z7b1RKSYjNVJBnYSUSFljRV/EoLEZv1rTVQRxNKPXjAg77nyT47Hhq2JupEFSRQGcQXpu2EhgUpJwSi+uItt+/u8fsJjmwUIlrMirchuWbtnHn7l0+vE2fOF6+ciUDdQPjebi4CZks1UiwUDQsKNNzLv6nEpSS9K1lKUUt7t486mVSc5M0xLnaLyxZtVZR0kQiCiEPAoMPEQ9Y2Co3VipWSqOCrZi10osLFy8qiua7y3NokNtaVWEW2SXtSnVmxf7jSjkWMY6x12dQO7NVWuXIQIuxmRkmRhoVS0TKk26F8Ji40WP+Ck6cPcnhifXIpaYgCPkztKVMj5mcCrzG23fvMmBtFBkzTjO6YmYV109DnKv2Zc7SlRw8dEhRaEScmbiv51v74uqoEnejzU6D3+fgu8ePm0E+/FJaPXupxrwknafOZd2mzcp4CDc2oTCJOp1CNhXSnXJok17FfzjEIHcdyXGMXWnZrgyZVeeuCq4GWrLV6c/I5kVw1JGwSZu3MdM8130ijqGs66aDOBq70mnGIg6dOEFo6HMuT29ALlXiaEKxdhNYtW6Lcogj7jkyMpQ1XQvgaKFioc0ocdRmptaA6fhs3aEUmhcEPMHiHMWpcTXJqaP8iDZzDQYOaEBR4eqWeg1TXEAnsmz1WsUaLA6yRJKamJhQtv7iTharVEqt4m5em9+mD6FNUUeVuC5DHCr0ZIGnD5c/xUTHPlpO2wJqiXTMcP3hD1ZvSIhxjIx8x93FrcjvpOL2aVyIVmNmsWH7DoJ2j6NZYfUDCzFHbYq3Yfbmfdx//CRJ1nQTRy2Zq/Zm2gIP9vn5KYd5iWVnos5NoV4+B3ULlTYz1fpMZLnXeo5Pb0EB1fhJY4q0HM3CFWs5e/asQqb0rXdiToTuH0kFXclx7Cowev1uHumJcRQ1ZM/P0JVBVnj0lGeY5xZuP35C8NpeFM+uVjPSmGIdprHPP6Fub1TUO/xnt6VIJpX14NOaVLb3fM7deaqUvBL3Idbd0AtzaKLmMiuyr3adyMZdBxWSLrwxxHodGvqCoPltKKLmPiviYX+awqbdBxGHomKMxP4p1pJXt9fQqVR2LNMcJmkp0GwUm3YfUdzjI67Mo1XRLKpuziZFWjB10SrOBgQouoRYB59v7EepnDYq67ewOPZn5UZftv5aFRdHtcMjLbnrDmDBqo1Ja0Cavf/DdRa2K0ZWlTXB0NgUc5OMJm0yoWirMXhv8+Px3ynPlLTyyicSgYwhIIljxnCS3/qHEBCbSniwF00z6SmjYF6GUbsOExwSQvSHu0ypZavqBqqxr8qotZu5fuuWQhISuxgbG8GuAcXV48kMDMlU53d2zmtLAR1kT5flQu19jUU5BgysjqOqu4wgdEPYujthQRebqa6/sLXtcVa1OJpSuucCjhw/xZP9v+Juq5YoyAz3nnPZu//wp8yrsUmXEYrEufHVVC2ARq7tWbHZl7siNuKtP8Pc1es4GjrXSHAvvXJFsY7qU/rFhSP9h1NKV4IX4VKYqxGzff14/PSZomAkdTb1k/iXnJw/klkHHvM+Kk4hG1HnxlFBtei8GaW6zmDDlu0IS2PKmmlxXJ5SC2eVxDBGRX5grqc3lz5ljI2Li+X25l8oJTK2qiZ3MCZHgxH4nbmglKaI8B9OWWeLr46b0Vi403v+CvxPn+ZFcCDevcvgrMvN2CgbTcat48qtexkaD6L28LOrY9q6iBozSnaaxErv9Yo1XNTTTFRs40I8aa1WbsLQiao/z2DT9t3cvb6JoWWd1a1oxq60nzyXLTt2KuOR5Nobl6zYe+rx/vQ6PnI3fYrpqONoVJQuM0fSsYSD+nVTESONWWHajp/LrE4JtdXU5rA2V30meKwlSCTHef+SDT8WwElFmTMwKUbnJOL4gmuzG5NbNWbQBLcOk9iwbY+i5CZYpyPZ2scVZ7WYyAwTRxdajJ3NDr8DitdCIgGPj32ER/vCOiyOWjKLBC0D65HfPm3SJY2ZG+3H/8X6bb6Ka+lnL4B4XqzpRAGVTKSGjhXpM20qwxrkxl7FymnoWIH+s5dzIiCA169Dube0DQVVXTk1mBdtxfTl3srBWvibqyxvVxBnFTddbfZaDJ4xn11793H//l1ubhlClVzqFlEDAyOy1RrAhv3+PHv+XFljXq/vocPimOBOOnfZGvyPH0+y2Hz8GMfjNd0orsPiqM1UhT4TZ7Nh6zYuzBOxgmoun0KhF1bJdUpMsnCdTZxfaqIvPgvRV47DphzDfXbpLMch2oz7cJlJjQriqOJdIGTf1LUNHr5+PHvxghcb+ijWMk2qOSOsqW6dpuN3/EJCrcrYWMLe3MGjX3Vy6oofNs5Gs4mbufE4VDnMEH2JvDqPpoVVYi01lpTtNpXdR04rB0mCAAorZVzcBwKmN6WgWsIeU1c6T1vMsYDzaZLAxEbdYEaromRKIzdaCrUYw5a9x5QkPx9uLuKHYlnViaNra+Z4buDGzZtJh6Pvdv3Kd7ntVCzOicRxK54/lSS3XdrDFQNDeyr0mMj6nfsVK2PiXE0x7jEXmPJ9EZx1jJXaWqX6nog9b/sH3lv3KdcSeMo/icC3REASx2+JrmxbFYGIq9OpaKunxIZxSYZs3sOjp0+JiryjmzjaVmL0xh3ce/AwBQH5+DEKv0FuOmpHGpK57u9sm93mHyCORjhX/hmPkfXIokocNThUHcTOgwknnvrclMLWdSBTOsTx8b4hlFZ1uTShZLfZHDx6XNmIUyonsZz+sxL2Km56isVxy3buiXpr747xW+l/hjjGv9tDr8L6Mr+akKPWEHaevUxY+Ft1ZSrqNhsHVCKruRHGudqy7PxDwt5HEHnmT75TJY7GFO84lS079qhsnrGcn1hNKcqceuMVFsfZq9YmWUcSTssjOL3gB1xsdMiocR7azljP5es3eXXwN8o4fS1xNMLpu57MW7OBi5cuKfUk37++zKyWhbFVLdFigHHeZizYcUCZI+kqClF76KfqUmpC8fYTWeOTLJHJp8RH8U+W0TynSp1CQyeq/TKDjSIu7fpGhpV1VrFkimQ1RWg7cS5bdu5S3LISyJO+pEqfl4r491vpXsBRVcET7XaevYyNf9Ynr+pcSG511GBb7kcWrvHG48fiOKu6NxqgzVaL0cu8uHzlKu/ehbKxhy7iWJwuMxdz+ORJXr4M4drs73UTx46T2bRjX1J9QohiZ/8SZP4a4qixo1z3iazfvkdxyxek7OmVAywZUIs8Nuqu2BobNzr+OYcNY5tRUO0wx6Qobcf9xeaduxRr2+dxiufJina4qBA+Q6fK9J02H59JrSimJvsaC4q3H8fm3Qd4dG8PE2vnwl7F2q/MRZP8tBwzD79jJ3h8aAz1ctundcXXmOHy/a/MXbaKY/7+inXqw4e3XPDoRonMluqHNka5aDpmGf7nLilEI3Rtdx3EUYOtewcmzvfg4OHDPHjwgJePAjmwfAh18+uId9ZYU6z1MOYsW8WBgwe56dEJV7W4TAMTXL+QOL7YOpBSOdRLaWisyvDb2p080FGO4+PHeO6t74N7dmt1TAxMKdJmHHuOBSh1Y0M39aNkDjWLmgklOk1n/4kE4phoQXz++CxT2pbC2UKFKIkDwXzNWXrgDK/evU845Lv0F40KqcRaaixw7zqVPUdTZtb++DGas9ObUFAljs/AuBAdpi7l1OWgNJm946ODmN68CM5pMhELi+NoNu/5TBzb6CGOc1dt5LbwvvkUhhDhN5xKqsl0PhPHVT+VVieOGhtlrm7eKxJpBSeR6c+rnPAE+WeIo9a+FJ3/nMvuQ0fTHBynuJ58IRH4hxCQoObagwAAIABJREFUxPEfAlI2k0EEwi8wq0luvYV2NY7Vmbh1D4+ePOFDxC0m11S3OIr0+C2nbeT2vfspiWPcI/6q76hqpTQw0JKvxUR2r+xFKSu12D8THPMUxa1UGb6rWIXqterSsHFTWvzQji7de9K3/2CGjfyTSdNmsXC5N/uOHOGcdy+KWqmTDMMsdZi53Y8nz56pbx6fYAvzaqfD4mhCqZ4LOXriNMEBE6hub6aiFGiwKtUN770JsRzCfS3x72PsdabUcsJcxfVW69KShZt8uasQxyMM0UkcE7KvCldVpS6b3qyq8PHje7b3K64jVjBRsTcha7n2zPY9Q2jYWwUboaB8jHrBxa3T6FouS7LERUbkaDIF/6u3eXNlBnVVM3pqsCrRkcUbtnH7zp2kzV/BIe4mM+tlUS16r83flGkrEywen60tEP3hCcs7FMJGNcmPllyNR7PzwFEeHxtD9UxqpSmMcchdmOIl3SlfoTLVa9ahgZCj1m3p1K0HfX4ZxLARfzBhygzmLlnN9r37FJdO4WokFBdB/sPuedOmkA4Crs1B03ErlbqK4eHhel0/iTnFyApq8XUabNy7Mm/1OsXi8znLbTxPvTpTwD5tplgDbW6+HzGbLTt3c+/GJj3EsQAtx85l846E+LVEZSxRLvU9xr/2pl1eB9VYJAOjgnSY6cHxY8vpW8pZxVUyUb5EUqqs1Bki6i7uZk0PYe1TV3gNnavx2+LVXAy6wrt3Ifh0d1G3OBq70jkZcbz6V2Ny6bI4qhDHfUPdyazi+mmQUYujsAxptJhaWGNvb4+dtRlGupITiURRptmp2mscnj6bOLWyJ+WzWKV1VdVYU6rT2BQlMRSPgvhnrO1eDGeLtEmutLnqMWzWIvbsXcmoWjlVY2cFGR+xaBV+s9tSwlkHuVMsXVrFOrhynReLO7mSWWWMtE4V6TVhNj6btygxskLexfyIiXqG909lVN1pxTqfvc5gvLbuUVykg1d3UY+dVPqgQWtijrWtHfa2VpiJWplprHCf5EpjSrZKXRk7d6lSfkJkbg327o5rVrWso8af4iAzbnF85tObYqptGaCxdOdX7x3cfxGSJlZS4PHq/CLalMisknwroe8aSzd6zF7NxRu3EuLqN/bFTYeravGOKYmjmK/CavYwcA0dSmVTn3eGOWg51YerDxPqVUacnqyjLIgxxdpNTEq+k3jQKay8t5Z2pGgWlXhRjQVuHcazxz9tiEP0raWoE0JD8jYexkbhqhoSwocbC/nBVbfFMQ1xPDyGavkc0s4Zg0Ti6Ivv7zVwcUqbsEa4TGeq/BMrNu/h8ZMnKfSTxLXvY9xdFrUrruqqamybDZcibriXLU/lajWoU78RTZq1om3HrvTo/TODhv7OmHGTmDFnEWs2befQkaOK22/i3Ei8hnyUCHwLBCRx/BaoyjZTIhD/jsfnd7N8bA9q5LPW4QKYqPBpsCzTi41+B5SA9qjI20yuoYM4ijT/BVuy4uglwt4mWK6Ea+aDLb0ppkoKheJlSaX+Szl6YCrNs5mpZA40pmCrCXit36SkdBcJQ06dOqW4Gl28eJGgoCCuXhX/15OS27y650HTLGkT7SRYt0zIWXsw288G8SYpJimeuDhR1D5GIUzKpu/ZWkeMoxGlflzI0eOnCX3sQ7f86slxDDQ2lOw0mWOBVxNiQ0W2zdgXHB5bh2zmRqqKkDZXI2Zu2MYd4aoafpBBJdRP2A2dqjFSZELNIHEUg//+3EQqZcSFUyOIejHKV6lG1XJu5Be/USvGbZSdltN9uX3Ti54FbVST4wgMirUZw64TZwgJDVU26/jYEI5ObEBOS7XkCQZoczRgnIcXFz+5qipKM4L8fiRkdXuy2agpBRrM3buzauM2bl1eQlcXtWQ9xuRvMpJFK1azfccODh06hChFIRJAiGQply9f5sqVQK5cuaZs+Inxf8LFNlGRiosLZ0X7XNiquTJpzCnTcw57D4oMn/rLWxD/As+26slxDLQOlO06nl2HjimZWoVy+P6KBx2LO2CmkgxDY12WnjMWsmufHw/vbOP3cpnULY7avHw/chYbfRNKLXwJcYwV1s7c9upZIbX5aTNlmeIGeXJKfXLZqsUXJawlpgWbM2nZas4EnMD7x0I4qZAgMUdFYfWBCz05dzmQt2+D8e6ST0dynKJ0mvHZ4njlr0bkslOTDxOlbElqi+PBYeXJqlZmQJuThr9nLDlOaou5+msNpqIUzMAprNmwWVm/HgfOo52LuhVXa1+SrqKO5OkApfxCTMxbrq3qjrvqgYgGa/dOTFvooSSSCfLuTdms1mmVa405hRq1pUFBB6xSZ65ORco0VkVo0bk2RR0t08YWa6xxazOCectXc+jw4WQW3IQt5vWGXjotiWZu7Znj4a14Ezxc2VEPcUzce/Q/akydKN6oL1MWeiikUcxjkYzktU8PHcRRS+EWo77IVfXhqh8poiv7q1kJ+ntu5faTZwqJS3DvjCP6QzCn1gyjbkF1j5EEGdGSrXZ/1u1M2FeFl0KIT2+KZ1OLcdQqMY77P7mqJq6JYl2KiAhhcdfiZLFSidXVmFG29wJOXr6thAq8O/oH1VWJlwb78t3w3H4gyZVYXEO0/8ZvhM6akRrrgrQb58nlW/eV9sX9x4ScZlbbEmRWtYIakr3OIHx2HuL5ixdEXl9Aa1cdMY6urUlNHCOPjaWmi6NK/LrI1ipiHHdxcWkX3HVYiA2MM1Opx0T2nbmkWHhFqIq4x7jYWKVWdUxMOHuGVSOffdrMzEa56jBo8jzWb96sJA8SesjJkyeT9BBxYCF0kWvXril6iEiSJQ7+kh8ap1TC5CuJwD+HgCSO/xyWsqXUCMQ/wqdfZQqJEznVeDGVjVrjQI0hi/E/cUpJJhATfYdJNWzVk+N8UkBMnV1p0L4Xgwf1pUvDEmQ21XNibO7GT4t9OH/hCDMbZ8ZURanRWLvSdeZ6LgddRQTui+QWIj5FxIA9Pu/D8O9dKdh4Cgev3+VNeDhRkQ+Z1yS5hSz1fWkwzVSEmi060e+XfvTq+D1VXLOSpc5ETtx+yPuICB4vbYqTjnIcbl3nccT/FKGht1nRJqeq5SxBOTDGsWBFWnbtyc8/daBhqayY6yirIL5vmLk24703c1NY6ML96F/MVjWbp6FjVYZ/IXGMi3vJxt5u2Kla7FLjk7HXJvla4nFoHwtb58JGl+ubgTH2LuVo2qEr/Xq2p2HpbFgYpbWaJCrchplqMHzJagJEVtXklrt3QSxsXRBrVVdRDdZle7DUaz2Bl46xtI1KOQ5BSKwK0Xr0Ig4dO65s7sJl6eXLl4ocPb20iT9blqRo40nsOH+Np8+fJ1kaE6fR26AltC6kPiYGGivK95qJbwbiZyGOuwuakENXfJLGnKzFq9K6cxd+/EGkoTdVOVARY6TBwq0D05asUNLEP3+0k+HldRHH7NQTGW63JsScfhFxvDlHKfWgmjZfm5cW45fgf/YcoXe86VbMSTWrq4HGGveuIs5wF7duBeLVVUfCG2WcytB3vrDeXiI8/D6e7fPikMbtTVgwC9N+mkiOczIhkcfMhjqT47ipWBwP/qaLOOagwW//FHHUYObSiGHTF7HF11c5pBAJbz68v8HClvlwVLsvgYF5JtyqNqRLt460rSXixdS8McTBm7lyOLPEc62SfTLk+UUWty+Ks0qsY+IcS/6odcpGFgu1kilqa4AGs/yN+HX6fDZt25bC2qjMkffXWNG1lM4Mq5alOjB98Uol4/bd5e11xCGqXTfteyJrdcMBE1m0YpWSCfTSpUvKgY0gYK/0xE8WbDaKhRmOcYzj5tKOFFJLDqPsdVpsc5ekbosO9PmlPwP796Fbm/qUzeeIuZ41TlnrHcvTf/YqzgVeSco2+8RLN+Et2m6qkhwnxZoostMGraSTe1Z1i6PGkvK9ZnMkIMGdNNxvBJXy6KibqDEje4lqtO32I727NKd2uaIUa/cXp44vo4d7TqxVDq0UOTKyxaV8XTr16EXvzk0on9c+mWdK6nETyb96s8bXj+Dnz4m8Nv8LieOfuoljrV9YuXE3d88vpHvp7FinSczzqS/iYNSlDA3bdKFvv550aVGL0nlzUmOoDyevPeTe/7F3HuBRVF8fZtN7Qui9g6CIggoiCihKsYACgoAKgiCKoqJgAQUUUGz03nsvIVTpvYM0EenSewmQkOR7v+fM7CSbzW4KEP8IJ8+z2TJ3bnnvnfKbc+85E97nifyhyWcR2QIoWuMDBk2NZMfu3YbTm4T7kBO7iPjpHSqVe5kvxixlx4GjCWtRrWuHviuBjCSgwjEj6d73eUez9FN3TmqcT/Ly3UZo2bfpP3k6u3bvNqbTxMXsp1sVN15VnZ5cO96guP5sI6R8K8bNmWc4hNk3vpnhDdXltCSfcB584U2+6PYbQ4f04+cun/PWC6XI6mcXpR5ZqPr1VP46eMS44T8y/V2KBrm2armuSyYyBVTgi1nLOHL8GAf61iTcjXB88M1eLFspN6tnOT6jFcXS7FHSFePE32xhT/H1uGmGc6HrF8WBimuRYstSiS/SKRxl6Ecdi6B5mXCXYtQtk5T61CMntbtNYvWgJpRIdX1bYjtTKssW+iQfDxzJ+s0r2Rw5jL5d29Gi3nM8nDsAL3c3AxLL7tVvGDVhqhlkfGorHnLheMQo1zuMEs+8xsedujNwYC9+7tqeZjUfJocVW9IjnEqfDGPVpm2cP7KJJeP78l27FtSr9jC5A93Hn8zkVZS6nfsaYRkkvEtKjpekL+JOjKexWCTctikNvGyZebJlD0ZPmGI60zmziK8quPLWKt5fs1G5zU9MnDbLsKgmdVaU8okxZtuPVM0T4uJJv4i3fNT+dhCrNmzmwoXTrPi2CrmCk3vw9cj2DJ/2HsqyVeLwZD+jGhckPJnzDHub/crwbu/hrN+6jcsX/2ZofXdxHIvToMdAlqw2varuSKdwXNCurJupqhLzMw3C0RZA1jx5yZcvL7lzZiPUX7wuJu83m38x6n7Vl7m/mxY6Ee3x8XEcn9TCrbOXlI4Rx222sMd55/veTHVwpnNl00/UKOxibaLzseyRmcff/prPX3uY7IGuZ0E4lpXJKw/PtulueHwVa/2JE3/z57JJDO7RnlYNXuDR/HJdcGH5Msr1ovCLnxkxFCW8wn63wtGGf5bc5M2Xl7y5cpIt1N91bFKbP0Vf+oS+w8exZu1aY92aiEZZV3hmXFM3VkJPir7yJf2Hm15VU3eOE8uOvq9T1IVDoiRcnLmm9t07J1U/+JG5S1cb9ZZzhUwLPTLqbUq5ieP4wOvfs3DVZi6d2M6qqYPp3v49Xn+hHPlD3T1UknXNhanXZSBrt9uF47zPKV8gLLkocllfG2HPfMrs35cy9oMK5A9NboVLPwNZ4/wOI6cv4PiJE0SJV9V0WByvLenEMy4tph7kfraNYXE8fHg3Ee2rUDg8+Tkopfr6P9KUITMWcWjPFD6vUphw5xin9jEcWugJXnu3HT/27kP/X7vxVcvaPFFQLMsy7j0Ie7wFA6Yv4uCRo0mXZ6R8itWtSuC2CKhwvC18unNKBGT6ycU/fuHpcNfr/5xPrL55n6Vd31GsMG4SzDWBhnCsfIeEo18RGnQfyZr1GwwRdvXSbn56KV8KTyyT35Q51tkzV00GLF3HmfPnuR61jz6vFnQd+87lhVKe3mfhhW8msGPPHnb+VI1wP1cXS09KNvqJZSvlZvUs16N20bNGnvSV46Z8W8BjfDJ6Mrv27uXahUjeL+lGOIZVpL3EcUxTOI7EESHTco6v/pnn8ge5sWClzNeRtaxZCi/3Nr+OmcyWzRH8UDMvQS5CjCTdJ/X8bf5lDW+ma9fPZ3C9lCyZiXnZAh+i8Xd9mD57juExNOryXoa8UdzNesjE/dzVzTNHNTqPn8mutb/QoFCI6ymaSfrQRuBDb/DDwBEsX7HSvfOFxK4QTwxs++VF92E+kuTvqs42gh56nS79hzF/oXi2PMSNKyvo+KQb4WgL5cmWPzJuygxjOlV6hOON9V14ytX0R6mjZx5e7DiQFevNtU7X9o+gXrFwJ0HsTcGX2jNi4nQj3tuVywcY2qAAmd1Y2zJ5PcjbvYaxdstWLl3Yw4C6BcjsanqwZ1Hqfd+fJavs4Th+dh+Ow5XFMeLD0mR36RwnNy98/huRvy9NOY6j5wO83rUXYyZPMWJizu3fnHKybjGZeJTYjDX4bsxM/jpwMNHD8M099Hq1BOG3OgvAFkipuh3oN3wsy1esMGZjiHiKj7/C4o5VjXAgLh/CGWPLRmCpunT8bSAzJnSlcWk33ngTxqEnWSs2p1vfIUTOnWs8fIi6cojJLcuQM8j9DALrGLMFlKTeVz0ZO2WaMS388IgmbiyOEmuxE78NHMmMGTNYFNGXd8vnIcTFucXml48aH//EHLsgNz1lxnN81Js84NJK6EnhFz834jha4ThScpAmyxc2/fKq63AkCVxcHZsp/OYRSun6XzB+9gIj7JK1Rl0E799Dm1DS1XrCTB4Ur9vFiON4/u/RtCqXx70FMKFeNgLEQ+6IyeaDyOvXubIgPcLRg1zVPmFSxGL2LvuFeg/lTO4FOqGsFNqbJI0N/zKNGDYl0lhnGLWzD3XdheNwMVX12sIOVHRpMfUgd5UPGDElksNHjnBx32RaPVWAEBd+BKzx6PxuC3uCD/uMZvOunewY1ZIK+UOTT/dO0hY3bfbIRpUPf2HBanOauVxz9U8JZDQBFY4ZTfg+zz8q6gyj33kAfxdTQhNPpp4EF63BJ7+NYMHCRcbNuFzg5M8Qju7iOKblxGqlsQXx4BtdmDFvQYKLfFkPcObPKbxZOjPet2KJsQVS+csp/G23Ol7YP5NmZdKTlyfF3/jFWK+1uVsVwlx4PhXBVKLBDyxdsdqY5ih1vvDHEF4qFOzihtHNxcVi4Pzu8zCtR0w0hGvU+dm894Ab4Rj0BG2HjWPbjp0JrsrTOqzlxvLvhT2oVjA4BQteavX2JHPpenTqO5w5c+ciMQFPbxlI3eLuYnWmlp/Ddu/SNOszjFXrN3Ds9y94KntAyly9slCucSeGjh7HihWmFztp4/Wjc2lTIWcq49yhXMe+kClerfuyfM0qFnzxJDlSscZ4ZSlLk2/7MmnaDGTKnMTzs9YhpdQv8Tf3MaxJacJdjjM3dbPX0yvr4zTr2ofJ02caccmM0B031tDxyZyu1zgasdp+YMzEacZanKgo09NiSvWztl1b+RWP5wxybanwzEmNLwawfN1GY8pvbOxl5n1WgZxBiQ9dbAEP0eS7fsxbvMSMa3bjIAPdiUFpn2cJGv88hDWbt3Dp/A761s5PZl8XPDwL81qXfixeuZozZ06y/aca6Ziqep3prR4gm6swH4YTn1+Zs2gJx4/vZmTjwmR1ZR31LM7r3/clYuEi/vrrL44f/9uII5fHZfBzT3I8/QETF67kxKnTCRbp6H0TaFY2p1sHKonnZOf2e5K1XGM69x5CRGSk8TDAcRpjzOkFfFghj+uxIFNh/Qrx4qc9GTlhMmvXrmHT4Dd5OLt7pzkeYWV565tfGDt5ijkl9swZY/3W9S0/U6tIeMoPVzzDKVP/cyM+qQSXN4Ktu3WO40mx2l/Rb9hYli9fbqT9e+7XPFswLLl3V4lhmbU8H/w6grWbt9rPxzEcGdaIEtn9Xawj96RQrXb0GzbOaIPE8U1ZOMaw9seXKZzF1bpZ5/5I/bvNNwePN/qSsbPm8ufevcZ0Rqt8sTjuHfSGG8HrQZE63zBv+QbOnz/B8m4vUTSVOnmGl6FRp74ssK+VFqvm9W2/uvaq6njuS/jsQeFXvmRK5FKOHj3EhqHNKZc3NX8IqTPwLlmPQRNnc+ToUa7u6J0u4RgV+QmPFwh1GY4jZ5X3GW4XjtevR3FwQReql8ia9tk1Hvl5+aveLN2whbNn9hHR6SVKZHHhjCyBj7u2yvKBN+g/YTYHDx9OiFtqnUv1XQlkBAEVjhlBVfNMICAXkKNb+/N8LtdxG02HA234ZcRYFixcaDxZlhth6wIXF/M339+ucPQMoeSrHRg7e45xEyv5W0/m5Knx0a2TaflknhQ9vSa/obIRUKg6346O4O8DB40TtrT1+B+TeLd8rjTmZSO8Sjt+X7WatZ0ruRWOxer3MEJtyPo44SLlHFr2E9UKBKYsciQYdrHnqFoqGG9XU7q8HqT54AmGN8moc7N5r0SI6wufTxlaDxnH1j92JHOFntDRKXwwvPFtnsQH1YoSnMpanGScPUMp/nxLegwZyZzISEMoCQcRayfW9qJW0ZBURL8wqEqVUiH4uHp44VWSN38Zyoq1sob0AHPaPkYWf9feN32ylealNt0YNnqcYfHZu3dvAg8ZT5f2z+Pz54u4CQOTwoW/4LN89MsIVqxey4m90/igXFb8Xa7x8SFb6Rf5sPsAJk6ZyurVqxOsPingT7Ip9spOBrV4ghxuHCYl45/Jhl/eijTr3I9JU6cbzn1krabwJ2ade+GYyY+Hm3RPmM7r6LE2SYVcfLm25HPK5nAnHHNQvcMAlq81haNwj/prEK8UsZzp2IwA9H1HjjfW98n0wLiYA4YYDHMlBg3hWJwGPwxm5YZNXDy3hV4vi6dQF/3lWZA63/Zj0YpVpnDsWd2tcCzT5AencBzXmOIuzIdnTqq1+9WwOKYsHItSr2t/Fi43HSLJcXXj7HLaV85LsAsLWSZbKGXf6cmyDdsMkW2dUy/unECrp/KnsFbaqe2yHq1CY77pM9RYN7l161Zj9oOjIw4j7uH8DlTMG+LinORDgRc+5NdBIw1HHyLkrl76izHNy7r0oprJI4xHG3ek77DRLF682LRu20MkwGWWdHyO/KGulwX4ZClF9ZadGTB8FHPmzDHOFyLY3Ifj8KTIK18wYIS5ZtM8t1xgeZfqFMzsyvGSjZCHXuensdONmRpXr15i/6D6FHc5vdSTAjXa0XfoOOO4sc7fLoa88VNcXAwru9WiUPhtCkebL9lKPUuLLv2JXLjYuKbKgx6r/6Uw6a/dAxq6Ebwi4joZXk+F3bnDC/iociFCXY2xTD5kKfkCH3QfSMT8RUZZlnfmuOjd/FT3QRdhMpzGlxyDtgDKvtWdOYvXGGtHL18+xeLeb1HG3QMkS1B5BFGo0lOUyhbsNOvALMOzeB36jJ/BoSNHuPpHL14rldOlt2afB1+n75hphlXWWo99dXZbyuUPdfFAwIMcduF4yC7Wbt68wZ453XipdHY3526nNttCKN/8B+YslevOWaKuHibihzcokzO1a3rSfGx+eXi66TeMnznPWEefnpkd7sah/q4EUiOgwjE1Qrr9tgiIJeTKlUss+LYqWXwSndZ4Befj4aoN+bznEKZMnWY87ZXA7fIU2/ECFxezj65Pu56qagsuSvnyD5Az0NPFyV1OsJ4E5i1Hvc9+Y9a8BezYudNwuJP0huf/jKlc/xzexohOTahQMBQfV149rQtVJhveoYWo8Fpb+k2cbjhecPRqKTdzJ49sYfBndSmT09/lGiTz5tyGT2hhqrX5zbB27RjUiBLZkgo8m80Tb79wyr/bi2WrJHbcuSSC9/CWqXxcqyRhDlwTbvw9QylatTk/jhjL8PfKEeqbXAx5hlak3cgp/LF7N1EXltG+nBtPmgGP8eHwCWzdcWvCUcaAcDl16iARA7/g1SeLGE5z3E9ry0Qm71DyP1qddzr1Ytykyfy+eLEx7VAusiKc5U/68eSuCDrUeZgsfi7GgDCo3JTvB49iSMvHyOxiKrBnaAXa9B/F6vXydP08Ucfn8X7ZLA4eRT3wy1KU8rVb023ACGOsiodUEY3ON2Mybi9fOMD0n1pTpXjWVB4e2PAOKcjjL7fmx6FjjemfYkm9dOkChyM+pqxjfDwPP7IUKU/t1l0YNGqs4aVV1m3J2sZbuVGIiTnP6tFf83KZXCk61fAKysujL7ak+8DRzJ4zB5luZzhasW7i4/5mcP1iZHY19dEWxOPv9GTs5OnGOtB0CcfVnajgbqqqxOf7doixxtF6ACRWx7mfPUkOsTp65adm+95Mj5yfeCMVf5KRjYu5dnhjOIYpTbPfxIq0hYvn9zGxdXkKhPvhmRDqwobN0wu/zGVp+uNglq42neMcmtia8gXD8XUM32DzxCsgN9U+7EXEgiWGsDfHawyru9XigZyBSdbQ2Tw88Q4qSf1v+rFgqcR828/sDx9xHWLC70He/HGwscbSEiFybB1f3J1aD+chwNt+frV54Onlg39QGDlKvkz3SXP4+/CRBGuE7HP97B+M6fQGj+YJTuHBiydBeR6hxrvfMGD0OOYtWGBYm+V8Jw8OJB/Hv7i4q6zr/xZlsotnZPsNrocvWUq/SoffBjMjIsKYNmodN9EnFtPpxVKEO5ybbF4hFH6uFT8MHG5YNnft2mVY1B2vCTfPLaN9lQIO00k98AsvxGMvvsu3vYYwftJkQ6CK5+IzZ84Y54uoRe2pkM+FE5JMfpSq34khYyYbHiuNBw1xccRfXEOP+o+TV9aTG22x4eHphY9fEKHZi/PyZ32Zv3QVx48f45+pbalcPDv+Fn8ZUzIO/MJ4pEFHBo+aaBw7cn6xHlg6crM+i3Bc91Mdimbxc3M9SyoaEs71mWx4+YeRq3Bpnqr5Bh9368+0iLmGlVOmlIuQc+Qn5clU1cNTP+XpYtmThB+x2TyMej/2dncW2UNfiEVt5/TPqZg/LNHrrYcvmQs9xkstvzWchInHW+ucaF1fZXyc2zmF96sVd+8kzeZNaP6yvNjyW0ZPj2Dn7t0Jjl6uXDnP2qndqfd4foJcOCnzCC7IU407MHhMfz59rqALx08ehDz2FoOnzDEsjtcOTaXtcyXJlmRtsA0PL39yPdOSYZPtMY2jo42xfX3Db7xaTsr2THTuZ/PAwzuIB2q3Z+zMBUa+1rEg17h/dsyna/NqFA1352VdRLI3wfnL83b7Nn9kAAAgAElEQVTn/ixds8G4rss54vr1q+z4fQhtapclt8QQto6hhHuPxP63eQWT9+HnafFNbyZNn22ML/Hwa10brTGl70ogIwiocMwIqppnEgJyITl1fAs/t25I7Ybv8H77bvQfNZbp02cYIS/kCbZ4L5XpbM4X1riYvXSp5Fo4euatxY8Tp7Fi0XSG9vyCFo3qUqPac1StVpM6DVvwefdBzJg/33jau3//fvvUtsQYh46VlJO+3GTs3r2VWSN+of37b1P3pepUrfIMT1euwnPVX6Ju4xa069KLcdNns2zZMsN6KTdRsq/jn1xI5Mbuz11rGd+nM++/9Tq1nn+OKpWrUq1mHd54pw1f9ejH5FlzWLV6tTE9Sm6CJYafuNyeO3cus2fPNl4RERHGTZC43hZR7cjHFGMn2LBwHJ3bNuf12jV5rloNXm74Hh17jyJy3nzjgvL3rnXMnzWDoUOH0advfwYMHsqosROZMXuOEVBbgl7LU9Zrl06wbvkiRg0fRp8+fejVuw/9Bg5j/NSZhit8YWitkXFsb1o/y0VNbhrF4rBm0VR+7dyOdxq9Rs3nn6Xy089Q+dnnqfVqQ975qCO/DBnH9BkzjbZv2rTJsDpI+62bEqtM+X7x4nm2L59Ct8/fo+GrtXjueWHQiq9+Hc6MWbMRV+Z//rGa3yMjGD1qDP0HDGLA4GGMHDOBaTNnG1YNcWtu5X9q/XA+eqc5Dd98jw+/+Y1h4yYwc+ZMI92WLVsMwebqZkzqJDdoIpKOHt3H75MH0rFtC7NfqlbmmcpVePaFl3i1UQs+7vQLIyZOZd78+UafO47PmzcvsWJwB5o0acYbzT+m4y9DmDBxsmFBkbZIXWWsSv8737xbXFJ7l76QaWhr54ykS7tWvF77Rao9+yxVq9XglXpv8X6HHgyZMI158xewZs0a46ZQRLt1k2TlL5aLM8ePsHLZUiZPnMjo0aMZPXYcE6ZOR8auHCfStvQIXBnjcpMt03BlqmFkZKTRdrEgybEhecpDJsfpr9fP7ydy/Ah69B7FpFlz2Lhpk/Ek37phlnqL0Ja2zJs3LyFPydvKU6Z/Sp6SVgSyhOGRtK6ORTleZeyJ0JAwPVJPaa+Vdv78+YbFU5hZY1bqIv0mYRxku5VW9ltgF2XS7ujoKI7s/4uFC+czftw4Ro4axejRY5gwZboxK0Nc8Vui2Rpzsp+cI+ShhtU+aZfkK5bpgwcd1jraw80Y57x/djN7xK982vJNatesTtWqz/Jc9Zep++Z7dOgxgPHTZrBw0SJDhEg/SjnOY8AaC/IubT1x+C9+l9iZYyYwdtJ0ZkdEJJznnW9ur1+/zJ5tm5g9YzqjRo9nwrSZRMyJNI41S/hZ/BzLOb9tAl+8/x6Nm75Pm46/Mnj0OKZNn260Vx6qyDlGzjWON9I3Lp9j9x/bmTMngrFjxzFq9GjGjJ/MjNkRCecAxwccUq6c3+X6JJZPZ64SWseKuyrnzyNHjhjjy/H8LWNW9pVj1rLEObbD8bOMe6nzju3bWTB/LtOmTGTM6FEMHzaUIUMGM3iw+RoyZAhDhgxl6LBhDB8xmglTZxA5d57BWJwIyXiU9ss1yHSM5Hrdm/S/CEvZR44DazxKnWUcWceYcBALYGTfDjRq0JB6b33AVz8NMqbKS9ukPDm2hJ3j9ckaD2dPH2DemF58+m4jXqrxPFWqVuP5WnVo+M5HfPPbcGZGzks4x0idrf6WvCTPI4f2Mn9sL9q1epM6NV+gWvWXqN/8c34eNpEFvy8xHkb8uWkZ0ydPZMDAQfTpN4BBQ4YzZsJk5swzj0PrAYKc4+VhhNRb2mm1WfpWxo3MprDGjJQvx7d1HrKOb3mX9PIgzfGhsbRXjg1pw56Nixn841e0aPQaNao9a7S5xiv1efu9dnTtNYxps8xrrxxT1piTc7n0ieS5fXUk/Xt8ybtN6lLrheeoXLkyVZ59gVp1GvJOmy/5adBops+KMB64y3Evx5VlKXUcU/pZCWQEARWOGUFV80xGQG4cRaDIxVbWkshNmZzw5IIjN0HWydp5RxGOnZ9yLRw9clXnl1nzjTiEcuKU/MVqY8U4kiegcjGXmx0p3/milqws+02/nLjlwiv1E6EgFxR5yQ2f/Pb3338bFxi5EbAucq7yEpElFyzJSy5WcgMieciFVm4k5Hept9ysSj7yLvGY5CZPypALt7xLu+Ri5MxILjSyn1x4ZD9JL22X/KU8uSmQtks9hLGwlptj4SJppXy5QZb95aZW8rLSSbmSTl7y2eond+11br+779IHcoGTGyS56ZL+Ei4yLuSmXoSzsJbfZJukkbQpiSTJU/rXkbUwEBbSTmEsbbT4Wm0TFnLhljEiNwgWX2Eh36XtcnMgfSb9JXURPindOEu7pV8kjaSVByJSjtwEiwCWtkme0r7du3cn9K3U3xI5koe0V/pGblpkH2mP1FvaIv15u/0gZVh9IWPEGhsyvqWu8i78hY2MPSnTsX6O/SvcJI2MU6mjMJeXsLXGjbt9HfOxPls3UCK6ZH85HqyXjGlhKmwdGUj+clModZCy5QbQ8UZK2modJ5LGyk/erTxlnEmeklbGiuQhx4jVJnmXfR0FtPSTfJc8HNNJvtJXjnWQdsl3Ob/Iduf08rtsl7bIeJDyndNJOY7lW8yk3tZ4kzSyn7ykvjKOnHlZ+0lZ0lY5dmQ/GfPWGJBziLCUcS9jROombFL7k/FgHd/CzxoHkofzsSNMrGPXYij7SB9LHtYx6Vym1EPOv5K3HJ9ybEm9pb3u6mr1q5wrpQzHcSr7OZ4DpDzrOJbfhYHFVd7luJD+sR4gWRyFtXPezucX57Y4freEh4x7KUfaZ40Tq76O77JNyrP6WcaG1EnGZWp9ZR0zwtq5zlK+dTxI/SStcL2Vc6KMTTk2hY3UV857cm6W8SXnxpTOMda5QPpA0sk5Sc6Jco6yrg+St5yfpO0y5qWOkq+UJVxkbFtjV8aTlZewFZYWQ+lPyUfKlD+rbOvc5pxejm8Zu1Z6qx+Fu+Qj5Up9pL1y/pZ7CXmX78Jb9pdjT9haf5KX8JLfZbukE06yr1w3rOuRjHWpt4xlOa/JPs71sPLUdyVwpwmocLzTRDU/lwTkpGad3OWEKBch+S4n8pROeHExf7oVjrYsVeg+awH/HDcDIstFVy4QctKVvOWz5J/aBdSxwlIXOZHLhVfykYuSXEDlJZ/lN9kmaVKqt+TpnJdc0CUPOdHLBUfq65iPpJcLgPwuZVgvK51jPR0/W/tZbZdypP2yn7Rdtsu7fJc08pK85bvzBcdKJ9sd06aXo2P9XH2WOkmewsFiLGNCXsJa2iDlpzY+HPO2+k3abglFaYfF2CrTapfFwVXbrIu33GRI/aSezqwcy3b12bFfpD5WO+UmXtoneboqW/KSfaV/JJ3wkP2lvtKWO/0nfS71kPyF3a0cP1Ivqa81Zq13d+1LrQ3SfslT9pd8HV/u+kHSW+NW9pM8HP+s/nDMy/rsnKeV1mqH9S7pnfvAVdtdpZO6WPnKditPeXdOn9Z0ju2TfpR2ODKTz85tc9zHqpPVBhkD0v/WGJC6pba/c37y3RpTVttSykPaapWflvRWebKPHENyPMlL6iwcpWx3fxZXKcfx5czfcX+rLZLGeglXKV/ys/6sdI75ymcrrZUutXfJ1+pD57xcfZc6WWVIHRzrlFpZkl76xjlfKz/H/SWdnIesa6GcKySd5JHanyN36xwjfWfxSS0P2S5lyT7Wud3x/Cn5W2NIxrC8JG9h4zz2rLwc2+wqndWm9KaX/RzrI+2V87h17ZfvUrZzvazy3O0v3GWcW/lIG1PKwzE//awE7iQBFY53kqbmlSoBOQnLCV7e0/IXF7OHb91YHG0hFek0Yx5Hjx03LippyS+9aeQC4PhK7/6O6e9UPo55uvos5fyX/iwuMibkdSfqf6fyuJP1sdppvaelj9KTNi35aRolcK8R0GPk3+tRi7W8/6/+rDr8r8q/lXJvt87W/tb7rdRB91ECd4qACsc7RVLzyRAChnCsGIKPq3AZ/o/RXlxi/3Msw4RjhjRKM1UCSkAJKAEloASUgBJQAv8xAioc/2Mddr9VNz72GANey+sy4L0tqCIdZ8zjyLFjxpSN+42NtlcJKAEloASUgBJQAkpACfxbBFQ4/luktZxbIiBTMyScx9aNa5k5YwYTJkwwXpMmTWJmxFw2bd5sLIqX6a/6pwSUgBJQAkpACSgBJaAElEDGEFDhmDFcNdc7SEAWxYuTEsvTnOUxULysWZ4I72BxmpUSUAJKQAkoASWgBJSAElACTgRUODoB0a93JwFxUiIC0vJq5+hJTqyS+qcElIASUAJKQAkoASWgBJRAxhFQ4ZhxbDVnJaAElIASUAJKQAkoASWgBJTAPUFAheM90Y3aCCWgBJSAElACSkAJKAEloASUQMYRUOGYcWw1ZyWgBJSAElACSkAJKAEloASUwD1BQIXjPdGN2ggloASUgBJQAkpACSgBJaAElEDGEVDhmHFsNWcloASUgBJQAkpACSgBJaAElMA9QUCF4z3RjdoIJaAElIASUAJKQAkoASWgBJRAxhFQ4ZhxbDVnJaAElIASUAJKQAkoASWgBJTAPUFAheM90Y3aCCWgBJSAElACSkAJKAEloASUQMYRUOGYcWw1ZyWgBJSAElACSkAJKAEloASUwD1BQIXjPdGN2ggloASUgBJQAkpACSgBJaAElEDGEVDhmHFsNWcloASUgBJQAkpACSgBJaAElMA9QUCF4z3RjdoIJaAElIASUAJKQAkoASWgBJRAxhFQ4ZhxbDVnJaAElIASUAJKQAkoASWgBJTAPUFAheM90Y3aCCWgBJSAElACSkAJKAEloASUQMYRUOGYcWw1ZyWgBJSAElACSkAJKAEloASUwD1BQIXjPdGN2ggloASUgBJQAkpACSgBJaAElEDGEbirhOOJEyfYv3+/vpSBjgEdAzoGdAzoGNAxoGNAx4COAR0D9/0YOHToENHR0RmnBtOR810lHJcuXcro0aP1pQx0DOgY0DGgY0DHgI4BHQM6BnQM6Bi478fApEmTOHv2bDrkXcYlvauEY8Y1U3NWAkpACSgBJaAElIASUAJKQAkogVsloMLxVsnpfkpACSgBJaAElIASUAJKQAkogfuEgArH+6SjtZlKQAkoASWgBJSAElACSkAJKIFbJaDC8VbJ6X5KQAkoASWgBJSAElACSkAJKIH7hIAKx/uko7WZSkAJKAEloASUgBJQAkpACSiBWyWgwvFWyel+SkAJKAEloASUgBJQAkpACSiB+4SACsf7pKO1mUpACSgBJaAElIASUAJKQAkogVsloMLxVsnpfkpACSgBJaAElIASUAJKQAkogfuEgArH+6SjtZlKQAkoASWgBJSAElACSkAJKIFbJaDC8VbJ6X5KQAkoASWgBJSAElACSkAJKIH7hIAKx/uko7WZSkAJKAEloASUgBJQAkpACSiBWyWgwvFWyel+SkAJKAEloASUgBJQAkpACSiB+4SACsf7pKO1mUpACSgBJaAElIASUAJKQAkogVsloMLxVsnpfkpACSgBJaAElIASUAJKQAkogfuEgArH+6SjtZlKQAkoASWgBJSAElACSkAJKIFbJaDC8VbJ6X5KQAkoASWgBJSAElACSkAJKIH7hIAKx/uko7WZSkAJKAEloASUgBJQAkpACSiBWyWgwvFWyel+SkAJKAEloASUgBJQAkpACSiB+4SACsf7pKO1mUpACSgBJaAElIASUAJKQAkogVsloMLxVsnpfkpACSgBJaAElIASUAJKQAkogfuEgArH+6SjtZlKQAkoASWgBJSAElACSkAJKIFbJaDC8VbJ6X5KQAkoASWgBJSAElACSkAJKIH7hIAKx/uko7WZSkAJKAEloASUgBJQAkpACSiBWyWgwvFWyd3T+8Vx4+o1Yu/pNmZQ4+JuEHUtlv/7vwzKX7O9CwnEQdR1tNPvwq65E1WKjoKb8aDH9J2gqXkoASWgBJTAf5iACsf/cOdlTNVj2f1TFcL989Mi8iIxcRlTyr2Zayw7uz1N5qAStI48xfXYe+1OMxbGtYP6zWD1RfTJgoziWOhdC8IKwpR/IOZe6/NbPFL3TYKmb8Cvy+HqzdQzid0HXzaFFr/B6aupp7/dFPsmQ7NGZv2uxLjPLXYP1MoPJZrD3+dvUzzGwPC20OhD2Hga0oDFfcV0ixJQAkpACSiBf5+ACsd/n/kdKzFq70x6tG3J+90jORITd2ceiF9dwPvFAvAr+TFLL90k3l7b6K0jad/6fTpN+pMbsdavd6wp90xGcft680LWALK+OIB9V2IS+LlvYBws+AlaNYdW7WHxYUiV71WY0BVaNof3OsPeKNJQkPsqpHlLNLQtCX6ZYcQxFUnCLWoxPJoVHngfjl25TWGR5o5IX8Kzs+GJApC/Nmw/C//Gw6Aln0P2IKg9CM5dS72+0UugbHbIXBv2nc14jkvbQ85geGUAnIlKoX5xMLguZMkOP2+Gq7cDLwpaFIPg/DD+b7guDxniIbIdFMkFL/8CJ6+kUBfdpASUgBJQAkrgf0vgPy0cL248x089TtC9expePU4yZEkMN+8Fg0D8edb3b8qj4d54ZMqEV8nPWHklUeTd+pCK58z4huTy86Nsx01clelZ9r/zI2oT5uNNjremcz76dm6erBzv0ff4Ywx7NReBwZX4ftslohMRumnwRaiXDbwzQaZMkON1OByV8o3zlu8h3N9Mb/OFfkf/JRGXwcIx7jC0qABl3oJ9l5zEcByMaQEPlYER+0gDWDe87+TP8TClGWQOgs/FsnaXTu4+PAjyh4FPWVhxMtFSfHg8VCoDbw6F89fvJBi4Z4QjcGIslMgKT3aEY5dvg5Mr4RgHQ1+HLP7w6Gdw9GI68o+DSR9C2bIwcPttitp0FKtJlYASUAJK4L4l8B8Wjv/HwV/+ovDzR+naLXXh2OzxrXgF7qL55BvEpHozf/eOh5gj8+jyYhECPT0JzZOHME8bXqXukHCMP8mIOtnw9XuUjpuuGst6LBIqHC0Sqb3Hc3xobXIGBPD4Nxu5dCM1kX0e6mYD35zwYA7wCoXf9qQgjK5Cm5IQkA8eyQmeftD38L0hHGN3QpXs4P8kbDnvZBmLhR+qQIA/dN0C11Ljmlo/3YHt8aegUSEILAPLTyUKsjuQ9Z3NIgb+3ADbj8BNB267foLcwVDh2zs/PfReEo7xJ6FxMQgpC0v+uY0ppq6EIxBzGjaug8OXIC49Tzbj4LcXzQcXX6+Ai3fpg4s7O5g1NyWgBJSAEvgfEvjPC8cnOl5Lg/EhntlNt+PtsRlb0D76HY4nPj3XZ5cddI2Tu1czb/ZcVu+7yL+znC2KKW9kwzewEDW/msHu9Z2pEOSFz50SjmfHUj+HL77F27LkclIL5r8pHKOObOL3iNnMX7OP8zfjU5yCG3t+HxuWRDJzZiSLNxzgYkzK6aUr487vYVnEbBZtOcY1Vzdq8Zc4sG4BsyOW8seJ60nu5eIvH2T9ggjmLNnGsWuupwfH7fuFauH+BDzZlW2XolOZRWoJx4LQpRUE+cHj38DFGy5HHafGQv4geKQdvFMUfP1dC8drJ2HDMpg1DSIWw8GLpGnQH90CkRGw+i+SL3B1tjjGwaFNMMddeqsJ8XDyT1g2D6ZNh8Ub4GJMcqvqbQtHq5z5Zjm/b4ALLsqxqpXwfg22LoGI+bBXpnKm8eRwbhIUCYNi78Fxd9NUY2H/Jpg3CyIXm+vkUs0/DvauhDmL4MiVtPXbxQOwJBJmzYMdx9Iw3Rn4N4Vj1D+wbC7MXQEnrjlZk4FUp6rGwoHNMG82RP4O+86l0sZYOLgZ5s6CeSvgnytJ+zXNU1VlkMRB/zoQHgxfrYBLaRRo147DqgUwZwkcvQxxV11MVU0YhK4/CLeV82DWHNh8yOmYTItwjIdT+2DFApg+HRatg7PXk/N3Lv36MVg+H+avglMu+ssx/aWDsFzqOA+2y+wHh4cTjumun4K1i2DmLFizF67pIk9HPPpZCSgBJfBfIHDfCcdM3n/SY+8tCMeYDXR5KifZa/Vh+7pBvFs+J74emciUKRM2r2xU6riY06muTbvdIRHLjsm9mfzHeePeNnbHdzyZonCM5/jEZjyYPStFGo7g4A3XQseq1bXIlhT09yG8wXjOOl38M044xrDm6/LkzFWDX7duY8LHlckX4IUtUyYy2TwJLf0Ww3deSWL9lPrGX9rM0PeeJl+gPa2R3gP/fFVoO2E3Vxz7ImYNnSrkJnf1n1m3uBs1CwTiZcuEzfcZfvrrKjHR1vZf2LR5DB9Uyo2/l83s24Ci1O27iYsxV9k76SOezh1g7Jspkw2//DXpvvw00c5CIHoVnz8cil/QC/TZH5WKvxQH4ThrOVTKDL4lYNFZFxasOPj1eQgIhZ6boE2p5MIx+g9o8TSEeIHNPv1VpsCKJfONfnA+2upuMXXAt09B3uqwYRO0qwbB3vYpsJ7wUBPYesHB8ucgHPstgOYVIdArMf2DjZNbCncMh2cKg7enmU7qkskGoaWg73owLLIx8FV5CA8ELw+weYF/AAQEQJZaMPIDyB0OPlKWDXz8zW2BWaDXHrgRDztGQOUirsvpsw5uONzs31wHlQvCCz/AhvHwQhHw8TDr5xkKjQbC2RvJha0DOePjgrZmnV8b5kLox8PWUfCcQ97Sdg9/ePp92HouqZBZ3xUK5Yfuy6BbbQjzNdtaqVvKa/Bij0LXVyGrb2J/C7/SDWC1fQzd3ADPF4MHWsDRSxC9GioVhCAf8LCBl7eddyDU/BUWfQPF8sBz38MpZ0c1cTC8MeTNDV3WuJ+ea1kcX+kNAz+AIqHgYe/7gILQKRIcndK4FY7xsG0MvFAcfB3GkHB86j3YdJpkT+3+WQD1yoC/fWwa4z8c6v+S2B5XwjH+PPxYD/Jlg/oyBhzWPq77BnKHwLM/JubhPB4SvsfAjA5QLMzkK+X754cOY6FufghyXOMIbPoRShaAd8bBOWvK8DUY/xEUtrhlMo+Lcu3g0AVY0xWK5TSPCZsNvP3NPpRj4sdNcCUOdo+F6rIm2YGDHD8hD0DPpXDZwSnQxh+gZGHoshjGfQWlsoCnzRyDISXht5VwxUnoxR2DHxpCroCkY+/BurDEYQ10/EUY3gYKO/CweULxlyDiL/P4TWCnH5SAElACSuBuJqDCMY29E3+0D9UCfcj5zMtUzBpGybqdGbdkHSsntKV8Zi88fB/j2y1JrVOOWcefXMbALt/Q8euv+drNq+O3A1l28maaDEOSd+rCMYaNHR8l0MuG1wPtWJHiOshYdnxXgWBvXx7vsp0oh/WNUlbGCccbLHi/CAF+BXiiQgHCir3ElyMWsWZ1BL82eohgb09CnvmRPxwdzcTsom+tvPh7BVDkpS8YNnc1G9cvZVKPJjyaxQdPn6K8O/0fblhm4BsLaVMsCP+iT/N0fj+CCj5NwxbvUP/Fj5hw7AY3r9u3F3iC8vnDKVW3CxOWrGbxiDZUzO6HV3BFWneoQ5FsJanz7VgWr17C6I8rkcPPC9/SHVh+8YaTv5GzjKybnQDfPDSbcYZrDprFcUyYnx2E45xT0PclCPCFJpOTP5GPXguPZYbsr8LBc/DpQ8mF48HekDM3vNwWJv4OW7ZARF94Iht4BcJ3G+1iTUqPho9KQmABKF8AiteCIfNhVQS8WQZ8vUCEywXL+mkJRx/IGgpFaiamf+sR8wZV0iesl4uDPjUhTxn46GfT2rFlNfRrCdn9ILAirBcBFQcL+0CH5pA/ELzzwttt4NN20GkE/BEB33SAqvnB2xuefhvafgqfdYJ15yE2Dvq+CHnLwIc/waK1YJTTCnL4m+Wsk3Ls9KMXQ+lwyP8YFAiHWp/B3JUQ0RvKZgGvYPhufSrTYWOh53MQ5A9froYop07eMwiKhkJgYWg3AFash6VToFl5CPCGwk2TruNc/ClkCYaKIsZDoGJ9aPo6fDQGLlliwnn0XIbOVSDIF55oAVOWwfpl0PsjKJYNemyDqDjTmvdINshcBw4Ir6PQvwu0eBaCfSBPJXj/I2j3GQxfA2cXwGPZwe9hWHw86dTM2L+gVl7wLwZzUlhbawnHrNnAPw+0/BkWr4SRn0HBEPDODUN3wnX7ugF3wvHPIfBAOAQWgo/7wrJ1JsfmT5rCt/BbsOd8ogXtylqolh/8ssA7PWHJelg2HT6uATmqwqYT5jhIJhyjoF99c+1w4fqwXqYeO1iez0+AolkhVyPYfy7lhwpru0KBUMj8KPScbFruvn4FsmQGf0/wyufgHAdY9oUpSl/uB6ftYnVbTyiQGYrVgTELYcMqGNEVaotwPAdHl8D3X0O1IuDnAxXfgDafwGcdYeUJiI6FwfWg8CPwXneYtwo2r4FBbSB/CAQ+AYtl6rJ9TC37EvJkhkfLQdYS8FEfWLoC+r1rTmcOrgBLHNJzBbrXgMz+UO5tGPc7rFsG/T6FUrmgy1r71NmbMKwxZA+E0q/DyPmwbgX0aWXWI/sLsFos5M5jW78rASWgBJTA3UhAhWMae+VGRHPy+Hji4RlI6Q8iOZ4whfIqM97Kia+nL8/2PsxNZ+uTPf+YtV9TLnMAvj4++Lh5+QaX5as111J3qmnPM3XhCFF/jOGLVu/y2fBNXIpLaXFnFFOb5MTPK4TXRp/F2f9NhgtHbw/8H2jO5P3XE+/Xrs6ndbFAfHyfovvOK/a1qfGcGF2fPAE+hD37E9scBSVxHBlRl7wB3vg99g0brW124ehts+FduAnj9kUldZJkbffwp1SLqRyQOIwG42jWf12OUF8PbH7FaTphX6KgjtlM5/Jh+PqWpsOqi6bhLGEsRbP04wcJ8fHl6R//5HKKHnIcheNZOD7OnIoa/jLsd5r+OLslBPtD81lwLQrauRCO8WfhoNxIO9z0Sr1WfAZhfiqwzZ4AACAASURBVFD5J7hkWR3twlEsOSWawp8yLdLeiKsL4cEw8KtoWh2N3+3C0V36hzKDn9P6xHOH4fxNpxvtaGj/KPj7Q8/dieLhdqaqGuXEJNbf3n90KGuui/xxV2I5lnCU9aFvizCzeACLPoYsAfBkZzibkjfQa/BuUfAPgUEH4YYDb1kT96ZsC4Pv15LkyUHcUWhcHPz84IsViRY7QziK5cYbGg53EOsJgyr5h0ODTYGSqx786SCeJOWlf+DiTZOHiDJH4WhV1e1U1WjoVNGcNt12AVy21AXw52+QJxQebAvHU3AUYwjHQPDICt8tcwjJIU6OGpvOYMp3ghN2L6KuhKOsIW0mDzbCoMsKuOKgLuL+gbdLQYAffL4ELkkd42DY6xAeAK8NgjOO/RcHx8QKZs8jiXC8AONbmOKmyOvJRaPwjFkFFXKb6283HE98COHcK/En4K0HQCx/P21wcFhzHUa9Ddn8wTM14SgPQmqbU2O7bzWth87lGN9Tmap6/qg5w8A6po19ouHbZyAsELqsg0v2pymGcAwBv6IweJPDg5Ao+OJJCJUHJMvggn0sHBkBD2SDXHVgq12MW3W8dMycii7lnp0Bj+aCfPWc0om32tchWzC0nmFa+K399V0JKAEloATuWgIqHNPUNbHs7FqeAE8PfB5uz8orjlM+Y9jw5cP4e/pQttMWYtwIxzQVk85EaRGOac4y/jC9nw/Bx7sALeddSrZMJcOFo08or446nWglNCp+kdGvZcHPJz/vRp43xVn8KYbXyYa/T3YaTjjllF7CI0TwbqFAvH0q0s0Sm3Zh6ONThOYzjiXfx9oeVoeRJ68nEZXXZzUnX5APgS8N5vi1mw7rLW8Q8W4BgnwzU3/saaflOrHs6P404X5+lPpkKRdSdJDjJBxjL8F7JcA3CHpsT3SSE/8PvJYH/B+GFeI4Jtq1cHTX4ccGQbYAePhzB4ugXTj6hcEw5xiEF6FBLvDLBzNPYUKxLI5u0jeUG+t8MOOkPb27ysTD4DoQGACfLUu8Sb0d4eiyqHgY8ioEBUA7h3Is4Rj2Chy6lFTUXhwP+UIhX7OUw2vEH4U60t78MNVhWp7U4/QYU9BlrwcHnfKX7fM+tAunb+Cc3cJkCMdAKPw2/O3sUdZV44Tha+YN/VuTk4pf5+TpFo7Alm6QKxiKv29ObzXEZiz8UgNCpd+WJBWUzmVaFscqPZJP7bwwCYpmgYDnYOfZRHHrHI7jzDgzXbbX4C8XVr75H5ti74mOcPIyyDHyekEIyAvjncS8c/0ShGN/GNUa8oRAsQawQaa+OieW6R27oWZ+CCgBs49AtKW+ndJemgYls0GW2rDnTNIHGSIq3ygMgU5TVZNZHONhWAPIGgT1h5hrDJ2KMb+mIhxd7hMPIxtD1mBoMydx6rohHEOhZi846TQ9eUpzyBEMjcfAaRHj8TCiEWQLgkaj7b+5Kky8Dr8LOUPhnUlwxslyvq+/acUt/zUcueAqA/1NCSgBJaAE7jICKhzT1CEXGVsvHG+vMF4Z9g8xSaw50Sz7sBh+nr5U6vmXW4tjmopJZ6I7Khxjd/F9xWC8fUrw8bLLydYUZrxwDKP+2DNJlqLBNaa/nRt/n5w0mXLO3Ba9nE9LBeHt+zQ/7Lma3ENu3CF6Px+Gr09ums44b+6TIAzrMeZUUmFoIE9he/SiD3kg2JfgV4ZxMolwjOb3jx4gxDeIl4ee5FqSOC9x/P3b84T7+VDg3Tmcue7qTtTqbGfhCKxsb1oHy7SHC/abrZ09TLHxdA+7SEhFOJ7aDmN6w1ft4IPW0PRZc83Xg+1cCEdXcRmvQ/OC4JcDJpywe221hKOb9C0KgX8OGH/cyctrNGyfD32+h3YfQetW8KysR/SFT5feQeEo5Sywl9M2aTmfLEksxxKOmV81PVk6aoDrs6FoGORoCP9cTioqrS6TdwkM/3xO8CsGc2U6p0Mmq76ArAFQsUvSdXLW/ocHmFMTczWG05fMXy3hWGeIi/WS1o6O7zHw+aOmxa37dohKYlZyTJh8qqpVVbcWR7tQqi4PKgrDTPuU1Nhd8EIeCHwcVjqE9UhamvnNEo6u4jje3AjPiOguCXNFdLtxjrPma8gVBE9+4zq+4ZHBZpiRnG/AP+cgZjk8kQv8K8Hmk+6tglJDSzgWe9hcTypTJteecC0aJX3cQXi1gOnNeOKBpBZmx/Zv/9F88PDo5/CPc2gNN15VkwlH4Ph0KJcTvHzgsQYwTJzyODt6SotwjIadv8OAHvD5x9D6PXi+BPj7wQcRyYXjy32TC/25bSFXCNQdDKfkQUcMfP2U+dDi27WJVktHDsbnm/Dds+a57PE60KwltGqV+Gr6vDnVtVhL2P8vxO5MVj/9QQkoASWgBNJLQIVjWojFrKJdKVnr9iJDTsYmzOYzdo0/zdAXQ/D2ykaTaZfdTzONv8rpw4c4cOCA29fBw6eJ+j/rri71it1Z4bjTLhyL03bp3SMcZ7ydB3+fHDSZbBeON2bzTr5AvP1qMvCECxHIeUa8KlbKzDQYf/Z/Jhz3/Vrt1oVj7DaoFA6+hWCOWECuQTtx9pEVhuxPFHEup6qeh18lLpzd8UmAiKCckCOz6ewiXcKxEPhlh/FpFY6FwT87jHMQjufXQcOHTccmMg0zLBvkzAWZ/cxpmXdKOF5YB2/IukxPM9+EcvzN72kWjhGmU5PsqQnH3XbhWBQinYTj3NYQ7gcv9EoU/o6H84WxprjIXBdO2cVFuoXjdXi/hOkkqM8BezB5x0IcPt+KxdHwJPoKhPlD08lwUQRIT9MyV7FzcquUQ3HGx5SEo1jvasg6ycIww269czVVdf6HpkWx2s+uHQRdGA+Fw0EeABw9C9fnwkPZIaA67D3jXvRLBS3hWPFV0wGNdzboLtNhHablOrYp7gDUSYNwXNMxkVGyqbzpEI5S9p/ToUFZCPQGcSZTsCqM3Jz4AET6KKVwHBc3mmtqjf29IDSr/dgLAA/vtAvHec7C8Tp88iiEBMDPO+GKu2tWNHxR3nTUFWIvO1cucHzlzguv/ZrytGfHftDPSkAJKAEl8D8loMIxDfjjj/fnefFeWu5btjl7Jr04jSa5fPAMrE7/I9FuPflHL2tLcT9P01uoeAB19fIqxkdLr7gXn051vaPCMe4QvaoF4+2dlxaRF/8HU1VdWxyTCcfohXxQLBBvyyOq8z1L3GH6VA/D16cALa3prSlYFA2kKWy/NYtjLH98X+kWp6pKjexOZQJ84PUxIIHaCwdD/qZmKAOjzW4sjvPaQKgf5KsFc3aTYJI9ORSyB8C/Khwvwoelwc8XanWBXZYn0XgY+qo5VfWOCMeL0FaEtS/U7GxOfzSmjMuUv9cgOADutHCMOwK1ZSpvHpjiNM3XEIHi9fN71+skjww0LY75mt6GxVH6/xFz/eYPO++8xVGG4dHhUCgz5G0MB87CD89BSBh03+ywds84gpL/S0k43txktziWht+PmQ5aXAnHpZ9DjiDTcnvSvhbSsaSjdotjvrfg2HnTsvpYTvCvDFtPp83i+Ep/mNke8odC0CMwe7/raahiba2RhqmqG7tC3hAo2x7+sVuTE+qcTuFo7HcTdsyB1lUg1Bf8H4LZB+11TEk4XoIOFSHED57/ynQKZHiajocxTSBbyG0Ix2j46klTOHbdkILFMcZ03hQWAF84rI9M4KEflIASUAJK4L9GQIVjGnrsxtyW5PPxIsdbM5KGeSCeMxMakNPHk5AaAzgU7bj20SnjS7uYN24UI0eMYISb18ix89h1KfU4hFbOd1Q4cpVJEiPSK4hXRpwxnPJZ5ch7eqaqxp9Zy4A29aj3/RKuOAYcd8ww4bPdq6pPGoVj3D5+fjYMX588NJtpt0Im5AVcm0urIoH4BFaj9wG7E5wUhKGxawrbb004yjTWkoZznGd6ptM5jjWr9eQoyBsIodWgXWXTkUy7pXA9wTWoizWO0fDxg+DrCz12JHVz/78QjjFLwHCYUwn+uOCw3isF4Vg1O/hXgM0OXlCNToqFH6qaQqnz5qQeT6Wch8PBrxJsk/Wf1oDIQOFIFLwjFtYg6O9k8dvf21wfmLuJGb/P+eHGwramA56qPeG83YFLui2OcdCrhuks6d2Z5jRGq9nO724tjj+bHjPFSU2ysBuylO00vFUcAnPDsJlQMTeEPw/bzjgwdi7M/t0SjjV6JZ+ue1Y8lIZD6Iuw17520ZVwPNDPnIoqnkzFG6wzx0WfmsJS1lGevgpx++AlEXeFYOoh1wLQqq5lcXxlAJw5D/3rmlbiQo3gDxftk2mw5WUabEXY4OQMxspT3o8PN62gOV6HfU7TL9O8xtExQ+vzNfi+mrm+9KO5cF7m98oYeAkyB8KXy01nSFbymBXwpFh1K8Dqfxym4N4J4ShxLV+FLIHQdELytYtWHWRuzijxqBoEb4xKYa1mwg76QQkoASWgBO5yAv954RgUuI3MmVN/BftuxpZpM+mP4xjH7m5PGo5xgp74hnWOjnGi1tHx8SC8vAvSIuJcmi2Fd2pMpEU4Rv81ix86fM73U3YSlaLjnlg2f/OYEY7j0a83cvWWwnFEc2huZ14qko2QQC8Ca4/grLiFT/EvncKRWLZ/9yShvt7kfG0E+6McHdbEcWRUffKJx9Ua/dhnbUtBGBpVS2H7LQlHuwMfCcfRdHp6wnE4xm68AM2LmCExJJ5aQCXYetFBfLmyOMoaxAdNC9+Pux2EYxxMeQdCfP5di2OCcHwadjkIR7HWNRePsE5rHOP2Q00JA/EALDzjcLMrvWS3wgb6wUcLHbx0ypIrSzg+DTscvIuKB9MWMk3W985bHMWDSrfKEOhvOvi56jDOxcnPsznBNwcM3OnQD9KMf+BNWWMWBr9sTxTA6RaOwMYupnAq+BYccHLCs0uCrJ8yLc7uhOOB/ua0yhIfuJ8qOKMlZA2Ehy2Lbm845+it1M3BbQhHCa2SH/pvdPAsK3EgG5hTlZ/rmRh+wpVwFCtf9XzmOtu+WxNZGcPhGDR70PS42tOygN6E76uYVrYm4+C8FUZGdoiCiBlwMso8hpIIxyiQMdlSpoX6wAs94YSTg5gzY6GIhON4I+VwHHE7oUYB8M9lhhu5Zq09jYaRb0HWtHhVjYez9jA1CXjFqU0jM2RL2/lwwS4cB9UzBdx7M+Ccg3fgBOH4JKx1EI4y/j6sYHrMTesax2RTVYHNPaBgZijQCHaddjgvAXsiYc1x04vxvgFQTKapvgIbU/BGm9BO/aAElIASUAJ3M4H/sHCEmD/PUDf/ZjxEEKb15f0nPfbGJ4tW4L6TLjHh9Sx4e0hAem/yVe/IxFU72b1+Gp1fLICfpw9Fmk3laEzaLYXuy0ptSzwnlw/jh27f0bVrV7q0rU4BXw+8clSmZcfOdOn6Hd2HreBEQqiQGDZ1KkuglwdeJT9jZYpxHOHqjLfJ4+9FSO0RnIy2QlKYdTItjl54h+alWPESlCiR+HrgwWp0XnmZm1en0LxcLTqM38iwBlnJ/FpGCEeIPzWDFiWC8PEMo2yzX5m5djf79mwgolczHsvqi1dYRbqsvZAwS5MUhKHRuhS235JwjF7Kxw+G4Bv4PL3+vkKMs6UkSTe7cI5jbV/8sTk9LZMHvDQwacB0icGYbI1jPExtCsG+UKg2zNoAO9fA9/UgW1YI8oSH0uMc5zbXOMafg2bFTOH2SjdYvxPWTIX6D0G2cPD0Seoch+um8JUpp40HwbbtMHuxGahcGIqlTuLGFW0MS7eZ8SZ3XoabZ+EdCXHhC698D+vs5bxeOrGcOz1VVfpojqxl9Ida/eGio8fIeIj4wHSQE/YI/DgF/tgLGyKhlcRp9AHxJCnixBobtyIc4w5BoxJmHL+qn8D8zbBrPfzawhSEHdeYISzcCcfrv5thOnyLQL/fYdsqWLLTjAFojcEr86BMNvDMBB5ZYNCfiWFNrDSu3g3hGAzZs0FgEegwAjZvg3HtzTiO4lRo6oFEq6Ar4SgWq8i2pjgOLQPdJsL2vbBxLrSuZI7zJ75IatU9PBZKZQXfXPDRQNi4GzZEQMtKEFYBVthjBjoLR2nDucXwTF7wCYHP5iT1VLvqK3N6sVg3rRAirtotDzjGNzU9GOd+DkYuhu1yDNaFrNmhUDbwLZhyHEex9L5ZGmq9BxOXwZ5dML8fPJ4DAkrCTAdr6pIOZr0Kvw5zN8CqSPPhSfQ5+OBRUyDW7AQrtsHaGfDm45BTYpX63sZUVXkAcgTeKQOBvvBMG4hYDzs3QJ/WUDAc2i82Q3fEn4evqpgOiB6qD8Pmwe59sGczTBsIzV+FEbJOMmGagEuq+qMSUAJKQAncHQT+08JREF7ddJJqOezWxLSIx/QKx5i1tH/QH6/g6nz5Y0NKhiauU7R5Z6P8++PYfe3fEI3S2miWfFQMfy+b6zWSmWx4F2/L0gSBGM+RkQ0oEOhPzlcGss95fabTGIw/OYxXsvrik+9d5l6MSZzxJ8/r531A8WBvl2s0bZ757Osi44k3HrBfY0qj7ISnSThGs7L9w4QE5KHpjAtO8SNvMP/9YgT7F+G9yPNJtl3bPY42z+QnwJGFzYvQB+rw3cIj3HC0rkavpMMjoQTmacq0czeSe9tPYXvM6i8omzmAXE0mcua6o+OMGNZ8WZawgBw0mnAGx02xe36gcrg//o9/y6ZLN5I6U3JiDpfg7fwQUhqWOE3PjNkCVXJBYFGY4eSARTwbdq4IwVlhhEM4iLjD8PFTEOAFmTJBJhvkeArGRIBMA63QycFhSzR8WQ6C8sJkK+SGVUG79TJIvGpa2yT9YxDsLv1DYKR3CMdxeCY8nRe8bWZ9bBKs/AOY/R3kyAIdVzlYo8QhyFAomRk8pO6ZwLdyorUy5k9oUBJ8Pex5+cKP9iDyR2bCM/kcyvE2y5n1HeTMCl+vTCwnZg2Uzw55m8AxJ8+p0b+bQqlwCzjuFEfTQmO9nxoDBUMh79suPLBeh0mfQtGQxLZIe7xC4KVOsM8hZqbkt6YT5AiFJuOTCharLHfvZ1dBw0fAz9Pe35nAMxhqfAF/SYgKsciuhYq5zLWKRy4milWJ/j68iWkFs9nHyjPdnaaWXoevxELlBdnrwz4XU0Zd1W31N5A7B3w/Gz5+wf4AxF5G8APw20qIcjiepE8q5Ya8bzhNS70OU9pDiTDTuZMxpu0cX/wa9l50mjYbD6t/g3I5wMs+5uQYCC4M7acmxsdc2xnyhJtTKM85iP6tfcxwGqGVYZ3lZTUWesuU0CBov9QeM9JVo+2/SfzJ7jKVUxxA2dscVAy6RMDPtSHHQzDNIVzIuq6QPws0HGGPPSkzBD6BImHg4diGYtBtkfkgxSr+5l/QrBwE2o93my90XQ+X4+BoJFSXBzfW8eINT7SAyV2hcG74zLJcAuu/gwJZocHw5OE1JFSH1O+tMUljY55bC2+XN533WP0iY+/5drDjbGK/RB+ALnXNNdYGD/uxbfOAHI/BxL8gwTJrNUzflYASUAJK4G4k8J8XjhkNNf7EQGqIY5xHO7L5ehzRJ7cxf+JoRk+cw9pDV9w6w8noemVI/vFHGFAzHF+fB/jERUiOtJeZHuGY9lyTp7zBqZ3LiZg0hjHjp7Fw4xGuxP1fghEnefp/45c4DvevRbYAfx75cm0qMRwzqj5xsG81TBwLM1fChVgHsZBRZaaQb9wFWDMHxk6AlfsgtXWvF/+G2RNgzETYeJQkc8DjL8Lq2TBmDERuBJkialntrHLGSTl/pV5OClVO0yaJG1hX1tQVTx6Sw8og+jSsjIRxY2DaAjgkQseqsJXodt9vwp+rYco4mBxpirs0lxEP+9fApDEwMRIOX3Gqn0yRlKmlAdBwdKLwSleVpYy1MHkczFgCJ68lndqYlryiz8DqeTBuLEybDwcvONXTKZOb52DNXBg3DuashnM3EseJU9JUv8qU5wZFIOhhWGgPTZLqTuJcaAvMmAjTFsFx+xTZtOxnpYk6Cktnw9gxMGs5nLrumlv8JVg310w3Z7354MEaYnEXYf18GD8Blu+BGw5i3Srntt5vwl9rYdp4mDzH9GZrOOFxken5v2HRTLOeU2bD5kM4xV9ysZP+pASUgBJQAncTARWOqfRG9IJWFPD1ImujKVxyd0FMJY//zuZ4jg9/ley+vpT8dAWXndY5pr0d/5ZwTHuN/rWUcYcZ8GI2AgLL03njpSRW0n+tDlrQv0RAHI00htBAaDPPfSiHf6k2GVKMrDutnR/8c8OYFOIXZkjhd0mm4l22aBZ4rAMcc/aUepfUUauhBJSAElACSuBfIKDCMUXIcez94SkCPH146oe9Sac/prjff3jjpTm0LBKAX9HWLHCarpr2Vt2/wjF2T0+qhgcQXrMvf12JSWWaatqJasq7lMCl+VAmCxRp7mK66l1a5/RUa9fPkCcU8jSBQxdu3WqXnjLvqrSx0OcVCM8GPTelHobkrqq7VkYJKAEloASUwJ0loMIxRZ5XmPxGNry989Ny/tUkM+ZS3O0/vTGW3b9VI0dAPlrMSR7PMW1Nu1+FYyzbvqtI5rCH+GjeKa7HWvPF0kZNU/0XCcRC/9qQuQBMdorn+F9sTpI634TvnjGd0Lw1ES46eO1Mku4e/hK7w4zf+FAr2H8/Cud7uG+1aUpACSgBJZBuAiocU0QWzf4loxk2ehF//WsOcFKs0L+30fRyc4vl3a/C0cRlOeC/RXi623+RwG0dL3drg+NgwwwYMw0OS8iKu7WeGV0vPaIzmrDmrwSUgBJQAv8NAioc/xv99N+oZfRCPiwRSoCvD96eNmye3vj4+BJedzTXUo3n+N9ootZSCSgBJaAElIASUAJKQAncjwRUON6Pva5tVgJKQAkoASWgBJSAElACSkAJpIOACsd0wNKkSkAJKAEloASUgBJQAkpACSiB+5GACsf7sde1zUpACSgBJaAElIASUAJKQAkogXQQUOGYDliaVAn8P3vnARbF9bVxkba79F7EgqKi2I09amJM7L3EaOyxJrGXGLsm0RiNJrGX2HsvWBER7IK9giAggtIRgV3Yze97ZgssCAjG5B8/x+dZmd25c+bc996Zue+cJiIgIiAiICIgIiAiICIgIiAiICLwPiIgEsf3cdTFPosIiAiICIgIiAiICIgIiAiICIgIiAgUAwGROBYDLLGpiICIgIiAiICIgIiAiICIgIiAiICIwPuIgEgc38dRF/ssIiAiICIgIiAiICIgIiAiICIgIiAiUAwEROJYDLDEpiICIgIiAiICIgIiAiICIgIiAiICIgLvIwIicXwfR13ss4iAiICIgIiAiICIgIiAiICIgIiAiEAxEBCJYzHAEpuKCIgIiAiICIgIiAiICIgIiAiICIgIvI8IiMTxfRx1sc8iAiICIgIiAu8sAqpMBZnKv/jrne2BqPh/DwEVmYpMlH/lM6tUmSgyleS367/XD1EjEQERgX8SAZE4/pPovg+ysx6wZVwfegxeypWXWajehz6LfSwUAfnlFYzs8wXjNt0mRa4stK24828ikBXMrqmD6P3VEvzjXpL5N8X9/zs8i5Dd0xnSdxi/nX1OquJd7qGKuAtLGfqxB7YSIwxNbak2Ygeh8en5EEglj/bOYli/YSw5E0OKIh8y8B+GQvloH7OH9+OrRT5EJcnz6d9/WPn/tWry62z8bij9x6zmwtNkXjv0qngur/qGzzwdkBkbYmpTla823iXm5V+o4i+z6pvP8HSQYWxoik3Vr9h4N4aX79Z0KuaIKAk7NI9Rg4ax8HgYcen/rztbTGzE5iICIBLHf3MWKEM5MHcUQ4cMZvDgVz9ffbuMC6nKd4t8ZRxnZAUZxtY92BInJ+tfwVPOjc3TGDVqJjvvpZOVH1uV32TLtFGMnrWLe2n/fwitKnY/X9dxw7F8D1Y9eIEiv77/K2NQ8EmSNn+Oi7mU8sMO8+ylhsqo4g7w7QdlcCrfnZX3kpH/B/UuuEf/4T3y04yvZY+ZTWdWhyUirnHyjpUc30kf4GxhQ8flD4lLe4cXgUnHGFvPBQtpWZoPHM/UKV8zcPYBIhPzI45yznzXAFdLGzosvcez1Nf1W0W892Q+ruxG+c6/cjn6xb90L887Xprvcr/vaVzaGpv2v3Er+sW79UzMv0v/3q8pexhesxTWZfuy8U60huSpEjg+rRXVypan44IAniTlPKmTT31HM3cbZKU/pO+YKUz5ZjCz9z7ieWoSp75rhruNjNIf9mXMlCl8M3g2ex8957XT6d/r7T9wJgUBsz/Bw96W1gsu8zhJfFj9AyCLIt9hBN5f4ph2hxjv9YQf+rMIn/VE+AUiV77u4fuamZDwJx0tjDA0Mse+lBtubrk/pSv1Y0uM4CryGjn/6m4ljzf0o27VOgzZEY0ir3L/E+KYwPoudkhMnOi7O56MnGdgDjJJG+hqJ8HE8Ut2xKX/TxdBOUr9/S1l2B+0sZdhbFyXaZeSyPgPGvTyI47Kx0tp52SOiXFdpl5IIK0YeisjtjCkSU3qDtpE6Iv3zfqgJGLbCJrV/oCB64NJzsiziBGJ42suqv8/xDH9+BhquVji0GkZd569fA2ZKi5xVBKx5nM87KUY1xzHifBENMZZJU92jeaz+vXpt+oWz1OLceEWOjJKnuwew2cNBLk3eZZH7j9LHIVzj6N1w/r0W3mdmBdvq0+Fdvjf25kvcYxkfV8vXMyMqTHqEKGxcq0+GZya3JhyNva0+/Uqkcl695eMU0xuXA4b+3b8ejUS/V3/Xmf+/plUUfuY3KEJDb/8g8uRSbx+tP954qiKOsCUTk1p2Od3LkYk/b9Zn/z90RIlvAsIvLfE8a9nG7k2ajAPdi8nbO+KQj+hS3vg17s+l9f6kJGveauIQx2/jg4WRhg592d/yrtiBcvi5pwGWBhLaL4whPSsPKxWJI5FHPy31UxOzO3znLsRSapS9Z904cqPOIKcmDsXOH8jgtSs4umdm7mHPgAAIABJREFUdXs+HznKkH74E7cS01+zYH5bOP9X5GRxZ0FLXC1kNJkbROzLPMsekTi+ZqD+vxBHFU//7EUFOwuqfH2Qxwmve4FSXOIIyJ9z//JFbjxOQp59n1dyb3F7ytua03D6OSL1LFWvAf41u5XcW9KBCnbmNJwWQEQeuf80cbz3Wycq2pvTcOpZwhPze/P4GvX/y7vzI47q4X3A1Us3CEvMIFP3GFdFs3lANVysKjN0532e6bksqKI3M6CaC1aVh7Lz/rN31ptB+WAZPbycsKw/iRMPY4vgzv/PE0flwxX0qu6CZb2JHH/wvAg6/ZcnnKjb+4bA+00cp/5OShF8/ZSXvsO/Tw1O92rIdZ8Y/tJ7KVesCfM2iaPqJU+u+3H0sDd+t6JJV+meBMXSqAiNi0kcValEBJ7G29uHy6EpZBUWTZ/xjLvnTnD44BF8gyJJURU12cPftThmEBt8Bb9jB9l/4Ch+1yN5UYREE6rUx1w5dQRvv9vEpOuTHxWp4Vc5ffQY/ndikL92LFSkPr6Cj7c3frdjSNO34qpSCb/qy7Fj/tyJznhj63N61E38jh3F59IjkhT6uuYeclVaFDf9j3HkqB83ol6ifK3uuY/XEMJznPQW+v5cbZXPnzjmPU7vuyqNqNsBHD98mOMBt3j6Uom+GkUhjvK4EAL9j3No/wG8z1wjIjkrlwy9s+ltpvP01lmOH/XhUkhi4R4FymTCr/lx7PARTl0QFlgFuJQLi++Lpzhy6Ai+gY9JEhJK6J2x+JvFJI5K4b6g61NC4X1CzvMHF/HxPsQR30AeJ76pt0M6T2/7c+KYD5eCE8jIJh3F721BR6hSIwg6c4yjfjeJepGpN7YqUiOvcfbEcfxvRfEyMw+x5lXimP70FudOHOHYWY0s/csv7/nlsQ+4fNqbQ0dOczUs4VWPi7wHKJN4dOkUx32vE5GiKNL1q0yJ4Oa5U3gfOc6ZwEckZGTlM2eUhK/shrutOdXHHCc8UZFPG31lXiWO6dG3OX/SW93vJ0XUDYpCHFWkR9/j4ilvjhzz50ZkyutxEuQWgzgq055yK+Akx3wu8CAujcyCnsHyeMKun+PkkQMc9PYlMCwB+Ssve5W8MXFUyz/PqSMHNfJD85OvPw6AMpmwK6c54XuNx0lycl8ecuKCr3Lm2GGOnL7Co7iMgvuWR6zuq/z5Ay77Huf42Zs8eSFHmZyPq6qucd6/qgjW9fHC2dKLrw884HlGzt1KFbGOPl7OWHp9zYEHz9HblSNFHkfIVc190edyCLHpma95saciOewqvid9CQpLfOVeob6P+x3jsLB+CIklvcCB1qmQQcz9i5w+4cOF+0IM86sT420Qx4xn97jkc5RjftcJT8zIM4Y6XTR/FfGPCPQ7rulD8HPS8unDv0kcBX2Czh7niLdwf35OWj4YZfdAEc+joLMcP+KNz6VgnqcpXjOeQMYzHlzy5aTPee7FvEBMa5CN5v/bDZE4FnYRaYc9hzjWIuhQOH/pr2qLMzXeEnFMvb6KAXUcMC1pQIkSJShhYIzUwhJLS0ssrazxGHaIjFcWUMVRVNNW7jeZOk62WJgaYlDCAGOphfYcLnRZE6F5K51tcezOat8VfNXIBamhRi8DQxtqfbVRHWOY8zgCVElcXjaQ+s5SDA1KZPfBtlZvfjsfR+Zr8X1T4pjBrbWDaVreEmMddlr87Gr1Y/W1lFwPbcWFGTQtW5b2S24QtGU0zdzMMFLra4DMoztLA5NRpD5g5+hmuJkZYaCWJaV8x0Wcj5PrLRoVXJzVlHLl2rPkeiBbRjendHZ7GR7dlnI1SUHqg12MaV4acyMtftLydFx4jli5HvlQXGLuR+VxqzaSg7FpWhcXQX4z3Mu1Z3FQENsnfUZ5C2NKqvUxxKbmQNbdTMkTD/mSm+uG0tBVpu1TCQyMJZhr55GVdQUG737Gy+xX06/OH/nDXYz9uBwWxiXVY2hQ0owK7eewe34HHMxyxziiuMwPLSpSutoI9j97mf3GO/3uJkZ+WBozY+1cFuaZfWOm+8ST9jKA6U3K4GgpwaikgZ5+Vjh3XEpccgby2+sZ3qISNibCHNXOJUGGbU36LL9MfEYe7Fp4UL7dQq5c3cZ3bSpiZVJSfZyBoTU1+q/hWmJGHlemLCKPzqFLNTtMtfO6RAkDTBxr02fZZZLTtdYKVTJXVw+naRkLjEvmzGmb6j35xTeKNH0cVTHsH9WYCm6V+HzFLRLS85IdDdaKczNp5u6MlcSIkgYGGEvMsRDGx8qZDr/fJTFNBdkWx078dvgPhrVwx1KvT9X7ruTqK67aKpID1zCyednstkKfjGyq0+NnHyJfZhZOSjIv81MrTzzaLeDCpW18394TG/U9ogQCjtX6ruBK9twU+iLn9PdN8Shbm9EHI0mW698NUvEeV58KZRox+eRTUrTJazKvzKN1lYq0+/kc5zdPpHVFG+39zgBZ+U4sPBtNakow+79rTUVrU0oK16WBlHJtfuBUxAu9hCB6xHHxYZZ/04pKNqaa+45BSczc2zLbO4yUPEG3quQg/vymBeV1skuUwMDIhmrdfuLEY/3Y4kyuzm+HV6W2/HTqCD/1rIGDzBADAxOazLlCTEr+Y6se4ZSbbJvUDi97SfY1WMLAEFnZ5ny9PpDYNA2BzLy2kPZV3LCVGmNoYICRqUw9D6wcPmHu+aek5GswyyGO7RcdZNm3bfC0lWT3W+bempmHH5Gs1+/MwEV0qlmBaoO3EBKXjvzij7TydMNaoj2vxEw7/5xouzCQaKFv6Q/YOeEzKtloZatxsqP+xIPqBbb+SOvuIIpLP9Gmaun85f5yVS032+LY7md2LfmaNp522ueKAYZWXnzxWwBPX+jNU/k9to1vTw1HWc71px0zr+4LOR2hSRKjuDSPtl6lscmnT20WXCYquYDxkt9n+4SO1HTKT/4v2fI1fcwkaFFX6lRpwxzvA8zr8wGu5kbqOdFour/Wwqki5fomxrWujJ1Ud+8ywMi6Kp1mH+JhQhE8KxShHJrZmeoO2nu4QUlk5Voyad1culd0zh3jSCbXfutBvUrVGLj+LtGpCm781p3a7vbIhHtnSUNMZeZYWFrh0HwQX9YrTxk7GSaGBpQ0NEVmboGllQMfzThNWHwmqFK4sXkibavYZz/vSxgYYV2lIzMP3Cc+PYfAZV5bTI8PvGgz6xD75vWlgZsFRgYGmDT8Ht+QOPUzTJVygy0T21HFIWdNYGBkTZWOMzlwP55scZnXWNKzPl5tZnLs9Fbm9KqLi4CtMNYlrajSYyGnHydprn/FFRZ2qY27rRRjQwMMjEwxE/phaYVTqx+5HZagm5J5/upZHH/Yxm9ju1DLWfvsFzAu25Lvdt0mNk+8hSrlJlsnt8fLUe+ZamSFZ/vp7L0TqwnPUFxlUbe6lM9Pp89+4OatncxsVYvynn1YGRhBSg6MpPjOpUPtClTqvoSL4fout0qCNwyjmWd52vxwlkfxmhuCKuUW26Z0pJqTbt0i3MMEfaax5/ZzcjmvqFK4tW0Knao7YaZdfwjjaeXZjqm7b/Ncr3HmjaX0aVyD1tMOcXLrj3xZ3w0L9fPbgJKWlek6/zgh8a/ziMgDufj1nUJAJI7vGnFMPsG3VcwwklWk64878b0QwOEVw2hgb4yhzJP2I8bx475gsgp7jV7EKaoMP8qi7ycwqFkpTEsaU6bFEMaMHc/4CTPYFJSqSUqjI44mtthby3BvM5m1R/3x27eAz6uaY2RozSeL7+oREAV3f2+Lq9QY2zr9+XnHac5f8GHHT72oZm2MsWtX1oWkFfpGD96QOCpDWfypPc41OjDqly0cP3eZS377+HVAHWxNDDFvOo8bL3LesGWc+IZK5jLcGzWmjK0nnWds5KTfUVaNaIC9qREWjUYwuXMFHDw7MX3jSfyOreHrxo5IjCTUnhJAYnYAYgYnv62Mhcydho3KYOvZmRkbT+B3dDUjGjhgamRBoxGT6VzBgSqdprPhhB/H1n5NEycpRpLafBeQmBPLKD/Jt56WSGy6sSH6pXaBLOfkt55YCvIbl8WmYhsmrDyM35l9/NK7BlamRlh9/AvXk+TZbw9TfMZT21aCmUcnZm0+SYD/EVZ9/SEuUmNkldowdPRcdt9LzUM29SbOywCmNnRAamxNnYGL2O1zhsOrxvFJOQssLWQYGhjhrpccB/kpRle1RmrTlT+fvEDNHRRB/NjMETPzinSds5WT5y/gu3cF3/dqy/h9z0lNj+DE7zOZPPhjypgZY1K6OQO/Gc248ROYvuEyLzPkhP3RjlJuNWj39Tw2HvXn0iU/9i/5ivqOUozNmzD3cnxOPKX8FGOq2WDh3oBGZW2p2Hocyw/64rtvIV/WskVibMVH868Sr7cgSBHIm7MZpnb1GLRgOz7nznFqxyK+blkB+4/n8SwhDcjk/squVLCSYFuzD3M3HSfgvA87f+5LHQcpJi4dWXYjgWx+mHmV2U2EB7QRlb72zr0A1oNYGXmSpbO+46sW5TA3McGtWX9GjhrH+AnTWX8xnnSBjOqIo6kNdlZmuH82hqUHhD4tom8dO2QmVjT/8VLuB/+DVXSvaIPUtia952zkmP85Tu9aQL+6TshMXeiw9DpxehjoqaTZlJ9mQm1HLN3r07CsHZVajeGP/ac5ve9X+tUVFqJWNPvhIjGpOkaTzoGhlbA3d+GLTY9JyGW6SGZbP3dszd0ZvCeCRC2plPtOpK6TFe716lPGviodJq/m8Glv1o5qjpu5CRb1BzO2kyelvNozafVhfI7+yZgWZbE0lVJj7HGeJOvSp+qIoyn2DjZIXBoxcP42jvt6s27Cp5SzNMW4VE/W3I5F4OHqf5kPWNOrCnYyW2r0msl677OcO72LXwbUx8XMFJd2v3H12UvtCwY5ZybXx8XGgwYN3DC3KkODLv3p170d3258QPxLnVCtbN2fzAes/cILe6mMsp98w687TuEfcJLt8/tT39UcE0lFBm69p16Aq56dZd1PUxnZujLWUhOc6vdk6DdjmfD9Ck5Hvigg0ZSOOEqwU/e7IQN+2sLR0978Oak1FawlmJTqzqobMdkLSPmZKTQsZYVNhz+4+yyVrCe+rPpxKkNbemAtNaVUk94M+0aYf9NYFxDNC7mCm4vaUt7Wkgrtv2ftkbOcO7OfNTP70Wn8dsLiXub7AkIZ5cvqH6cx9FMPbLRyhf7o5KbI/0JHHCXWtlialeOTr39l10kf9i8ZTCNXC0wtmzDzTDhJ2jTCyvA19KriQc3PvmL22oOcuXCRsweX8XXzslhJzGkw5RSPExQoo86w5ifh3BWxFc7d+As1lsK51/o/RTh3fv+UEWv5wqsiNT8dzKw1B/A9r5X/kVb+dycJS8iZc2enN6WsvQf16pXG0qYM9Tp+Sd/u7fn2z9vqlwmZwRvoX9sFc9tqdP9+NYfOBHB6z68MaVIGK6kzrRf4E5FcWI7kNC7Pb0cleylW1Xsxe/1hTh1ex/edquFka4nUsCTGZfSS4yDHf0Zz3G1tafvrNSJTlDw/t5EFM76hrZc9ZqaO1O06iJFjJvD90p1sWzKH6d+0xcveDFPHunQdNJIxE75n+ckwEtPkhGwcyAelLLD16sqUlQfw9T/NnsVDaVrOGqlzK+b7Cd4WGiTl/jP5uLwjHh98QGkrW8p80IE+X/agw7druR6VjDIzhE2D6+FmaYtX1+9YecAX/9N7WDy0KeWspTh/No8zYYkad055ALM+8cCxXG3qlnPCs+Uwft52jFMH/mBYszJYSyxpNOUYwXEK/lI95ez6BcwY3gpPezMkrg3pOXgkY8dPYNqaM0Qnpuc31ICOOEqxtbdG6lKf3jPWceikNxumdsLL0QwTl04sPv+YZN0tLvMRm4c0oLSlLVW7TGb5/tP4n97LkuHNKW8jw/nTH/F5lECm8in+G35h5vDWVHE0R+LSgB6DtDqt9uVp7H3W96+Fm6UzXZddJTybOabjN6slFe2MKWnbnkUXw8jO2aMKY12/mrhZeTJk+y2eCu7GmY/YMqwRZa1sqdp5Isv2+aj1+W3ER1SwleHUci4ng+O1ccyZPNoyjEZlrbCt0omJS/fi43+avb+N4GMPW2ROLZl7Mph47fRWnP+B1p7OlKtVh3LOVWgx5Cc2Hz3JgaUj+bi8LVLLBkw8dJdnBVxLBYAu/vwOISASx/8FcbRqxPBflvDb77/zu/bzx7IdXIrVd8HKfxa92PMlzqYmlBt2lIRsF4gsbs1piLmxNR1WR5LxFkhjztmL5qpqVFJC5YE7eJSWY+FJOTyUCjJjJM1+4UGa5u2w6vkWviglxbRMX3aGp+sRxCzu/NwcG1NTan13gReFjouWOBqb4FSlPg0bNaZx4zyfBpWxNy6JYa7kOCpiQ0OIz8zjupnhx7hqFpjKWvJbaGq2tUJDHE0oKfFk4PaQHPKbcZ7Jta3UFhBJ5QFsC07NtlTKL06lrpUpprWmcCHbeqUljiYlkVQeyLbgl9ntM85/Rx21VcOUSgO28jBV5+oj59K0ethIBDzOk6IjoYURR1NDJJX6sfm+nnUx5Sgjq1ghkTRl3q1kNLlVUtk/2B1LaTkG73+a06+s28z7yB6ZbVuWBheW+VRF9PruuJmbYtv6N24lZWQT0rTby+haQbC6vZ44Kh8soqWjORafLiE4OSPfRaYwDwtzVVXFhfEoXoEy1/pcjv/kOtjJzGix8B4JutfVWuIoNTSl4pcbuJ2oR6SPfUt1OynSJj8QFJ+mIQXKx6zqUhpLiQvd1t4jUT8xjTKJyMhElEoVqtidDKxog6xMLzbeT9RbyGdxb3FrdXxijXE+xLzQLQTTubt9FqNGjGNFwLPc1sicC0+7VTRXVZnQpz5/cjMhx2Kacnw0tR3MkDaew5XnqZo+qWLZNdgTO7MyfL7+LvF6fcq6v4R2blbIqo/l5NOUguNutMTRzMiUir3XcT0uPdtK++LEGOo4mSNtPJtLz15of39T4miOkWlF+qy7QZyOdcsvMauZKxZGBph69Gbt9dhsQq64+gMflbJEKuj/JFmrv5Y4mhtS0u4jZvtE8kJn/VU+YXNfT+xlMhpODyBGbbpTEbdnKNUcLSjdYw03n2vngnoiPuD3TuWwMavOqGORJKrrHGiJo4UhBkZl1Iu9Z3pv518ZTvUPKp7vHkI1J3OsG0/ndGRytgVecA2N2NxPbbWQfvAdpyOTtP14U1dVod/NmXniMcm6ugzKJ2wdUA0nMxkNpvoRpV3h5yWOGgpViKuqMoRlXSpgb/UxPwU+pTDj6qs4FMVV1Qpj0wr0XH6Rp9kvIV7gM7kJpa1kNJzqR3ii9ppSxRMeFkeGIrfFUH5hNi3K2WDRdDYXInRWmjdwVVXFE/E4H/kX59DC3VYt/3y4LsmJHDVxtDbCwMiNTovP8UTfLKyK58C3H+BmXZouSy/zRC85jzJ4JZ9XccLCawT7HhbgHio47TzbwdBarljafszcM4/RwUD6fTYMEiychhgVShy1N8w3cFVVxR9kdIMy2Lh15vfzEXoWbyXBq77Ay9mSqsN3c/+Z5p6uIY62GBkY4dZhIWfDddemMCtUxB8cS8OyNrh1/o3z4Sk5iWKUwazuXQ0Xy6oM232PGIEQaYmjnbEp7l2XaGRpuX7qmem0qGCHWb1JHA+O1ZIieGNXVTVJa8Lk/feI1T1DVE/ZNbIhZa1kfDD+CMHPBTalIv7weJq42+LWcTH+j5P1+hDC2r41KWVVhSHbb2tIneC9XGCMo5KQVX2o4WJBmS/WcC0yVfNcVATyS4cqOJoaUKKkUy5SqXq6lSF1y2DjMZDNN6N4+ZeKhCMTaVbBDrcOi/AL1c1L4cQhrOtfGzerKny17SZRaX+hSjjCxGYVsHPrwMIzj8gJ+VUSsm4AddysqPLVVm5Gpal10RBHB0xMy9F54WkeZbvNp3J2dms8Hcz4YNwh7sboXqS8evWLv7zbCIjEsVCCohnct+2qqnYhzHar07q1GZZh6NHcrpKvTi0lob9+jLmRlM+WPs0VR5K2qzcOphKqf3eel9mE8lUJxf+laMTR2KozG57nid9I3EBXWwmm5UdwPFmBEBUWu7EbjhJTKo7yISmPM3zWnZ9oYmWK9KNFhBTqLqcljkY618SC/5bMRRwL6L3qCcvb2SKR1Gbq5ZTshb+GOJpi3Xkd0Vriq5GQzv6BpTEzsaTj2qe5F/5p+xjgZoapQy+2Pk/TLgi1xNHUms7rnvJSt4AThKXvZ2AZc0wsO7L2qc6CqDlL2v6BlDGX4NBrC0nashYURhwl1nRc84RUffkksvlzZ8yl7gw9HEua8IZUGcbvbeyRmX3Cr4+01j/1KdPZO7AMFmbVGH86XtNWo0qe/5PY/mVpLCR2dFsfyYtcbxZVRCzvgFNeV9V8LI6qiOV0dDZHWv5Ltj5MLtC6WRhxzKOY9quKqNVdcDGXUWuyP3Evta+FtcRRZt2BlY+Tc8fsJG2ld2krZO5fsT9a4+qoerKKLq6WSNwGsCsqJfuFQu5zqojb+iXu1mZ4DD/8ivUw695CPnW2wKzpT1yP0yMhuYUU8q1oxNHMuj3LH+Upx5G0jb7lbDArN4g9kclqK68qbhv9KthgVmEYB5/kqfGWdZ9FrUphaf4hPwQ9J0+iyxwdtcTR3Lody4LjyVXhImk7/crbYV5uELsjkjSWZd6cOFq3W6qOacuxA6Vz5GsvHMwsafPHg9zlNdIOM9LLAXP7bqx5FKfVS2dxtKD5j1dfyaCZuHMgle1lmH26iPDnqaCKZ8dAT+wtKjBk72MScs3tLB4saUdZG3OazLnMUzVT0hJHSwnleq/nTlwRXAxVcWwbUBkHMwe6rLjH87xWybRjjK3jgoWkETPOR2mtGm9KHC1oNuciUfrEBUja/RVeTmaYtVxAaPQL9dgWmziqoljXuyIO5uXouTqQmNcS5pwppI6dLEqMY6tfufE0dzmO5N1D8XKxomzfzTx4rlnM6kvW31ZFb6SfpyOW1UdxJDQOTS7RNyCO+kL1tlUxm+hfxQmr6t9y+JFOvpY42kgo03MVQdHalzba41QJexheyxXr8gPYeu9Z7utHGcyy7pVxtGzEVL8wEnQWLb1zCpspB75VL+jt2i0m6ElK9os7YZ8qagP9hdhE/XIcr1gc35Q4qkjYO5K6bta499/E7ejc+CuDV9CzqjNWDb/n9KN49UsPDXG0Q1qmB8uvRKHHk0GVwL5v6lHaxp1+G4X49pwrXZgjwSs+x8vZioZTfAiJy8whjjafMv/SYxL1Xxgm7+MbgUCV6c26m1HZJUPemDjaW9L4+1MEC+fV+5d8YBQNylph9tEcrocmqPuwf1QDytq603f9DaLy9CFkVW9quFrTYPIJHsRqZBVMHEF5bxmfV3fGwmMAm9REUCC/K+hVozRV69TCxdKK8r3Xakmliri939KgnC3ufddz7Ukqf6kSODCmMe527vRZF0RkrtopSkJWf0nNUtbUn3SMe8/lJBwYQ2N3O9z7rCMwQktUtf1Vhqzhy1puWNefyNF7z9RkXEMcHbH55AcCQuKzXxoKh6QcHEuj8naU/nwlV8NTCnwZrAenuPkOIiASx/8BcTRy7MWG4EiioqOJ1n5iniWSXgRLYcKmbtiZmFB1QgAvs4P+BYtjA8yNpXy8OPTVzKd/a2IWkTjmV8cxbS/9XCSYug5gf6IcJQrOTayOhbGR2u1p8JBhDBum9+n3EeVMDTGpPolzKTkuo6+qr3NVdaDHuns8fpKDow7P6Ie/087GFOP8iKPiObdPbuGPH6cyYdTXjBg2gI/dJRia1OS7C8nZwd064mjTfSMxuYijxjXUwtSGrhtichPHjON8XdEcU+su/Bmji+XTEUcbuudtLz/FqCqWmNp0ZX12e02P5Se+obKlQFz/JOml9u1docTRhm7rn+YhjunsH1wWC6krfXcJMYuC7ES29XbDXFqFMaf0CKJgcWwuEMpm/Hw3SWudfBV9soKY09gOqUQoCaLngqltmm9ynHyII6on7OjviZVgKXVtxJezNnMxKu2VupyvJ44KYu/6sG3ZT0ybMJqvRwxjQIsKmBmbUmPCGWLzEkebLqwNz0Mc0w8y1MMaM9c+bNeSRMXp8dS0kyJpNp/b8Wm5Fmc5qGRycVoDHGUmuDbswYDBQ3PP6f4tqGBugqnXGE7GvCjYipcjMM9WEYljfnUc0w8xorId5q692RKRpCbKmRen09jZHBOXBnTvP5ih+tffsP608LDA1LQqo44/JSX3eilHLx1xtOnEykcJubMtph9iZBV7LFy/YNPjBC05f3PiaNNpBcFx+otTBWcm1VPXZeywPDg3cZSfZmJdZyys27PsYWwe4ph/HcfMK3P4yM0SabXRhD9NgszLzGrmhqWpC/W79WPQUL3707Bh9P+kIpYSCVW+8SZC/aZdRxxt6LjsPrG5Fo05kOXaUpxnRlM3LKUNmXZORwz1WihDWdHVHVuZG302h2gLkL8pccy/jmPm1R9pWdYaWbVveRSpifUqNnFExdN9I6nnIliGnan3+RTW+oWRnOeFoF7P9DaLYnHMv45j+tGx1ClljUuPtdyLye0Omxn3AL/dq1gwcxJjvhnJ8IGfUsVGhtTraw4KxE7NS96cOGbGP+Ds7tUsmDlZK/8zqtjKkFb9mgMhsdr5riOONrRbfJ2obHdDTfczr/7EZxVskTh/QKc+AxiS6xocwKdVbJFJPRm252GuZDU54Cm5tbgjFe3NqDHam5C4PPFk+WZVzeuq+qbEMZPAeW2oaCfFuW5HvhgwJPf9bsCnVLEzQ1p5KLvuxajvDTriaNtmIYERybnvo5mB/Ny2MvZSZ+p2+IL+edYEAz6tir2ZlMpDdnIvJp2/dBZH2zb8ciU8x11TACfjBJMal8POpQvLrkWSouWgb04c86/jmHl9EZ2qOGJWZSjX7kdDZhALOlTBQepEnfbRZbFoAAAgAElEQVS9Xu3DZ144mMuoNHgbt55q7mWFEUcyb7KkqxfO5lUYtlNwPVXyZNNgapf15IvF8+hdpzwOlQdprYvJHJnwIe725fhizTUiXwhuqtdY2MkLJ5kTtdt9no8+1XC0kFFp0BZuRiUTtLATXk4ynGq34/N+ecezldr7QlZpEJtvPFHfU3XE0bbVPM4/Ssg1nhmnpvJRRQecOy3hUlhSrn0581fcetcREInj/4I4/o1yHKrYfQxwl2BsXZdhq09x7e5Nzm4cQxMHE4xsWrPsYeEZv4o/Yf8OcdxHP1cJpqUGsE9NHDM4NtwdmXFJTK0ccXZxwSXvx9WNql/+SUh6fpkFddrriGNx6ziqSLzwK59Xs1UnxzEwlmLt4ISLixPWkpIYGL9F4mjVhT+j3w5xtPqbxPHA4HIa4rhTRxxVxB4cShUrCTa1B7PU+yq3b55l84SPKCUzweazxdxMznE/1aGe/Vd+lgk1bNTur/PzIZhFJo6CwNQ7bJvYDk8bE3UCGENLD9pM2sU9vVjTwoijKvESv39ZG0eJkJDEGKm1A07OLjjZCEkWjItBHA8xtKKGOG6LSlEvMNMPDaOitRRZ26WEJxXkSivn5Jhq6gQXppaac+c3p6v0WqEuJZLbkS4b0UI2/g5xPMwITw1x3KwljvJT46jpIMPQxBIHJ+dXrz8XV9yq9GLZDb3Y0LzaFUocDzOy6v+YOFoVnThm3fuVtmWskXkMIzwqEeQ+avJpbmSCpb1TvvcoV7cq9PwjSFvT8A2Io/w4Y2q5YC5pwYLbMbzQt5oIWKti2dzXA3sze7qtfkis2qT7domj8v4SOpS3ReYxhEcR8eoRLj5xFA57yf09M+heywmZkQEGhha4txzNxqBYdO9r8k4fzfe/QRyPjaWumjiuySGOqmQCVw+liTo5lQFGEivsHJ1xcbJBZlQS46p/kziqkglaM4ymZS0wKSnIt8yRb2yoll9U4ig/M5UPy1pjbGKhkZH3GejiSinPbiw6H0n+YY4KLs75hPK2Mhp870dYXrPkP0oc5fhNb4a7jTEmFnY4OuX3DC+FZ7dfCAjXuFkXShzlZ5nxUXlsjU2wsHPE6RUsXHAt5UnXX4SkQnoWx3yJ40kmNXFXE8el/yBx1JE+i/L9uXY3ChT+zPqkInbqPjgU0IfKdPn5DGEJr7c4CjHzQQs7UtXJnFqjDnA3Oop9oxpS3r0jiy4Esv6bRpSzq8aI3beJjj/F1I89sC/dneWB4RqyrPBnzqeVsTcxwcK2EH3m+/IoPhX/OZ9S2d4EEwtbHAoYz8qd56ktyMLr60KJo89UPq7ogEunxSJxzP/G9//iV5E4vmPEUR70E03tTLG0tsrJxFfCAFPXZozfH/aa9PtvMmffJnGUc3acF+bGpjT5SUiYk3fFVFT93pA4Jh/la08LTExK027uQe7EKzRp/VXRrGovuKrWensWx/80cZRz/ZdPcTW3xtrSWJORUp2B1QSXJqPZ+aCQpDjCECkuMLWeLRLTesy4/DcsjnrDrXgWyJ75A2nkKmQtlFF3ih9Jar/awmIckzkxuqY6yUXp1jPZe+O5Nr5XRczarrhYyP4WcZSfGkN1WynSjxdwr8D6kQrOTamHg0xKw1lXiSuWu54eAAVuvl3iqDg/lYZOZkgbzuCSLu6xwHMXsOMNiOPBYUJyHGd6bSxOchxz3sjiWAzimBn4g8biWHM84dFJ6rk9/UNXLKQNmHquoIyl+ri8CXE8w3f1hXM0YuaF/CyO4azs5o6tWTkG7AglXp1M6O0Sx8ygeRqLY42xf8PiqIeDIpYbBxcz/CN3rCSGyGqO5fDjBK2FT69d9ubbJY4pvt/TtIw10lKfMGnTBSK1seJCTL3alfRvWhxf+E6leVkbpKVaMHHjeSK0L7YE+QME10yhZEURLY6Ky3NpKZD2DyZxKkzjzpkNS5E2Mgmc3wYPOxm1xgoWxzylWf5R4qjg8o+t8LAzo+6E44TEvj6OrVDiqLjCT60rYm9Wl/HHgnmtuEItjv8Occy88Sudqjpi5jWCaw9iQHGV+e08cTCrw1jvB6jDHl8zjjryWVAdRyHzcFtPRyzqT8T76hbGNfOgdItZnAmJJXLbUD4oY0edMQe5tncarSo7Uqrz71x+rLXmKq6yoGNVHM3rMObQXWI0/tkFaKTg6oKOVHU0p84YIS6x0MZqGSJxLADK9+hnkTi+U8RRzokR5ZFKPmT+3RgeXjjK7s2b2Xn0MpGpeRK+vLVJnMXNuQ2xMJbQfMHDV91gdVlV83VVzWtxVBG5rA3WEhNKDz5EYpFcmvLryJsRR7nPKCpbmCJpvpCHqXoP2/eNOMp9GO1ljXmTOQRF3OPi8b1s2bwT70tClrgizCNVJCs6OGJm6sKXO2LyuMYWPcYxv5F9eWE6je2lSGpMJDbxpbqJYHH82FGG9MMfuKFP4BS+jK9hh0wqJP5JyEnZztshjkLyns+czZGUH8pBbdzjqzoL8ZRdKWUpxa3fLoT6ePpROq+2L+4vWdwRSL6FjCazA4nNS0x1WVXzdVV91eKoilpL99LCArsvO7JjEIupU7GJo5xjo6rjYGZNx5UhxOsHRSofs7xzaaxl5fLJqvo2iaMlrX69TWyueEIV8dsHUNneDKv2y4iIfQmqp/zZyx07s1L02RJKvF5B9PxRegPiqHzE8i6CK6oLvTYEa11R9aS/PK6JcTRvwfzAGG1M2JsSRys+W3idmFxmTRXxOwerLRpW7X4nNCZVffICLY5LOlDe1pyGU/2JTCog6E6nftoVfvysLNYyL749EkZ8rhhRXSPhr+Au2pEKdoLcs0TkZOTQ6OL3PY1LF+Cq+orFUUGAkMXUWkajGQFE6OlYIHH8vTMV7S1oOEUvwY6+erm2FQTMbEY5GxmNpp3lsZ6ub0IcVdGb6F/VGQvXz1l3J5qieDfnUkdwEd7UHy9nC5y6ruDW09xxaf90jGP05oFUc7XEtcdqbkblPnduPTXfCiWOqmi2DK5BKUtXeqy6wRPB1bKwf29EHJfTU4j5rD+B4w9zkuYUfBpdVlUrWswNICxB309ERcK+b6lf1hqrz37mRlgiqGLYNqQ2pa1c6L4iiIjX9UGdHGclvaq7YFlvPEcfPM9O5JOtU0YAc1tVxsH6Qyb/2I8PPFxpOP4I958pUIato19NN+waTmD+4IZUdHKlw6KLPNalWVXFsH1YXcpau9BNnZm1MExVxGwfRt2y1rh0W8aVx6+PSxSJY/Yovbcb7zVxDBpQD7/BjTn7us+AWpzuVY3Tvf7NOo6pXN86h4kTf2Lfwwxtwes0DgxwwdTElU+nbuHUhSBu3n1IaPhT4l/m59qZyg1BxqSf2PdAv5i8ilj/FUwd/z2rA2LJKrRuopLgRR9jYWxKtckXSM1rJSwWcRQCvxfQXIg9dO3FlsevK7tR0HX5hsTx5DdUtjBB2mIxj/SIY1b4Dvp5mmP8NmMc/8sWx/TDDC1vidSlBZPWHyPg6k3uPHhE+NN4UjP/KgLxyeLGjx9iLzWhVJ+tPNbDUn5/DT0rCu5cr8+qqkqJJS5NpVfMXUjssIrOzubIak4iNlEodQHKR7/TxtEMqdc4fGNf5mSsU/gwtoYtMtlHLLirRxyzItg9uIY6Q2/RYxxfdVUV4t1mNnJAZlqOAbsek6KfdCjlNvv2XCAjIxPlg8W0cbVA4tKNtfcSC44NzZ7OmYQeXcL0KT+wLSjhlSLY2c00vSd0aQdKWcqoOvok0dmZWbWtikkcUT7kt3alsZK40HX17Vz11nKft5BvxSaOWdxZ+BlullI8hh8gPElHrtO5u7InnramlDT6h4mjuRHGZbqy9MrzHBdK5WPW9aqIndSKlgt0rqdKHv7RCXcbKc5dVnBdP6tqvpC8AXFEye2FbShrI8Wx3RKuxugnT1ESuXUg1RzNsPnsF65E6zLTvilxNMK4dGd+vxhNdmJSZTjr+1TBQWbFJ/Mva+oxCtU285Tj0Cw3lYSt6o6HvQWeIw8Sql+fTfWCuPiXKPVj81XRbPiyEg6W1RjlHUaC/jWTCz8lj1f31Mo9QGieOD1dOQ6b9r9xKzp3cpz0fIjj2WlNKWNtxoezLugRRyVPDo6miZvFKzGOj9d8TiUHCzxH7CcktiA3dJ3CCvynC8TRjCYzz2nrMAr7lDw5NIYPS1sWK8ZRyGy5smcVHM2c6bDkIpF5EhfpzlrYX+Xd3+hcyQGZEM8X+DQn4Yw8hK1DG1DK3Oify6r6aDVfeDlj7tSeX8+F55SkKEDhQokjKh6t6U11F3Oc2i0iQD8jaX7y3oA4qsL/pF91F6wqfcX2O9G5Y7LzO4euHIedCUal2vGzT5g2g7LgRh7J1iEfUNrCkuYzBVdPwfVUxaO1falZygKntr9wNkwvi2m+8kEVvoEBNUthVWkw2249zZ0gSX1MGmdmtKSivRVl3V0xM6/BUF2pDeU9lvWsjqtNGcq6miFzasPP50NJzOa3KkLX9ae2myVObX7G95G2lElBuoSuo39tNyyd2jDfNwStN20BrUVX1QKBeY92vLfEkawwon79lDNfCISwqJ+3QxwNLerSd9osZs+Zwxy9z9x5m7mUIOQeFZ7ixxjuronTqvn9FRRZmsd42o3ldBYSuagL0edkEzUoKcWpejvGb7vNC92DXH6c4eV1Mi4jzyZ9GRwc5IbUyIhyw4+TnieFed75n3Z0OOWlxphU7s/Gi3e4efYAp++laUogFJM4CvE7R0Z6YWFiiHXtfszb4cfN4FAe3bnMyW2/MfnLtozaEY1c29+8umi+vxlxVMXtom85M0xMK9DtlyME3r/D+V1z6FLZFjsbcwxN3hdX1XRurfkcT0sTcmf4NaCkxJFqrUez8VpCrqy9ecdBGb6Bnu4at9/W07fhf/Mm57bPoH0lKxwqVMDBxJQKhdZxVPFsbVfK12jLt4v3cO72A+5ePsLiPtWxlkioNu4kibogqfQTjPayQSqUZljtx/Xr/hzyvYs84xl7B1XCWmJK+c7z2H/pLrfP7+aH7tVwdLDB3NCEmkVOjpMPcUTJ4/W98LAyxcS1BePWnCDo3h0u7l/EoIauWDaawbN4wUoVx7GxgruqMdY1ejN7kw9BDx4RcvcKp3b8wff9OzJ6SxgputIXmVeZ86GmjmPlb46+kok1L9bpQlyiUE/N4wtWnA7imv8hfO8ma66R4hJHVMQdH08DJzOMrWvwxayNnAq8T0jIXa747GTp1AF0HL2ZR0mFZActNnGErFsLaeVmhalFdfouPsyla+fZNbcLXo7lqVXNBYm0Al+9UsfxLVocLe1wtJdg7tGGyX+e4uq1s2yZ0FJdx1FSeSi7QxK1iU2ExKqCy5srFiZWVP98OutPXOVeSAh3r/qwa9k0BnYezcaHCWiMl29CHEH1/AhjGmrOUeOLuWz1vca9O5fxXjqcD0tbYGrdkKknwnNKaPCGxNFK1+/WTFxzgivXzrJ1Uit1HUdJpa/Y8SAu21KfP3GEdN/vaORmhaR8D5YcvURQwBHO3EngZdQm+teqR9th89h25jp371zh2NJB1He2QFZlJPvC4rMxzTunhe/pvlNorJbbncXeFwnUyk1T5NRxLBpxVJFweBT1SlkiKdeOGVv9uHHzAvt/6Uu9Mi7YmhthWk0/xhEyzkylSRlrJOW78+uRCwQGeHPmTnzujNfZSgvyR1PfzRJJ2bZM23KG62r5/ahfxgU7rfyiuqoKRCPh9DQ+cbfB1MqLblNW433pDsEhdwn03cPKmUPoNvpPbsWk5MpYma2OsKF8ws5hH1DKwhTXj8ey6uhlrp3bw7xedXBxKU85eyky98LqOL5pchyBJyXgO+NTPOwkWFXtyuSVh7l45yEhdwPx3buSWUO7M3rdDZ4ma5hM4cRREHeGmZ95YCexomqXSaw4fJE7D0O4G3iGvatmMbT7aNZdj0It7g2IIxlnmdmiAvZSdzrP34f/lQCO+t0m6UVGLkhzvmgtjg52ONhJsajQklF/HOJ8oD87pmnqOEo9+rEuKIpUHYwJZ5jdphL2EiuqdJ7I8kMXuP0wmHtCH1bPZliP0awJiswhdxn+zP60IvbScnSat5ezVwI4lkenFyen8JGHLUYlSmDo1os1QRFojJmZBP0iuJeaYlCiJJYtf+Tso4Rcc0WV4MdcwX1WakWVTuNZevA8t7T67Fs9h+E9R7PmaoSm9IYqAb+57fB0kGLp2YnxSw9w/tZDgu8FcWbfauYM78no1VcJ18bSihbHnJnyvm69v8RRGPGMO4T/0BzfIpPHv0kcX3ozvIKZXmxiDvErUaIEBiYfMCtIW9sw6y6LWzkjlZai54YIMtVkUEX0wZHUtDTF5ZMprNu5g22b1rNmxW/Mm9iDWvbGGBpX4tuTyZo6gYKM1i7IBBnrI/SIQBr7+ruoC9U3nX/vNRYPIabtLss7u2NmZICgZwkDKZ/+/lhznJAopboFslIDtQlw9C6ljGOM9DBHWukbTqjLcWj3ZTxg+9iPKWdmhIF+WRKDkshKNWHK8Tg9XfXkZW8ms7OfGxZmFRl5NCE7C2r2bmEjdTf93Sww8xjBkfgMrZVKSfjeb2nkLMkeAwMTZ5p8u4XDc5pjZ92EOYE5NRDl/pOpZW2GW/89xKXru2gpOPddbazN3Oi3K5Zcu+T+TKppjZngCphdjkNOwHe1sTF3o//uWNL0s1UqzjGljg3mbv3Ymd1e0xPh/LVtzCjVdzvJuoPkAdr2/dkltFc3lRMwpY5afr/sBDg6NOScGFUVa/OKjDiiLcehisF7TH0czFz4eMIKtm7bxuYNa1n5+zwm9/oAJ4kRJh4jOJwny6tOouavipiTM2ldXrAuauaxgaElnt0W4OM3n0+dbagx9iTPtXGKKM7xfT17LNz6siNGUysz68FmhjYspU6qoZ5XwjVgaIVn918JiNFP8qTg/prPqWJjqiW6BkhaLCQ2KR1lxH7GNSuNmbFubhrj1Ggk6/fP4RNnO5rMOJ9TzF5xjqn1HbBy+xJdApzsPslPMbamPRYVh3FA3y1VFYv/Lz2obm+a87LGwBBLj7ZMPRDMS52ruzyYPZPbUNlKSPKjd10blETq0pDxByJ5obO+qJ6wbVA1HCycabsoiPi07FfF2erk2si8z7o+1bETEgCprz8JH/98i3ihYr3iHNMbO2Pt1kedOTWXZ6Dch/F1nLCqOIS9TzTlODRy5QTvnUJbTxtMDbW4qa9DA0pKXWg4bj/hKXkyNeorpLjAzCYu2Lj1ZnN4DuFSNxGSy3zgjHXFIezJ5QqbyvVV/ajtKLzIEvAxwMi6On2W+uP7w6eUcajJ6CNRJGtDphQXZtG0lA1uvTcSlpCuZwXP5OLsZpSydeOL9aEk6LuSCno1LYVNqV78+Shea1lQcH7mh5RyacncA38ytlVFrE1Lau9jhlhW6cnis0/Vlnb9LspD9jGtgxe2Osy19ynhBZ1L/dHsDtVkqRWKhV+c3ZzSdoI+ugyo+pIK3k67v4tJbTyx0T+HgSFWnh2ZeSg4d91QtXtiXzwd7Wg09QyRuurqBYpXcGF2c8q4tmT23nWMa6s5j+b+LfS7B4vOPMmZk8Jt/tJcWpS1x+3zdTzUL3OR+ZBNg+rhortfG0hoNvcyUQkP2DnmE/WLlewXUMK1UakjP54Qsqu+JoY9M1hd+N3VXPscMJDQdM4lopKVal0+KeeAW0+9BDjavgrJZZqWtcNjwBYePtfODeUTvKe1pbKtJPseYezwAYOWbWdWu4q4NZnIsTBdwXMgM5jNX2ksc7prqunsC0QmFXAtKp9wdHo7PO0kGGqvFUH+wKXb1PJLN5nA0dB4bbkPBZfntaKCoxs9Vt0hOlc5BN2AyQk9NJvutRxz3f+E66KkxIkPRm7h7vOXhWalVD33Y2Gv2jhnj0tJzD3aMWPvUX7uWpXSNYex496z7OvgyvzWVHQqTfeVt4jSuVOqotk+pDZuDg2YdCyEON09SuCH0dsZUtsNhwaTOBYSl7sckTyUw3N7UtfZDOM89zuJU11GbLrNM61buOLKz7St5Ezp7su58eSF3rWswwLkYUf44fO6OJsZ51oTGJSU4FR3BJtux2hImhC/194Tl9LdcmVOVUuS+zOrZUWcPPryp145DiHZTMi2kTQtZ6XV1QDTxtO48SguR4FcWwqu/NwOz7IfM2XTCiZ0rZULY4tKnfjRO4QEdexxzoGKMG9+7FUPV/N8+lBnGOtvPNVLhJXJox3f0NxdX6epXAvR0ynlNLNaearLrJXuuZQrETllVxRXFtG1hjMyEwfazPd/NUGScD2HHWVe7/qUsnhVH8c6Q/nzWlSOPoowjs7rTYNSFq+Op2Nthqy7RpTW3V0RuIgu1UpRustv6rhKfUdYxbkfaFvVBY/eqwgMz3+scxATt95VBN5v4viujZriHOO9ZBg7dGFDpBydYVHTDSWPl7TEwlgo1eGvZ13Mp5OJ+xnoLsPErRdbI/RdWPNpq/tJlUTw2f1s2bCJXSeu8zS9CLFwumML+CuPvUfAkV1s3rCeTTsO4Sfc7Au1NBYgqJg/KxMfEnBwO5u37icgJAlloa66xRT+DjRXXJhCXRsZjh1XE5y37IkynKXtHJBJPBl9Uks0C+tTWjhXju1m69Y9+Nx6pk1OU9gBefapUom4epJ92zaxafshAh7GFZDgSUVSyDkObtvE5p3HCXryMsfFWplI8PnD7Niyjf3+D0nIVOa7OMlz5mJ9zYy7h/+hnWzZspMj50NIkOd/DkXcAy4c3cPWjRvYtOMgZ65HkKz4+9cKqmQenT/M9k2b2XksUJP8Q/+JXazeaBsr4nh48Rh7t25kw6YdHDxznQjhBc/flVuILmlR1zi1bxvbdvtwKyb9ldIrhRz6dnapUgi94M2urdvZ53tbXWanYHqjIP7hJY7v3cbGDZvYccCXa+FJBczPN1VPzvN75zm6Zyubt+7m2MVQEuT5hR28qXztcUK/Lx5l97bt7Dt9i+iXmYWSklfOpkom7NJRdm0RYuqv8DhZ9/xR8fLJdXwP7mDzpu0cPHv3NZjmkVyg3DztivRVSXLoZY7v2ca2fWe4+yxd8wK1oGNVKYRdzulTWFKeOsSvHCfIv1J0+a8cn88PigRCrpxk//ZNbNi0nQOnAwmNL851kc6TG6c5sGMbe04EEZmiG5d8zvUP/KRIeMTVUwfYvmkDm7bvx+dqKPFpxZxb2XopSHh0lVMHdrBp4ya27/fhamg8admeUtkN32BDRcrjq5zYs5UtO7y5JJQRKupaQ/WCx8Izasd29vlc50mhGAt9CMTnoF4fhJqy+fZBRUr4VU7s1ekUT3rm2775KkgIDeS0cH2qMT3FlZDYAhMTKhJDCTp9kB2bN6rH89SVEGKLe694g9ERD3m3EBCJ47s0Xgnr6GRpjEmV8QS8yMrz4M/i5uz66oylDX+4XYirp5K7C5pjI3Gj58aw4i/03yW8RF3zRSBxY0+czKR4jj5FrM4iqGsp1HJsZo9MWp+ZV4Xaorod4l8RAREBEQERAREBEQERARGB9xkBkTi+S6OvuMh3Nc0wNrSnwfDfOXDhHmFPIgm97c+ueV9QzcoIQ4e2LH+gdXfNr2/JRxnuYUaZzzcRlpG/1SS/w8Tf/v8goLg8gwa2Uozt6vHVot343w4lMiKU2wF7WNC3Nvamxti3WsKNJHmelxP/fzAQeyIiICIgIiAiICIgIiAiICJQPARE4lg8vP7nrZOu/EHfOg5ISurHJglxh8bYVOvBAr9nKApzvXzxkIDj5wlJeQvuc/9zNEQF3gyBZAJXDqah66vxtgbGNnh1/ZGTkW+a8fbNNBKPEhEQERAREBEQERAREBEQEfhvIyASx//2+BSgXRrRN3zZv+VPVq9cxbrNe/G5HkVaYYSxAEniz+8xAukx3PI7yLb1q1m1ah2b95ziWmTqexfz+R7PALHrIgIiAiICIgIiAiICIgJFRkAkjkWGSmwoIiAiICIgIiAiICIgIiAiICIgIiAi8H4iIBLH93PcxV6LCIgIiAiICIgIiAiICIgIiAiICIgIFBkBkTgWGSqxoYiAiICIgIiAiICIgIiAiICIgIiAiMD7iYBIHN/PcRd7LSIgIiAiICIgIiAiICIgIiAiICIgIlBkBETiWGSoxIYiAiICIgIiAiICIgIiAiICIgIiAiIC7ycCInF8P8dd7LWIgIiAiICIgIiAiICIgIiAiICIgIhAkREQiWORoRIbigiICIgIiAiICIgIiAiICIgIiAiICLyfCIjE8f0c90J6ncWDLePo/flQll9NI0tVSFNxl4iAiICIgIiAiICIgIiAiICIgIjAe4GASBzfi2EuTiczOD6iPFJja3puiUeufN2xKmL3Dqe6sz3lP19HaHoWf73uEHG/iICIgIiAiICIgIiAiICIgIiAiMA7hYBIHP/N4VI+Zv2XtfGsPYSdz7L4bxrziksclYQuaYmVqRHG9WYSlJr5H+3XvznQf/9cyvBNDG5YnbqDtxCelimS8b8PqShBREBEQERAREBEQERAREBE4G8gIBLHvwFesQ/NusGsemYYmjbn1zA5yv+kaa64xBHIiObWuQBuRKah+k/2qdgj9T8/IOvWTzS1lSBtOp+7yXKRjP/PR0RUQERAREBEQERAREBEQETg/UZAJI7/5vj/m8RRmUxooB/HDh/iuN91wl8U1YX0VeKY9uQaZ7wPcdT/Ls8yVG9o/UrjyQ1fjnr7cDk0mawCGWYGscFX8Dt2kP0HjuJ3/Qmpqr8KP6cykYcBx/D2vcnT9DfV7y1MhIxn3Dt/ksMHj+AbFEGKshBdlMk8DjzD0UNHOHXhAbHy3G2LTByVyYQFneX4kcMc97vG4+TM15N3ZSLB546r8YpKU2aTUlVaFLcCjnH48HECbj3lZWH6vwW4RBEiAiICIgIiAiICIgIiAiIC7w4CInH8V26k9toAACAASURBVMZKjt/EWjjYWGBqaEAJA2OkFpZYWlpi5dKVtU8S2D3YA0cHL772TiJT34c18QDDqzrhUGkQu2Nzu4Fm3VpI67L2lOq2jgyFLhgxmcC1w2laxgzDkiUoUUL4GGBoXoHPJu0lJF1ZOAkjhzj2WBfA2mFNcJUaYiDIMSiJecUuLAyII1OP+CkuzKJJGRe8vvEmSaeH4jzTG7tRpsPv3L65nfEtyiAT+l6iBAaGNtQavJG7L/XddTO4uWYQH7pbYpStt3BOY+xq92fN9RQ9XBRcmNGEMmU7sOTKaX5s646ZkYCrKR8tuoff9KaUcSpDm0XXSc0FJqAMYVX3iji7tWLR7Rco9LFWzwUFl2Y3Ux/f9tebvMjbQBnMym6VcHH9lF9upWiOVyVxeflgGrr8H3tnAd7U1cZxoI3UBYq7sw0ZbAx3Nlw2GO4Mh+EynA23jeEMd3eX4hR3K1IvFeqWtMl+35OmaZM2VVoGXw/Pc5/e5N5zznt+57bkn1eOOaY545jnlGBfuTNLL/uiMHAtx+B2bBqty9siyaXloVkfWd5q9Fxzj4iwi/xWozAO1vJYDjklcixjnxUb8rddRXC4Mu6JDebuxmE0KmmNJI5r7DpblKTx6F08DdV/VpTcmFGfEiVaseT6WWa3Lo21NFcsr/oLnxOqCOfJ5sHULmxhYH+eWtO4EBBJzEf5HRGDCAKCgCAgCAgCgoAgIAh8ygSEcPwoq6PC9fgiJo3tQ70CUnJJitJ4wChGjxnD2GlbuReu5MWCelhJJBTuf4xgPbETfqQ/RWUm5MyVl+57AvTEk4rn8+pgKZVR+bdbKGLbKHny1w8UkJlgVrIFE9Yd4fL1q5zaOpOOX9hgmktOhWEn8Y029G4ZItAJRykO+eyRFajDkGUHcbx0nLXDa+MgNUFStCe7PSPjQ22jTg2hlLkE247b8FfEyYyoUwwpZY68ZE1qF7OldIsJ/HPiMo4HFtDpC0skprY0XvIkQdip3rCkcW7yV2rDiIXbOX31Jk4X97Ok99fYSUywrDePB6HKOO9YFKeHlsbCvAx1ahdGZlGMOp370+en5ozY5cX7Y0MoaylF+vVvOIXo2mhnqXq+kIa2cuQVRuMYrEAnt/UZhB0ZQGkLKbJvpnMrUZio6vkCGtqZISs/kvMBUahQ8mx5KwqbS7H/uifzdp7j2rVz7JrblUr2UiQF27PueVi8QA25PJkaueVIc1en/5I9XLh+jbM7FzKoYXHsGi4kONiZU39NZXy/BhQxM0VSpAF9h49k9JixTN18m8hYYa7k6YrWFLOQYF6iGWNWHeTitauc3vYHnSvnRmYqp/ygQ7jH50YqODOiAjaWZahdqzByy2LU/rkfvTs0Z8ROd4JuzKJOHnMsy/zI7zvOcu36BfavmkTn5mM44BdBtAg/1n88xLkgIAgIAoKAICAICALZkoAQjh9z2VMIVY15/Ac1LUyRlB7GuVCdJ07BpdEVMIv1KJkYikqVC381tUYq+5LxV8NjBaX63WY65JchsW3IwofhxOh94Fe9WUOrfDJM5LWY/SglMRAnHE1zksvhexbf0YSVxkFSubK2TT7kpmbUnf+UqDhFkZJw1IjVcn128ToiwdMZckwjzCTI6y3gebiu8IsavzeveJ9Y1EY5MuoLS6TmTfjrbXiciIkTjpKc5JQUp8sWZyL0Jxt1iTEVLZFIKzLhaoheZdgYns6vj61cTuUJ1whOrmRsxCmGlbNCKq3K5JvBKHTzJ4Zn8xtgZyan4oQrBEWpUPtup1tRC+RFu7Ez3j4NrxieLmxEHjM5lcdfITBKBaq3rGyVD3NZQTpuek2YviJTBeLmFog6zpObUqiq2mcbXYtaIrOtz5zbQXrz0wzxDz8VtURqVoMZtwLRDAtxwlGWK5ZXpw3P9DypKl4sakQeC0u+/+s1oQq9h+Zj/m6IsQQBQUAQEAQEAUFAEBAEPmkCQjh+zOVJQTgSc4/p31hgKv2ScVfDtWIt5n5sMR2zCnWomdcUaekRnI8Tlep362hjL0VadiSOsWGJanzXt8Feakq+rrvw14WMxs8vjIN9CiM3lVJ/kTMKfaEVf4/mROdxtKTJX6+JTHRfwOYfcZCbYtFqLeFRWu9iSsJRYtOOTb4KAxFL4GZ+zC1HVnIwJ4OMe/3iTVJ7sKKFLTK5RsTpQkvjhKNUSsm++/GMSpy/qeTmlGpYS6WUH3WBQJ1AjHnC3Hq2yOXVmHorRE8Qxo8WdxKF46gvsZJJqTLpBkHx7Z8yt74dcrOqTHYKRqFS47elIwXM5ZQedoYArUqL7yzm6Tzq25thXn8hz0MUxLivpJWDObIifTnol3IIaPLCUY3vpg4UsJCRt9MWPOOFt27YcI4MKI21TEbduY8IjdKo3jjhKJdSsvduXA3aqHFb0ZK8FnJK9tiBc7xXV9ef+CkICAKCgCAgCAgCgoAgIAiAEI4f8ylISTiixGlSZcxNpVSdeifWg6Z6s5RGVnJKD93P+p/zIpN9xfhrEbGiMmDbz+SVSik19AwhsWGqChx/LY+5qYx6C14mEXyg4uXC+lhKJBT95XhcyKOxyeuEo/F9HJXXJlDZUoK0ym+ER2rz7VIUjrYd2eavMMyTi9hPr4JmyAr24kBgIuGo9OXx6a0s+2MyY0YMZdDA3jQsLsNEWoVJN3RiTyccbem4xZeoROJWM6uYR39Q20aGtPQwTseGlELM49nUsZVjXvN37icKYU1MQnF1AlWsZcgqT+RakCYkVdu+rp0csxqzuBuiqXSq5Nr4KthIJRSq1YV+vwxg4MCBCUevhpQwM0X61VguBUYRcfZXKlhLkTVYxMvY9olHTXidvHBUcGlsJWxkcurMfkRwgjs0rrGKV0u/J4+ZjCJ9DxIUHq0nHO34aaMXYUpDr6LaYyc9y1kjNZFTsGYPZm5zwkvsx5mwGOJMEBAEBAFBQBAQBAQBQUAIx4/6DKQoHEF5ZQxfmpsiqzmHJ5FK3q1vi728AN33vsfzn7bklsqoNv0ekTEh7O9ZCJm0GL8cD47Le4ziUO8CyE1kNF/jRxKHI2p81rTAWmKKQ4+9GRaOMY9+p5a1BGm5UR8gHA/Qq1Bi4agm8PpiOn5hF1s0JqfEHFuHfBQokA9buSbEMn3CEdVLFje2Ry4twYBj74mKieHRH7WwlVtSb/5jwhIXvUn8IChvMfUbG61YvxJElCqGR7NrYye3pO68R3GhnlGcHFIaS2kuZDZ5yZ+/AAUKJDoKFuaLbut4EaYk/FBfilpKMWu1Bu9wZYpFilISjkd+KY6VVM4Py92TiEBQ4/tPe/Kay3Dosp2g2GI6Oo+jceGomXrY4+2MbVEOW2kucuY0wbp0cybsfZ6Qg5qYj3gtCAgCgoAgIAgIAoKAIJCtCAiP48dc7lSEI1HnGV7GDFPzhixx9mVn1/zIbFuzzktJtOvffG8jwaz2PJ4FHGNgSTOkhfpwKCA6rsBLFKcGlYgVjvUXJw0x1XgcXy9qgJVE66WMTFY4peJxvDFR63GsNpXwSI03C9LvcTQiHINPMLicBVJpUVr+cZSnAXHbSqi9Wd1SE6qaTuGICrdVLXCQSynS+wC+YbeZVcMWuXVj/nwRRiKnm5GnIIaHv9fETibjq7EXCQq7w6xadrHtlzzXhcwquDy2EtZSObVnPyI0iffPsNuo08MoZyVF3ngJr8MyLhzPDC+vDUWd99Sox/Htnz+Qx1xOyYHHCI7QhBOnLhy1lirwubOXub1rUMDMlFzm1fjt0nsiRVlVw4UUrwQBQUAQEAQEAUFAEMiGBIRw/JiLHvOAmdUtMJHVZ9FrRXxV0gQTIjgxqCRmplY0/3MjfYvJY/PjXmpy+FTPmVfHEolFYxZtHUJpuYT8PfbyPt61qIqtzKoJRS3U9whB0YnrhYZyqE8R5KYWNF/lnoYcRyva/OOV6D41fhvb4yCXYPvTViLiKqhmhnBUnB1OGQsp8gaLeaWfg5dh4Qjqdxv5qYDGs9mD7acmUs1Gjl2LFbwO0xXkSSBv7Cw2R9FOjvyL0Zw9P4lvbbXtX8WLPjUeK1uSOzYs9BD+qSgsTUXWBvZyZKUGc+J9WnMc5/DYoLKrCuclTchtJqVgr334xFdO1c0gjKMDymAts+SHZc5xxW7SKhx1fYRzfUoN7DVFhMZfITgi8bOkuy8zfqoJ93zM5cOb+WvWGPr/3Iel1wOTF6vhzpxYuY6zruHxlWozw4rU+1Djc34dK448JUCRUOgp9XYZuUOF+/Zh9Fh4hcAw7ZczGelFtEkgoPLYya+9F3LROwTdhjYJVzPzTIXHrlH0XeiIT3DWjpSZVn9ufak89zD2l0Wcdwsgu9fzUnnuY8KgRZx540+UYRbC57as/6G9arwOTGboolO88Yn8D+0QQwsCnz4BIRw/5hqpnFlYT1MApyKTnCIMC8bE2RF2uC9FZRKsypSnsETK15Nvx1UMjeHutKpYSCwoXbYIEhMHOu30NwhJjbk3g28tJUjy/8QmlygDYapyWUfb/DJM7Vqz1iXK6NhaE3RVVXMhKdGFLc4J226ges3fzfIgM7Wh5SqX+NzCTBGOp4fGCkezxn/yRk84xrjspEdZc0zTmeOonYs/u7oVwUKamypfl0AmyU3bda5E6lczTWn9Vc4sbZIbM1lpvv++LHKppr0LEXrtVc8W0ii3GdKCndjyRlf1NZlOlU5MrmaLTFqCvge9DPNQQx6yd881lEqte0/1+k++z22G/MuxXAqINNg2JOb+H9SxN0Oavx3rXui8n9oxVa4b+LmYJTK7Fqx4ocsJTUk4qgnx8yNCrb9FixrP1W3Ja2FGlQlXCY7MSuGoxO32GY6t6UtlWxkSh5/Z7B5q9MNgxPPdjO0+mFXX3xmySwZ3pr+tfs+Npb1oP+QfbvpGpvA79KEjq3i1rDW1x5zAL0SIjw+lqWmver2C9vXHcMQ10OizlRljaPtQ8XrlTzQYexiPgKjM61b0ZEBA9WY1nZuM5cBLXyKzuVhSvV1Lt2bj2PvUm4hszsLgIUnXCzUu63vRctxunnmGpauluFkQyG4EhHD8qCsewfEBxZCZSinXews3nz3i0sHzPIvU+9AetI/uBWWYaDaSNy3J0LOh8Xs3Ki+P5gtzE3LmyEEuux/Z8i7aQByifse+PqUxNzXBrlpf/jx8g6fOz7hxaDE9K9tiamJH/Xl3CI3fX8PY5OOEo9Se/HllWJRpy8zdV3n06CIbh9aI3cdR9sWvnPFXxouZzBCOav/ddC9qjkRWig6LjnP3xROu7Z5Ju7J25LazTHdxHN3MQg73p5SFRMssTwc2e0SmY19CFS4rWuBgZqpt79CRze6JtjJR+3F8mKZYjSm2VXowZ6cjD16+4dWTm5zZuYyJPVoyYqdHnFhV8Xb9T7H7L0oLNmHcxnPcf/GUGwcW0OubvFjUnElQmEJreuQphpW3RiYtQ/d/rvDwwWUOX3hGdIwK1D4cHPCFdsyqvVi0/yqPXz7F6chS+lZzQCaxo87v13gfX+U1BeGo9uGf9sWp2GIES/df4/GLp9w8tpSuX9kgk3/FmLPviY121QHNop+qV3/yQ14rcrdexesQRZL8T+XLzfSq254lN/wxpmPVgeeY/sOXlKrah43P9LdQyajB0Txc2YVvSleg2exL+MdDCOb6rKZ80+FPrvsa//InoyMmtBPCMYFF5pwJ4Zg5HD+VXoRwTFgJIRwTWGT8TAjHjLMTLbMbASEcP/KKK5+soE0xM60wzJGDnGbfs9xd3zsYyMH+pbGUmCAvNYgjgdFxm95rkgkdGVvJFomJhAKdt+EdbSRkLvwxmwbVpJBcKzBz5MhBjhw5MbX9ip8XXsJXqSdSjc5dgeOYL7C0+4GljjsYUacAsth9JHOQI6cJNhV7su5+aMLejpoMusvjqGhlTqE+BxK2vlBcZlxFK8wL9UlaOTXqJEPKWGJWZhin4rfjUOGybxjf5ZMnsJHmp/aI7RybVQ97m9rMuqPzrim4PL4y1uaF6L0/gLhdQYzOhojzjKpojSxXLvJ33cG7dFYLVXttp2dZG2QmZpQecAAfY+2jXrBrdGNKWpqSK5a3hrmGVy7MCtZiwgm9yq9qXy7Oa08FWwm5NF8OxN5ngnXZVkw/nuDFBSXP1nSkrLU0rs+cyBsvTRCWEU/YOrwexSy0ojZhnb/kp7ln8YjQ36JEwZVJ1bC3LEzP3T7EFlqNpxXDiy39+a6gGaY6e3LkxMSmAh2WXsM3ysgzFt82s07UvNv4M0WsbGmy+CmBsVuI6PUddo1pdUvSdO5NAoypRkAjHGc0q0TZav3Y9DyzhGNXvi37Bc0NhCMQeZc5jUvw3cjDuIamnKuqN4t0nArhmA5YabpVCMc0YfpsbhLCMWGphHBMYJHxMyEcM85OtMxuBIRw/A9WXB34kksHtrJpyx5OP/Am6t/Mjy+JevcIx8M72bJ5O/tP38Y9LDXBmAwIdTDOlw6xY+sODl56zvvof5N4g5JpmaG3VYEvuXJ4B1u2H+TKq2BU6g9ko3JlZcu8mEkL0nOvT5aGOCr8nnH12B62bdrIll1HuPjAg9Bo49yVfk+5dHgXW7ft4fiNNwQZvU9N0KsrHNq+ma27T3HPMwKVZltGvX8Kn8dcOrqbrVu2s+/UTVxDYsgIMnWYK7fPHGDH5i3sOnKFlxqP8gei1zMzldMAdvcsgY2V5suB94k8iuFcm1aLfMW7sOmN8RDWVDrPgstq3u/rS9m8VRhxzJNQvdDlzBlMCMfM4ZjQS8aEowqPm0c4dceD8GSLiSWMoT0ToaqJiWTF64wJRxWet49z+o4bIfHRGFlhXUb71Nh3gjN3XAlOh31COGaUt347IRz1aYhzQSAlAkI4pkRHXPvsCaheLKKxvRxpkT4c8E0pt/Ozn+rnO4GwIwwsa4vl1xO5+j4iPgRaMyHV29W0LWJNgZ834xaaNIT1P5t08H76l7HHofEC7iay+cNtEsLxwxka9pAx4RjJoUFfUXPUYVwC0/rsCeFoSD5rXmVMOEZxdHg16o7cy0u/yCz9AjRjs47i2K/VqT9yN8980m6fEI4Zo23YSghHQx7ilSCQPAEhHJNnI6589gRiePB7TWzlEor1P4J/ijGtn/1kP5MJKPG+voHJPZpTr2ZdWo3YyI09g6lgZ8kXI07jF66/94eSO7Nqk8fCkkaLnicNYUWJv/MNTu5YydyJg+jabgSbnUNIHOmaLjDhnjy8dIiNS2cwsk8Husw5j59esab4vtQerGlfEGvzyox19CFM3+z4mzJ6knbhGO5xj9PbljJlUEda9F7GrfcRaE1R8uboLHo0rUf7mafwiK8EnFGbMqlduAf3Tm/jz6mD+bllb/5y8kO35Mo3x/ij5/fUbz+DE24hmVrE5lMUjhGe9zm74y+mDelEy95/cu1dKNoaukreHp9D72YNaD/9GG+D0ipaM2mNUu0mAs8HZ9m5bDpDO7Wi99KreOkqyCrfcmJeX5o3bM+0I6+N/M6m2nmabhDCMQFTWoVjhNdDzu9azoxhXWjdezGObrpCUUpcTy9iQOvGtJtygOd+EQnpMQnDfNyzCG8eXdjNipnD6dqmN4suuPA+rnyu0vUMiwe1oXG7yex76kt4oiicjBkqhGPGuIlW2ZGAEI7ZcdWzy5yVTvz2tTVSaQkGHn+fci5kdmHyX85T6cqxyd9T9qv2zD7uTHBUALcX/UjVkg5IJMXpd8ibMP2wT+VdZtXOg7msDENOJM7N1CQ2BvHq7i2ub+rHV7ZyZF+M4rxveJxwythEVe+ecM1xM4Oq2WMmsaX1qlcEG61xr+TKxG9i98usNNYRn0xVjmkVjtHcXDGQzi2+pbiNFBOTfPy4TiOwo3HZ8wtfO2hzqU0rj8PxXegHcckYzaStom+tZHCXlnxbwhapiQl526/h6ftIlK57GfhNPixMc5LDtBJjz3sSnIk7kXx6wjGa22uG071VdUrYyTA1yUvbFQ/xDVfitn8I3xW0jM05Nq04mtNugVm8hUjSdUrxneg7rB3Rg9bVS2InN8Ukbxv+vveOMKUbB4bVpJCVJu/alK9GnsQlIGuqAgvhmLBCaROO0dxdP4bebWtQKrdZbFX2lkudcA9W4n54FPWL2yLJmQPTL4dx6KVvpn5pk2Bp2s+i721kXN921CidB3OJCQ4tFnPdLRiF+xHGNCqJnVTzd+ILhhx4ho/Rv89pH0t7pxCO6SUm7s++BIRwzL5r//8/c5UX13dtZNM+J7yUH6PIy/8/0gzPUOXK3kFVcSjaij/vBKBL4VF7rqVdfktk+buyzSMUpV5epdp9FW3yWyGR1mP+00Aik/lmWXlhDJVzW1Ki30G8MqNYjeo1y1rkx8qmMYueBCQzrgq3VW0pYCVDXn8uD98n8y298gq/1SiIrZkUqTQthyX1Z9/h5twW6diOQ43PocFUyWOBXcvlPLm1nN4dJrDzxgOuHtrJoVteREQnAy/DC/phDdW+hxlaNS+Wdi1Y9tCJ5X07MmHHNe5fOcyuQ7fwDFdmqtfj0xOOOn5qfI+OoHoBK+yaLeHuteX80nki267c5cqR3Ry66UGo4tNaO53lqP04NrIGhazt+WHxLa6uGEjXiVu5dOcKR3Yf5qZ7CIos2slHCMf4VSBtwlF3vxq/E2OpV8wO+6bzuHpxBcN6TWLT+ZtcPrqXw06uBCVTgEzXw8f8qfY/yfgGJbC3b8Kcy46sGNGb3zaexenyMfYdccIl0HCrqozbJoRjxtmJltmNgBCO2W3FxXwFgY9OQMmjJc0pYl2UjuufE6z3QTjm8Twa5rUkT9u1vE20DYfy/Ggq2ssxsW7HP5oPoXqiMmEKMTya24C8lgXotNmNEOM3JdyehjO131a6FLPBquYMbvsb5lzqN4/Y14fitnJMi/Zlv2eIgehNuC8cb+cnPHr4gAcP0nI85JVvOM//TOc+jsprTP4uL1b5GtGhSz/WPgogIos+tCfM7UPOlFyfWpP81vlo+FNn+q15iL8uZvVDuk2m7acrHAHlDWbUK4xtvga079SX1fd8CM3U0OdkoGTC20qnmTQoakf++u34ue8q7nqHxIXbZkLnKXTxsYSjUqkkIiICtdq4eE/tenR0NJGRkcm2N5ziR8pxVN5i9velyJO/Lq079GHFTXcC9b+xMzTqP36l5PbcZpR1yE+dVj/RZ/kNXAOyopK1EI7/8UKL4T8jAkI4fkaLJUwVBD5HAqpXq2hb1IrcjRZwPzBKr/iNCpflrSlgaccPfybNYYzY24si1jJMHLqwzcvQGxnPQecdzN2Cv52DPyy/Ma7T4AP9KGNnSZXxF/FNQcwoTgyjgr0ZJtZtWeMSRKZETMXakNZQ1XgKmj1CODOqUmw+aO1ZTviGZ55qjHm0jiE/tqBxw4Y0TMvRdBibnyfnqU2wOfLsGL7Oa4llrZlcz+JQ2tSEY8yj9Qzr0JImBvNrQOXCltgWq0ytuvUN5950KBuf+pMUc0aK40Rybvy3FLC2oua0y3gEZ4VqVPF4wwh+btXEcB4G8zVc36ZDNvDYN0zv9zVh7eLPIs8zsUYhbKxqMMXRjaBMDC+OH8PISWrCUfVkE6M6t6apwfwaUKWoNXbFKlKzTuL1HMw/D94Rqvdr4+fnR61atbC1teXEiRMoFHF77MbZ4+/vH3/92LFjSa4HBARQp04dbGxsOHLkiMF11ZPNjOnSxoh9NtgXrUiN2kntW3fPixAjj0b6PI4a46NwnFKP4nZWVJ94mlfvM0eIqZ5uZVz3tonmZPhMGfz9aDqINXc8SO1xj7o4jYYlc2P17QROvPRL5gs6Iw9Jut4SwjFduMTN2ZqAEI7ZevnF5AWBrCYQiePYr7GzKEjXbW6E6X+zrbjJjNoOWFjUZc79pKGo4bt7UEizj6VDF7YmIxzV3uv5qbA1VnVncz8gM8KWIjg1/CvsLcsx9HiinMtEqBRnR1ExtxkmZs1Z4RJEpFGPaKJGaXqZEeEIQbt7U8rOkm8mXcnUnEuV13V2/7OKv5ctY1lajhV7ueUTiX66qtFpB+2hb5ncWFWbyCXvkCzNwUxNOKq8b7B3/WqWG8xvCYPrFaRUk8HMnL/UcO4r9nDzXQRJd+nIiHCEoH2/8EVeG6qOO497lqgvFd5O+9iwernhPAzma7i+K/Y44Z1qyHAw+wdVJL9tVcaecSUwa1Iakzw+qQpH75vs37gm0XouZUjDopRpMoBpc5YYcli+hxueoegFQ3Dz5k2KFSsWu9fu4sWLCQkJMbDjzp078dcXLlyY5Pq9e/coXrx4bPv58+cTHBwc31717iYHNiW1b2ijYpRt3J8psxcnsm831z2MF/5Kv3CE4IPDqFbYniq/HsPZL3OKL6nf3eLQ5rWJmBs+UwZ/P5bv5pp7Gr7sCz7MiG+LYl9lBIef+yQTeRKPNoMnQjhmEJxolg0JCOGYDRddTFkQ+GgEIs8w4ktbzPL8xEY3/X0YY3Be1Y5iVlKk30zhhpEtLRTHB1PWVk4um/asTyZUNXBXT0rYWFB14pXMCXVUXmZC1TxYFu3NnmTDT7X0dB5H0zw/s8k92PgHGpULp1bMYcaUyUyenJZjGmsc3Xm4qGU6chw1hYJ8ODi2HqWsJFg1XcLTgGRyLj/awqc2kCYvczwNylgjtWrKosf+mVQd0fi4qQlH460+0nYcah+OTGpCOVsZVo3nc+9daMpePuPG/ifvqn2PMvn7CtjJrGg09w5eIXouuyy0KDXhaHzo9G3H8e+//7JixQrGjRuHh4cHmtf6/zSvV65cGXvd3d3d6PXVq1cne12/L+35RwpVVftyfHpLKuaRY9VgFtdcAz/h502TkzmT1pUdMLOqz4zLbwkw4nVNyjK97wjhmF5i4v7sS0AIx+y79mLmgkCWE4h5Op9GDuaYVTHco1H5dDWDvq+Cg0zOV6MvJNqGQ2uWNv/RHFNZIxZrwlANP7cBjFHD/wAAIABJREFUYRwZWA47i7IMPfHOsCJrBmcWfXsGtR0syd9xIy7BKX8TH7a7F8VsZUi+Gs15nzDjHrOYZ2wd35duP3egQ4e0HJ2ZvPcV9xamRziq8T85lVHLNzOymgNWhTqz2TUNobOqQB4fPYKTT6QRz1kGAaaxmdr/FNNHL2fzyG/Ia1OIThvfEpBOl60q8AnHjjrxLkKRaiGdT1c4qnl/ZhbjVmxkZPWC2BXqyLqXfkQkedaTgg11PsfmpbP5Y+l2rrqEZlkhmqQjx72jfs/Z38ezYuNIvitsT6EOa3juE57u/RFDnc+z5c/ZzF66jStv01ZQ52MIx2TnnWUXPoZwVBNwfi6/rVzPr7WKk7dwe5Y/8CA0pedNHYbLjX38PXUkcw++wC/s43w5oMGsDrjA/CkrWf9rbUrmK0y7ZXdxCzGeb5p0WdSEudxg3/JpjJx7AHef0KS3xL8jhGM8CnEiCKRCQAjHVACJy4KAIJBxAsobk6me2wxZpXFc9tfuMaj2O8f0vuOZ3rMcVhal+OWwN34Pz3PpTSTR+p9JIk8x/Atb5LKKjL2YsN9fvDWKc4yqZI9F4R7s8gzizbnj3PBXxIVIKnE/+ze/jZrIstNvCEtTVdEYni1oQj5Le1r8/ZKgFDeEVPHqz+YUsJTh8PMmXFMRmfE2p+kkfaGqap+jjB+wkGs+vhwa9iW5rSow7LgnIQo/zm4/xMtQbQivyuMkCyf+xVn3MCK97rBzQhOK2NVlhpMvH/GzYKx39NjEQSy66o3P4RFUdLCm/NCjuAdH4XduB4dfhhCR2Kugfs+VlVNZfMSZkKho3t3dxcTvi5G77vQ05Ud+qsJR7XOcyUMXcdnDmyOjqlLAtjyDDmpEtB/ndx3hRZB2exmV5xmWTl7G6bfa0L7Ie3/Rs9WPdO/RiUbl82BbpjNr7voYyblM0wOXgZvU+J6YyrDFl3DzPMLobwphV34g+175E+F3gd1HXxAYljThUf3+GmtmLuXwM21+aOS9v+nd5ie69ehE4woO2JXpxKrb3qk+j0I4JixZekJV1b6nmTlyCRdeu3F0Qi2K5y5Hvx1PeRfuz8V9x3nmHxybQ6j2Os/yGcs58TIuj1dxiWmN2zD9uDO+mVCALMH6FM7UfpyZNZol51/henQSdUvkoVzfbTzyDsP/0n5OPPMjSD/1QdOVOgCnDXP46+BDfGIrTCm4PP172k47ykufqJQGw2V9L1qO280zz7AU7hOXBAFBQAhH8QwIAoJAlhFQe66jfUFLpJKSdFh8lAtH/2ZQy59ZcPEasxs5YGnVhLnHlvPr6HXcC9AvnKMxKZhDv5TF1syO9v8krZiqvPs7dRwssGi8iGuHZvHr7FO4h8cVegjZR5+SNshy5iCneVUmORoRnolnrXJheasCWFk3YP7D98lsw6FrpODUiC+wt7Cn9arURKauTVp/pi4cg87PpG2jjkzduJkpnbow97LG46rCd2tXittaUmnEbg4vGM5vO58TGFdeXx3yhOO7zvAiOIqYf0H9bj0dS/3AnJsfQTgGXeD39k34ecoGNk3pTNe5F/EKjUblt43upeyxqjiMnQcXMGLyDp4FGKtkG8Grs7s5/tCPyNjkSTXvNnaiTLPZn51wDHKcTYfvf2byug1M6dKduRfcCVKq8NvRm3IO1lQcso19C0YyZccT/OKq76hDnnJqz1meB2hyR8M5v3EjTt7BsTl5ap9DDKlWlMYzrmZRYR3dcxvMxbk/06zTb6xdP4VuPeZyzjUQhcqPXX2/IJ/NVwzavJf5o6ay45EvRrc2jXzN+X0nePAuDKU6nAubNuHkFRRb1EqzRcuw6sVpMv0ybkGJvznQ2aD9KYRjAo/UhGPw5YV0a9mZiavWMbVHL+acfoV/lAr/PQP5urAdX/7yDzvmj2HG9nt4xm2eqg59ztkD53jqqy1Kpnq6jA4tJ3Hw+btMzOVOmEP8WfAVFvdoTecJK1g7tSe955zkpW8kKv99DK5WBPsv+rF223zGztjGXY8gIxV8I3l78SCn7nkSrPniT/WM5Z1aM2n/U7xSdOMLj2P8GogTQSAVAkI4pgJIXBYEBIEPIKAO4NzE2uQ3MyFnzlxYlGrD3HOeREY9ZE49B8wlUgo2ns5p9wijxVTCzo6ikr0lZYccxyeRB0N5cSxVNMVpTO2pOnALj4MVCbk6yvv81a4c+QtVoEJhW+r+cZfAVPanUHtvpGNRayy/m4aTf3hCX8amH/OYeY3yY12kC1veJpPfaKxdmt5LTTiqeLOyLYVtpOSyKEe3dfcI0IlDz+30LGePmTQfdScf522obj9ENZF+r3nhFkyMKi4uLXA73co0Y+5HEI6qN6toX8wOWS4LynZdwx3dNidqT3b0rkBuMyl560zi6OsQgwIl8biig3B9/hZ/RUx8WGrgjh6Uaz7nMxOOKt6u6UCp3HJyWZSh88qb+MRV7lV77aJfxbxYyPJSe8IhXgbpQnDVRPq/4aVbEMoYTZieCqUyJiGnTu3H1h5f0Wa+U9YKR9Vb1nUqg4NZLszLdGL5De84cajGa/cAqmj2Y81bi3EHklZI1q1jdLAbL138iIoNLUg6j+29KtF23jUhHH0i0xzym7JwVOOyoTtfFjAnl3lpOvx5GfeQ6Ni+1d77GFq9CNYyB2qM2sUjP90XNmqi3rvwyi0QRWykhpq3a7vTdOQuHnulPxRZt/Zp+al23UjPSgWxyGVOqZ+W4Oiq9YCi9mb/sBoUs5Hh8N2v7Hjga9y7Hh2Mu7MLfhHa/wvUb/+h5w+j2PHQg7CUwnERwjEt6yPuEQQ0BIRwFM+BICAIZC0BdRAvHQ+w58h1XEJjUMf+B64m4MEJDpx6gHdUghhIYojqBX+3Koxt1XE4+mnD9uLvUb/n0cm9HLnhEhuKavxzgZKLY2vQceULgiNTzo0J1FQltbGKLbTjl8I2HJrxVa/+okXBvNT4LeUtO+JtTddJasJRs/efB05HDuL4/D0Kjfsw/p+a9w/PcPyGK2FKXdxvBG4319K7YnE6rn5BgI7DRxSOoMTj5lEOOT6LFX8GFr9/xJkTN3AJVRoV6zG+99gy6FsKNfmdG3rbdmS9cIyHmo6TNFRVVXpy69hhHJ/6EmkQQq0m4PE5Tjq9JUShihMOEbjf/of+X5eiw/JH+IQZeYajbzO7TWeW3PAgzmGUDnvTd6vS8zbHjzjyVFM1V98UdQCPz5/ESRNKa/A86vpX4fdgO8NqFafJjIu4BSYNYyX6DnPbdWHJtdS39ciYx1Fny//Xz5SFo+ZvhRd3Th7F8bE34QZlgNUEPnXktNNrAiO0YlKzrY/n3c0MqVmBDkuccAtSgdqLrf0aMWjDfTzSnF+YUcZKvO+e4pjjY7zCdF96aftSBz7l4hknXgWEG/2SUeX/iN2jG1Cm6WROOfuhae29/ReaDF7PHbeQ+C+cjFsmhKNxLuJdQSApASEckzIR7wgCgsAnRCDyzlwaF/mKgYc80l8AJ+QiE5r1ZP2zwFT2eAzhyKDy2NvXZqaTPyk7J5Xc/aM+xWuO46RHmNEPMR+GLw3CMb0DhBxgQJWf+OuhX8I39R9VOKbXYP37lVyeVJvvZ1zES08ZfbbCUX9qaTkPOczQ6h1ZeseLpEVL1fgfn0j/OWdxDUy5mFNahsrSe5RXmdaoBdPPuBCQZNsONf4nfmPA3DO8fR+VqrdNCMeElUpVOCbcmraz0OOMrt+FRVfexFYwVb/fz5AGvVlxyw2Njvx0/ym58XsL2k07ynOfKP5Vv+fAsEb0WX4Dl8DUDBfC8dNdV2HZp0ZACMdPbUWEPYKAIJCIgJLn636mSr3fOOsVHpufl+gGoy9VvjdYMbg7E/a9IER/gzYjd6vf76Nv2dyU6bmd1yEpfwCPef0Pnaq3Yu5Fb8KNeleMDJCutzJfOEaeHcO3zedwQ7/66+ciHKPv8HvjBow/4WZQDCO7CMfI8xOo3Xo2l43kdKl9TjFv6npueodk0cbo6XpwU7w5+t48WjQZz+FX/kkqJGuKtiyYtgEnz7jQxBR7AiEcEwBltnCMujiNJj/+zhmN1+5fCDk+mgZdF3PlbYDxytEJpvy3Z9EPWPxjC8bveazNZww5wdjG3Vh06RXvjTi4DY0VwtGQh3glCCRPQAjH5NmIK4KAIPDJEAjm9rKutBq01TCXMTn7wm6xddF6zjkHo9Tl9OnfG3SasdWL8fXIY3iH+HJ5aj2KfzuE3S+DU9yaQv3+CrO7dWHWSRdCDcK+9Dv/0PPMFo5Krk+uQ4PfzuEdovcJ6jMRjjHPltCixjD2uQQYCI7sIRyV3JjRiCa/nUrqUQy9z5Z5q7ngkoZN1D/0kfzg9ipeLGtPveG7eOkbYehRDH3A1gVruPA2KJWCVAlGCOGox+LtWro1G8fep95p2sYloaWxMyW35rSkxaRDPI/Ns4zkwuTG/DT7HK/84wqPGWv2Cbyncl5F5yYj2BK3vUik41SadviDMy+1AjhlE4VwTJmPuCoIJBAQwjGBhTgTBASBT5qAZouNJYyfuI6rPtrKoBk2N/AIQysVpnKzrrRv8C21Ov3O8deaSo/J9xj2aA/zpsxj7+MAFMbEaPJN03klk4VjzH3mNKnOsF2XuPIwiOjYqqTA+610Lf0Ds518Ut3+IJ0TyMTbVbis/pGq/bbw6r1hwZD323pQrtkfXPMOSdUTkrHtODIyjTTkOKanW9UDFjSvzfDt57j0IBCF7gGNeMyOOQs58MAD/5BwwgLfcnnXEe4Fhn2ankeVK+s616D/xie808/TjHjCznmL2H/fHb/YebhwefcR7gWEktKuD0I4JjxEmepxVD3izx8bMXzjMc7ff09k6DV+b9aK3/Yc59KzUKJSWpQEk/6DMzXum3rTYMBabrsFo0aJ0+yWtP5tF0cvPiMkMuUoEkRxnP9gzcSQnysBIRw/15UTdgsC2ZWAIpjgqH/5V7/CSgZYRPu/5Nb1WzzxCiNGW7EnxV4UISEo/v3X0FuSYouMX4x0f8BtZ/+4KpoZ7ye2ZeB2upf6gmZDlnHGPSJWHKsDn3FmeU8q5S5G07EbuOQSYVjs5AOHzLTm6nds7vY1XVc/xT9cp+rVBD47y4reVXAo3pTR6x0JjkiSNGdoQqQHD+844x8ZnUqRDMNmGXkV6fGIO85+cRUpM9KDXpvAXfSpUIlmA5dy0iVUW3FW+ZT13auQ19yEHDlyxB0mFOy8kRd+ibx5el39l6dqn+30/q47K+7p5Wkqn7KhZ1XyWSSaR6f1PPVJpXpnpCeP7zrjG2FYQOW/nON/NnaUJ0/uOeMbrldVOqPGBO1ncLVqNOs7n8POgYS5baJX5eq0HrEaRw/N37+MdpzF7dS+7B5Yn15/XdfmM6o92dynKt+1HsaqC+6x/1+kZkGU11PuO/sQrkgtHzK1nsR1QeD/m4AQjv/f6ytmJwgIAtmegAKfV2/xTal67afKKHAv/b/tzMrkyu9/qnZnml0KfF674BsZTZY6uTPNXuMdBR0YQp1uf3PLI8Ro5VzjrcS7H5+AAt+3rrGCXJu+HY7XK1f8I5Sf9vMXfIRRTXry5+XXsQV9NNzCvV7h6h+exdEhH3+FxIiCwH9NQAjH/3oFxPiCgCAgCAgCBgTC3V/iEhyF29a+NB93mDeBqVfaNOhAvPgECETg4exKUKQbOwa1Zfz+5/hF6LzGn4B5woTPnkCE52vcAsNx2/MrHSfu5r5nWJZHFHz20MQEBIEPJCCE4wcCFM0FAUFAEBAEMpNAOKfGNaPDiPGMmrqJW++M79uWmSOKvrKAQMRZfmvdiRFjRjJ14w08Qj/t4ipZQEB0maUEIrgwoyPdRoxkxJQNXHFJbculLDVGdC4IZBsCQjhmm6UWExUEBAFBQBAQBAQBQUAQEAQEAUEgYwSEcMwYN9FKEBAEBAFBQBAQBAQBQUAQEAQEgWxDQAjHbLPUYqKCgCAgCAgCgoAgIAgIAoKAICAIZIyAEI4Z4yZaCQKCgCAgCAgCgoAgIAgIAoKAIJBtCAjhmG2WWkxUEBAEBAFBQBAQBAQBQUAQEAQEgYwREMIxY9xEK0FAEBAEBAFBQBAQBAQBQUAQEASyDQEhHLPNUouJCgKCgCAgCAgCgoAgIAgIAoKAIJAxAkI4ZoybaCUICAKCgCAgCAgCgoAgIAgIAoJAtiEghGO2WWoxUUFAEBAEBAFBQBAQBAQBQUAQEAQyRkAIx4xxE60EAUFAEBAEBAFBQBAQBAQBQUAQyDYEhHDMNkstJioICAKCgCAgCAgCgoAgIAgIAoJAxggI4ZgxbqKVICAICAKCgCAgCAgCgoAgIAgIAtmGgBCO2WapxUQFAUFAEBAEBAFBQBAQBAQBQUAQyBgBIRwzxk20EgQEAUFAEBAEBAFBQBAQBAQBQSDbEBDCMdsstZioICAICAKCgCAgCAgCgoAgIAgIAhkjIIRjxriJVoKAICAICAKCgCAgCAgCgoAgIAhkGwJCOGabpRYTFQQEAUFAEBAEBAFBQBAQBAQBQSBjBIRwzBg30UoQEAQEAUFAEBAEBAFBQBAQBASBbENACMdss9RiooKAICAICAKCgCAgCAgCgoAgIAhkjIAQjhnjJloJAoKAICAICAKCgCAgCAgCgoAgkG0ICOGYbZZaTFQQEAQEAUFAEBAEBAFBQBAQBASBjBEQwjFj3EQrQUAQEAQEAUFAEBAEBAFBQBAQBLINASEcs81Si4kKAoKAICAICAKCgCAgCAgCgoAgkDECQjhmjJtoJQgIAoKAICAICAKCgCAgCAgCgkC2ISCEY7ZZajFRQUAQEAQEAUFAEBAEBAFBQBAQBDJGQAjHjHETrQQBQUAQEAQEAUFAEBAEBAFBQBDINgSEcMw2Sy0mKggIAoKAICAICAKCgCAgCAgCgkDGCAjhmDFuopUgIAgIAoKAICAICAKCgCAgCAgC2YaAEI7ZZqnFRAUBQUAQEAQEAUFAEBAEBAFBQBDIGAEhHDPGLVu2UscoUKqy5dQ/eNIxCgUC3QdjFB0IAoKAICAICAKCgCAgCPxHBIRw/I/Af27DxjxZQAN7M0oMOEGQUI/pWr6Yx3OoZ29FhWEn8IuM4d90tf4Pb455CRN6wYDlEByVcUNuroJuXWDLY1D8H8hnxS0Y1gNGb4agD+CScaKipSAgCAgCgoAgIAgIAh+dgBCOHx35hw2oDrjP7j8G0KbmlxTPnxu7vMWp1LAH0/c+IUSVVZIkjNNDymAur8DoiyEo1XFzUDxgy+ThDJ+xlxdRqs9HEH3YEqS/tcqZP793wDxPK1a/CkWZlmV6exRGD4Z+/Ywc/WH5ZVDEpN+W9LRQnIEKNmD3I3iGEbvAan8Y/g3kKwmrn4FC9zCk0PHWTmBpBgOPQnh0Cjd+JpeCt0ERGyjxC3iFJnAZ+R3kLwkrHkNkGrh8JtMVZgoCgoAgIAgIAoKAIKAh8FkLx+DbASxZ+I4FC9JwLPRh4+VoYtLyof1TfTaCjjKorDmmOXOSU2JFnnwOWElzkSNHDnKaONBk8V0iYjL/A6vafwddCsqRV5vK7bBo4kcI2EA7OxmSfD3ZFyBCMZN/bNR4/tOO/BbW1J3zgOC0iK0tHcFcChZ5oFBhKKx/FIFuGyFcmfyQmXHFmHBUuUCLvCCRwOTrEJkGD2J2EI4aLm0KgkwCky5DeDpEvcoNBtWFb/rAq2ASfsEyYxFFH4KAICAICAKCgCAgCGQOgc9YOP7L28UvKdnYjekzvZk1K6XDi+5V72Jq9ZQhBxUJHrPMYfjRelH7bKDrt60YtfIMzkHakMcYnyvMb1kEea6c5MrXjT3+ykzOpVPzbuOP5JXJqTrlNmHR8bIRhHBM89qrPdfRLp85Ft/N4E6wInVtsLkDmMug2y6I+I+8dMaEo2bG7x7D1QcQFqP1tqVGITsIx1guT+DaAwhNIxcdt5gn0LgAmNeGe/5k8i+wbhTxUxAQBAQBQUAQEAQEgQ8i8NkLx+pTItIQLadmf/cHmOa6Q06bV6zxUKf+wT1VrFH4vrjB2eNnuPk2lCyLEk3VDoh58ge1LE3JJfmS8VfD0dd2aWieyi0BbOuUH5msLL+eDzHs+2MKxwgPHjie4Pi5m7wJjkadkudYFczbOxc5dfQopy7ewzUkJuX7NQRUgby8cpLjFx7iFak2EnarJszlFmePHefi43dE6hugDsP19nlOnLzMk3cK42OpnFncxB4zizrMeRSS+jP7sYRjsAs4noBjZ+GFLwYPcnLCMcUnRgFPrsLxk/Akrr/UhKPCF66fhcPH4I4rJOs1V8CrO3DqCBw6DvfcUrhXz8hIT7h0Cs45QaAybWJXrznvnsCZE3D5CUTFQJCRUFX9+5Ocq8HrMZw6BqeuaMN+9Z+fNAlHBby+C6d1c3eF6DR4ezXjnj4JTs6p5JeqwPUenDwKZ6+BT0Tynk+/F3DuOBw7Dy6Bhs9MkrmLNwQBQUAQEAQEAUHg/4VAthOOOaQvWPhKbfzDfUqrqrzJzDoFKdhqOQ+uraRf9fzIcuXQholK8tNg5kX8VXreuJT6yuxrAetpbSOJFY4TrukLRzXeu3+hUsH8lO22ibcZyUOMOM6AEmZI7TuxPbE3MwuFo/L6VGoVKUrrZY94uHMMjYtZYJpTwzsnJnZV6LfpCWFJBEYwd9cPoX5xK0zj1ib2fouSNBm7hxfhMXpfGCi5Pq0OxYq14s+b55ndsgSWkpzkyCmjweJXRCgVCdcf3GXbr/UobGFKzhw5yJHTnNIdlnMnWEnYi938Wq8wFqY5tc+CWUnaLL6OvyJxzqeCK+MqYSO3psVKF8JTS3RMj3A8MwaKFIKxpyEyUYjkkaFQuBBMuWwYVhrjBtPbgJ0UcuaAHDkgpxSq9oA7wVqvl1HhqIQ/GkHhr+CQL0TrKfiXe6BRcZDk0vaXywJazYJ5rcHCSI6jOgjWDIDClno2SKBSJ3D0JiGuXAEbB0EZOzDJqe071l4JVO4GN98bihen36F0SVh8C3ZOgNI2kEvTLifYVoJ19yAqDaJL6QxjGoO1NI5PLijVAnbNhXxWhjmORMOc76HoV7DPi/hE1sinMKweWEkS7JbkgcmnISwcpteD/DZgmgtySsDSCqytIX9reBYIagVsHgrl7MFUf+6mUKkLXPfT4xQNs5tCqZZw4yZMagl2Mi3bnCZQsQfc9odEjwjuJ+GnSiA3SbBR6gBd/wa/iIS/VsF3YEgDLQ/dM2NqBx3mgXt4+gV5Qs/iTBAQBAQBQUAQEAQ+AwJCOKZxkdTuy2hiISFfneZ8l9uG8u2nsvnMVRy3jqC6nSm55NWZdT/KwGGj37Xax5HVM6cxZfJkJidzTJm+lsu+qXjT9DuNO1deHcdXFqbksmnDP95KPRuU3JhYKVbUmJYfw6VQvfxEI/0Yeyvm0e/UtJIg+3YmD8ITtc9C4Rh1agilzOWUrFmbYralaTF+HccvOXJgQWe+tJJgatOIxY/D9DygSp783YLCZqaYlWjOuDWHuXT9Kqe3zaJTRTskJnIqDDmKV5SuqmkUp4eVwdK8DHVqF0ZmUYw6nfrT56fmjNjlRVR0ZNz1EtSsVRT78u2YtvkMF0+sYfB3eZCZWlFz8ATalXKgfFvNs3CRk+uGUiuvHFP510y6EphEm/hv/Im85jKK9jscW13VGO/499IjHPf1BEs59NiTtPjMlp+1om3QcYjQKYYQmFILzKRQvT/svgBXz8KiwVDCHhY8hSg1GBWOCvi1AsjtYINngkAKvwI1HUBiC30WwzlHWDMailuBlTnkNE1UHEcJK9uClQyqdIdtp+HaOZjXHfLIoWBbeByk9Xqp3kKLglCpJczbAped4OJB6F8dzCRQ+3d4rydwzo4EO0v4ribYl4HRK8HxAizqDnZysGkAtzViM562kZNwmFobLKTwdW/YcxaOroGmJcHaSitg9YvjoIDRlcDcDta5QJRGUGvEZAOwtIR2M+D0VbhwACZ3hTH7ICQCziyHif2huCVIC0OvoTB6DEzdCO8jITZ3sihUagFzNsGlG3DpIPxSA8wlUGsG+IbH2a+AMVXAugTUKAZlf4DlB7Vj9qyqzZmtP1vvfiD0GjQsBLLc0HsenL0KZ3fD8O8hb0O466PlFP0COpYFM3voMhNOXobze6DnN9qQ6tZ/g7/eGhghKt4SBAQBQUAQEAQEgc+bgBCOaVy/qCP9KCQ1IZeJOV8NPYZntC6cMZQ9XfMiM5HRZLkH0cnErCqvT6KKlQxTExNMkjlMzb9mslNE8pF6Rm0N5uSgMpiZmODQcQueSkNPV8SjzUwc+Auj190iOAMe0fC9PcgvN8W6/aZYL5qBCVkuHCXkkpej985XhMdXNQrh2MAyWErl1FvwjLC4Eq/qd1vpVMgcqW0D5t8LNchjVb1dR7tC5kjkNZl1T1cVNk44SjSFhorTZfNLwvW9Z8Rdl+ZCXr4PO1+FxzvXoq5N4GsbGblyyinXewfO8QWDFNyYXA0bmYwqk64Tmsirpbgwki+tZcgbLsY5RGEkHFaPrk44ftcfFi2FZcvijr9h53VtyKTu9vQKx7eroIAFFOwIzqGGIYmBbhAYl6OXZuGoho0dtSKw2V+GW1Q8XgGlrCBXIuHotxNKWkPRLvBSvyBMDCz+XluFdaxjXJEZNbx9TZJNRBWXoWpusGgEzwIS5hErHM1AVgY2P9Gr/BoCw78CMzP44y5EpKAcvTdBMWuw/wHuBySIzIjH0KEsSHMl8jgaEY6ql/BDfrBqAs/17NOtm+5niqGqanB5A0qd6I9rpLgC1fOCRUN45B839zjhaG4CZbrBQz27Q0/B1w5gVgtuaUKINf2oYF0HsDWD9mu0QlVnk+aauztEa8ZVw57+kNsSOm0wvC/mObQqAuYV4YxXrFaO70KcCAKCgCAgCAgCgsD/FQEhHNO0nDE8nvUd5ia5kFYcx6VgfXGm5Nq4LzEzkfLtzIf6UFxyAAAgAElEQVQokxGOaRomAzeFXZtMdRuNB64uc+6Gp1N0pjagGte/mmItlVDU2P6NWS4cpdi024hPvJdQa2/g5p/IYyan5KATBMbuC6jGd0N7HMyk5O28Pcn9EM6h/sWxkMqoN/8ZEbFiUycMpZTssw+PRGOgE44yW9qt9yZCX1RGHqRPEQuk1m34xysiXlBqrIs40JvCFjIcOm8nOFFRm5hHc6hrL0f+1TguB0al7PCKFY564Y2a0EzdUaSvYQhhuoSjGlZpQkdl0PdAUg+l/iORZuEYBD2Kgjw3bHQDhV74qkZ0rEwcqqqGbV20nsghxyEsUfGfZwsgrwXUmweBkfoWGZ6rPaG9pqhMFbisF4KpE46t1yTdf3JbV7Axh/4HITSFqrS7eoGNGfy4HoIVhuO6r4aCiUNVjQhHtTu0KwhmJWBLCluXpCgcDYeOf6X2gg6FwaIyOPrEhZ/GCUcLW1j5GiL110GzRsXBojjsc9eukdoDOhQFs8KwK/G6xY8Emi1YepYGy1JwyD3Byxx7SwwsaQY2lloxHpaCGNfrUpwKAoKAICAICAKCwOdHQAjHNK1ZEFs72CMxtaX1Og+U+oUtUHBmSAnkJjLqL36drMcxTcOk8yb1uyMMrmiJqUkevv/zARHxXrl0dpTs7TE8+aMWVhIp5UZeICRx1Z2PIBxtO27FL5Goi9jfm0LmMgr2OkCAplgJCi6O/hJLiYy68xK8kAnTUuG8uDF2MilF+x0hLLaNTjja0mGLD5H6wjC2Ydx1mR0dNr8zFI6KMwwvb4XM7kc2vTMUjlGnhlLGUoZt+w0EJ9qzUPVqKU3t5chKDebE+8gkqWYJ9gI6j2OHtfDGHby94453EBAJ/+qJgnQJRwWM/BJkMljwXM8bZzC69kVahWPMXaidG+TV4Iael0vXZZLiOEqY9I02zLTmz9B/AAwcmHD0aqgNw/xyNPjpwjABpR+c3QFzpsCvQ2FgbyhlAbJK4KjJ9YsbUCcc2/8DIYlE36FfwNYCuu2EkOSEYwz8UQ8s5PDbtaRbaxjbx9FoqKoadvfRhsfKCkC3aXBN48VLlAudFuEY7Qfnd8LcqfDrMBjUG8pYgqwinPOO8/TphKMdrH2bSDhGwuByYFkQtrlpQ2mVjlA1L8jrwn2dF1K3aHo/o52gVgGQFoAOvWCA3lpp1q1RaZDJYcQpCEn0JYBeN+JUEBAEBAFBQBAQBD5vAkI4pmX9lFcY84UcU+tWrHunX2BFE8X1jtXNLZGY5qfXwZDkPX7qMHxdXXjz5k2yx1tXP8L1BUFKtgVeZVaDvEhNLKg49DAeSYqxpNQ4rddieKwTjr9+QsJR49WLFY7744RjFIf7FsFCIqfZKm8jIlCNz7o22MulOHTbSWhsAZmsFY42xoSj8xKapFc4pmU7jnQJx0joXxxkZrBaL0fR2CORVuGovASV7bQC5ImmoEuizpIIRwUML68txmLjAPkLQIFER8HC0EXjMdQIPzU4LYMqDtrcQokZOOSDAvnAzAQk6RCOh3XCcUdSURlvthLGVwUzOcx5BBGJJpRm4ajpMExboOcLe63tJtbQbCw8iStApLklReGohpvLoVp+bXEcUzPIoz/39AjH8lrhuDVOOEYeg/K5wbw5vA5IvriN4ixU1rCXxnFPtFaatStcAVY8SDn8N56vOBEEBAFBQBAQBASBz5GAEI5pWDW11wqaWpoirf47jxJXJg09QK+CUkysWrDGQ6FXmMawY4Xjr5SVm2ircmoqcxo7TMsz+nJo8uJT12XYbRb9UAiZiZwyPbbyMlI/dFZ3U2b8VPF2aWOsJBKK9D9GkDJRGNp/5XE0IhxPDy2NhURGvYUvCUtSsVTFmyVNsJPJKDn4JGGxuYcfXzjGPPyDOrGhqmO5lKZQ1TTu47i/l7Y4TvfdSUNPkxTH0Yi2CloP0WLNFg16nsvEj0yaheMNqJ4bZN+CUxo9jhOqglwOM+8aVntNbIPmdfApqGQHsiIwfT/4RmlFjvod/KgJVc1s4RgNUzXFZ+Qw5TqEJ3ru0yUc4yak9IH9C6B2YZCYQNUJ4BOmvZiScAw5DVUdQFYYpuyBdxpvs0ZL+0DHImBRKR0ex0TCUXFOK8bNGsCj90kFv24tlNeghkak14AburBY3UXxUxAQBAQBQUAQEASyCwEhHNOw0lHHf6GI1JSCfQ4n2gJCjd/OLhSQmmDbai1uKXn9gh9zbNM/rFu7lrXJHOs2HedJiK7oTjKGRTxiRdvisaGxJTtt4GlEVolG7fhhOzvjIDPFsu1G/BS6WMA429IkHMN5fuB3ejetQokCDhQoU5Mus8/gnhIrQFtVVYrRUNUkwlHFy0UNsZVJKdTnIO9jQ1H1+YVxuH8JLKSWNFv+Ni7s9OMLR8XZX6lgLUVWfyEvQhRJHHP6FseHqqbF43h0oLYwzY+bIEw//FIFfzXTCqD4qqoqWNgIzGQQ/57ByAkv0iocNbl8bfKBPD/s9E6UA5dMjuOatlqx23tfIpsTho8/uzAG7M2S5jxmmXBUw5p2YCWHrtuTeibTmuMYPwG9k/AbUDcvmFWEC++04bUa4dhEI4Brwx3/hEI8mmaO48DBAurMNgzbzQzhqCne07wQmJWEAx6J1k3PZk0uaceiYF4Idrqm/GWDXjNxKggIAoKAICAICAL/XwQ+e+FoaXEfO7vUDyvpHXLmuEP693GM4ensGrGFcaxqzORmqJ5QC7vKpGoWmEpKMuhkQOqewg99dmJesqlTacxNpRT7cTWPwvRsSaZvpfNh5k8Yxx97HhOegcI9yluT+dpSgvTrqdyJrx4aN1hahGPUSUbWaUq/6SvZsWcr87tXxlaWn46b3YlKISczfcIRYu7PooaNDEn+H9nwOqECqsZSlet6fipsjtSuFatehcUVs/nYwlGNz/p2OJjLKNR7P37xW2Mks3C6HMe0CMdHc8BeDmWHg6/elgiP/4Zimj0STQ1FotMUbd5dib7gkWj/vUf7E/YGTKtw1CQXzq6r3e6h6zZDIfh8HZQxUlX1+RLIZwEFOsAL/aqqRnicG6UVjg0WGhbLcdsb54nMbI8j8FCzV6MFFOoCr0MSwjgVL6BzeZCloaqqOgT+x955QEdVdHGc9EZIAoTQe5WOIE2KAgIKIiKKfDSlK9KrIEoHQZqIUqX33nvvvYTeIaT3vsk+f995KWTTN5AlCbk5Jyf79s2bufO7s5v3f3fmjlcw8TaNVZPatCsUk9QmRjhqH0GrgmD9Hhxwi5+Z9PCQaOHYaGp84fhsE1RXo7xvMFVV3S5k3IfRAr7LWvDTXQ8aCNs2g3sIKOoDiFYxyYIWgFcKCYuScJ+8JQSEgBAQAkJACLwbBLKwcATNHU/aFb2EsSoI9f01v8v0B0q8e7mUXenPmvZ5MFM3lDcyo0iLX1h76ia3zm3k15ZFsTQxp0yPLbhoUokUptyIXmeDt3aloIUJRkbWOJUqS7ly5RL8lqfq1/O5Exq7V6GGcz9Xjd7HscJQTrzGPo4EbqRzAUtM7dvyr0eCqbgxwtHUzI7CZRLYU74izcafIihhIpCgzXQtbEvpvnvxi8qImnTX0yoc1bWmm7uXI6ca/a3xHTO3nsH53i3ObZ9Jt+p5MDd1oMGkc/jFbN/xKmuquWGS4yRe4xjOkYEVyWVhQ7PZDwhMNJ02AYco4ajuIdgRfvkNxo/X+Z0AK07HbdEQeRUa5AEzW/h+Ply6But+hTIOUL0KmCeILqr7IrYvDubm0GQYHLwKt87C9G6QPyf8dil6+qjewhF4uix6ew3zIvDLGrh+HdaOhbJ2UKpUtA29d8ZNpVUzdQ5Q1xGaQdX/warDcPch3LoA6/6ELq1hdUx0y3tTdD0WJWHKNrh1EzZOhEr5ovdrNFczi+qZHEevNY7q04Zn8K2a9MUcmo+G49fg1Dr4vDzkKwWO5lCqF7wMjBGVSWRVdV8KZapCvz/gxA24dR5md44WwRUHgltgjNNDYZC6B6QFfPs3XL4KO45ERzq9tsB7qkAsAZM2g/MN2DQZqjhBbnXvxzeYqqq2/nQ5lMsdnfhm4AK4dBvOboMe9cCuDpyKEbde+6FO/uh9Ojv8CgcuwYMHcOEQzBsNbQbAw5h9NxMMZTkUAkJACAgBISAE3g0CWVo4qi4IuuhGU6eYaKI+4jGtwlFzmmEVLTG1bc7IqV9TPlfcOkUjs3zU6beGu6GGF41qX4O3fUdhS9MU1kkaYV59DBeDYxP4KDz79xuK2ViR//O/uZ9wfaY+Y1hxZWHrPFiYF6fPXv/4W+kF7+HHsraYGSWxZtPIlOK99yReF+m3mm+cclJz9DkCX4m4xIaEnxhOlVzWFOq2JWbLjbgyaubSsrbWlPlxb/xzITdZ8cOHFLHWZWSEqX0lvpp2BNd4/Q/nxIhq2NkUotsmbxLNbiX6vL1NYbpu8iIqn06sCZpTjKxuj03hLmzwjJ8dVbW7qr01hTqvI0B3O47I20xrlBsrq1r8etGfsAT5VmKrfvV3X//oqGDsFhzx/hpBjdEQGPaqOJfnQQV7MI7ZtsPUAboughPjIZ89DD1EvE54Hocv34vejzC2bjVxy2e/wCM1SqYmqz0JNfNA4c7gFhQnkH6uCbaFYb07cXuRKHDgt2jxGGuDWl+73+HYVMjvAIMOgG6kNfweDG8OuczjthpRbTEyhoJ1YYe6L6C6oE8LWwdBYRswiumfmRP88C+MbwJ56sNpnSmep0aDYy7ovDbxlhsHBkJeW+i9LfG5OJrRr9wOwqel4xgZmUC5L2H/UWheCKoMANdY4aiBMXXArjCsfhE9nTPyHvSpBzY626qodZT/Eo7H9i2m0TtLoFIeMInpn+VHcFPdn1EL24dCMTVqG9v3fNBnCYxrBo714UTsukMNjK0H9oWjM6fGW7+qZlytAXZlYHOMfVFNK3DyD6iWLzp5T9RYMALb0jBqS/ytSO5vhs/U9bEm8f1lbAW1B8FTnchsQpZyLASEgBAQAkJACGR5AlleOBraA4rr37RQE+NUH8OlUC3hbtfYv2ElK9bu4uyTwGST4RjarrdXv8Kz+S3JbWFBxaEnEkcQ02SIlqeL2lDQoQ6/ng8kBd2YploTFg5zu8GxHetYsWI1m/Zf4Jk6vTiFHDAJrzfEsfbpX3zmaI1VtZ85k1pinNc1IOQF7NsEqzeBsyepD04N3DoO61bChl3wUM2I+oagQp7C3o3RNtxw18MGwOsO7NkEy5bBuu1wNYktK1Qmvvdh5zpYsxXuqUl43tBWvTiHwMV9sHo1HLweX3zrdb0Czy7B1jWwYi2cuAvJRdr9H8KOtbByPVxKwMDvAexaH933u97p3/cILzi5E1atgl2nwTsmAVGiPmrg3lnYvBqWrYDtR+CpX/rbk6hdeUMICAEhIASEgBDIaAIiHFPxQPje3hQzNyVvxw34R6YWJkqlsix6WnH9ly+dLLCsOIyTCdc5pqFPmnsL+bJ4HmqNPIyXJvX1mWmoOpMX1fJ0fivyWdtQZ9xF/MOz5zjK5E4S84SAEBACQkAICAEhIARSICDCMQU46hS5O1PqY21izofT7hH2ViIcKRqUQScD2N2nNNaWZfjxgF/86ap6WqR9uYMfqztS6qsF3AyKnUqr58VZvVjkbaZ/lAfrPJ/y133DRVqzOiaxXwgIASEgBISAEBACQiDzEhDhmKJvAlnfwREzs6L03htk+KypKdqSsScj78ziEydrivTYGX9doR5mKR4HGF7XieKtZ3PBLyLlbSj0qC+rFYm8OoH6DvZUHrgXz1eJi7JaL8ReISAEhIAQEAJCQAgIgexMQIRjit4P59HhFSxefpD7IW8nAU6K5mT4SSXtoi/kApMb58euQidmbz/I4aNHOXr0KMfO3sc3IhsxldmpGT56xQAhIASEgBAQAkJACAiB1ycgwvH12cmVehDQPppFU3sLTHLEz7xqZNeOFZ5h6g6A8iMEhIAQEAJCQAgIASEgBIRAJicgwjGTO0jMEwJCQAgIASEgBISAEBACQkAIZDQBEY4Z7QFpXwgIASEgBISAEBACQkAICAEhkMkJiHDM5A4S84SAEBACQkAICAEhIASEgBAQAhlNQIRjRntA2hcCQkAICAEhIASEgBAQAkJACGRyAiIcM7mDxDwhIASEgBAQAkJACAgBISAEhEBGExDhmNEekPaFgBAQAkJACAgBISAEhIAQEAKZnIAIx0zuIDFPCAgBISAEhIAQEAJCQAgIASGQ0QREOGa0B6R9ISAEhIAQEAJCQAgIASEgBIRAJicgwjGTO0jMEwJCQAgIASEgBISAEBACQkAIZDQBEY4Z7QFpXwgIASEgBISAEBACQkAICAEhkMkJiHDM5A4S84SAEBACQkAICAEhIASEgBAQAhlNQIRjRntA2hcCQkAICAEhIASEgBAQAkJACGRyAiIcM7mDxDwhIASEgBAQAkJACAgBISAEhEBGExDhmNEekPaFgBAQAkJACAgBISAEhIAQEAKZnIAIx0zuIDFPCAgBISAEhIAQEAJCQAgIASGQ0QREOGa0B6R9ISAEhIAQEAJCQAgIASEgBIRAJicgwjGTO0jMEwJCQAgIASEgBISAEBACQkAIZDQBEY4Z7QFpXwgIgUxJwM/PD29vb/kVBjIGZAzIGJAxIGPAwGMgICAArVabKe8HxKg4AiIc41jIKyEgBIRAFIGwsDDy5ctHjhw55FcYyBiQMSBjQMaAjAEDjwFLS0v27dtHRESE3IlkYgIiHDOxc8Q0ISAEMobAmTNncHBwYNy4cezZs4cDBw7IrzCQMSBjQMaAjAEZAwYaAxcvXiQ4ODhj/ulLq3oTEOGoNyopKASEQHYhoApGGxsbnj17xn///Zddui39FAJCQAgIASEgBIRAsgREOCaLRk4IASGQXQm0bt2aPHny4OHhkV0RSL+FgBAQAkJACAgBIRCPgAjHeDjkQAgIASEA5cuXp2rVqvj4+AgOISAEhIAQEAJCQAgIAUCEowwDISAEhIAOAXVhvpOTE127dkXN8iY/QkAICAEhIASEgBAQAiIcZQwIASEgBOIRuHr1Krlz52b58uWEh4fHOycHWYdAhMdVdiyazoTfJjN37UmeBGqQRO9Zx39Z0dIIz+vs/ncmk8ZNYs7qYzzwDSNSlkhnRVeKzelFIMIL5/0rmTtlPJNmr+TwHU+CI+RDkV54M6IeiThmBHVpUwgIgUxL4Pfff49KjPPgwQNJjJNpvZSyYSFX/6JDnRp82Kwln9QpTW5LC/LVHcb2R/6EKylfK2eFwOsQCL2xkG6NPuDDps1pVqcsjtaWONYeyPpbXoTKmHsdpHJNVicQeovlfZtTv8HHNGtal/L5bbHO+z59l13iZZA8xsuq7hXhmFU9J3YLASFgEAJffvkl9vb2khjHIHTfQqWKC2vHjWf7HW9Co+5Ngrm1sCPv5bGj7pgTvAyIfAtGSBPZioDyko2TJ7PthitBUcMrhDv/fkeNArmpPXw/j7w12QqHdFYIgILbtpnM2HqJJ34a1Bhj6L3V/FC/OI61BrDlpithEnjMkgNFhGOWdJsYLQSEgKEIVKpUiQoVKuDt7W2oJqReQxLQuvP4qT8RkTphnpA99K9SgMq9t/DENzzqJsaQJkjd2YyA1oMnz/zRaHTGXOgBhtUpTtXuq7njHiJjLpsNCemugtezF/iFheksEQjlyC9NqFCjC4svPSNQhGOWHCYiHLOk28TorEZAG+zGnfMH2LhkNpMWHydMo0fUQ+PGuS37idREZKLuRuK8bzMXXoage1+eiQx8I1O0Wi358+fn66+/xt/fH4jg8r8j+WXFRfzC9PDZG7UuF78OgYgryxnz23LOeQWT7CclYDO9Klbiu2X38A7NHHcrEVdXMnbccs56BKHJHCa9Dv5seU3E9TWMn7CcU67+hCfnu8Dt9K9Vg24LrvEySEdQZkti6dnpCG6sn8ykZcd57hsmgjw90b5JXRHObJo2lWVHHuOV7HdsIHuGN6Zu1zmcfuSnIyjfpGG59m0TEOH4tolLe9mKgOJ2giWTR/Jdo+LYmBmTw8iMaj+fITAspfn9kbgc/p3vv+rBtD0PCMtkCi3k/hbGtP+UrtP28zg4gnfplujOnTtR+zfOnz+fsLAwdXINm74rQYVeG3EJiJ5uk60GcBbobOjWnpSr3JM1j3ySmfqk8HJddxq0n8UZ10Ayi/wP3daHilV7suqBF8neZ2UB/tnRxLCdP1H9/R78e8uN4CSFo4Lbph9p1mEGR574IhNV03OUhLF7cB0+6LGQqy8CRTimJ9o3qStsH8Mb1qP7X+d54p/0XYHivp2hn3di6u7beMg81TehnaHXinDMUPzSeHYhoL07nca5LTExq8qIU74kqxsVH05Nbc37zUaz91lI8hn5Qu6z5+9JjJ+1mWveEWiTvHl5c7pa97Osmj6ByYuO8CQkMk4kht5mWZcaVGo1kQPPQ5O3881NeKs1/Pnnn+TMmZNbt26hKOo/PxGOb9UBr9FYasJRcdvBkPb9WHnNk5CUnte8RttvcokIxzehl7HXpiYcFfc9/NxpAP+ed0GW1Ka3r0Q4pjfRdKkvNeGoeHJwfA+GLD7OQx95lJIuzDOoEhGOGQRems1eBHzWdaJoTjPMKw/nhK/unH8dDooPx3/7iCLlO7HyfiARST+0I2rR+aI2ONmYYmRkQYOpNwk0SKrIcA4OeA97C2NyGDvRaZ0rQbpz6kKuMKNFUYo2/oUDLu+GeOzQoQO2trY6iXFEOOqM0Ez5MkXhGHiZ+YOGsOS8G0GZLAW8CMdMOZz0MipF4Rh4lcUjRrD41DP8dL8v9apZCqVOQIRj6owyoESKwjGIG8vHMmbREe57yfTiDPBOujYpwjFdcUplQiApAj6s7VQUGzNz3htyFN8kw41anq3tQjm7gnyx4B6BukkWkqoy4CZb/viFnyev4rx7mMEijppnR1k44WfGzt7J3YDE01Ijb8+mZSE7Sn2zlNsB4XERyaRszgLvVatWjVKlSuHl5RVjrQjHzO625ISj4n+JhSPGsOKiR6bcN0yEY2YfWcnbl5xwVAKu8O8vv7H8zAv8RTQmD/CNzohwfCN8hro4OeGoBHJ91UQmLjvGQ28RjYbC/zbrFeH4NmlLW9mTgM96OhXNiZlZeQYeTnqaqvbRIr4oaoNl2X7s8wrNNOuwUneYPzv6lMfOuhBtF97G3yCRz9StSI8S6tTUAgUK8Pnnn8ckxlFrFeGYHmwNWUdSwlHrdojJ3XsyZeMJLl53xtnZmRsXD7Ni3CTW3PUl+E2nrGofs3VCPwb+eQz3wNdb+yrC0ZCjwrB1JyUcte5HmdG3L5PXHubc1ZvRY+7SEVZPmsqam+5vPmVV+4Sd0wYxeO6hLJ0URnm6i+lDhjDnwNPXTFQlwtGwo/s1a09KOCqenPxzED9NWsHeU1e46eyM841LHF03jemrL/NCtql5TdgZe5kIx4zlL61nAwK+GzpHTVM1K9efg95JiELFiy3dy2Jrbkb5gYfxCs0s6Tv0c07Ivp94z94S81I92eYSTCabEahfJ4BHjx6RN29efv/9d0JDQ2OuE+GoN8AMKphQOGofbaBvnQLYmBqRI0cOnV9jHFrO5pp78Jtn84u4xKSPilC64xLue73eVgsiHDNowKRDswmFo/bxZgY2KoadeeIxZ99sGmef+afDmLvK9E/LUK7D31x/mXWTwkRc/YPPy1fgm3lXeB7wOovzRTimwxBO/yoSCkflKTtHtaRcHguM430P58DY7iPGHbqLV7JpsNPfPKkx/QiIcEw/llJTNieg+Fxlw8TuNH+/HKXLlKTM++0Yv+cayzsWIaeZGaX77cc7CVGovTeLTxytMDUpxHdbPAlJ8ss0HNerh9i8dDbjh/Xi21aNeL9KBxY8CCS1Wa1pcosSwJNze1m3YDpjB3zPV83rUbXeQHZ6hCQvCH3W0KmoLeYmdrSYexu/sGQXZ6bJlLddePHixVHrG69cuYK6LUf0T1qFoxavW4dZ//cEBn/3BY2qlKLWDxt5qDuNN+AaKwd/RpXC+Snz6RSOe4ZkkQizFq/bR9j4z0SGfN+WxlVLU6vveu77hcVNUQ64zqqhralapABlWk7iiHtQ8ltkpJODEwrHdKo25WoyQDhqve9wdNMCJg/tzpcfVaNMrd6svuVN6KuPWwA31o7gixrFKFimBeMPuGTN6ZJab+4e28zCycPo0e5jqpetRa8VN/DQCRMH3FzHqHY1KV6wDM1/24eLX3jK/krnswmFYzpXn3R1ESIco8GkVTgq+Nw/ybYl0xjRqz1N3y9Hre6LueASGCfmA2+x6dcO1C1VmNJNR7P9vmfmz3Ss+HD/1HaWThtJ7/ZNeb98Lb5feI7nAbH/uyDw9hbGdaxPmcKlaTpqCw88Yh+IJj3E3ujdhMLxjSqTizMzARGOmdk7YlsWIRDGg62jaFYiD6Vb/cImZ18iFC2+F2fSpnJJitiaYmxaih/2epNYN0biPKURua1MMLJsyuyHwcnsCxbEk6uXuH51F8PrO2BhYoRF/Ulc071pTw9aihf3Ll3g9JbRNClkg6mRMU4dV+MSlMJ0vMhbTPvYEWtTI6wbTeWar46QSA+b3lIdXbt2xcbGBjc3N50W0yoc/dk/uStffdqAigVsMDM2wsisAv12uxAY8R+K52F+a1YMW7PoyISRZRP+uONDyKubf52mM91Lfw5M/Y72nzWgUsGcMX0rz487n0cJFMXzCOOal8DO3Dgqymdk+TG/3/Qk2MB9yy7C0f/QDHp2aEXDyoWxNTfByMiMcn02R68bUrw4NqkVZR1inu4bWdJ4yhVcAwwM3xBj1P8wM3t/S+uGlSmcywITIyPMyvZiwz1Pwv5T8Do+hTbl82BprEaTjbBsNJH7L9Q9V9/ejwjH12f99iOOARz7sz9d2jSialF7LE3V7+TSfLfyOi+D/0PxPl90+/QAACAASURBVMUfX1fFydok+nvL4kPGHn+Id5z+ev3OGvLKgBP8NbArXzSqSjEHK0zVz0npbiy7+oLg/xR8Ts+iQ40C2JhEf04s6o/h0n1Pw1kkwtFwbDNZzSIcM5lDxJwsRkDx5czvrShhY03Zziu5HaSbQCaELd+pSXGMMC3Rm11JrV3UPuHPlnmwNs2BSfFe7EyqjC4S7V2mf5QHK1Nzav2qbkpvoP9uwbvoU8YOCxNH2i9/Hj+bqq49Ua9D2NytGLnMjTCybcm8BwHJiN/oC7UP/uarCkUp4OiIY1p/C9RhxCEvgg0wm7dmzZoULVpUJzGOam9ahWMcHMXrKD83cMLG1IQCHVfx1NuZJR3r8+mwfzl89hDr509n1vqLuIdFZrm9yBSvY4xpXABbMxMKfLuCR543WdqpAZ8NW8rB04dY//cMZq+/gGtohMH7ll2E46uRpXhz4rdmFLU3xyT/1yy948qNZd/xceshLNx7kkMbFjBz9jrOuQSn72yEVwa8rRcK3ifH06KE+qAsP+0XOeNyYwU9mn7O4H92c+LgRhbOnMO6sy8MlFU6+X6KcEyeTWpn3r5wjLNI8TnN1DblcbQ0xantPC4+vs6aHz+j7aA/2Xb0IJsWz2Hu2lM8Se8HsnEmGOCVgs+ZaXz5nhNWpk58Mfc8D6+tpf/n7Rg4ZwuHD2xmydy5rDn5CN9QA90vqL0S4WgA32bOKkU4Zk6/iFVZgkA4t+a3obi1OQ4NJnDGOzxu6kuU/b6s/CY/NmYmFOuxA8/E4UYI20mvEraYG+XArOZYLvons1VHDA/FdRFf5LfBzKwaI08nnWgnPdCFHx5EZXtLTPN8ydKnQaScIFDD6VE1yWNlQg7TEvTa4U5wktNtYywLuM3BDWtYuWIFK9L6u2obF1zDiEznQMp///1HoUKFaNasGX5+fjoIX184qtumeKzqRAk7C0wLfsuUsW35YtxBngUZXkzpdMBALxU813ShTG5LTAt2YNKYtrQdd4AnASlEpg1kSbYTjuqGPJ7r6V4xH9amBWg/bhRfthvH3ge+ZNFZ4smPDMWLDb2qkN/GjAJf/crIL9szbvddvOPm5yZ/rQHPZDXhGBQUFPVALDIy5SduajlPT09SKxccHKxXuaRckJHCUf1O9t7yE7WL5sIs/xeMGtKODuO2ccMtOG66fVJGZ/b3FG+2DqhLcTsznNqMYHC7bxm/5SovgwwoFBMyEeGYkMg7eyzC8Z11rXTM0ARCL0yioaMlZvaNmHY5IPHT/YDt9Cxti7lpEb7f6kFoZOJEAIrrAlrntcI0Rw7MG83gnu5auEQdUHBf1p6CNmaYVRzKcZ/QBEI10QWv+UY4x4dWw8HSFIc2C3kcGJ5K1CiSW9M+xtHalBxGVnw2/zkB4Yn7+prGvJXLXFxcohLj/Prrr4SEhOi0+SbCERT3FXQoboeFsTlOn0zjnJdh1zMqvhdZ/+cMpk2ezOS0/k79h30PggjX815D8VjJ/0rlxtLYjHzNpnDGIzhD1moaTDgqvlza9BczpyXBcuIAPi3jgGONbxg6ZlwSrKfy9957BKYwI+CNkuMoHqzpVoF81saY5WvChGMuBKT0sEZnRL/5SwW/y5v5e9bvSfQ7CVYJxuHUv/dwx1ffz4GC57ruVMpvg4mZIx+NO8wzv4zfPNxgwlHx4+q2hcz5PQmOEwfSuoIjTtXbMWDUb0xKwHXy5Kn8vesWvgmmY5w4cYJy5cphYmLCmDFj8PHxSXIInDlzhgoVKkSVGzFiRIKZF3GXXLx4kYoVK0aVGzRoUJSAjDsb/Urxu8r2RXOYnsjGyUwc1JqKTk5U+7I/I36blHgMTZ3PLmcvgpIdz2ld4xjfOsVrEz/UKkouEzPyNhzNnvteKc6QiX91Wo4U/K/tYMmf05mSBIfUvp+nzt/JDY9APdeIK3ht7kft4rkwMctLg1E7ueuR2v/ttPRFj7IiHPWA9G4UEeH4bvhRevG2CWjvMLu5OjXEjAoDDuGd6AZRy9NFbShkbYppoe/Y7BFCEroR7f2ZNM1tiUmOHFh8PJOHKa0lVDxY8XUhbMzMKPvTAcNlXw0/yfDqDlia2PHZ/IcEpioCtTyY3RxHG1Ny5DCn8Yy7+Gex0Mfq1avJlSsXp06dSvC0/c2EI4oLi9sVwc7cjIqDD+IWmOzdULqMYO3TlfT5+AOqVqwYdXOn3uDp/Vu1JeOPeaRww5bARMWFpV+XwMHCjIoD9/Py7SmXeIYYTDhqn7Gm3yfUrVYpCYalo6JgFg6FKVP+vSTOV6Hlr4dw909e5LyRcETh5fJOlHO0wvy9n9j5xMdAN7/xUMccaHm+bgAt61enUlrGV0zZKi3Gsv+Zr972Ki9X0OU9J6zNK/Djtod4pfp9lJTN6fuewYSj9gUbhrSmQY2kx1wBWwss7QtRulyFJMdc89G7eeoVFq+zqkDJkydP1Pq9hg0b8vTp03jnYw9mzJgR9fBMzURct25dHj9+HHsq3t85c+ZELTFQy9WoUYOHDx/GO68eKC82MqxNI96vlMT3T+kC5LKwxL5gKcpWSOJ8leb8vPMBnmHJPXx8M+GI4sbaXjUoYmtOuV7rcHYNTeXBaKLu6fmGgsvmkXz5Uc3X+5x8MpJtd931TtKjuK2jT62i2JqXpcfq67iEJMdPT/PTWkyEY1qJZdnyIhyzrOvE8IwkEHp0MJVymWNiUYcJVwNIuH2h4r6VnhVsMTc2oUCXjbiFJD09UXH5m1axEccG07iTQsRRjfB0KKxOUy1Jn11ehKQ86+i18YSfHsn76hRE2+bMveefqG+JK9byYNYnMRFHCz6Z+5iAZP/pJ746M7zTq1cvrK2tcXV1TWDOmwvHlZ1K42BhgvkHYznrkQ5bQSSwMMMOFRdWdylPHksTzGuN4ZRb4LsVcUwJbAZkVY1vjsLLdd2p7GSNiVlNRh59jp9hn0nEb/4tHikv19Oruprkw4z3hx/kiU/Gd9RgwjElrq+ZVVVN9tW9e3dU0bhz506drYbiN+bh4YH6PdigQQO2bduWYOZFXFlvb2/69u0bVW7jxo2o01bT8pOxU1VVVevG5p/qUiyXKWbVBrHzjofeDzHS0s+3XVZx28KA+iWwMzWjWv9tOLtJxPFt+yC7tCfCMbt4WvqZjgTCOTa4ErnMjTGrOIwTfgnWJapPjXtVw1HNlGqSn07rXAlJbnPDkK18XzQnZuoax+qjOZewrldWK3iu6kgRGzNMC3/HVnV7jFfn0vNFOGd+rkluS1Nsms7ijr8+GVIjuTG5YbRwNMnP/9a5pZhMR3t/Dq2K5SWXtXWUWFMFm96/uaoy+IAHwcnxTAKFOvVUXcOY0o/6hL1gwYJJTLt6E+Go5cWGfnTs9iUVc1piZv0Rv1/3yiIZVFOipZ7T8mJjfzp99yUVba0ws27M1Kse6OyYkFoF6XbeYBHHlCzMYOGoddnCkG7daVfJHhtzaxpOPI+LThr+lEzPUue0L9k67Ht6tKuMQ04LrBuM5/Qzvwx5QKHLLSsJR127M8PrjBWOCq47R9Ondzuq5LXH0roeYw7fz/r7CSqu7PrlB/q0q4qjvRXWdX9m/x1PA90jJDOKJOKYDJh3720Rju+eT6VHhiaguPB3qzxYmubAoukcngTrJgQJ4vzU9rTr2ILilqaY5u/Impcp7IGovccfH+fG0iQHJkV7sN0zNOmbIsWLNf8rSk4zUwp0WodrMhHMN+665hxjPsiNpak1jac767kno4bDgyrhYGmMkXl9Jl3z1dlbLgmLgh9wevd2tm7Zwpa0/m47yHWP8CSn/SZsyd3dnUqVKlG/fn18fX0Tno53rGZTVZ+0Jy73+sIx4t5iurUfz9EnOxhQTd2uxJ7Wf9/HNzRaxCpaPTL8hD7n9LqNnHILTbyGNl4P3u5BxP2lfP/NBA4/2s7AGk7YmNnR6q+7eMfsK6JX3xKZHMqLM+vZdMqV4IQh/ERl497IdsIx4gHLe/+PCfvvsm1IHQrnMsOu5WyuuwdFJ/hQtHol+ojwuMbOJX8wcdwk5q45wSP/cLQpP1+Jg/5WXkXwYMUPdJ6wl9tbh1K/qB3mdi2YeeUlgVEfHQV9PkKJTI3w5PrupcycOI5Jc9Zw/KEfYWnsuAjHRFT1fiMjhWPEo7UM7D6RnVc3M7JpGfJY5KLZlNM89o1e2K0oCinNW9W8vMa+lbP4pX9vJmy6jVugngvC9abzOgUjeLxuMD0nbufyplF8Ut4Ri1xNmHTiIT5R5imk0q0EjWpwvb6f1bPHMqDPeDbcdEWvZ1IiHBNwfHcPRTi+u76VnhmKgOLC/M+ihaNZtVGc9YvNphrApXnf0qLPSpb9UAFbC1Pytl+BS5AflxdNYvnNIDSJ/s9oOD+2FvYWxlH7OM5Jbh9Hn3V0LpYTM5O8fL3CheDQx2z4ZTK7XcOIC74FcHlRHz6p9h5VGnXlj6MuSSbkSQmL5vwv1M5thalVA6Zc99MvS6PiydJ26tYMRphVGsoxAyeAScn+2HObNm16ta5HXYuzY8cOIiKSjtGqWQTVbUGGDh2KmlUw/k8ahKMSSWSMfxW/E4z74iumnXQnONKfrT3LRkVx83+7kifqDbrHHkYP/JtrPrFJQrS8PPoPk2Zs5mZAGFrFgyvb/qRP/QLYWNflt/OevM0EefEZqNO7dPt2kgntvmbq8ZcERvizrXd58lqZ4tRhOY98w9B67uWXwf9wxSso6YcgKPheXMG0qSs5564+VFHwvLqDeT80oLCtDXXGnsYtUP952O++cFTQarVEBc0VP05P6cC3Uw/z1E+D/44fqaJmWXZqz+I7noRoPdk/bhj/XHLDP3a4a105sXgaMzddwysm3XHo9X/oVL8mHzZrQbM6ZchjZYljnSFsvpexmVkVrRZtdEfxPzOVjh2ncPCRD+H+u+hfoxC2Zvn4aoEzbsFavA5MYMSCC7xMLlmO4sfltX8wfeUpXsQuAQi9zsKuDan1YVNaNKtDmbzWWDrWZtDG22nK1CrCMdE3hN5vvFXhqGjRav+L+uwo/ueZ+V1Xpuy+jUdoAHuH1aeEvRmOX8zl4rMAIr0PM3XMQs48iUuWo7idZsWs2Wy48BL/mLW1mtPj+aRyC37ecxeP5Jcw683jdQrGfk7+QyHgwmy6d5vMLmc3QgP2MaJBKRzMHfl81jme+EXifXQ6Yxee4mFyyXIUf65t+pOZK47x0Dsk5qGThjOTWlK1xUh23nInXB8jRTjqQ+mdKCPC8Z1wo3Ti7RLQcG50DewsjMlhnIfavWeycvUCxn7zATW/VW+YrzKpoRpFNKPKTytZMbojnX8/gUe4NsmHmZFXJlDPwQoTk6J03+6Z5NrF0N19KZ3LHCOzmozad5B5fb6m/5o7BGp0ola+K/lW3ZjdSN3wNwfGTu1Y8iAgla00dMlpuPhrHXJbmWJZbwJXfPWZpgpojjKksppMx5xqI07gZajFl7qmJvNanZLas2fPqKmvw4YNw8nJCSMjo6hoYvxtNuIqUNfz2NnZceDAgSTEpZ7CUXOBKR8XIXeRD/lx2nT6Na1Pp0VX8YlKmqRuy/E/SthbYJq/JRNWzWdA+++Zf0F3naqWJ9snMmD4Es77xEWdfVd2pKhjo4wVjpqLTGtWnLxF6tN36u/0+6QBnRdcwjPKzwqeq7tQWl0T69SCcSvmM+Cb7sw/55HCXpsK7odnM2TwbA4+C4qLpPquonNJJxqJcIwbnGi4PONTyuQrSr1ek5jarwWNOv/NWddoUa54ruP799RtOZz4ZOxS/hz4LT3nnY5KVPQqeKh9yu5pQxi16BTugRr+U1xYP3Ei227F+iiE24s7U9nRgTqjjvAsgxZLaq7MonW5/BSt25MJU/rRsnFn/jr9IjpbrOLF+p6VyW9jSr5mo1k8dxD/6zWPEy/8k/9+Uzw49tdIhs3aywPfUBQ1odDGyUzedhO3oOgHEyG3l9KtWn5y1x7Bwcc+ek/tE+GoM0TT+PKtCUfNNea1r0qRYrXpNnYiP7VuRpc5R3jkq84QUvDe3I8P1G05HD9i+PxZDO7al7mHH+Gtk3xJeb6f2T+PYcGRp/hErdvXcnf+N9T4dDS7MmhtpOb6fDrUKEaxD7oyZvxPfP5JF2YfeoCParfizZb+dShhZ4Zj46H8OXMI3X6Yw8H7niSbdkDx5NSiXxk1awc33YOiM7Vr7/FPx1p8Nmq7/mslRTim8ZOQdYuLcMy6vhPLM5CA4rabofWcsDQxIkcOI4xzlubTn7fzMCQSJfIGkxvkxsrECBO7inw79yxemqRFY1QXtM9Y8mVhbEzNqTriVJKb9AZs+Y7ituYY5TDCskgTRmx7QHCEjmhUK4q8y9Iu1Slg70i5OtUobF2YLuvd9F8PqLnEuLp5sDK1oPZvF5O0IynkkTem0MjRGnOHFsxx1jNKmVRF6fCeKhwnTpzIlStXorKjzp07l5w5c0YJ6d27dychDGHAgAFRQlPdkiPxj57CMXg3P76XGyvjHBjZlOLLmSdxDY189aBA8dxG70rq1hVGWJX8nGlHXJJf96pjROiW7pTK15hxGRlxDN5D/8qOWMf07Yvpx3AJjkv2pHhup2/VvFibqH1rzZRDzwiKC4Pr9CaVl6Fb6VW2AI1/lYhjHKkQ9g2uQYGcJuQwsqbk51M5+FTnYZDixc7+NaPOG1mV4NOJ+3gcG12LqyT+K60Hj5/6E6H7/RG6j0HvF6ZKzw088Ap7NW7jX2jYo5D9Q/mgUC5MchhhXaI1k/c/xv/VlGUFr10DqVPIFlMjS4q3HMfuB356JO7StVmLx5Nn+GsidKbyhrJ/6AcUq9qDtXc99M5gKcJRl2vaXr814RhyiNGNSuJgmgMj6+K0/G0Hd7zjHoYq3vsY0bgkDmZGWBb7hDFbb+GV2v6g2vv8820Nmo/czm33t5x8JgZzyJFf+LhMHkzVz0mxFozdpmu3gs/+UTQpnRszI0uKNv2ZTTc80ryuXvtgIZ1qtWTE5pu4Jqs4E/hdhGMCIO/uoQjHd9e30jNDEwh5ypmtK1i6ejeXXcLirQ8KuLWHlSu3cfZZsF7rcELPj+PDvJZYVhvFKXW6X0LbFR+u71zOsvVHue8XifIqnJCwYMxxyDZ6lK7KgL1JRzCTuiry6kTqqxleresz8Yq+U9YicZ76EY42tlQbfhiPkDixlFQbb/s9NTFOyZIlo6KOjRs3JqmoY6NGjaKmqqpTVhP/6CkcgaD7h1i7YgPH7vmjSWLNVMDd/axdu5+bXrprNBW8bx9l7eTufPrhF0w66RkvUhe6tQelM1o4RvXtMOtWbuDoXV/Ck9hXJvDeAdapffMMS3H9aciz82yc1pcvGn/MwPVP8NO9KQndRu9yWUQ4Jh4oaX5H7+04gh9wdMMqNh65jU9YEp+vwPsc3rCe/dfdCdUVg4oPd49vYFrvz2n0xXgOv/BLPjoXsJW+VavSbcktPIITPJBKc89e94JgHh7byOqNR7jlFaozBT+2vkAeHNnIhv3XcAvW6Ii/2POxf0N5fnELf/RvR5MmP7HqrgfJdymAbf3ep3q3hVx3i1kjGltNCn8zRDimYE/2OqX/dhzBj0+yZd1GDt10J0h3dk4MsKCHx9mycR9XXgTGewih+D7g9JaZ9GvXhLZjd3HPPXrLDu3DhXSs0YxhW27hpvvd9VYdEMLjU9tYt/EQN9yC4tkdbUYQj05sY9O+yzwPiBPKiU0MxeXqTuYO6cAnzX5kyZXn+Ed99LU8XNyZWs2HsvHGS70fpiDCMTHid/QdEY7vqGOlW1mNQDDnJjTCyaY03bfqF41KvocKnlt7ULX+zxxJLtlOoosjuTapAXmtzMjz2V/c8Q9P4cZM5+Kgwwytnps8NYdxwDXpvSp1SmfIy/nz57+KOu7duzdR1LFEiRJ88MEHyWyMrb9wfP3OaXk0rxWFq/7INhedaBKQWYTj6/ct8ZW+67+jTKn2/HXLO/6TcBGOiWG96Tvax/zzVRne77OOh8lGEhVcN/Sm8dczo6Z+xi6NfNOmM/Z6Pzb3rUqF9rO45BKQ+EFcjHGK60b6NunAjKNP07SdiQjHjPSu/sLxTaxUnv5Ll2p16Ln0Gi+C1Ce1Co8WdaJGkyFscnbVX1C9iREGv9afHYPrUe2rKRx/6BO9Jl15zJKutWg6eD3XX6Zhj0sRjgb3VmZpQIRjZvGE2CEEIu+zolMF8lX7iV0vQlOM3CQPS8Hr7Ey+btSe2We8CE8i8pXkteFnGP1BbqxyVmPEEU9C9cpNEs7lKR9TpExb5l32JWo5X5KVZ+yboaGhr6KOTZs2jRd1VCOQamKcH374IYnEOKrdb0E4Km4s71CKSr028cJfN0PvuygcA9nVrwol2/2Js1dsIoaY8SHCMd0/KIr7arpWrEbP1ffxisnmm7ARxX0Xwzv0Z/llN2KW/iUskvWOA/cypHYF2v1xMfltShR39ozqyIBlF3iZhmRMKgwRjhk5JN6GcFTw3NiX2rW7s+jqcwKjdONjlnauwccD1+PsmgZBlZGoUms76BCjP65Ou8lHeeAd/U9fefIv3Wo1YcCaa7iEpDa1SacBEY46MN7tlyIc323/Su+yGoHQ2yzvVoMqbedy3ic2W6uenQg+z+KhPek59G+OPQshMrkZZ9pn7J7Yg079FnIhKiOslseL21E8Vz4ajDuOh87avORbjuT5tn7Ue/8b5pxxT3M6++TrNcyZf/7551XUcd++fa+ijvv378fe3p6tW7ei0SSVIs/wwlFxX8n/SpXn+9VPX2Xui6XwzkUcg3bTv1pJvph9PfGUSBGOsW5Pp78KHmu/p1Ll7/hXzbia1D1g4BUWDBnGkrMvCdQkVSCdTHnL1QTvH0rd8m2Zfu45/onm/avGBHJ10XBGLD7N8wQPa/QxVYSjPpQMVeYtCEfFi00/1qZmt/lRGVfVf6WqoOpaoxH919zkZZIfJkP113D1hhz+habV2jLx8D28onSjwtPl31Or8U+svPqC4LR8JYhwNJyjMlnNIhwzmUPEHCGA4smZeT34rP1YdjwIQnfZUop0lHDCk9I+CS5Snv3FZ4422NcYwrZLp9j6R2dqFHmPtlMO8SKpNVQJrker2teLL7tMZu+jYP3tS1jPWzwODw+nVKlSUWsdP/nkk1dRx+HDh2NlZcXTp09RE+sk/jG0cFTwXNOJ0mW7sPyJX6LMd++acAzeN5DqJVrzx1UPghPe0ItwTDz83uQdNRNp98pU7LyI2x7BiaaeK/6XWfzzWJafdyXwdZIZvYltBr02hIPD61L+8ymceeaXeEsYJYArS8fw6/KzuATEj/Dra5YIR31JGaKc4YWj4r2Vn+rWoNPcCzyNWvin8Hz5d9Rs8CMrr7ukTVAZAkG61BnC0V+bUa3NOA7e9YzOKKw8Z2WP2jT8YRmXnwelLUmWCMd08UpWqESEY1bwktiYLQmEPz/G4pnrCA/TQw2mhZDiyYk5vWnduD4NmrSh28h57LnrS0SqGXfURiK5sfZ3/t53B/8IJW3/WNJiowHKLliw4FXU8eDBg1FRxyZNmpA7d248PDySaTGcw799TvuJB/HQySSaTOG0v614sbZrGUp0WMiVo7s5+Tw03l6foZu/p2S+how9656x+zimvWdJXBHMgcE1KP7Z71yOTfuuWyp0Cz3LFqDhmFO8DNBrrnTU1eFHJ9Kuw0T2uvijk0lft+ZM+Tr82GS+/nYie577GcRuxXsjvaqU45t5Zzi46zTPguK2edG6H2Far15MXn+M89eccXZ25sbFI6ycMJk1t7yy9pTVkMOMrFeWVhNP8cwvwTjSunN0eh/6TF7HkXPXuOnsjPONixxZNZEpa5zx0nPchZ/4nf91msCOR97vyFq3TPkRScaocE7N7EbXCVu46x5igP9BCj7bB1CvyjfMOLiLnWee4uf/hJXda1KvzxIObt3LFQ//+Ouzk7E0U78dcpxxn1Sl9dj93PGMXtmsvFxNrzof0nvRPrbsu4K7X3Cy64MT9U1zhrk9v2f8BmdeRq0JTVRC3nhHCIhwfEccKd0QAkIgZQLqVNTYqGPLli2joo6lS5emWrVqySTGSbm+dDmrOc3PHzhR8P2vGbn0LB6vIr5B3D+6lqnfVMTeOi91e01nzRk1aVJy84/TxRrDVhJyiGE1i9F8ygXcg+KHG4MeHGPd799SObcNeev0YNqq07xIMXOmYU19F2rXnPuNhkWLUKPdEBaccHmVVVL7aBP9PiyMrZm6lVD0nq/Rf42xb/4Hl14G6n+zmAlBhR4dzYdlWzL+2FN8dTP9aB+zeUBDiuUywyhev3NgbP9J1LTWgPjDMhP2TkwyPAENF6d+SoWS1fn8pz859NiX0NCj/NK4LGVrfcWI5Rdwfc1IteFt17+F0JMTaFH1U8bsuYNHzLNpzfHfaFq+HDW/HMaycy/xf4emr+tPRkqmRkCEY2qE5LwQEALvDIGFCxdia2sbdcO8ffv2qGhjt27dCAwMzKA+Kvg9uoqzSwAR+iYyyiBL37TZ0CPDqVWqFdMvebwD0dM3pfEWrlf8eHz9Fi/8NK+ZaOst2JjuTYRyfEwDKrSezMmkpqmme3tS4btIQPF/ivPtF/iExu75qcXnkTP3XwYQlsR2RFmPQRinJ7akRptf2XfXk1dzmrS+PHa+z8uApLbDyXq9FIsNQ0CEo2G4Sq1CQAhkQgIRERGoUUYjIyOKFCmCiYkJK1euRF0DKT8GIKBo0Gj+47//fNnZryZ1+2/mkV/GbJxtgN5JlZmEgKLREPHff/znt4fBDRry09pbeIRk4eh8JuEqZrxbBF59TvwPMrpFM/otvcCzQPmcvFteNnxvRDganrG0IASEQCYioK51jI06qlP07t+/n0xinExkdJY0RcPZsQ2p22MWSyb1oWPveZx0CU5iY/cs2TkxOrMQ0Fxg4ieN6Dn9Hyb+0Jm+c4/wRN99aDNLH8QOIWBoPi+yYAAAIABJREFUAprLzGjbnJ4T5zD+p+/5cdZe7niGJkqaZWgzpP6sT0CEY9b3ofRACAiBNBCIjIx8tdbR2to6hcQ4aahUiiZJINLjKvu27+LI9ZcEZ+X1mUn2Tt7MHAS0eF4/yM7dR7j6IhDNOz7lO3MwFyuyHgEtXs5H2bPnMJef+hH6Tky5zXpeeBcsFuH4LnhR+iAEhECaCPz1119RGVbLlCmDt7d3mq6VwkJACAgBISAEhIAQyI4ERDhmR69Ln4VANieg1WqpVasWI0aMICgoKJvTkO4LASEgBISAEBACQiB1AiIcU2ckJYSAEBACQkAICAEhIASEgBAQAtmagAjHbO1+6bwQEAJCQAgIASEgBISAEBACQiB1AiIcU2ckJYSAEBACQkAICAEhIASEgBAQAtmagAjHbO1+6bwQEAJCQAgIASEgBISAEBACQiB1AiIcU2ckJYSAEBACQkAICAEhIASEgBAQAtmagAjHbO1+6bwQEAJCQAgIASEgBISAEBACQiB1AiIcU2ckJYSAEBACQkAICAEhIASEgBAQAtmagAjHbO1+6bwQEAJCQAgIASEgBISAEBACQiB1AiIcU2ckJYSAEBACQkAICAEhIASEgBAQAtmagAjHbO1+6bwQEAJCQAgIASEgBISAEBACQiB1AiIcU2ckJYSAEBACQkAICAEhIASEgBAQAtmagAjHbO1+6bwQEAJCQAgIASEgBISAEBACQiB1AiIcU2ckJYSAEBACQkAICAEhIASEgBAQAtmagAjHbO1+6bwQEAJCQAgIASEgBISAEBACQiB1AiIcU2ckJYSAEBACQkAICAEhIASEgBAQAtmagAjHbO1+6bwQEAJCQAgIASEgBISAEBACQiB1AiIcU2ckJYSAEBACQkAICAEhIASEgBAQAtmagAjHbO1+6bwQEAJCQAgIASEgBISAEBACQiB1AiIcU2ckJYSAEBACQkAICAEhIASEgBAQAtmagAjHbO1+Q3VeITJcg9ZQ1Uu9QiDDCESi0Wj577/XMCAigngXJjx+jSrlkrdAQIkAjRZifZ7w+C2YIE0IASEgBISAEMgMBEQ4ZgYvvFM2ROL8e2PyWJeg126/qPutd6p70plsTEAd203J7/Aefbe5EKiJVRKpIdHCvx2h6GdwzRu0Cmz9AQp/CCc8IDK16+V8hhGIuAAfFYHcH8E5Vwi/C21LgX0N2P8C9B4DCXpwaQl81xmWXIJgGQAJ6MihEBACQkAIZFICIhwzqWOyrFlB+/mxrA2WFQZz1F+DEtuR8GusGP0TP/26kbuhkXHvx56XvxlDIPw6q8cOZMCv63EOkihxak7QPpxHq0J25Pv0T5x9QvUbx4//hTK5ods68A8H921QNS+0+Qt8QlNrUs5nJIHwPVDFCcw/gJMuEHIWGhQEyzKw9QmE6/vwIEEn1nUDR1v4bj14h0Wf9N4FjcpCyS/gohsyZSMBMzkUAkJACAiBDCeQpYWj/0UfZk534/ff9fid7s6/JyKIfM3/8xnuqSxhgILX2m8pZGXJ+2MuEBjxSjaCz1K+cLDAzKkzm7zDJciSWfzps5z2TjZYOP2Pta5Brx1AySzdMbgdykv+/boY9vb1GX/ek+DU5mNrn8L/yoJDPTjlARpP6FcNbN+DXS4QIV9IBvfZmzTw4l8onQcq9YfnfuC7Darkg2Kd4b533PTVtLaRlHB8thBK5gGzanDgOUToW6kW1veHWrVg4U0I1vne1bcKKScEhIAQEAJCQA8CWVg4/sfjP+5Rsskzfh3nyvjxKf2+pFONy5ja3uKHreFo5P+qHkPjNYoobvzbzglLy+qMvhCIrm4U4fgaPN/GJSIc00hZ4eXS9hS1s6XWmNN4pjbN8ORIyGsDzWaCTwg4T4cCtlBjFHgEpbFtKf52CYTDhI8gdxlY5gyhGpj3BeQpCrMvkvpTgxSsTUo4Eg63z8O1J6BJy/RVLcz6DBxywtgz4J+Wa1OwUU4JASEgBISAEEhAIMsLxw/GhBCeqhBU2NzpGqbGlzCye8CCF4p+U8wSwIp/GIbH3bMc3H2A848D0RoocOCzbwK9Jx/AXaO8ys0Q345MdOSzim/yW2JRtj+H/RNMe8xiEcfQF9c5umc3h84/xD8iZfZa/8dcPr6PnTv3cezKEwJSKa96TOt7j1P7dnPk+ktCkho8ShBPLh5i9+5j3HQNiTe+lKCnXDyyl70nnHEN077ZuHjrwjEUlxvH2LfnEOceqmtgU/rgaPF/coUT+3exc98xLj/xR6OkVD6KLL73T7N/zxGuvQgmMqnyShBPLx1mz55j3HgZv4wS9IzLR/ex78RNXiYzpVr7cA6fFrAlZ73xXPQKTmFGoRb+ag225tD6H/ANhbWdwd4C6k8Ar+D4H96Ql3BqH+zcBzdcIDLVL7b416d25HYLDu6FU6oISk1caOHBGdh7BJ4HEm8AqgLn7jnYvQMOXwJfNelPKo0rQXD5KOw5Bi5BoOuXoOdwbD+cuAHBeofZUmlQ57QSHNf2iwR9CX4Ox3Xa1u2H2zqoWAC6LAfvUAg4BB8UgtazwD0tol8VhGdh71644UrUE7UkhaOOzQlfKiFw6wzs3gUnrkGARoe5nsLR+xGcOgDbtsMR1W+6dSRsMPY4FG6dgn2H4J5XtO2xpxL+DXgOJ/fDroNwS+1nMuH4cE+4cAR27oILjyA8tbGYsCE5FgJCQAgIgYwikO2EYw7zu0x/oMS7b9ELvuY84z4sSMFW87h2ej7dP8iPhXEOcuTIgZFZfhqPO4aXmvQinX8U95W0L1SQjyefxud1biQ1Pjy6fhXnZ35E6qSCVHwvsmRgG2qXLYRjvkKUqd2GQYvO4hFPoCq4ru9JlUL5Kfu/f3kcFpni/WHI7t6UsDYn99er8Ux4M5CphaOGM2M/pFixVsy5dpW1Q5tQPKcpRjlykMPIBIeq3/PvzQQRVNXP/pdZ+mNjStiaYqyWjSlvU7IpQ9bfJkg35Ko5y28NilO81SzOHppEq1K2mBnlwMiiMTPuBRAeHnt+NlcurWJg46LkNDWKHl/WpWj35wV8w4O4u2EgjYvmxNRIbc8Iq5KfM+OUJ+EpCrAUBqWhhaPmHOM/KkWJVjO5dGktw5uXIpe5cXS/TByo0m0xV/3CE4kv/yvL6N+0NHbmJtF+UD9nJjaU+HgQa276E65zT6o5N4GPS5fksxkn2T+5DeXsLTDOYYR5w6nR6xA155jwcWlKfvYHF86vYnCTEnE2WJei7ewzeIUGcm/TUJqUyIV51OfaCKsSrZh6zJWQhPPbNaf5uZYjNnYtmHPXl9CUPvbHpsBHjeGP0xASCVfmQbNG8MseCNLEOCYUVv0ExWzBOAfkyAFGZlB3dFxUMvww1CsFNQbCy0Ad0QAE7YKaJaDuSHAPjKkzAiY2hTLt4OIpGNoc7CzASK3bGEq0hN2PiTf94vwkKFcaph2FyV9CHkswMoIGk2LsUODSYmhcHMyNo+3MYQQOlWHqQQiO7Q+gJpVpUQE+mwZnVkLz0mARc411SZhxAoIDYMsIKG0Pxkag1lW8JRx6Hj/pzJHRUKYYDNgGfuHxB/OeIVCqGAzfD/4x7attt3wPPp0Kp1dCi7I6bZeA6cchKAC2joQyDnFtF2sJB57FtK0mMBoBX4+B+35EPWk8OhnaDoRrXvqvP3ywFT4tB5Ym0byMraHFaJjUFvIkWOMYcQlaV4FKPeCRzjTYO2uhqQ4/lVOe2rDjGRybCOULg6VZtK8sbcA2F9g5wR+XIVALt1fBp5XAyizGZ+oYU/1WCWYeg0Bdv12E1pXh00lwag20Va+Lsd3EDr6dC64Jxp/WBaZ1hAI20eMravyaQ5Vv4NjLOF8q/rBsYPR6XxPV3+pYNIWKbWH3QwhL6YMU3+1yJASEgBAQAhlDQISjntyV53NpamOG04ctqZ3HjvJtf2H5gVMcXdmfDxxMMbb8gPFXw+I/mNez7pSLhXNpXG1sLQvSbOqpNIjHSJ7tHEWz4nbYOjiQ08KOcl/O5IxvJErYTeZ+VggLM3uqd53BhiOnObHjHwY1fY/ag3fjGh4bxdJwdmRVcpoaY1p+MMcCIlKI1EZyY0I9cplZUOu3q/FFk9rBTC0cw9jfrww5rUpQt34xHEp/yvCFuzl+dAvTO1Qil7kpdh/P4EaATrIfzS3mtSqCtZk1JVoO5Z9txzl9aj+rJnxD5dzmmFiWp+8OF0JjRUfYAX4qZ4tNmfrUK2yJTbH6fNP9O75q2Z+1L0KJCI0+b12iDnWL5qZ8m19Ytv8Yexb2pY6jJaa2dek7/AtKOVagzZhl7D+2l8U/1sfJyhTL6iM56RuWSHylPK5izhpaOIYfZMB79tiUqE3dYrkp02IIf+84ypEtM/hfVXsszexoPO0yPqFxSlBzez5flLTF3Lo4zQf/xeajpzm1fzWTvq2Go6UpluV7s/lJ3HrM8IMDqeRgS5l6dSlsZUuxeu35vttXfNp/NU+Dwvkv/CADKzmQs0Rt6hTNQ4XPf2bJniPsWdSP+vmtMbOtQ6+hbSiT/z1aj1rCniN7Wdy/IQVtzLCqNowjHsEJ1uR6s+LbIthZFaXbRhcCXjezZqyDrkyJnr5a5gtYuR/OHIF/RsNnQ8A1IFokhm6F0rmhQEd45hdfOPqvhqL2UKInvPCPORcOQ6pBruLRa/IK1YFpa+DoXhjSFGwtoMBX4OwdLYpUWw4PAUc7qFsHrHNB3XbQ9SvovxL8QuHuAijrALmrwrjlcOIUbPgdajqBRQH48wqExPhRFbo18kGJWlA0L7QeCbsOw+L+UDgn2H4Ag9pAoYowYiEc3gMDP4JcFlBlMLj4x9KBbb0hb07osDxxMqG1XSB3Tui+CXxjRGX4EaiZX6ftEbDzECweAEVso9se2AYKV4ThC+DQHhjUJKbtQdFrGXUjj3GWpO1VyBloUgws7KHTFNh7GBYNh7K5wdYKjM3iJ8cJPwofFASH1nDHI9qPEdegRXHIVQpGL4UTp2HrQuj8Oax7AvcOwcTR0LQUWFrAh/+DnwbD0DFwyi16yuuCr6BkVeg1HnYchbPHYV5fKJILctaBIzrrKVUb6hSCEjWhWF745CfYeBC2zoY6BcDCDn47Bv6xkeFAmNwCHKygRidYvhdOHoTZA6FCARh3BvzUiGIELO0ETjZQuT0s3gknD8Mf3aGwLeRvCWfUKHvaEEtpISAEhIAQeLsERDjqyTtsR3cKmZtgbGJNpR934fJqOmIgGzrmw8LEgqbzXhDxupGflOwIPMmoWnaYmeSm9pAdPA1PeeqkWlXkzem0rN+Nf067EK5OCwt+yJ5xrWj04zbOzGyGo4U5xbts4JnuVMewW/zZpiGDDvi+2kYj5MYKRvbuyeBFF/BPMeIZzKbOBbA0y8UXyzwTzz7KCsLRzBjLct1Ycz84LolSwG76lLPFwrIBU50DYwI0Cm6rOlDExhz7RlO55B+uI6i1PF7UliI2ZljWGRd3LkY4mhsbYVa8A8vuBsVfA/rqvCXluq3hXlCsSA/n9Kj3cbAwxsiiLF1X341LOhR+jjG1HLC0qMbI076ExWmvlEZT/HNvSThamlhStvMKbulk2g3Y8yOVHKyw+nASV31jMpQq7qzpVBI7S3saTjyHt46gRPuEpe1LkMvCitpjz+IbI1KihaMVxkZmFPt6MTf9dP0BxAhHKxMLynZZwa1X58M5M6YOjtYmGFmUofNyZ3xj571rzvNbPUesLasy7JhHgh0TNBwbVoO8NlY0mnoT75A3iZSo0wybQy5bmHkHkqvrdYWjtQnkbQxHXsQl4tE+h45lwNIqek1cUMzdepRwtI6OAn21IHp6ZuxoUTyhR3nIWQSWqlNddfp8Zw4UsYPKajQ0IPqKWOFoagH/W6pTVzj82gBsTcGiNCy5BrE+1lyERgXBqjIcVO2Nafx1hWNU20vAKzZzbTj81jCu7cU6Qldt+6PC0W3vTxDxjGWQpr8KrOoSvb616bToKF3s9bcWQaW8YGKaunB88CeUyA0fTwW32GhybEWxf1OZqur9NDpza7zvB9UPDcE+J0w8DwGxgj9GOKrsvvkb3HSmUx8cDoXtoM6YaHGtNv/sXyifDwp8Dhdfxo/E+rtET4dVq/baAtULQJF2cMlVp5w6nbtd9IOBH3eAd4KIcmwX5a8QEAJCQAhkCgIiHPVyQyQ3x9fG2sQY88rDOO4fG5FTL9ZwelhFrEzMqTXueiprtvRqLMlC4Tfm0CK/OcbGlpRqO4szntoUptuGc3x4O0afSji90o/9Az/8P3vnAd5U1cZxS9uspmnSvWhp2XtPAUUBEZElew/ZKEuRjQMVEAVBGYKAoICAyF4tpbTsvUrZq9DSUrpH0ib+vuc2SZu0pRQUP9TL84SkN/ee8T/n3pzfed/zHvxd7Sjh8AqzI9LzAMmUq+7IZNqO2YtW2PD6af4ZbjO/pRMSiR+DCtu/8Z8AjhI17ZdHk2EV6TKBVZ0FgAhg6I5449IwQ2xOECCFxJ1uP0eTbnU+kLaFQYGOSKUCbCYb1+CawFAqCaT/hjsFrzF/r27PsntpVtFNMzYPwF8pRdV2KffSdBbuwun83t8PpcyNbj8/IC1/OYrTfn8TOMrVbfnhTor17gUJP9PdR4UiYBBbYlJzOMEQ9xNdfR2RuXdmZf7zBWm3DaWcWoa08efECVawHC4ULI5ypAF9WHsjxUo70wk5FkehDEtuJZFpYU3K2DqYsmo5qjaLuJmYaaXtlkFlUCtc6bIyiiSrbReyuTD7dTyVciqPCeZBqplwiiN4/nMMsLgDOCmgx6o8q1n+054VHB2U8OXpgoFc1vY1WolazoX4dGNuOeDoAKV6wRWTe6a5HA/XGi2epQfDXbNV0/RldiS08gFlYzgVa4QCMziq28AVC7dL4ZLtw41A1XoBPDTlnZNUOgyvBEpXWHYDMkwN9azgqH4LIuOsrbPbR4CbA7w5H+IsoIh0GFHFmPcP1yDdopOYNXiq9yQYXBGULrDwUr5IpwZY1hVclE8Gx6hlUNoVSnWFMyZtC5TjCeBY4HzhgAFW9ARXRxi9Cx6Z3FXNFkd1K7gQk2eNFi5JWg8VPcC/D1wVdDWl4a6EHish1rItLTM1wIZB4OkEA9ZBnBnkTedcWWCsY6NpRmu65aXiZ1EBUQFRAVGBF0oBERyL1RyJrO7kjL2dmreXRuUL0KFl7/AAZLZSXvn6+mMtjul3z3LoYDjh4c/6CuP3j1vgKSmBzUslcKzYlW8O3C88+AePWDFgKJuS8wWowcD9pW/jKrHDteMKonJdUi1ESN/AgD4/osu/RtHilEI/Zl9kxssq7CXlGB0iBDHJd9Y/BBw7rXqQDxwz2NTfFweZN302PjSCo/YA46qqkMga8+XFlILBmfRX+aa5MzJJSQZsjjNeYwZDTSdWxqQX3IXB8vtoa3DUBr1PJScZmg4riLYCRy17RpZHJTUCb9qzuEz+XeCo6cjyqHzgmLGZQYFOKLx7sS7aCHy6sPHUcpYje/kzzhSyT6L+2re0cndAVrIfsfFGC4zZ4qjpsIw7yVoL+DP1QbPFUdOBZXeSrcBRt28s1V0UaNot5XaSJThqCRpdBWeFmrY/3CbJkjbRc2PBW3g5ygkctJn7KZYwn6/fF+fPe79CFQ3YSqFBT/jpUMEgMc8MjhpYYgFh5vIc+xg8lVBlDMSarIRmcGy/pKBL6NFp4KUEr/rQdwAMGWLx6gtlHEFWCXYLa9oEmje5qmrawbV84BgyHjyU8PaiPGjNKZcWPqgFSjV8fzUP3p4VHDVtjQFdLBlw/0dGt+C3v88HrVoYXwcc1fDdZUizvMgs2lO8689Cy5KgqAH7LFxBzUkUFhynMFdVw30YWhsc7MCzHkz+EW4mW1jshASLA45ZELkfFs+C8aNh2FBoUR7kMnhve0FwFNxlIx5YQ3fGDqjhBV5d4LLgSquDyS+DkxymC9FcHzfZmAWfvQ5qGdRtD/0HW/SdIdC3OajlUGE43HhonadZL/FdVEBUQFRAVOCFUEAEx+I0gy6ccZVk2KnasDQm3+b1hhgWv6nE3s6Tvr8nPyYQYjYR37xJoK83Xl5ez/7yVCM3BeQRAqM41P+UjEIBL5V17/ZhRYzOes1ldgRfNlYhsVXRdtl9tOb1d5YaJK+h38Bf0D1VOPgc39hccBz1LwPH3/uXNILjBhM4Zm7lXT8l9rJWLMxnHcyR0vCAZe1dkUvc6LEm1mhdtATDvxwcnXIspf88cNzCoNJGcFxrAkft9qGUUUuRtZzPLSuQM3ZSQ+xy3vFUInPrRuxDI/A8X3B0KhQcr89v/deBo1C1iLXwdiWQ2oKNLZRuBesukhsF6K8Gx4g54O0IZYfDA9N6wqLAMWis0VInUYGHJ3gJAGH58oaKXeFsvLXF8ZnA0en/CI5Ofw046g5BIx+QN4Jj+Vw4hfYuLjgK56ZdgikdwV1uDIDjGAijV1mA7xPAMfEEvNsQlEIAHTtwcgVPL9AojOssiw2OO43uprngmAGja4JKAXMuQMrjYFsLExqAyg5Upryt+o4XePtC53l5rs7G2138X1RAVEBUQFTgBVNABMdiNIjh/ve0UNohqfcZ5y3XBArXpmyir7cEW8fWLInSWoNaMdIu/imJhE9piLN9CWxKaKg18AeOP8x6jLuqgbvLetJh9mlSctcl6rn7czdKye1xb9Gfvv3nci49HwQDydtH0n32BbSWEUGLU0j9TeY1VyGxL8nAbYm5493cS//BFseC4LiHkeWUSKRNmBVpXveYW1PQ32BuC2dk0sA891YRHAuxOBYCjkGjqayRIWv8BefN6x4tpb05nzc9HJAHDCI23rglwt8PjtlcmPma0VV1dNCfdFW1qJxgqjv1Gwx8GRzsQVEL9j0wrvXL2GwKjtP96YLjODzB4ljjQ4gzrZ0rChwPTTZaCRtMs4jcaln2fJ//lMUxHzhuGWpcA9d1ZUFLaFHBcZ7J4vgXgaMQ2fVVYc1kLdP60nz6PA04mi+NPQNfD4FSTmCrgLE7jGsIi7Q4JsNHjUAlg+YT4KiwdlRwBzHAql7gpnoKi2N+cNTCxIZGcPz0WBEWRx180gzUCpiw37h9i7lO4ruogKiAqICowD9KAREci9FcmTsGUVJih3f/LaTmgphwoYG4td3xktiibvMDdwpz/SxG+k8+xcDdX3tTWi6sTSxP98WnSXxSEJ7MC3zfsQ6vDviUhct/YPaolgQobJGW6sLyyHRito+n9+QdVsFxdDc3MqxlP1bfepbosKms6+aOzE5Ju+WxBa2Z/yZw1F/h69c0yCQ+9PvN5Ipq2YipWxlU2hGp8g0WXDe5nYrgWCxw1F+dxxvuDki9+/Dr/YLrFVO3D6W8Woay5TzikjJzVP/7wVFHyLgauMplNPniHA8fF9DGsk881ec0YwAZBzmMC4GULNDuhEouoG4HNxOs3flufQ8+qsKjqjqoYN6lfEF3BGjoYVzj2G5xHowVBY73loGfBnx6w+18+RdWt78SHHeNAmEdXdtFFlY2IVM9LOpgBJLCoqr+P8HRcA+6BoKDByy3cLvN0eop1jgWpu2xGeDnBFXeh6hHRh3mtQGNEqYchCSL0KS6MGjoC4pGcCTKImrpXwGOevhO2FbEAfqtKbh2MbfsBljZy9iG3VfCg8ethcy9QPwgKiAqICogKvCCKvCPB0elwxk0mie/HCUnsXnpJE+/j2M2EZ83yAmM49jgE46lWATGST3IxNoO2NkHMnTXo8e4qf75ltffXEZ7byn2bk2YtPd+vjWWRaSvvcWeue/R6bV61Kr9Mq37f8aWq+bN5FM4PrcDNWs2452+A+nfqRkVyjRl4q4oqz0BdVe3MOujD5mx/gKpRe5TqeP4lFoo7aXUnHIiL/KnuXj/JnAkmzOfNUIjk+DZYRlXU7Ms1tXpuf3jO/g5SNC8tZCrKaYtPP5OcDTEcfCH6YyfvJgDMdoCAZDMTZLz/n9d41jQ4kj2Wb54xQ0HqQftlkSQaI5yKhRWf4cV3QJRyTS8OT+CJNO+b08LjpZxbp68xrEQV1VDLCs7++Ik96b32iiSLRO0Erc4fxgg7iEYLBcFG2DpO6BygA/2Q0o2ZF+E5t4gKwNbo/L2xsuIgE5ljfsUlipkOw6FHZTsACcs9h7U34B3AkDmBF+fy4PKosBRfwXalAS5Fyw5bx1VtbBq/pXgKLjVClFbywyB2xZbkUQsgQrOUMKu8O04/p/gKEDtnFbGdX2dl1oD79WfoJpb8aKqpjw0Bjay9AKNXgFlXKHqKIhKMILj4k7GYDtCZNJHFpFJdaHQ0AccmsCxe3lrI/VRMLIBKJ9mjWN+iyNw8gsopQb/HnAx1jqYTsQ2OHzf2FeuLoSygptqWzheiOtuYX1IPCYqICogKiAq8MIp8A8GR9BFxvGO30lKCEBY3JfkMl9dMzzGxbOw9kliTWcX7IW1hTb2lGw1lbUHLxBxdAPT3/RDZiuh7LubuKd78hYZhaX+xGOGOH7rG4DC63W+CI//i+FUz4Nj65j78QSmzPqJ8LvafLroODqpBkr7EthVHMeBIvdxhNSNvfGW26Nuv4IH2mwLmMrbx9HO3gnfMuUoX7583qtCZVp8Ek5KgYg6T1TnLzrBtI+jRE1hwXEKuKoKtuaYTbxbUYXETk2tfl+z6dAFrkQcZes3/ajlIsFO04QZRx7luez+neCo3c6Q0kLZ/Hl3q7DGsgiZTOAosXfCp0xZyuVrl+bT9/Mow8KCUURShX5l2sdRXmhwnELAEQMPNg+lqrMMO3VN+szeQPj5y0Qc3ca8gXVxl9mjafwJYbF5EYH/dnDUhfJhLVcclK8x52L8Y3fQKFSP/AcND6BLOWg9AjaEQWQE7JgH1Z1BXhl2xZi2pciG2S1Mew32he3H4NB6aFcRAmuClwxKFwKOgsurVAKBb8KKYDgTCmNeA0cJVBgKtywipBZ/8AymAAAgAElEQVQFjoJr454PjAF11NVg+ko4GQnXIiD4V5jcD0aZ9nsU6vhXgmP2eWhVEqSO0HsuHDkN62dAZXeoIWxQL38BwRG4+wtUcQOpD4xfAafOwvrPoKoblA4AqewJUVUFq2BvqNMaZq2FM5fg+C7oXxeUChjxex4k7vsIvFVQugvsOgbh2+FiAmjjYURNIyC2+RjCzsHhTdCzNng6g7DtxjOvcTRO5jCgOjhIoelI2HoULhyFb4dCKWf4aB88ygJDPEx6FdRSqCLs47gTIq5CxAnYsAgGdoAVEZD6uAA7+W8c8W9RAVEBUQFRgf+HAv9ocBQESz0RQ3MPkzWxOPD4tOCoO8SHlYUN2N9gwswuVFDZYvPSS7z00kvY2LvTYOQaLmc8J2gUYs6c/5xGvo2Zsj/2MRFUn2e3MXBnZTdKKeV4tl3IlYx8MJgva0P0D7R1kSIpNYSdifkiuqbtZEQ5RyQ2Ru0E/XJfNnb4D9lBwqNrHA27SFx6FOE/zeaTz+bz+znBkqvn0ZkNzPv0Y2atDOeuxTrTtFsH2bhkNh9PnszHX68m7I7JzTb5Gof3HeZ6knnbEj2xF0IJvRBLlrCvpdU/LWEf1cDJwYd+G+PJtOKkTHaPrIDKoSwjdj6y+i794mpGNPHDwc7Gqi7qyp2YGXyfDMvgQ9pwJtTUoPTty4a49Nwt6nKLYfH9+ljr73UHJ1Jbo8S3zzoepFtaN4Vy10Tj4EPvtQ/ytvjI2MK7pRyRyl9mxplETIa53KysPqTvZlQVZ2S5QZfytcu7m3mQZpmn+Wo9iTdPEBp8gLNRaY/vm7qDTKrriqNvb9bFpFpvlaHdy+iqzjiWHcrWB8btOIyppxPxyyiaBTgaJ2zM95udmkodP2fv3TSrqLS6g5Op56bCt/fawiOc6g4yuZ4bKt/erM3n/pp1eCoN3J3w7fkzUVYRWXUcnFQPd0cfeq62tipmR35NS09HFLUncTAu7U/uWZ4NvwwDPwco8RK8JLxsQFUB5hzAivpTT0Ov6iC3NZ4nBDqp1gsO7ofXfaH6aIv9ArUwrgYIaxw/Wwyvm6ySQvpC8J3K3eHQA6zM0YeFyKlq6CkAoNEN2Nzaxnct/DYRKgoRYG1MZTWVV7BEjtkEySZrl+4wNPYG3x5w65G1a+2Rj8FbA4Lb4iPLrRl0MK0xqH1geb5IsGeWQC0PsDPla6eGHt/Bvhng7wbvb4NE05YSuiPQ1Bd8u8ONfBFdj34Cvs7QbYXF3pJC7XTGfQ01PvDjX7Edh5CmAUK+MLoYm/WydYR2MyBoFgR6WsOfUO5X/cC3G1wzbSNybR00CwRJiTy9bVXQ7gu4lZxn4cu6Av1N0Vdz2lgGM44b92e8ux3esGx/e6j7Lqz7BAK94aO9prWSggxH4TV/8O0KV4TIqRY9QIj6+nJJKNPftB2H6buHh6FPPWPk15z++xII9Wz5IZw3BUsSTtVeh+kdwE0I8mPu60J/LAGedWHdlSdbsi2KI34UFRAVEBUQFfj7FfjHg+PzlswQvYhWQmCcmlM4maFHG3OWPetXs2rtdo7cSnmOwXCMNUs6t42Nh+8XAjvPu+bPkL7hDotauyCVVeaDA4UEjXlCkrrjk6nt2ZA2b9bj9QFjeb9jVZy9WjN1Zl+avtqdUWN608BTRbVxQaRp9ZC5i+EVS1O//WDGTxnPwFdLoSo9gA33MtE92sWIyhoqDttGTGY22TeX0cE/kC4rrj3bfoePLXsmMRdC2bpuNat+2cie43dI1j+/iYTHFsPii4Stg6ngJMe3y0qumV1lLb5/6o9pEfw6tS/tW71Nv5l7uJuWwLE5bSgT0IBuI8cwrHtH3l14nHgLoH/qPAq7QPuAi2Hb+HX1Kn7ZuJtjt5IeD6iFXf9cjum5s6QDvioF1ceH8iDVapbh2XNMvQNBv8OqVbA1DOK01oP23JTT4fReWLMGgi9gNZORe47wwQIche040pLgyHb4ZS3sjyjiOqtECv9D9xCO7IJffoJV6yDkNCQ+rryFJ/FMR9PvGTVaswHOC5ZYS/feZ0rx77ko/S7s3QRrNsKZ+09fbkManN4H61bD2i1wSQiYVEjdDUIb74DVq2HncUjS5fUhfSIcFdpsDYRegsyi3BCeRZYsuHwYNvwCv26Dy3E81j0m/irs2QSrVsLazXDq5p/rj89SXPEaUQFRAVEBUYFnUkAExyfIpt01BH9h38Me60myCozzhAv/k18biF7xDp4yGZU/DHtq11MBHGupfGmz4CzJwsAofR+jKjri3GASIbHC1iJ6Ls9+BefK75OSJlg20oiLS+OPP4zT4oa4lbzjGcDA3wTLoIHY3wdSzrk244PPs7xrGfzbL+ZSapZgB/j3/tNH8k1LD5Ql32HZ5eSC+2k+dc2T2PvlWOaH3iJVl8zlDdOZ/PFQ6rnVYNSOe6TnWFWTODRzEksvJZP5b/c0099hSceSqBzrMfVgHGl/ETc+dbM88YJ84JhhaTp64sXiCaICogKiAqICogKiAqICBRQQwbGAJJYH9ER++TIKWwmNZ10h80mRTC0v/a9+Tt7BsLIOyMoOZ09CPnfVJ2iSA47OzZgdaXJFNNxmwRsuVB0bQoJgYQTS1/XAw7snqalmVzodDyPD2bbuJ35cPJpmbm50XRVrdBM13Gdtr9K4+pfEzbUlc889vRX0CUV+4b5O3v0+VTSl6PzjZZL/ijWj2oMsXBhOstl/1xDDso5euLeYzdnEzFwIz76wgLmbH5Gh+3cDSnbkXFp5qXBtNY8LjzJy6//CdYT8FkcRHF+8JhJLJCogKiAqICogKvAPU0AExyIbLIVfu7lhb+/HkF2pj/W8KTKJ/9yX2UTOewNPh5IM3JqQFxymGDoUBMe7fNcqHzj+2hNPMzhmX+PnAdXx8KzCq+260rPH65R3dKGTGRyFQCu/dKekgz2Kxp9z9q9w2yxGPf6fp6ReO8TeQ1dJzP6L3GV1p/h+7nbiMnQ5y530t3+gQ0k36ny0j7j0PHOb7vRCFuxK/JeDYzbnvmyGp2tVRm69R8oLDcmixfH/eR+KeYsKiAqICogKiAr8GxUQwbHIVtVyY98qlv0UxNX0v2ggXmR+/6IvrbYXKF69nhYctWHjqKJpwLTjJpfMzO0MLuWZa3E0PNrJiCreNBs8gPrOvrRfEklaYWuDile8/+hZ2VxZNYGxc9awdfMPjHstgMCO37Hlhy9YeiyOTMFVVXuTjdO/YMu9dOvgN/9Sxf4Zrs4GOLcDVq6HO2l5QVT+pW0iVktUQFRAVEBUQFRAVOD5KyCC4/PXWMyhmAo8NTgGv085dQM+PiG4oOq4s2kY1VWuJotjIvvG1sCjwWQOPErk8PRGuAZ0Z9UN64icxSzaf/w0HXfDV/HVtIlM/24Hl5Ky0Bui2fN5P9q1ak6Lt/rz1b4o03rH/7hUYvVFBUQFRAVEBUQFRAVEBf6lCojg+C9t2H9itbJPfUIDjzeYd828xvE+S972pM7EMJLNaxx/749fQH/jGsfM08x7qxRq97LUrFGeKq2G0KVGSXqviyf12Kc09KzJmN2xxrWpyaGMr+1GpZG7ePivj+DyT2x9scyiAqICogKiAqICogKiAqICL7ICIji+yK0jlu3JChhSuXMqnLDTt0k2/GG17diTLxbPEBUQFRAVEBUQFRAVEBUQFRAVEBUojgIiOBZHJfEcUQFRAVEBUQFRAVEBUQFRAVEBUQFRgf+wAiI4/ocbX6y6qICogKiAqICogKiAqICogKiAqICoQHEUEMGxOCqJ54gKiAqICogKiAqICogKiAqICogKiAr8hxUQwfE/3Phi1UUFRAVEBUQFRAVEBUQFRAVEBUQFRAWKo4AIjsVRSTxHVEBUQFRAVEBUQFRAVEBUQFRAVEBU4D+sgAiO/+HGF6suKiAqICogKiAqICogKiAqICogKiAqUBwFRHAsjkriOaICogKiAqICogKiAqICogKiAqICogL/YQVEcPwPN75YdVEBUQFRAVEBUQFRAVEBUQFRAVEBUYHiKCCCY3FUEs8RFfjXKGBAp9VhKKw+Bh1anYE/CvtOPCYqICogKvCvVMCAXpeF/g/xyfe8mlev0+Xo+7cobMhCl6VHbM7n1Zpiuv91BURwfFF7QHYkq0d3p9PA7zmRoS98oP+ill0s1/NXQHuM74f2oPvY1USkPgYELUthiCNsTi/ql3TEvkQJZK41GL0tjvQsMMSF8XWvBpR0tKdECRmu1UezNTadrL/lV96ykP+Ez9lc/XUi/XsOYcHBR6Rn/xPKLJZRVEBUoHAF9FxZ3IWKnmXoufISD9L/CQ89PTc2z2BE/yF8E3SXhMwXu8z6y9/TuaIvlfqu5Hx02nObmDTEH2Ppe62o5K7A3laKptJAVlyIJvUZ5NHf3MqX7/dn0Oxd3HyY8dzKXHifFI+KCrzYCojg+Le0TwKh895j8LsDGTiw6Ne7Q79g2z0dhoxdDC0lw07dhTUJWej/lnK+2JkY4n5jWHVv3AK7sOzafxxsElfR2V2BPHAYOx6mk8Mvhjh+H1mbkh6BdF4SSaouz66YsHUwFZykyAKaM3TidCYN78snO+PJyEpg6+AKqGUyApoPYeL0SQzv+wk7H2aI4Fjo7aAleGw1XBQaOiy9ReILPmgrtAriQVEBUQGjAukHmNLUH5cKg/j1ShwZzwAZz09KA492TaZlZT8C287m4N1E43MeLQemNqWUxpnW35wmKjnvOf/8yvInUjbcYnnvqnh7NefzAzdJeC6TbUkET2pGaWcFJV/uyagJExk58BM2Xo0h5Rnk0YV/wutlXHFuNZtjtxLFifs/0fzipf8+Bf674Jh+kZgdK7i9dXkxXiu4E3oSrf4Zf1Wyz/NpfQdsbV7ipZee8LIrz+jQFLLTRXDMf7vpb35LS40MO/s6TDuRggUX5T/13/93YeCov8mCN91wsLen9pQjJGeYpxsy2DY4EJXMjc4r75Kqs+jHGdsYHKhC7taJFXdSsfzq3y/is9Tw+YOj/s4ahjapSZ3+K7mWlCkOWp6lmcRr/lMK6KM2MOaN+tTrs5izD1KKOdFq4NGW96jjo6H6+9u4/lD7TJYlfdRGxrZqQL0+izgdnZwvbz1RG8fxZoP69F50muhk8zO5OM2j5+7yXlTydMC+2ii2XYtDm/Po/hvA0XCP3z58i0b1e/P9yXs8VbELVM1AzLrB1PJ1o974XVx9qHsmnQska3kgM5iJTQJxdm3NnKO3SXwSLBru8ftHbWncoBcLjt0lMV+z/CfB0XCfLZM70LRBT+YduvWcAN+y0cTP/1QF/rPg+MeDnzj9/kAub1jIzd8WFfm68V1nQnvU49iyYDKzn/REKqwr6Im9cIB9wUEEBRlfOz5pgcauBPYNP2LTrj25x4NDTnMv08AfmSI4FlQyk+jzhzh49i5pBgv4KXjiv/9IYeAIaGMucPjgWe6k6smVyBDFojZuKOSVGRfyiAyLGV9D1CLauCmQVx7HvniT5fLfr96fqOHzB8fsi7N53UuJ4uUZnH6Ylm8g+ieKLl4qKvAvVUB/6VvalnFB2WAKYbcTTJa5J1TWEMeGITXwUlflvW3XeWiksidcVPBrfeR82pd1xbH+ZPbffJQvbz2R89tTztWR+pP2c/ORxcO3YFIFj2hjuXziKGdvJpCZu3bgbwBHfSTfvVMBd8d6TNh3nfisgkV7miOGmLUMqumDc80xbLtiBuCnSaHocw0xPzOwug/qcoNYGxHNEz2O9ZdZ2KUKnqp6jN9zhbh89ftPgqP+Cot71MDbqQ7jdkTwQFe05uK3/10F/tvgOHk+ycUwW+mPTiCsZzX2dWvAmeAY/ngWdszXx9I39sJdUgJpm2XE6/JNdwnn5gdHQyp3Tu5j+45gjt1MJrtIbsrkQcRB9mzdwvb9p7mb8qwBTwyk3DzG3u07OHDxAZm5JAIYUrl1PJidu8K5+ECXByn56klmHFePh7Jzy+9s3hnKmajUx5+b/9pn+ttA6q3jBG3fQeiFGDLylfn2iX3s3BXGxRjtcyiHdd7plhZqQypC3rty8s7E8qviVFMAwoN7drArLIJYrZ4/HgOOhaalv8m8N1xRyGsw8dAjcg2RgP7mPN5wVSCvMYFD8RmFQ4o2lkuHg9i2ZTshp26TlP2k/qQn4eohdu8M4dy9NPT57hdt7CUOB21ny/YQTt5OItuyjQqtQAb3zh9g985gjl5LQFeUePokbp8KZde27QQdvkxs5uPWB2uJjTxC0PatbA85ye3E7GL2h4LgmHH/HGG7trHrwHnupxWdjjY2kiPB29kq1P1WIlmF1OXvA0ctsZePELzDqMEtwSW+qOeKNo7LR4PZsXU7+07eIkEIQFFoe1kczLjPxbA97Ao+wtVHmU94bllcl/NRS/yNU4Tv2cbmLTvYf+oWicXNM3yvMc/4p80zfxke/7c++Q5nw3azfXsQhy7FkJZV+H2hT77N2YNB7Ni+m/0nb/AoM/vJuhnSuHM6lN07QzkblWLV5w1pdzkTtpfdYeeIShWCjjy+jDnfZDzg0uFgdgcd5EJ0GoX93OSmoE/mzrlDBO3Yzu79J7kutFm++zf3XIsPGdERHAzaTfCRKzzMyCrCSq4l7upxQnZuY/u+49yI1xYj/QyiIw4RtDuYI5cfkp5VsEDPBI6JvzOiljfq0v1Zezm2EDdVLfE3z3BIeFZt2UGI0Hba7AJ1++vAUU/SzeOE7Anh9K1EtI/9kS8IjpkxERwJ2smu0LPcSdI+5X1m0ZDmj8UGRy0Pr50gdNc2tgcf41pcBoU0DxhusaxnZbw0dflw9zXiigslhhTuXjjCvp3b2R1ynKtx6YWmb7i7nD5VvXCqNJzfImJ44gqCpwTH7PRoLgr3UPAhIh+kFuntpIu/zsnQ3WwTxmpXYwvtr2aZ//S7Lp7rpw6we/sOgo9dJTa9qHgHBlLuXeRw8E527A3nQlSSdR8rNjgaSImK4GjILrbvDuH4lVirZTGF1smQzK1ToQSFnORGvMUyGEMGD66cIGT3DnYdOMXNR4/pP4UmKh78fykgguNTgWMNTm29zR9PHOg+uTmLD46dWRa6mIENPJDZ2uS4utrYaqgxaDWXM/IP3AwkHv2OvnXcc8996SUb7J1r0HP+YR49cQSg49CUhvj6vc2CC2f5eeTLeMttsRHca20cKNtlEWdSs0mLXMd7jb2Rm8ujCKTd3GMkWP5iZJ7jhwGNKeVoRwkL91wbexdq9l3KmRTTD7DuMNMa+eLuXZexO2MtBkgGEnZ/SCM/d0r3Xs1dYbClO8InTUrhXXkE2xK0JsjRcXjay/j5v823507z8/tN8FHYmcqsoEynhZxMyiL18q+MauqLws6koTyQdl8fzoH23HFX5h7G1PDBu9aHBOWmb2rL1C0Mq+SNd6OpHEyyyHt6E/z92zDv7Cl+HtUUXweLvN/5jhOJOlIvr2f0KyVxsMi77ZxDPBQA8EldRXuFX0e/il9uuiVwKPM2n22cxdsucus1jug4+lkzSvtWYfhmIfCNjuOfvYqfuxq5fQlsbOyQOjiiUjnh1uI9BtX2xE0tx76EDTZ2UhwcVaic3Gg55zxJmQYwJHJ88SAa+ThgZ3aztrHHuVpXvg6NIdNiYKM7+inNSgfQ5uuD7P28LWWdJJR4yQbJK7OISDC6WxoSj7N48Mv4Ku2N7fPSS9jYa6jWdQ77ozPyBju6o3zarDSBbb7mxMm1fNSqDE6SErl9v1q/ZZxJNLeBWcBs7u78hPaVnZGa+qXQ9yXuNem18DgpmebJGQOJJ5YwpElJHO2NaebcI5pqdPkqhPsZWU9okzxwbP/dHhaPeJ1AlVBX4R4pgUPpNnweFEV6rnXAWD5D0gmWDm2KnxCAyHQ/CHWv2nk2+6JM63V1B5neNABPJxl2QpvYy1AKbaJywvPt+Ty4u55RtQPwqTSIX28nmdzWjOkn7RhHg0AfyvVeybVES/fWbC5935kqJf1ot+ASj9KFQbeBpJNLGf6KPypJCVNb2GCnqUrnWcHcTcungSGJk8uG82opFZISxvvnJRs7NFU7MTPoLmkW/s1Zx76gVcWyvDXrEEfWTOLtCs6mZ5ENtuoq9F50nLgnRhTSErHqPd6o6ILMdM/kuPjb2OFctRvfHhQgLe/OyTr+ZU6erWce5PCaybQVrsvpA8Y8ey08SmxaNmSdZk6byviXasGMsBhS8lkZ9DdX0q92AP7NZ3D3QYq5YxV8z45iz5ddqOkht7gvJLhV78a88BhSzWVLPscvH75FJVeZxXm2KPxfYeTKkzk65NYi6wSz2lShXOsvORC+mo9al8dZZnz22igCeHv2fu6lJHNt8yTestBU7t+KT3ffIsmyDY7P4q0q5ek49xChKyfQpmJeG5SQl6LlpN+5YtVHhComc27NR7xdxQ25vamNX7LBVuFP0xHLORGblnd/ksXJr9pSrXxrPt8fzpppHajqJjcuxbCxxalyd+YfjCbFrEOOggaSTq9kdIuyufUS7js7dWU6fLaD65Yu2Vkn+apddSq0nkFI2C9Mf6ca7qZnuo2tE5W7f0v4/RTjGmzdUb58sxIlNTLsbYXnmAwHR+MzzuPN2Vy7l1Sw/UxHMkMm8nJJDS5tvuXc/RQLINQSufYD2lb3QJH7jBDubzs0lTvx1b47Rr11R5n5VhX8Csu71Swu/DaRNlX90MjssbWxwU7mgGPOM9aDVrOOEpWkJ+vU13SsVZE3P93B71/2pK63EjsbGyQNp3Dg5iMyTs+jU51yVOm/kksx5sAyFuA4cwMLRrWlqpvC2MdsSqAo1ZLJmyKJzzADtpawz96kWumaDFsbmS8AUBpBU16nSun6jN50hdhMHcdmt6W6vwa5va3pN0OJo0qFk0crvjx0x+TCaCD57Go+bF0RV/MYIac9K9J2+mYi4zMs9BQE13H8i1aUddXQ7LND3Hpkfh4/rnlSuLhhKu/U9MJBktcfSyhK8vKgRYRHJRuXVWSdY0HX2gS6KpDY2lDCVoJC6YjKyZVXpwZx/WF+QtVxfE4HagY4F1K/N/g87CaCUTjP4vgpq79+j/ZVPUy/3zaUUFWg01fB3Eywdm02CPf7R22o7G5qC+H3zc6JCm2m8tvFONIfW+Uszn7Xg/rlAnht8g6uxFmni+E2695rRuWAV5i4M5JYwTJuSOb8mgm0reKeO6YR+qdThTZM+e0isWnWmemj9/PtwCaUyvldNi6XspG4ULnD5+y8Hk34N52pE2ihicLc5i34NOQaD02G8pSITXzctS4+jqbfPKGOJeSUbDiQBftvkZBrtRfq1ItG1VoxecN6Zg4Q8rbHxsaeuh/uIvJBFpnXNjOtY3U8zWMbof9oajJitTABm/tkfFwHEY//HxUQwfFFB0eJM65qBYGtJ/Dj7nBCf5tF5woK7GzVNJ93mQzLwXvEt7zhKcXOuRb9vlpPyOHDBK/9nK6VVNjZefPOihtkFjk9ncnuYYHIZYE0etkPTYUOfPxzMAd2LmFIHQ32to68PHIS7QNcqNB+OquDDrBr6TAauEqwldVi8pGU3NlA/Y1veM3Zg2ptRzHnlz0cOnaU0N++oV9NIR0lTWeeIzUHNPXcWtYBX7kdsmofEJKgMwJhaigf1lAhcajNpPBE4yx55h5GlHFAou7MqlizJSGTPSPK4CAPpGEjocztmb5qb06Zh9ZzQWLrSKPhE2gf6EqFdtNYtTeUXUuH09Bdip2sJpMOJaE1P2MzNtDLS4HUuy8b4zOsXY4Sf6KTmxxZ4DB2CVaMnJs2kz0jy6FUBOTk7VyhPdN+2kvoziUMq++G1M6RhsM+on1pNyq2m8pPe4S8R9DIQ5aT98TwBHJ5ptCHQBphE+vhIrNHXWsAczfuY/+2xYx5zQ+loyMKWxvsLIPjoGXv+xVxkml4Z8V9UnV6YvYtZPpHQ2kRqMDe3pNGvUYyauwHTFr8OxvmTmb80BYEKuyx92xIrxGjGPvBJH4Ij0ObrePS9+3wV0pxrtGbL37Zy8FDwayb2ZPqLlIk3u1ZEpGM1jQ20QaNopJaSdlGjfCVK/Fv1JkB/TrR+v013EnT8YfuEgvblcJR6kyNXp/z895wDgX/ysxeNXCVSfBut5gLiVrjYEMbxOjKGpQB9Wno70zZVuNYtHU/IZvm0LO6Bpm9E6/OOkW8hek0OXwaTTwdkLrUZcBX6wg+dJCgdXMY/nogLs1mEpeYkaOwLnIRHQJVyITJlBmr2RN+iOBfZ9GrphsyiRdtF54nQYDmx/4zg6MUV3dnpF6NePerX9m7fwfLxrxGSaUEe9/u/HQ1IVcbsiJZ3LE0apkz1Xt8xqrdYRwM/pXZvWvhLpfg1fZ7zj7KQK+/y97vPmbCu69RSilB4tuUvkKbjPuAqSuOkJIayYI2PjjJfOi99g5JuT/S6eweVRVXRQlKuHVm+c3EvBl3/VW+fcsHJ0UVxgRFk5wFWZeX0KmsBrlzdXp8+hO7wg6yb/1s+tT2QCH14u3vzvAwd5STxeUlnSmnkeNcvTuf/LSLsIP7WD+7D3U8FEi93mbB6Ye5gyLtvg+o5e5EQN36+LuU443RC9i0bx+/f9OXOm4KJE5NmXEkhtSiPPb0t1jUIZBS1d9k6IwVbAs9wpEDm5k/pBHeSgnKhtMIj07JvT+1IR9S28OUp2s53hg1n9+CjXnWdXfIyfOzQ9GkZKexb3xdPB1lVB2zl6gkS3LUc3VBO/w1DpQbvoV7CdrH9IAUDs9ojr+TDOfaffh81R7CwoNYP/d9WpX3oNlnx4gRFoRlXWZZ98q4yhX4vz6SueuCCA/fy9qZfajn7YBEVo7+v1zKG9xr9zOhnjeagDrU9XejUpsPWbwlmB3LRtPMT4XUsS79R7WlYskqvPXBIrYE7WT52OYEqGXIq45ix+2E3PXJ2v0TqO+toVSVqngofanf93NW7wxh54rxtCqjQSbxpMP3p7nRLzQAACAASURBVIhJNT/4srj8Y0+quitQ+L3GiK/XEhQWzt61s+hb3welREbZfqu5EJduggEtoZMa4uscQJ16/riVb8HIuRvYG/w78wY0wMtRilPjjwm9m4RZ4ayry+lVzQMH56p0nrKMbfvD2bfhawY29MVR5smbXx/mXoqpU2hDmdSoJM4BtXO0KN9iBN+s30vw7/MY2NAbR6mKl6fv53ZiFujvsX/pF0wZ3IKyGjlSn0b0GDySMeM+YMqyMB4mP64dBRfSDpR1VVJ9zC5uxFsAhv5OTtuVrd6CgR8vZXPIIY4c2ML3I17NaXdl/QnsvfkIXU7eXzJlSAvKOSty8u42aERu3jERu1n25VSGtCiHs0KKd6NuDBoxhnEfTGFZ2D2SMv9Ae2AqTfxdKVO3LiVVGvzqtqVX7068/d5yzsckk35gKk1LaXBu/Q2no5Jz9TcGx5Hh4qpB7lWfXp+sZHvQDlZMaEN5AaK8O7Dg+F1Scpo4kx1j6lBS48k7i85zL8VyUJ7Mb8Nq4KP2p9fKi0SnZXM/9EdmTh1Cy/IuOEi9adj1XUaMGccHU5Zy4K7x2ZJ17ScG1PHB0bkyHScuZnNIGPs2zmVwk1Ko5Z68MTOUW0L7WPxL2DCMmr5O+HZdxtl7qUVM0GVxddVA6vo64lDyFQbPXM2u0DD2/jqHd5sEoJbJKd1zKSfupaI3xHFo9Rymv/cWVdyUyNxr0aH/MEZ/MJHv91w3TZRZFAID9w+sYPa0obxRwQ0HmTcNugxkuKl+++8k5FiezeAoV2tQKUvx6uCZ/LIriM0LhvKKANWqBkzYeZk484RN1nVWD6pPSZUzlTp8xMLf9xG27zfmDX2FQI0CzxafE3z9Ue79YFki4XN6yFReL+OCosoINuazmBpuLqN3dR9UgX1ZeSaKtD+yuP7zYBr4OeFcqT3jv99EcNg+fvt2KK+Wdkbh2YLP9l4lt0unnmBu52p4OjhTrfNklmwNISx4I9992J4afq8yafdFzuxbyZzpQ2lVyQNHmRf1OvVnWI4mP7DvZnyO62/WtV8Y2sgflYMvTQZ+zsod+wkLWs83Q16ltLMwid2NhYdvm9bD6jg0400qeJWmVq2SaFz9qNW6Gz07t2XkD8e5HXuORd1r4KMJoOXo+WzcF87+rSuYMagT41ae5fYTF6nmV1D8++9UQATHFxwcbUvIqDBgPTcz86xTSVvfJUBmh+yVOVzJMLk9GWJZ3dULmcSfPhuirAAx++KXNFFJkNaYxLG0otyITOBoVwJZhYGsv5XnUpkZ/iFVhZkhGxnlB/zKjVxrp5bDE2ugtJdQc/JxMsxWR0McN67FF3BDzNw/hkpKCYoW87lptmxkX2FBay/kdkrqf3KMJF0qR6c1QC2VU3XsvjyrYFHgaC+UeQDrrqfnzoxnHhxPDcEaJJS531qupZldxLQcmVwLlURKjUlHSTPTz7OCo0TIuz9rr6XlRiLNPDSBWmopJWyklOv3C1dSzbprOTqlDmqplBoTD1tYwgre9obo5bzjLcDQmyy4mAdppJ/nu/alcLB/EjiaBgjP4KpqiFtLnwAVcr8e/Hwt2cI1J5uIOS1wd5BT/cMDxJusR0ZwlFHCxh7/rj8SkWyCwJxqGYhb24dAlRy/Hqu5mmzhTpN9ia9beqKUV+OD/XEIhiFM4CizlVGu909EJOWllbxzJFU0cuSNP+e0AFtC+vpbLGkvDEC9eefHSBLN7ZnzXQJ37ySgFyZMDHGs61catcKPbj9dtjov+9I3tPJyRF5tHCGxqblQUrBVTOAoL0EJ19f4/EAM6ebJG/1dVnYLRC1T0OjT4zzKmfU1EPdrf8pqFPh1W8klk/U1J93sS8x90weVohpjg/MsYI93Vc0m8us38HaUEzjod6KSTEEmdIeY0sAdB9uXeMnW2woq9Xd+4B0/NQ4V3mPnfaEd41g/sAIuDn50XRFBvAUkZ0fO4y1fJxRVxxAUnZwzyDHErefdCi4oS3Zl+cV4co0YZBP5bRtKOimoOnov9wUiFZouBxwdsJOWoceyMzzMhfsU9oyphYdSTqNPjvLAOKItKG/OEQPxt24Qn98tUHuQyQ29cFS+ypdnHmDmHiM4KnPy7L70FHG50JvC3rF18FTKafjxEaJTstEenkZjb0fkld5n591EcnEh+zLz3/ZH41CZ93fdJdE8IMxXQv3tH+laxgUHr/YsPBOL5cS+PjGKqAQd2QYDsesHUcVdifrlaYREJec+F0DP7dW9qSSsK64zgX13E42DSRM4OtpJKdN9Kadi000eFVqOfdqMksJsvbQM3X84SUzOTSIYcU7yRXM/1IqqjNp1mwRTmY3gqMK2hAtNpu7mhrmfoCfql35U8XBAXm8i++8Y8zbEbmRINU8c1Y2YEnzHqu76Oz/TT7C2yOswPkjII6eVjeCoskNauiuLjkXnTQSkBDG+oS9OigZMOXCXROF+Njxk04iaeDmV5J1FJ4k2N5xw6175nnfKuqKsMoKtN+KNVnQTODrZSyndZSFH7ufdjynBH/FySScUDSYTejshdyD+9K6qGewcXRsflYo3vj7LPavIpAbi79ziYaZpEtPcB7RH+PS1AJwdm/DJodvGugl1+BNrHI3gqMbOxg7ftt8Qftd43+VmWSQ42lHCuQmTt10l3uybabjHusG18XFUUPejPdzMoYenAUfzb0YRaxwN8WwZVR8/jS/t5x/iTnLeLJD+6hK6V/ZEVWkoGyIf5E1gCd318Kc0F+6dhpPZL4wNzJXM9254uJn36/ujVtdn/LYrVmtPDXd/ZWg9P1TymozeetlofRO62HNxVXVBIg2g41wjBBuVSWX/tOaUdXGg7oc7uRwr3BAG4reN4+UAZ3zbziXsVlJe3fTXWNa7Oj5OFRm09gL3Hxe2NyOcT1uWw01emWEbLhJtbk/0XF/ai+o+TpQftIbz99MxPNrGB00CcfFtyzcHbuT2Q+HZcm1ZH2r4OFHx3TWcu5fOHxiIWjOEun5qPFrNJORa3j0jlDs5+j4JmVpjeYtyVTU8ZOu4JpR2VlN37CYuxmTmgb8hig0jXyZQraDGexuJiM7MsTDngKObPTZ2PrT+Yi/XHuU+bTHcXE7fWiVxbjyZoMuxeXrl6wviny+mAiI4vuDgaOfUgVXx+bbjeLSC9k4SJIEj2JNsBBJD3Ao6uEqQlB1FSIoZUkydLvsiMxoqsZc3Y+4NC5fAAn3SBI72TnRcGZdniRPOS/+NPl4y7FTtWRFrvYYi7bfeeMkkuPVYR3qu+a5A4jkHDFHf01otRVZrCsct9h/UXZjDa25S7NWvMXPNFBo5S5GWH86OB9q8NTxFgaNETYcVMVYWWNI30c9XgUTVjh+jLfzqheps6ouvQopb9zWkmKPFPCs4StW0/zHa2j0x43f6+ymRqNqy7H5arjUgR8pN/SnpIMWt2y8kCRspPuZf4pqe+CiluHT6iXuC1c7iPMOd73nL1WgBzd2Oo4DF0TwIeNo1jgYeru6Gr1JOmRG7iM3nWpgdMYtmrgoUTWdx0eTyZgRHOdKAvqy7mS86q+EhP3cviaOiDMN3PiDNqsrZXJr9Gu4ODjSdeYEEgUxM4ChXv82S28lWLpkk/Ex3HxWKgEFsjjG6qxmiltDe2xGZbz823E+x0tpCMgwPf6aHvwpFmWFsjza5uplPyL7EV809UDo04ctz8eR4dJq/s3o3WxyVvDrrHPH5TkxY04tSahkOrebzICEjZ9D8S68A1A5lGLr1HslWQJLNpTkt8XJ0oMkXeVa+x4MjZJ+bmRM4Ry6AoAnusi/MormXhkoN6uEhU1B68GaikoX+YiB2dU8CNQ6UGbolBzQND9fQp7QGh9JD2BKVZK1VdiRfv+GDStmYGadjSdUbeLi2D2WclTlp3s0FEKMg2ZHf0MrHCWXjGZyKTc0BHSM4KlG/9R1X4oWBS96/RGHywEVJqQEbuJOYzx0r77THfzLc58eupdAoqzMu+B5mg6EZHNWtFxAZZ3bnMyaTuK4fZVyVlOr/K7ceZfJH1im+aOaDSlaWYZtv57pWZV+eRxt/DcoaHxAUlWcpsy6MgXs/diPQxQGfXj/nrNWxrF/uuYaHrOlbHjcHNzosjiQuXx8hfReja3riKGvItEP3SMqZLDFaHFXq1nwb8YBUC6N3xo73qOahRNVqHhEPUi1cANPZ8V41PB1d6bD4MrEm9y4zODo2/ZQj95KtB2WJGxhUWejnrzP7TDQpBqGN+1PRXYlb+4VcfJBmkb5Qo3R2j62Nt0pGgylhROWQoMni6KSm1dzzRFvtd5DE+ncr4qHyp88vV4nL+AND/AYGVfXEKXAA667m2/JCf4UF7Uvj6tiIaQfvGAfBJnBUq1vxzdn71tspJG1gcGUvnPx7s/pybG4QlKcGR8M9VvSqgLvSh+7F3b/REMOqvhXxcDIH0zG2+J8HRw0yvy4sPnk/dzLE3JcEsHy8xdGRl6eFFgi4k7hpOLV8VTi89jkRdxKFgAlPYXE0/2Y8HhwNj35jeG1fNAF9WXUhXyAa/VUWdamEp1MDJuULqiPs59ipogeO5Yew/lJMIWtKhVobiN84jNolnXBr8w0n7iQV6I/Bk5oS6Cyn7vg9XDNFtXk+4OiKpvmXHLmZYFWGpN/fo66/M37dl+bEbPjD8Ijf36+Pv3MAvVec5Z6Vm6Wea0t6UM1bTf2P9nA5fxQec0MLy0y+bE0FdwUVh6znQrRp70j9NX7oJYBnZYatv0h0hoFHm0fRsJQzAb2Wc/quteVWf+0HegpBguqNZ9elWLIM0awZUgc/tRfvfH+C28mFPrFMHfnxwXEMjzbxfsMANK6tmX3wBglmZwVT+dNDptG8vCvy2mM5dikmDxzd5ZTsMI+wm+atZIwXGKJ/YUhdf9R+7fg65DoJVmOCXFHEDy+oAiI4vujgWNg+jukb6eUuQeLTny1JRqjUhY+jsoMddj6N6fnuYIYMGWLx6sMr/hJKSKoy4UharjtpwT5pBkc1XX6OtwZH7R6Gl1Fgr+7E6oemGSpTApm7huW4Ozp1XEW61noeURd7gT2r5zNj8jjeHzGUIf2aUUpqi6TGRI6kWFieyOTkjMY4S22xtxdmqQLpv+me9RYoTwDHzqtirdbdod3LyHJKJJqO/PTAGhwzd4+gjFKCU4eVpGSYnlrPDI4aOv0UYw2O2iDer6hCqunIipg8S6QgWeaekZRzlKLusJwka4qyaJJsTn3SEI1MRp2px0nM79NaaHCc/K6q5kHA04KjjsMTa+Mss8e7YVf65+9PfZvltLe0yjj2myKxmsFR03E5USn5oEB3mIl1XJDbC25P/Xl3sGXfHELfZoEo7KVUHhtCnGBNMYOjpiM/3s0HjhmbGRTohMK7F2tNkKjbN5ZqznJkTWdy8VH+tTV5kuoOT6KuqxyJd0O69BvIYKt7pC+vlXZAIq3MmODYPAtK3uWmT2ZwLHwfx6xj02jk7oCs2jhi4lMh6whT6rujkHjToHM/Buav+2ulUUqkVB69lxjToruiwJGsk3zWxGShDYkhJVvPrUXt8HUux8CfvqNbgDOOld5nVw5UJrBhYDmclYEM/O1ujmtr1pGpNPJUIvGqT6e+hWhQxhGptBKj9twnOUvH0WmN8FJK8Krfib4D8j1X+r5GGUcpskrvs/u+0VJiBkdNu8VcyweOGduGU9HVEe/uq4wQV0DbfAeyHnIpZB2LZk7jw1EjGTa0H83LqZDKqjB6T1QBcNS0XciVh9awmrFtBJXdHPHu9pMJ9LK59M2b+KnlBL77G7dy1ikJx1rjp3Gk7qQD3DMTab7iCOu0QifUx8tRTuNPTxD9OKup7hBTG/ugkjdg6qH7WBhkjCnqb7CwQymcFb70XH2Nh4IVwmRxVGne5rvIWCzHnrrQiTTwUaFp8x2RsZZgrCXko3p4q9S0nn+JB6adzs3gqHn7Oy49sB5YknWCz5v7o1ZUZuT2WzzSaTk8vWmO5bj+5DDu5oChZcX13FjcidIuCnx6/MSt2HTBrmy0ODppaDP/IjFWO6xnsGNUDbycvOjy42Vi0/8g6/hnvF5KjcyzLu179S9w3zUvr0Yuq8DwzTeM1iUzOGra8O15AW4typOxkzG1fFB7dWaZEJDI/Ih72qiqArB2KIurQ2kGrrtMbGGWoKx4Lh/YwA+zp/PR6JEMH9qflhWdUcgrMWLzNeJMruJ/BThq3ppr4YqaV9+iwbHwfRyzTs2idVkXHCoN4+L12L8cHLNOfsmbZV2Qe9ambfd+DLJ6jvajRUUXHOTlGbz+EjEWuhpu/0gvwRrp34sV5+/ntl1ebYVPOo593spk0dvD1QJRdAzc+rE3Vb0c8e68hIgo41rk5wWOhe3jmLl3Ao0DXfDq8B2n7iTnTEbNfrsibnIParXpRt9B1r9v/VpWxk2poNxAo8XwceimOzWHtpU8cKg4mHUX7ueAtf7qYnpU80Zd43025biwZnH6q7ZUcpfjUfMtuvUdZDHOG8KQfi1znneKcgP4+dw90nWH+fzNCrgp6jN+dySxRQFaERZH3YlZtK3kjkPtMWyLiMnz1DA1nuH2SgbUKonKqyPHztyyAEdnWn5xkGuPLG9iYX4ghu3jX6eMRoLUvSbtx3zH7ktxed471p1C/OsFU0AEx38kOP5GLw8jOG42gWPmziH4y2wpIXXC3dMLL6/8L298K/VmxY0899OCffHPgaPKEhwNCRz6ujOV1EJwHBvsFWrcPLzw8lAjK2GDfQFwBEPUD7R1lWH70kvYVRhNSGI+V6F/GTg6FQmOWkLHVcFJKqPprEiSLd0vhYZ7ruCoZc97FXCS2iJ1csOzsP7k7UulHj9wyeSSWiQ4avfwXgU1MlspTm6eeBbom154+1ak+5IIkoR6FgmOWxhU2hocM7YOpoxahqL199xJsnChydfBtXtHUUkjw1bqhJuHZ+H3SMXuLL6QiIUHZ/5UCB5bDRdF4eAoQF9zTyWyciOIeZiCMHkxuooLclspKjePx9a926LzJJjcOosER7I4Mq1Rjstn3SmHeJAczc89A3D27cLyG1f5sWcgGmUNxoc+ICVxG8Mru6L068O6O4k5lltt0FiquymwlaiK0KAbC8/Gk67XEjS2Om4OtkhUbng8ph9U7Po9Z+ONrpVFguP24VQqFjgaSDy+kP71vHMCP9jYyXFydcfTywON3I4S9k8BjttHUCUHHFfmWgj117+nQykNCv++rL35iMzsCL5u5YfaqSHTDxYCerk9IIMd71XFXangjbmRxFoBU+5JoN3NqOqeKGWvMfuitfUw5yxDHKt7lcbVwZV3frhCnLB3wJ8CRydaz48oHjjqI5n3diDOijIM2nid+MxM9oypibejjNdmnSPaymVTKK2BuJ/7UM7NAdeOi7nxIO2J4LhzlOCW6kWXZUYrqDZkAg18VdhJVLi6P+a+q9CZeUdN2hcJjrsYU9sIjkv/FDhezgXHAQXA0UDSqaUMaeKPoxA8yk6GysXU/xT22Nq/2OCov/wdnSq4oyw9gItXBevPX2tx1IZOpWmABnuJIy7uHoU+R30qvMNX4bexXOZouPUjPSt74lgkOGoJnvAyARo5TT89ws38wIGBh78OoYavCpe287hwxxj86G8Fx6AJNMkBxwVGcNSF8fHrZXGxl+Do4oZHYb9vPuXpMEvYjqUIcss6z7yOlfFQluPdtee5l57NlUXdqObtTN0PthMZK6zX1RH2SXPKudojcXQxjqny5+ftQ/kOMwm5Ho8uM5jJr5TBRfEqnxy8Rnw+frN4agl+44/djkMXMpVm5VyQN55K6JWHJjf6vKsFr4KR9UqhdnmLY6duPBkchUvTr7Ltyz409HPKCbpWQulP08GLCLuTaO0Jk5eN+OkFUUAEx38JOGpDR1NRYYe08Uwizesen7qT/XXgmLRjGOUc7JH4tWHGtks8MoWqN0Qv5i3BVbUAOCayd1RVHKVKnDVyStg603zueVMAHVNFnjs4bqS3EBzHqw8bniY4jvTZLI5Fg6PR6qeRSqk7/cTfbHHUEj6+Zo61s9GnZ0h8PEXl9rAiwVEXzke1nJHJGvLp6QSr7UByE7D88JTgKABhFY3sf+ydB1SUx9eH0+yKLfYSk5hoEmOL9a+JaWqsMZbYW2JNs8SusZtYorH3TregomAHFRBBVEAQqdJ7r7uwu8933oWFXVgQEYLmG87h7O5bpjwz++78Zu7cS5UvNvEooYgVR7tFfFK3CpW7r+JujtDRzrZ475+y4ui8MnvFsf3C7BVHuT2LO0sxNLuxwjlaZ09cYfkVLRxBdmshnepXo1rPtdz1N2FKq7rU67cVz7hUgg4Mo3mtGnRb7kjguVl0rF+DJmMMCUjIFtRyh6V0k/a4dVvOnRzz0sLKIQ1SHJZ2U4tUKb1IjfOSwm/I2eNYHb0rjsUVjklXmddFEl5N6bPEjLvhadkhG5SRHB0lmap+XPwVRz3CEUUIh0e1pE61pow57kuU00b6Nq9FrV7rcAovKni8LNu5TvUqfLbufuH7NGW2LOzSSG2KusIxrGDwdEUge4a+TZ1qLZhk5p+9P+3fEo65K45tmXMpUL3iaLu4G00MqtDtDweC1Xaz2g2sIHCftOJYjRYTTXgSLTmZKnrFMb9wlN9ZxRdv1aJq50VIzkeKGDpnZ/yvCMdgDo1pRf3qjRl1+BERmqVLqQRJNizt9Ra1qzThy/nHcAhKzt7jrYzCaJJkhvnRi73i+GAT/d97k2of/4KHX7RaOFrP6UTz2g0ZuvtpznE0S7iFm6rKndbRV9qr+Mk8LvlGF1h90u492u8VXjsY/kF9arSahnmhpqoybq38Uu1spfPCq/jE5O8tSoIPT+DjRgY0H3OYR6Ep6izKVzjeZf2A1tSr1pE5Vo9Rb3vUrnix3yt4vHukejX1/R+McAtyYdeoj2lc938sviQ54pESknN3wyA+qF+NjrPP8yiyMOdPOZnK7VjdtxVvVuvO4qveROsahOmWrCjh6LCWb1rXo2qn37HyjCzQ5srgY/z4STNqNhuJk2tg8YRjTu6ZMR5c3D2bfh/Up9obVfhoujEPQyXLBvH3ohIQwvE/IhyVwTvpa1CRCs2mcCEx3x7HYve+0hKOMq7+2pJqFSrz+RZfHRPOwoRj0o35dDCoSLVOS7G5tpSutSvxRr1B7PXKCVUg1aGshWOGJVPfkry2DuN4PtNWhf9WetepTCV9XlXLRDgqCd49kDerVKLROHMi03RDJJT1HseQvYOpX70yTSedJlLjxKiIflSkcFSGsO/bBmohMOm0VriCwtJ7RuGoeLyZ3g2qUfmdaVhGpGg5ItHNQFrRHtJI2gs5kROhOe7cdS8pxieNcDSg/w5vEvK8xahXZ2KMxtKiZhVqfbufqIQMUIayf6hkttiUCeYhWp5QC88qy2MTXzeqTtUeq3GJSS0wu0v6NX7vUI9qBl/z567JtKpbi56rnIlOVaDw2Ur/xgYYfLaavdPb8GaNRnx/xJ/4HGcLytCDDG9WiypNxueuQhZeEiWhB0fQvHZVmow3JTCf+3l995XGiqP8xiI6N6xBlR5ruBuhJeRKSzhKez9NJtH6zeo0+n4/pxf0pGmtuvTeqO1pVF/tFHhvH8RbtarytuSwTNozqfcyP3YPaUHtqo0YfSzHFFX7utRL2Xscq3/JepeIbM+XZSAca/bexIMI7TATkn8oEyZLq1G1BrLdI4IUpQL/PcPUpqiNRh3hcZSuqS+kcnluJxobVOeLP50JkzzGPqNwVIYdZVyr+lRvPJqjjyNz9yVqI9F5XyLhuJ1vW9alerclaqc5RY2Ps/NKw/KX9jSuUZ3emx7oOMeR2y1X7yusKoXEeBKft0e0UOG4gyHvvUmNrouxCcjvOVOB147veL9eDbousimw4pTtHKc2JTNVrcnXf90hOEF7w5mSuFMz6dDEgJrfbOZRsLQiJ63i/Y8WtWvTb8t9grVXlZVBHB73EQ1raLyq5gnHXcNbU79GFxZe9UNbvynDDZncpjEGjUew3y2UwhbeddpUkhL2q/hK8vrZdTHXfWMKmUBQEnBwLG0a1aDhsD08CEnO9x1LJXuPYw0+W3kDfyl2hvTkLYFznD0j29DQoAvzLnkXiCup8aqq11Q1/4qjMgKTqR1oVrMRw/fcI0jHa21+CkV/VvjtZ2zbxhi0nMwR08UMaNOIer2Wc81bw0tJhMk0OjavSaNhu3EJTMrHJ1/6Sn8Ojm9PE4PmSI7Diiybwpt9Y9vTpGYn5l7wJCLPlw3KJ0eY1KEpBg2GsN3pCYn5Vi41exxr9FyKs7c0WZHjVbV+Iaaq+YopfZRCz4z4uBE1Wv/IHfcQPVeIQy8Kgf/XwvHepM7c+PF/3Hza/6T2XB/VhuujyiOO4/eYSIG5tXtMWkFTVRSerP/UgIoVGjPaJFjHq6r2rUW/Lz3hqA6RUaEKX20N0LJbz+KJ6Xjer/qG7h7HVAeWdq5Fxcqt+e2y5JQnEZu57TCoWIHGI47in5bjDbWshWOWO2v/V4tKFd9n1tW4vFAZ6Q/ZPrCZ2mxOCn9RIBxHmQhHyHqwlh51KlOxyVhMgrQEtMyL/cPfpXoZelVVeG2md/1qVGo8giM+2l5V9fegIoUjCry29KZBtUo0GnEEby0vqXpTe0bhiNyJ5d3epGqlFkw6EUiytgOaJHcsTt4mI0Ny3f+Yf/o2onqlRgw/9Ij4/Oa/eguT/2COcKzyOhXeGs6+B1r9RBHAvqFvYVCpJn3/8ch29IOCx//0U5sCNhp2AM847RiL+dPO/qzw38nAxjWo+uFsrkgOgApclsrFXz/mzWoGvPNeEypVac/ca1LcPCDLlb++aESNGu/wbtNKVKz/Hft9s13Mq5NReLNtQDNqVm7E0P0P88JBFMgjpyze2xjYrCZVGg1ln3uMlldV/TeUinC0XaAWjlU/W8f9iGynO1JuWcEWzOhUn6rPToRFTQAAIABJREFUssdR34qjlFisBdPb1KN63Y9p26Iqld/sx1a3KFLzDYjy1zLz7lo+b2pA5bfGYfhY28ssJHuc48ztcFIyMnn49ze8VbsK9Qds465WHSTPh8FGk/ioXjVq99mEs2aFswyE4xsVmjJ4qwPhubFPFAQcGkPrelUx+Go9TqFJ6t8VxcPNDJDi2tXvzz9OYWgvLCtCTPihbQOq1+7NhjuhOaunz7biiMKH3cOk/YQNGbzDmTAtr6r5+ao/l0Q4PtnPyPfqUaP1TM74xeg61NKbSSZum/rxbp1qtPntAn4xefuy5TeXqYVjtR4rsA/ME46KEEtm92yGQf49jk8OMKqVtJI2g9PeUTqeRKX2fnJwNK3rG9Bqxmm8o3QnG55POFbgjaaD2XwziERNzExlEMcnt6dRdQO+WGNHYLwkrCTxOpTW9arxzmRjPCI0kwMZPD4ymU8aV+f1N5rnhOPIEY7KQA6N/ZCGBq2YdtKLSK29iij92D/6IxpVb8DALfYEFlil1gdcMjGdSrumNWk4fA+uBQRh3j0Kzx0Ml/b61evD+hsBuuauoSf4uWtzatb+gtW2/mgsP59ZOCoDOTKhLY1rSmahktMZ3SmgZxKOKPE7OJ52TWrQoP8mbuZzBJNXs2K8UwZydFIHmtZsQY+e71Ondn2+XnsDvxyBLKWg9D/EhA5NqdGgHxtt/XLiahaWdiau/wylTcNqNBu2E8fA7O989tUpPL50Aceg2GynTMogjv3QkWa13uMHQ1dCJBN6zZ/Ciz2j29Gkej2+XnsVn1itXyVlGKdn9eSd2rXptfwy3upZhqKFozIljrjUTB1/G8pIM37q8hZ1PpgqhKOG+wv6+v9WOJIVQOiW3tiOlgRhcf9fYOEo7UU5P4MPqr3B67U7MGnDCW66+eDv54HTZRO2LhhLv9/MiczMC+tRsE+WlnCUfiTG0qxKBSq9O5zNVvd57OGA+apveb92XWpX13aOk4bzqh7UrlSRFhNPESrLFonK6LNMeb8aFSq8xXjz4GzxWdbCkSwerO2hDths0P5H9l69j5uDGcv7v0utFh1p17Aild796V8TjigCOTKiBdUrVqRZv+WY2bvjbmfCHwNaYvDmu7xbrwIV351J6XtVlX6dYrD+rQN1Kr9BrXbjWGtswwNvP3w9nblqup3FEwbym0lQbvD3ooWjlJw1szrWocobtWg3dg1G1+/z2M8XT+ermO1YwoRBv2EcmJI94HtW4SgNzo6M5N2aUnzJL/n94GXueXngeOZvJndtRI3uK4iOl0xflMRcnM0nb1ahQi0phqEh1+4/xs/XE+erZuxYMpFBs4x4kpwX/qPgdyRHOFarS4N6lan23gCWHLPh/oObHJ/zOU2rVaRy65mclczbNGOwmIvM6VyPahVq0XbMKo5fvYeXuu7XMN+5lImDZ2EUkJS3rzL9CnPa1qWqFH5hjw337t/C0saTDC3HU0mWM/igbhVek/YDv/UjFrkeUjO5/Ud3GlR7g1deeY1aA3fjpeMwSEnMpd/p2qAaFWq1ZfTKY1x18cJXYnDNnJ1LJzF4liF+iTkmv8oYLs/rRsPqFajVdhQrjl7BxctX3Q+ume9k6aRvmWXol7vyWhrCURl7hhkfSzHW3mbw6hPYP3Tn9um/GNW+EQ3qVOeNim2fz1RV3ajJXJzdgQbVXldzqjN4Fx7R+T2KFmx96TtpOOEj3qxaiUa9fmP3BWc8PO5w7p9p9Gxem26LbxAuWXxEXWC21Pcq1KTt6LUY29znkacTVjtn0KNpdSrV6s7Sy4HZgeSlbMpAOFasWImKVd6m7/wDXHa+zw3D+fR9txaVK7/PFLPHxGhWy5VRWM3tThODitRsO4rVRte5/8gDJ6tdzPy0OQaVa9Ft8SUC4jWenZ9ROEqeMq8t4fPmtahUsw0jlh7E2skTH19P7l4/yZ7lP/LdrCN4akynSyAcSbdVx36sVfkdhm+xwtHFDitbD5JTtZZN8jVnqvVsPmlqQK2+f/MgVBMjEXW4g1ldmmJQ+S36LzPC9oEbt89sYkKX5jSqK4V9aaNjqkqGLUt7Nqd25XcY9vd5bkt533hIcmq2GWGG7TI+fas2ld8Zxt/nb+NiZ8WNh7GkyjRxHEu44linLvXqVqHGu72Zs8cKx3s3MV0ygFZ1q1L5vUkcd4/InQiRxNiw1vWpWuNDRv51gpt3HTi9YRSfNGtJuw8bUa36O4xXx3HUiIUMbiz/nLfrVOHtoRs5Z38XO+sbPIyRntFK4myW06dlXSrX/JChC/dy3tEDb19PXGxOs3flNIbPOoRrWKLWhLec26u/pmXdGvRccRO/2CLWhKVnzuIveadOJWp+NJw/Dl/irocHzhf38ttXLalTpRadfz/Do+g8Ef7MwpEMbq78ipZvVuHtIeuxuOWcXb/oZLXwfzbhKPUZW1b1e583K9fkgyHz2W15m4fePjxyseX0/lVMHzGLA/eCC3gjzdcl1b9RoUZT+aRZDfWz/bU637DBLp8XU2UcN1b3p3W9ytT84Fvm7TqHw0NvfB65YGuxn9XTRzDrwF2C1JMGku+IU/zaU4p/2YDuUzZxws4Vdycrds/qQ6sGXZl91oNwtaOnDOzW9KVVvSq0GLyOkzecsb94E/fIJDJUSmKu/kHfVm9S2eBDvlt8AGunh3g4X2L/nD7q2KG1PpmFuVt4jrfcooSjkpiTv9Dr035MWnGYS84P8bh7hf0/f847darz/uQjuAVnmyAX5COOvAgE/v8KR4l+hgeBa3thU2zxWHrCMcN6Ju9Uq8ybY0yJz9RZT8zuF7IbzP2oGpWb/MDZnJAbuR0mw5oZ71Sh8vu/cUUn9EYGXiaz6PVWVV5/9RVeeUXz/yqvVW1CzyVXiNfEWcxNTPuNjJvz21C9ShMmn0lArl0s+S0WfFydKk0mcSpOpvWDALKbv9OmRhUaTzyZF45D8YRTP3elQaXXeVVdjlep2LAHvxlfYPVntanZYw33UuRkhRzmu8ZS4OnRHPXPi8EoDfKDjcfTskZFqnb6gztS7D/ZLRa0M6Bqk0mcjsvIMSGScWtBOwyqNmHSacnRhVZ9pL117Q2oJpkmxqTnmRxJ47Sb82lXsyqNJ5jnheOQbk1xYfvwVhhUeC2b36tvULv9JA4627G6Z10M2s3HNiEjp/4y7Ba2p1a1pkw8FYMmqoe6BNLeto61qd50AuZRWquFUt63FtC+djWajDcjqYhwHFI6yojLLO/TQr26qG7PV1/HoPVw/ra5xfqv6lOz7Vyu5dZNhp3kDbW6ZBapFfZCGcLBoU2oUbMna+/pOn5RhhxkaJMa1Oy5Fpd4Tb1yGMq8OTGvDy1rVFD/iOX2p1dfo0rj/zH/Ql4IErm95LG0Bk3HmxGRohlg5qSTm9wJ5vd5L49tTv989bUqNO4+D8uwHO+zcnuWdn4Tg6bjMQ3PE2DqZCRnMx/XocZ7MzinbZaqjObWphG0qVspr+9LrN7rz7JzvqTlmqTL8Dm5gG/ez96Qn1unV17ltSqN6T7vHKGFlD+7GnLslnahfv3e/GV1jNlfva12oJHbNh+NZsftaN2wMFKb+5xiUb9W1Mr9PmR/N6W6N+r2O2eDteuZidehMbSpm+0o6pVXXqXyFxsIj9Xa95F4gVkdG6rNwd+eZEJgYt6Kicx+BZ82rUHFig0ZutcrZ+VTuy1k+JxeTP/Wtan0+qu6z4kqjeg29wxBSXnpIfPh9OIBfFBbi63UdlI/aNSVORaBJOV4mJTfXkHPxrVpOqag51TZtfl0aliL96aeeko4DgXBlgv56h0DKr6Ww6lCfbpOO8DJVX1o3qAHS2wlr685LXJ7JZ82qU3T0XkOcDS1lV1fQJdGtXhvygmexOcNNKXz6beW0qOxAW+8Vp9h+x8Tkz9shiaRfK/KGHu2jv2EhlXfyHm2vcKrr9fg3b4LOekRn2upkOZ1ggXftKJ2Zc0zUGL2OjVbD2alpS/x2nuH5Y6s/rw5dZuO4rBvtI45Z+adNXzRvC5NRx7CJ1qzWiQVSo7jqs9pXqcJ3x/IcbKj1qCL6NrYgNr9l7Pjtz58+GaVnO/Eq7xu8AEjNtsSkpzvO5ruxcmF/fmgTuW8788rr/J6zdYMWn4Ob+34o1LogLVf0eLNpozMcYCTh0iG7ZIeNKvbkskm2eE4ss/J8Du3gu/a1qPKG/n7XEM6/2qGd2zOZIX8Dmu/ept6TUei7QBHnY7MlqWfvkXdlpMw8o7SCukgBY2fQpfG1XlD/dv3KpU/XYV3sBSOQv+fMsqEH9s0pEazsRx7pG1CqyDE+g8GtK5LZSk26iuv8GqFenSavBOTlQN4r1kP5ln75wVYJxMfw6l0a1ojL++eK/EKis/OONMHo2ndaFojp7+8WpmeK+3VA3u501/0fbc+TUfs42FYPg+4Ugs7/8U3LRvQdMRerfNy7qzrQ8tmX/KH6X5+H9yGelVz+tirr1Gj1VDWXw4gIec7mV2IVNyPzqBHcwMq5PB5veaHjNh0iUt/fsuHTdszw0x3ZTE74HtzDCpkt9erlXqw/JY/2YtfMvzPr+H7T6RnUL72rNyAT2Ye56F2aBeFL3tHSiuY7Zhl6Z0bf1F/y0hfTm/OLP+OdvWr5jCV2kHqv+/Tb5E57pG6JvzKCDOmd2pO/S7zsPKOLsaKM2T6mvLzpy2omVu//7HMxoeYLIn7Rga1bqRepbsveU7VKqgkKvu834CW4w7iGpLXZvIAK9aN6kzj6hVynwvqvvNaZRp0nM6R/KFltNLUfquMOs+CL9+jbqXKvPX9TpyD8iY1cq+TB2D91xi6NK6R057Z/VR6Jldu0JFph+8TmuuOWEmc835mfP4ONSvmjGuk37vqLfji1yNqywPN+mGmnzm/ffEutXKZdGfxFY031nR8LVcxomOjvPGI9N14vQYt+87H+H6YljdyOfe2fMfHTZsxZOsdAhJ0TTkUAWdZ9m3bvH4rpfNadd79Zimn3aOKCIeVS0C8KUcC/7+FYzmCL9OsZdF42p3H3PAoR46bY3nTjdCUolYay6o0CuK9b3HO5DjGZ+zwS1Sg1H4Cl1W2z51uGiF3L3LSyJhT1z2JkSt1fjieO/lnTiCNQGdrdXlOX3tIlOzfbUtZjBcOVicxOnqU42bnuOEaTFKOs6NnrgpyYrwcsDppxNGjxzE7Z8sDKeh1KXUMecwjblmaY2hkzoXbvsTLC2Elj+HxbWtOGR/l6HEzztk+IChR/uz9U5mIn8N5zI1NOWPrQVRGlk7ML10+cmIe38b6lDHHNHUPSkSut+5KEv0csDQ9jqH5RVyCU0qNUW6Z5DF4O17ktPExHQaKQr6j8hhvHC+exvhYdj+wuR9IQhn2RUWCH45WJzA2OcNNrxhkWYUULLdCz/ZGEXyIUS3rUK3RSI54x2iJkOKkk0nsY3usThpjZH4ee+n+LN3BUXYqMqIe2WN90hhD45NcdPQnrgyZSXnqhuNIJinACeuTJpha2KjNFIuaO5RFeeFw8RTGhsactL6NX5xuzN7ikCnyGnksPk6XsTA9ztHjppy9fk+9V7R0mlZJUsAdrE8YYWhujXNAQtF9RhmG4cSPaFhTMsf0JTo36Hp2DRSJ/jhfOoWJiQW2npGkFwVOCqYe4MTFk0YYmVvjFJCgGxpKmUSAk/SbYoS5tZPaWVXp1FmaXUzmifMlTpuaYnHNldBkrdjH+RojPdwNW0szTE9eUe8ffErYZZRJT3C+dBJjI3OsnKS90jnbRjTpyuPwu3uVsznteebaXfxj03RMEKVLlaHHmdy2MTU/+hkLr8h85ryaxAq+ymK8uXPZAhOpP1o5qCdOimyGgkkUeUSq393LpzA2MsPqjh9xJXYsqMlGTpyfC9fOmXH82HFMz1zjrl8MaaVZaE1W0sRCnD8u185hZniM46ZnuOrsR0xqIT4uMuPwVX/3jDG3vImnNCmr55GlTA7E5cppTIzMuODoS2w+/wrIY/BxusoZUyOMT1hh/ziSVH0JaZVT71tlGmEPb6nHAoamZ7FxCyHpaR1Sb0Li4L9NQAjHf5u4yE8QEAQEAUGgnAko8N01hBa1q9Bk7HF8YnMCbpdzqUoje13hmLciUhpp/7fSUBJ1cjrtG9Wi1fRT+GqZPv636lnetVESavgD7ZrUoeOc83hHa1kzlHfRRP6CgCDwzASEcHxmZOIGQUAQEAQEgZeaQJYHm79pRq3KzRhvnBMS46WuUF7hhXDMY/HUd8k2LP20OXVbTsBQx1z1qXeKC4pLQOHLPsmZToMvWXMj4CnOXIqbqLhOEBAEyouAEI7lRV7kKwgIAoKAIFAuBDJd1vJ5E8k76iTMAuKKbTpXLoV9xkyFcHwWYAr8Do2jbeO3GZ0/nuOzJCOuLZSA2jHPB834+IdjPAxPLedtH4UWU5wQBASBYhIQwrGYoMRlgoAgIAgIAv8NAooIZ84YHeeUQyApOl7AXv76KRMecsn0OCfsAkgWe4aK16BKPZu9inenuKo4BATe4lAS1wgCLwUBIRxfimYShRQEBAFBQBAQBAQBQUAQEAQEAUGg/AgI4Vh+7EXOgoAgIAgIAoKAICAICAKCgCAgCLwUBIRwfCmaSRRSEBAEBAFBQBAQBAQBQUAQEAQEgfIjIIRj+bEXOQsCgoAgIAgIAoKAICAICAKCgCDwUhAQwvGlaCZRSEFAEBAEBAFBQBAQBAQBQUAQEATKj4AQjuXHXuQsCAgCgoAgIAgIAoKAICAICAKCwEtBQAjHl6KZRCEFAUFAEBAEBAFBQBAQBAQBQUAQKD8CQjiWH3uRsyAgCAgCgoAgIAgIAoKAICAICAIvBQEhHF+KZhKFFAQEAUFAEBAEBAFBQBAQBAQBQaD8CAjhWH7sRc6CgCAgCAgCgoAgIAgIAoKAICAIvBQEhHB8KZpJFFIQEAQEAUFAEBAEBAFBQBAQBASB8iMghGP5sRc5CwKCgCAgCAgCgoAgIAgIAoKAIPBSEBDC8aVoJlFIQUAQEAQEAUFAEBAEBAFBQBAQBMqPgBCO5cde5CwICAKCgCAgCAgCgoAgIAgIAoLAS0FACMeXoplEIQUBQUAQEAQEAUFAEBAEBAFBQBAoPwJCOJYfe5GzICAICAKCgCAgCAgCgoAgIAgIAi8FASEcX4pmEoUUBEpOQKVS4HLXkXPnznLmzBnxLxiIPiD6gOgDog+8sH3g6tWrpKSklPxHT9wpCAgCZUZACMcyQysSFgReDAKZKRGM/bY3bdu1p127duJfMBB9QPQB0QdEH3hh+8CQIUMIDAx8MX5ARSkEAUFAh4AQjjo4xAdB4L9GQEWM702mzFxDeGIaqv9a9UR9BAFBQBAQBAQBQUAQEAT+FQJCOP4rmEUmgkB5EVDieHI7i3dYkZqRWV6FEPkKAoKAICAICAKCgCAgCLzkBIRwfMkbUBRfECiKgCozlZ0LZmLq4Ic8S1nUpeKcICAICAKCgCAgCDw3ARXhPvfZ9ecSRk1bgPOjQLKUwt7nubGKBF4IAkI4vhDNIAohCJQNgYw4f36eNAfP8ETE71bZMBapCgKCgCAgCAgCeQRUZMrTuXhwDcMnruSBd5j4/c2DI9695ASEcHzJG1AUXxAonICK0PsXmDJvOwmpGYVfJs4IAoKAICAICAKCQOkRUMk5tu5nfl5/hIDIROFfoPTIipTKmYAQjuXcACJ7QaDMCKiyuHJgNWsN7UmXZ5VZNiJhQUAQEAQEAUFAEMgjoEyPZMHIMWw3vk5siizvhHgnCLzkBIRwfMkbUBRfECiMgEKWxKqZ07n6KFzsrygMkjguCAgCgoAgIAiUMoHEwLsMHTWR07dcSctUlHLqIjlBoPwICOFYfuxFzoJAmRJIiXBj8qRFBMenCDOZMiUtEhcEBAFBQBAQBDQEVHjbGjN67FxuuweIiVsNFvH6nyAghON/ohlFJQSBfARUSnxsDZm5wpCUdHm+k+KjICAICAKCgCAgCJQJAZUC64MrmDB/G55BMQh/5mVCWSRaTgSEcCwn8CJbQaAsCaiUck78OYtdFx+SIcxkyhK1SFsQEAQEAUFAEMgloFIks33WZFbtOU14fGrucfFGEPgvEBDC8b/QiqIOgkA+AlkZscydMAOXoHgUInxUPjrioyAgCAgCgoAgUDYEMhOe8MPoCRy6cJvE9MyyyUSkKgiUEwEhHMsJfMmzVZESHcAJo0skl8tKkoqk0EecvOBAikx46ix5O5blnSoSA+wYM3U1MclpOvsbZXEBrF61k5C4VFRCUJZlI+SmLYvxZs3a/QTHJL/wsbwyk0PZtG47PuEJYsIhtwXL9o08IZBNf+3FNzQWhfhSli1svakrOL1rK1ddfEmTCycmehGV6KCS+5dPcPycA3FJ6SVK4WW9KcrThjFjpnHV+RFPggNJSk1DWabfbSUPbc9yzOIW0fFpLyu2F6jcSiz27eTaXS+SZeKZkL9hhHDMT6ScP0f4OPP3mj+YOWUCo35en8+Nswp5ShT71vzDg4C4chv4qxRy7lwy57DlbTKyXvQvlYrEkIdsXLeKWT9NZfJv/xCVJtcRU+Xc5KWfvUrJvVObmbf9EqkZurOd6RHuTJiyAJ+IpBdexJQ+mPJJMTX0HhNmLMcnLP6FZy6L9WXm9Hk8CIgRDh3+pe6SHvWImb8sxdU/QjD/l5jrZqNg1x+zMbruSnKGmAzVZfM8n5TYmGzjz0NWRP4/M9f0uHKMcRNX4vLIm+sXrxMWFVfGk0JKHCz2snbfWUKik5+n0cS9agIK9qxagOkVZ+LTxTMhf6cQwjE/kXL+HB/mywWLY/Ru1ZBeozeQoOXYRKXM4tqR9ew4fZcshf7t1rLEMHZtWoPV3dLx5CVPDGLD8hXc8orUmTHLTIth55+ruekZ9oIPdlSkxwVz9uRxhnRtRcvuMwlJzsgVjiqFDLvTB1i15SgRCWnlJsaL6nYqlZL05ARi4xLJzJSTnBBPTGw8skJEu1Sn7XOmctI5CHk+O1UhHIsiXTbnhHAsG67/lVSFcCzvlhTCsWxa4P+vcAx1vcLceZu4bG3NtdsexKfkjTnKirUQjqVJVgjHomgK4VgUnXI6l5XgS/8P32LKtgtkZOUJxPRIV0aMmV/kipnnuZ00rlqVmbsvItO6t6RVcTVZRbVKlVlqco9MHbGqIuDOWX5ZtJf4l8GGXynDeP5wPvj0Zx3hKI/1pm+Ht3n9jWYY3fImK5/QKim30rxPlhiB1SkTVs2fy/aDhlhaXeTEsX0cs3IkTY+5cGZ6GJOGTcdHMo3MVxAhHPMB+Rc+CuH4L0B+ibMQwrG8G08Ix7Jpgf+/wlFyThfw6AG3HO4SFZ+iM+leVqyFcCxNskI4FkVTCMei6JTTuUjX87Rs9B7HbL1RKDUb0ZQYLZ/EavP7RYqb1Bh/jI+eJkxaPSuF8qdEeHHw4BkS8pk8SkkrMmJZPu0HLO4EaJWzFDItiyRUcswXfV9AOKrkiWybO5FeA6dwPzD2X3jAP2vlVIR6O+HsHcTmn8azwdSedLkCWfQjRk2Yjafa/FG7pVVEu51n7Oy9JKfKCmQmhGMBJGV+QJ9wzIj25aS5MQvnLOSK0wMuXziLubEh27fu4JZHcL5JmuIXMdrbgT2G1iSnZRT/Jq0rhamqFox/6a0+4SiLD8TSwpwl8xZg5eDCFavzmJsYsnPbNq7c8yO9hPvbE0Pc2HP4DHGJKf9S7co+G1/b05y4fp/EtJKGHRLCsWxaSZ9wVBH0+D4njQ6wcPEmbt++xYULlhgZHmHL9sM8Cop6wS2YyobU86cqTFWfn6F2CkI4atPI/14Ix/xEyv2zCvvja2jw7qc4PonJ3ROlTA2kf9f+uEWlvDjmlCoFtkfWMnnZEZL1CMtyR6ldgEKEI6iQpaeSmJyKQpl/fU47gfJ6ryIrU0ZafBDTx0/C1it7H1S83y36DvsR95A4HbGrUqm4unMBa82d1QIzf6mFcMxPpOw/FxSOKq6ePUNgbCJbfh3O12OX8sAvnEyFgse2Royb+pfakY72dEBxSxnqdJbZqw4Ql1QyBwlCOBaXdOldV1A4qnC4bI13aDQHlk3m8xFzue0ZiDwri2AXS8ZNWsHjEGmS69nLEOtly6yl2wmPTnj2m1/QO+6ZbGGD0VVikkvqgEUIx7Jp2oLCUaVI4rLlNcLDffmlz+f8umQ73iGxZCnkXNyzmj92niI09r8zqVE2XPWlKoSjPiolPyaEY1HshHAsik55nFPJ2DVvKB98Po2QhPTcVcNA2/10GrqEVPmLtVE33O0iAwb+yOPI5BdH0Oprt0KFo76LX7xjsX52jB42G7/oZJRKBXdObmPGsv3qwZL2+FGllLF00iRu+kbrnbkVwvHfb9uCwlHG1SvXSE1LYP7IXiw3upXrlCP0riVfdxnBXZ9Ive33tNIL4fg0Qi/e+YLCUY6drS3xSXGsmdqfefusc52kxXnfoH/nIdg8eFJg/3JxaiaEoz5KQjjqo/L8xwoKx6yEAK7d9SY6+AHffjaEE7aupGUqQaXE0XgdA2Yu51FwZO645/nL8P8lBSEcS7elhXAsiqcQjkXRKetzKhVZslQeOtmyfeNfmFo7kBQfwtRPP6L31O0k5np4U2GyZDQTV54jU9++RZWKlLgQThzexyHzK8SnltRkJ7vCkhOeUO/77Ni8GWMrB1L17KPToJHF+/Ftn36cdn7yYpur6hGOqsx0XByuY2p4hI1/7eVxeGLO6p0Kf/fbWJgbs33rZi64hpCeloyrwxXWr13F9sNmPAqMUjsoUmSm4/3AgW0b1rBp5yGcHwUh19dGGmAleVWpcLXeS69+U3DyDiEiwJV1f27BxT+qAHNFojfDhs8mIjFF749vUcJRmZmBm8Nl/lq/gbPXnEjJyFT3TxebM2zevgf7B76FOuQpSbX+1XtUKtISIrh88gjrt+/jjkcg8kwFGYmRnDu+i+1HzPEJiyuRWHsvjLXhAAAgAElEQVRaPQoKRxUKhQJlWgCDPu7O+XuB2SJAamerXbTrNAwnX6ltn5ZywfNlKRyVWRl4udxg08aNnLhoR0KqjKzMdNztL/LP9l1cd/IkTabrxbdgCV/QIyoV6ckx3DhvwsZte7l135t0WRYZyTFcMj/ItgNGeARGldiEuKhaFxSOOf0jI5Sx3XphetMzZ3Ctws/OiA4dB3HVNafPFJWwnnNCOOqBQiHCUaUiMz0JlxsX2Lx1O1Y3XEhMlSFPT+L25VNs33sIR3d/0l+wyVx9Ncw9pn4ORnLtjCF/79iPvauv+jubnhjJBbOD7D5ijmdgFPKSPHxyM9G8KSgcVUql2rIn3MWCz4bP5I7XE7W3UWlP4IlVM+j9wxIeBUfp/e3SpFp2ryqSo4O4fvk8h/fvYs+pq0TEJxIe8AjTgzv5c/MOLtrdJyElQz15Gx8ewHnTQ6xdv5lT1reITii4l1Gqb1xYAFYnjrBh/VZOXbQjKl4Ky5Q33atUZpGenkZqaqr6PyUlBZk8C8l6KFMuIy0t+3hqagrpmZk69+axKFw4KhVy/B46snP7PxieuUJEXDKKTBmPXW6we88erG+4qOuUV6K8VF/EdyqlgphQH04e38fuI2Z4+Ichz8wkOsgLwyP7MDp9iZCohAJjo2erixCORfESwrEoOmV8TvJMun3pz8zZcISopFR8nK+ye+922rRozPwjNlqDlHR+G9SGlec99Q5sM1MiOXXyBE+io9kyZwwrTOye48Gv4tHty5ha2pGcmsCsEb3ZfN69UC+uqswElg3swzojO/2itowZFjt5fcJRlojZvq2M6N2FSjU7cNUzLOdho8L23DHmTf8eg2oGLD9pz3kLMxzcA5DJMrhhvIFOXwzD/nEgducsuO7sQZpMjpftcdq3/hRr1yAyS2JHVlhllHLM1sxi+a5z2F66wHlrG8LjJZPlgo/6oFsH+WH1aVK0vPFqJ1uocFTJuGS+n3O33ElOimXrnKlsNLzOzQvncfIMIsLbnpFDJ3Pr8csZMiA9NoDDR45x3yeE2OB7TBz6Azfvu2NmeJbQmEScz25j8JS/iExILfVBS0HhmN0iiZ4XeL/LKDzD49ROjKTBk8nKH/lizDKCYpNLVI4yE46qTG6cO87p63dJSE7g4LKfWb3/IresLuDg6k9kwD0mj5yI9b2AUnHKpd1n/433ssRQTIwMcfTwJzb0Ib+Om4GVnTOnTM/jHxaL57VD9B+/gieRCSVql6LqUFA4Zl+d7GdDux4jcfILVcfUlCb0rLbO5bOhv/MoNKaA46ui8tCcE8JRQ0L7Vb9wVMiSuHDiOFfvPCQmKpD1c2Zx8NQ1rCyscPMJIcDFmlHjf+eOVyk/77WLVsrv02OfYGRiivOjAKID7zFj3M9ccbjDCXNrAkKjcDy7mwmz/8YnJKYU+nlB4ZhdHRU3D61mzMxN+ARGq/NRyBJYOHEQP687RmhMeZmqqojwu8+WdUvp3LoF3Sctw9LKAitbR8Ljkon2d2bMwN6sO2KNu6M9lhevExwdT0K4N7NHfcfc9ccJidUOhaEi4IEdRw6fwMM3lNSkGI5vWMCEOevxCIrK/f4mhXlx5MAupoz8lm6dOtL5i2GYXX9AiiwTlyuGDBv4NR269GDS9J8wvelGgl5nhIUIR1UmTtcsOH3ZnojYWE5sXsrKHSe5dsEaOxcvwp64M3faTMyuuZBUxAJBKXfDkienUhLh7cTxk+fxCgzD9bo5c+dt4PLlq1y8doew8FAOrJ7HmgNnCX6ufiSEY1GNJIRjUXTK8JxSnsKhFVPpM3kt0Sky9cNTpUhl25yhVKj2LuYO/nkzJvJQBjZrwcn7EXpiASnxuHmBmw9CUCjS+HtGX/rN2k9yCQMZp0d7Y2x6hST1nkUFK6d+xaCf9qtnwPTiUGWwf94wRqw1JC2zaDNaaaboyWNX7OxucevWs/3f9Qgg83n2IOoRjlJ9JPHlYbmDZo27cO2RRjhm11SW5M2Xb73JpD+2csMjLFc8p0c+onenNoz+dRmX73ghzwmLocqKY+oXHzDi9+OFCje9DJ9yUJEey4JJozjhFKA1maDvJiWGS35k/01pZVD/clVhwjHA/gLmtp7Zs+cqJQ+tt9Oi42f8bXyFtPREDvw+ilqN2mBq7/MckxL6ylz2x1SKdKxNTbnvH5nNT5XJxl8H07XfGK54hJCeEsSIju/QvMt4/GOSSmHApFunwoSj89HlfD5xtdrrnnRHRvwTfhg8gN1nnUpskl5WwjHE5TrmV++TLE1IqFQE2h+lZafPWLHvDEkpSZitmU6Dxq3ZbXX/pQuiLoWvsT1zCkevEDIkpzOqTPb9MZGu34zgtKMX6WnhTP2yHQ0+GoJ7SHTugE+3lUv+qTDh6HZ6M1+PXUxgePYgPjM1glkjv2WTsQ0JJXQEI4SjvnYqKBxVKgUeNue55ORNsjRQVym4dnw1nb8ayM5TtiQmR7Nh2hAavtsTyztehT5v9eVWXsdUygwunbJQT55p+vmWeSPpNWg0li4+JMYHMPnLjrz/v3G4+IWVQj8vRDiq5GxfOIbftp4kWNrPqFIR423Ld/3HcN7BU8eTvD5WysxUPF3vYf/M4wh7vIMin2o1o1KksG/OKD7//kd2n7xGTFK2o0GVKou9K37k00Hj2bjHjKi4xOxxmyqLq/uW8b8vJmDzwD930liZFslfC+dz/NwNdTgOqS5ZaaH8NPgr5m8yJTwuVV09KdyWIiuTkIe2DO/ZmVGzNuEbFocKFYrkQOaP+pGth88RGp2gHoMUnC6WktEvHCM9HbG46qyOoyndF+V6lm5f9mHWhkOERcdwcddS3m/5IasOXyI25fks1fS1VWkfy0yO5IT5efxDo9Rj4fQYP6aO+5bh0xfi9DgYv9tn+Lpja779eTOPQ+Kf47dcCMei2k4Ix6LolNU5lRI/exM+aPERRnb+WquICsz+nkntD7/kXnBc7p5BZZwbbWt+hK2/ZEqpWyilPBHzAyeITJUjT/BneOcPmLL5bPYASPfSYnxScPO8ebYJpLSapUrmp94fMHyuMbJCvfhlYbZhKl9M20r8UxzkSKZuFrtXMmL4ML777rtn+p+30aTEg2l1xQsRjtI538v7eLtJQeGYlR5Iv2Y16TFuBbGpeV4qlSlhjO7VljZfTMcnMkmrTeQsHfc//jdqNUla1xcDfKGXKLNknNn7J98OGsRvS3YQHJua2y/y36TKSmD6iB/wjCrYTzTX6hWOynQMDxwlKlGTthLXc3/ToFkHLO4Gkpkpw858P6s3HyMsXnONJsXCXyXT17ComHJ3OpQY5IrpuZtaYl7OnzP60qbvTwRGJ6DITGD30kUcPn+btGc2O1ORlZFIRHQKyvxfzhw0+oWjgh2zv6P7sNk8DotDnpHMhaP/sPDPozmryYVzLepMmQhHVQYWRiYESuY/6lVuFX43DtC0WRuO2nqRIZfjcsGIlX/tJyAyoRBTqrxSS5M16clxeD5w4e79h0TEJuVNkuVd9q+9S43wxuzMNeKTNZ6oM9m9eDQffzkJt4AIFFkpHF2znL2nbEhML+ipuNCCqpQkxoRx3/kOrh7eJKSk62WjXzgqOLryB7oOmso93zDkslRsTu5h7sq9BERIjAvNtcgTQjjqw1NQOCoy4jAzsSAyVrPCrODS4T/4qEt/zt95jEyezsVDO9myX3Lmov0boC99qb/HE+jvh7d3AKnp8ucY0OpLv3jHEgPdsLjkQIz0nFffImfT7O/4ZMBMHgaEkZkRx+E/13Lk7A3iiv37pSQhJgI/n8f4B0Ug15k81i8cVbIIfh3wBeMX7sA3PJ60xEgOrF7KduPLRCVqvoOF10mRHMrm5b8zasSzjiNGceCsHfF6vI3r5KZK58iCcXzYqTenbrppeTBWYbFtIW+/1Z795++QLFPk3Kbk3vntdOrWn1M3H5KeM2mbGu7Gd191okPvH9RWO9ke8pUcXTmNzgOnc88nWKcfqBRybIz+ptfngzlmfUc9Sed//xrmF24SHvs0p4h6hKNKxpWzZ/AKCMvdDx3ucooObTqxyeyGmoOn7Vn+2rAHV9+wXMGrw0LPB0noRgW4cXDPNv76Zw/OXkH/zsSJSknAnctcd/EmIS17S0R6tA+TBn/BhEXb1GI7PtCVzas3cOm2OynPsIKqUmbiddeW7ds2s2WfCT6hEexcMR/TK87Epxe9IKIH0X/+kBCO5dDESnkyf4z5jGZdxhOUnL3aqC6GMo0t0/vR7uvZhCXmBYzNCLpFI4OuuEQUHLRnJoVx5oYjcqWCEGcLWjVvg/Etn5INxFQyXBwcSczIVD/QlEnefNq4LotNnItY6VJybs88eny3mujU8vlBLFYTllg41mbiIhPStUSxKjWccZ+349MfNxGTqtV+ZPLHxJ60H7qIxJSSevjTrY20GnLt1AEs7wUV0QbZ96QF2fPd5DXEF5G3PuEo/ZBfvPSAjJw6SjOrF/6axtvtRuKpI4x1yyZ9ykqNYOfWXfhGZQ+eJFGgUGSRnpKA7YmdTFmzh8QShoYomFvJjoR43sfVK2/FWJUVy89ftmHYrAPEJhWnnVQEudmw3/QK8TnWAZJ6z8rKJCUxCuON81hz0I4UvSZEoE84qhQJTP2qKxuOnsLUzAwjYyNOnLchWho4lVAUSHTKQjiq5NFcu3KP5LQcywiVilt759Piw0E4B0SqzSgLaxlVVhqWRw9w0z0wZyVBRWLII44dOsYpMxP2/PMnk8dO58xNN9Lk5bM/Msrfg3vugblWFdIEzLLhPRk05e9ie7dNjvDm4EETnkTGZ4trlZInD65z1PgEZiZGbFm9kAk/LcbxUcFQK/qEo+R9cuGIPqzafRzjnP5hevYKYXG6+6MK417Y8ecVjkpFBs42lpieu05UQuGD2ay0aE4bHuaq0yO9sWbV5VOpiPR/wPFjpng8iSixJUNZeFWVJQZxy96L1ByRIVktHF00gU8H/MYDf8nypzDCUpiqOEz2HeC+JPjVFyoI8XZhw8IpDBi9CLenfGcKT/n5zgR7uuHpE0ZGjjWSShHL3EHdGPnbToIiEouRuIpg9xscO3WNiDhN22fian+RKcP68usaI8J1zAP1C8eUIEe+7j+OPccNMTc3w8jIhIvX7xKfnOcMsBiFKbtLcoRjj16TsHML1JrYh3PbF9OiXT8u3fMiM/dBreSB9U46dv0KU5scZz/q1cUYdqycx4J1B/APk7yfZxfZZusSWrUbwjU3P/JLEnlSKGumfc/ACYuwu+OIidl5fEP0O7rTBVBQOKrk8djfcCVWaquci++bbaBthwGcv/MIuaZAugnlflKkx2F+/DjOj57orAJnZcSxacEsDllcYfOSWazbe46w2OzV09yby+CNZLF2/6YjIdLKa06FYnzsGPJpL9bsOUdUYt7kfmHZS+b+920tsbjiRExinufx5DB35s1ZwrmL1vw6cRrG1vZsWDRXCMdCQArhWAiYsjusIjnEkba1qtF/1m4dswlpJWt899YMWniIVK2ZuxTfq9Qy6M79qKJm4xSc/ec33v5kCB7hSc81+NTUPdrVggY13+Wsmz4TWc1VKi7sX0TXPkuI0BbBmtMvymuJhWNdZqy0VDvK0FRFIxy/nLuLhAxt845SFo4qJaGuF+n09tvM/cdKpwyasmi/upqvY/5+28IHaoA+4aidhvReWilcPbE3Xcf98VQX98lP7OnfZzx3cxz1KLPkmB/cwabNfzNxYHd6/bqe+NTiiDPJYkmJl4MlCxfMY9asWcX+33DoAik67ZC/RrqfM6Pd+ez9d1l0zDbXm6nuFfk/Kbl0cDU/Ld1HhGYPpCyavWv/4p+N6+nZoTWzt13LNmnLfyv6hWNm5D0+ea83t/2icn8E9dyq95AiJZI9f69l7pzZBRj9OGoQHbp9zfSZPxc4N2vWQs47ehdpjVCccBySGd+234bS/rs5BMdkm2vpLajUl1JD+GX09xy3kYShZAaazrGtO/ALj1MLLGli5Pz2BXT6cgwO3mE6gzR9aT65d4VlixfqqVvh/WXdnlNaqyz6UtU9lhXnzeCu7fhlmwWxycVbYfSzP8n46YtwexKpnrSTx/uw48hpwuKyJ1QUmclsmDaQLyf8QUCUZhUrO199wjEr1oPenQZi7eKHrCiVolt09SdFWgzHdv/NvLlzCnCaNmEY7Tv3Ysq0GQXOzZo1n5M22Xur9CSrPpQY5MKAju9Qo0Frjlx1LdQs2d1iM80b1KFht3F4BOft59JJV5HCP78Mo0716oxceijbmkHnAs0HFUlhj9m2YTVzZxfs86O/+Yye3wxlmp4+P2f+Km4+DHzKikjBFUdNzppXRVo0v4/sw9C5WwiMKrrPZ0Q+ZOKo8Vxw8s5dfZLMny22zmX8H7sJeMr90gDZ67YVK5Yt0tNGhffzjYcsiU4s/gA+M/oh/T5px4J9F4hKKk4/V3LlyHp+X32AAMmUMmfwrlQmM2/MN2w8YUtsqvbkj37h+PjSQYZMXKjeJ6rtJEbDutxfc4Rjr69+4o5n9v5iTZnUwvF/32Hr7qv13NYvHDX3SK/ytCS83O5y/sxJ5ozsQ6O3e3PlgS/atLKvVxHy4DL9Pu1O70E/cMHOo0jnhHl5FBSOeec075QYrp5Jl8HTcfEOyhWTmrP5X9PC3Zkx8SfO3nhAau7WJxWxPjf4dsBUrG/cZMkvM9lreo3YZF3RJk20XDl5hKULn+G3fM4CTC/defqKcG5BVXjZGPPpZ99w2Oq21gpw7gUF3khmzgfXLWD9fgtCc/ejKnE+s4tJM9Zhc8mCKZNmYXnjHpuX/i6EYwGC2QeEcCwETJkdVilxO7uBipVrsuy4s87KYLy/Ax3ffof1Zo46q0up/tep+xThqMyI5re+nRg4e0+pbXJ22LeYmu/0wTtOY9qij0q2cOzWb5kQjqW64qhCcuiyY9Nq2jcy4JNRy4hOyVuFLtgSmfw5YzLnXUPJLGKgWRzhKE8LY2S395m6ylxtVlUwr+IcyeLSrtn0mfv3MwnH4EdOmJuZYmRkVOz/c9edyXgGE9OQ2ya0bNaeE7d9ntsDrmTisuSHb5i/y+aZhGPAtb182H86QU8RXvpIKzPiuHLeAmPjgox2rJqjju+578AhPfxMcH4cWuTKTrGEoyKRqV9/zOjfpXiRxZsU0NQjI8iOqb/vwF/L3DIp9AH9unRk9eGrJD1l716k7z1OnZBWKQrWvbBjFpcd1Kbjmll3TVkKew13vcAnrTux38qlUGFU2L2a4w9O7WPDIcts82/1QRWhzido/X4XzOwe68zg6xOOwbdN6DroR9yehOs1b9Xko+9VKUvkxmVLTIyNC3Das2EJfb+dwM49+wuck1Z+HNwCtEzzCqYuSwpl2ZQh9Og7AXsPyQpCP9XYxzb07vIJI+dtU6+SFkxJ2mCeyZWj6+jUrjtbzG+QUIhDLynWblpcCNbnLDDW0+5rfxrLqJmL2H3gSIE6GZucwuPJ07zhPl04Joe58d2n3Viy7QyxSbqDZL11y3dQ+s6unDSW9YcuFhhk57sUaWIm2MsFi5PmBepTWB+Xjlted3qmLRIhjuZ0aN2DY1fukSqFxCjhX2asB4O7f8t5h0dk6PQHfcJRienfs5m4YC++oc+zB62EhS3ObaUoHNPiQzi6eS0/zpjNUYvLBIbHcu2fxbT+aHAhwlGabZNjvmUOHboPVk/kqCfcnlruYghHVQpLx3/NiOkb8AuOe2qKei9QKXEx38jAqUt44BdaqPiUwoK5Otpw0szkGfqwCQ4PvNXe3PXmnf+gKpOL+5bRq88krjh7P3UFNf/tuZ9V6RxdMZ2f1+3HJ1zTJ8Uex1w+et4I4agHSpkeUimwXDmBKjUbY3wvVGtQoMLrykGaN/mYc/eCtY6DIuoeLQ3aYR8omSnpL12M13U+eaclW8646IhO/VcX52gWW2cN5sMBc0lMK2o2UsHprT/Ta/xGYgv94c/OT5pJDQt4zL17Lri4PNu/p2/IU1cjiqzVS7biKO0HvWp2Cp8n/kz5pgNNWw/gfnB8oe2vTAti/OhfeRJbtHOXpwtHFclP7GjbuDl/nXYpcnWqSN48u3AsOr3SOqvi2p4lNPm4H87S/jXNtHkJk3924agi6KEzm+dOpvfQaRw7J60QF5x3LmFxysRUNX9ZsqLd6P5WcxYftiWpEPPc/PdoPsd7WNLyrQ85fOMR6TmD1ayUMMYN6Mm0dYbElTiIuyaH531V4Wiykffa9ubyA78iRXZROdkcWsX7nYZg9zg457mlIi3UhV4tW7HuhANJuaGWQFc4KgnzdmXX0p/pO2Qye8wukZhaeiZ8z2uqKlkFpCXFExufRKZCs8erIAnpWR8XHU1yWobOb5nulVI4qjRiomJJl2dvj9A9X7xPZWGqqpuziieOFnRp153d5xyLaaWgm0JKhAdjv/8eE1vt1Rvda/7dTyps9q+gVZch2Lr5Fnt/m74yhjia0HP4r9zzDc7nUCefcFTJeXjnKnMmDGLsL4s4c9M929mWvkSLOKbMSsfvsWcJxhH3eBIe+/TJwlISjhkJQayYOYYR01fi5BWc60TvxvZlRQrH1Ch/jPbtZVyfzxk6fRXuxfqderpwVCZ6M7RLe37eaE5o/LNN+GmaQzL1NFr1GzOX7Mc/NF5zuFxeJf8e//w6hr4TFqv3gZd06kOZHsni8RPYuP88EQkaLkI4FtWoQjgWRacszqkUGM0aTq03u3I3VHvPooKz22fTrN0g3MOSyEoO4eaDJ+pBhyrVj1713+ase1QhwkGJndEamrf6HHvfGJSKNO7aOhc5c/y0qqkUcUz77H2GzTcq0vQRlZzDf4xh0OKDT13plB74Zv8sYkD/fvTt2/eZ/n9Zc4zU59kD9bIJR4WcmOg4pD1FxssnYtDwPY7d9C50IBt57zQTfj9IQj6Tkfzt/FThqFLic3UvjZt2xNo9z3RQlhDKbbfHZOZ4kJWnxuFoY83+3fu55xOhZ+XhBRWOKjnb5g6j08DZBEkmY9JEjEoyv3HK/t5pzcxI4t3bzZETJscxPHVFbbabX2eWRDhGB/rh7uGJx0NXHN28kWmZpedvr2f9XBZ7HPOXIcLJlOZN2mJ22w9ZzmaTzJRobrt6kJHzHVVmpfHQxR6jwwe45CCFq8kWx5Lb/avW19UmvxrU6TG+DPu8K4t2nFfHycuf37/6WZXJsTVT6Nx3Ou4B2Z77pPyTnrjwIDght77SMWkQJcV4u2BhzpHjJ7PNb3MqlRzhz/Vbd9X7jbP7jIo4r6t0fq8DB6+6ZcdlzKlYfuEYFxrIw4c5/eOBF+kybXP456PxvMLx+XIvm7vLXDiqFNiZrqdj92+55OKbazqcHumrdnCicailkCVz196GowcOYu8WkLuXUFoxDb5ryfDB07F3D3wukVZqBFVydi0ex2dD5+DhH577HIzxv8+jsDidFXHJQZuvuzMWZkYYn75CuNoZkGYGW8W1XYsZN3ub2nxVt3z5hWMWQb5eeHp64nbvLp5+YWQ8gwMTTdqKpGD+XPgzgwc86zhiMLtO2BKXUtREuPTFznaO83ymqkruWOzkk06fc+Ccvc5Eke22pTnC0Yeo4McERifmPlckU8qbVmdwfuiH+81T9O/1FX8dPE9U0tMmj54uHGMfWtGlTVd2nnEgMcexT1Z6PC7uniSl5u33kyaHkmIjCAwOIyVdlmOSrCIhOpSHrs78NLovkxZt5vLNu+qYkFmaB7mmgf6l14z4QGYO78fUP/aoHYaps5W8IbvfJzJON46jVKeUhBgCAp4Ql5iitvSTnt8RwQG43DzLwG8GsGzLIexcPIlPSUOpymLPqgXCVLWQthTCsRAwZXZYpeTa1p95s2E/HsfnmR4qMxNZN/4LOg9cQlSqnOiHNpx18s6erVYlMKl7S7ba+OmYtmrKKIXx2DKlL92GL1ffK4v25KC5vdb+SRWB7rcwtbj2VHGnSVMe7Ubnpg1ZftK5yBk6lTKFjeP7M3/fJa38NKm8QK8vmXDMI6fE/eIu6taox5xtFwoR8SoubV3E32fuPdW0rqBwVJEQ4sn2f3YTEJ2sdmxzes0PNGn9HR6ROd5ZVSqeuNhy8ZYn8kwFkvOc21fOqT1OWv09lylLzUgo8GP8YghHSdh53DrPYbOLxKXKUKSHM+Xzjxk8YzdRidk/xtIPyOVjx/GR6p8zHpLMxXzu38Da3o2UhCB+GTQWSwffAt+FZxeOeS1bFu9KXziqSI7wYf/ufXgGx5ClVHJt+1wav/0NTk8kYZUtvMMfOXL+2oNsJ1KS1+j7dtjefcyj60cZ/sNy/CPynENo11u9r9XWkG6d+3LW0ecpe9G07yyd91Lb+zpf5bDRObWYVWTEsGDop/Qd/xeBUTmr9yoltiZGeEbE5w36VSrigjyxvHCL6PhYdVzLTUbXCxW+Un+6vGs+nftOwVXDLacKusJRMyAvnfrlT0UIx/xEpM+6pqqSg68ov3vs32+If0Q8WZmp7J8/jq5fz+SeX45jHJUSdxtrHN0DckMYudhcxMU7GHvj9fy4dB/BkQnZmakU2JttZMj0dTwKLln8TX2lfpZjUj/3dLDG8PRltWMb6Tn4S//uDJ2xFf+w7D230rPMxvwkj0Ojc/u59P30dbXnqqMb8dEBzBs9HQsbV1I1HkWl0Ea/DWfhbkut1RpNyfIJR83hF/21NISjMo0DC8fzcY/BXHb2yvVqikqJyZqfeLtVf6488MHb+Tz2j4NJlivVe/z9H9zC4vId9V5VlSINk/Wz6dFnPJecdc3bCyLMLxxVpMYEYXLkGHe9JMdkChwN/+KDD/pi6eiJXFqek8KgBLhiffUucQk5wlGlItr3PidMTVm3bDFHLO1yTKtV+N27waGda+n2fmvGTpvDxu37cPIKeg6rpIK1KPyICmVmGjZnjLC0dSEhJYOoR7YM7NaTP3Lpa7YAACAASURBVLZZEJmzUiitHlqevkJQWGzuIov0fY4JdMfM9ASHdvzN6i1GBEjns9Jxun6BjYtn8kmH7vw0ezFbD5jiExJFllIIx8LbAoRwLIpOmZxTEeZygnea9MQlLGfFUXIKcvsU3d5vxOdz9pCSmcX1UydxDZQ2oEsDCQUbpvVh5jZbvWaoqrRIJvfqwuxdVmpziAc257njE5FnIqRKYEzHxlSoUIut1l7FMvkMdjCiYZ02XPQo2pxPkRLGxK+/4fAVz9w4h2WC7XkTVcow+n0YrXvMICjf7J2X1S7eatSJyx6hOsI8M9WPrxvXZsofp3Uc00juwEd91obPf9lGnI55rozFY7rR5tt5atf7z1tkzf0JgXf4tMWbdJ+wmhh9btJVqSyc+CN2PtIDr+iBZ0HhqGDXvOFUq/IWJ52ekJ4aybJx39Ks03gC4rO9sUleAk9I4RjiUtQP46wEf4zOOJCSkcTqSX2Zs/uSHpOjF0M4yuJ8GNqjNa3+Nw6PkHgC71xm0Kft+X6ZEbE5Yjct6iEHza+SquVgR/JuZ25mTXxaBvI4X4Z8NZgT9o8LCJv/vnBUYLhuKnVqvsW+iw9IS4tl48/jaPjRdzyUfnylp5M8mbPmJvhG5szyZqVw0cyKyIRkzm2fx9CZmwmO1m9CLUsMYcG44azcf/4ZnCJovhnP/5qZFMqP/TvTssMQHB+HE+Jqx9hvejDot12E5uztlsf5cFAyGf2/9u4EKqor3Rd43+G91+u+7nfXW6vzuu9Kv3Sn89JJJ+l0xtud2dwkJmZQE4cYBzRxjJo4hRjnecIBZXBAZBRlFgEVEGVSBAVknoeCYq6CAqqKqqKo83/rFFDMCBRKWfm7FovinLPP2fu3S6jvnL2/3SNbsaBXITwwCKX1TdDrmnHgm6+w2zUCikFS/TeV38GUSZ/CI6r/OpcMHM3rx7F+4mho12Lv0k/x6P99GcGJ+ZBJC/Dj3Cn4+9R1yC7vWMdTr6yGX2AopLLOpVHaZAj2v4bGhkYc/9EGK/b4GJdQEFsmBgBu65fih0PnUdM4Povba+WFmPvhq3j2zTlIyq1AWfJVzJz4GmZtdIOkXvw9L94gysG50FjIeyTY0TVJcfHiNdQ2NBt/D87+bA7OXU01LXUg6Gqw+L8mwjsy1Rj89O7JhzRwNKjgum423pqwBIlZ4lDzrlYJCLK3xR9e+QzR6QXQm4afGHAn9ChefPVdnI1O65gvKmjhuX0xHn/mH3C7kmTy0siLcc55O57480RcTMxGenQY0stqjKPDagqSsPH79Yi/2z2SQ12bhVkTXsOMFQdQIJV1Pv3rqk/P730DRwPCTm7Cnx59ErvcLkPWVI/T21bj8ec+Q/TdQmM2V3FUyNXQIGSVVZmeoht0CgSe9UNWsRSBzpuxaJtrj/UQBagrkvHxm9MRHJOB1q7Upj2rcd9eC6jLuoR/PPcUJn2zB4XlNbjp54K3Xp+APZ6RqDcmMTMg51YUYlNze61za9DI4HryrHFZkoaSW5j/6Xe4npzfETxDQPrlM5j55Q+ITxPX4OxqAIeqdkkM9J2B40Aq93WbOK+jEbu/nYEdnnFo1bYiNzkKZwIj4HtsHT5cbo+6uhK4e/qj0ZQoQkDa+R2Y8PUhaAYY1iYuWOuwfA62u11HnSQbfn6X0dRz7pGgxp6FH+D3v/8L1h0KMg03HLyZAq462uKR5z5Bobxl0AnQYvmm0kR8/PGXuCMZ+InC4Nd4UHsEKCoy4eTogOkT38BzL72DTbsPISw+E62KWpz3csPab2bg6af+aryL5h5w0zjf5nqoH47u+QF/+8vTeOPjObB3Oo4MqRyZCeE4un8r3nrlebzy1lTs3e+I27nVKEmOxWlHO3z4n3/DUy++i90HDyM8sXjAQH+kLder6rDko5fx2LNTcHeAeY7aunTM+Xpbx/p/9zh5/8DRAN8DyzDL1hHVMjmiAtwQl56ONXPn40JSEZoVdbgUeB7XUoqNTxvF0wt6HdQaHVrKEvGPv/0XItLLu++omq5vGYGjrlmK5XM/x+Hz11EjLYD3+QDcvuYHm0XbkC+VQV6ZD5eT3sanrT1j7vY2DZqVKuPNl5qMy3hv0pdIKqzuF5hbf+BoQPjJDfjy+wMoktYgLvQsYu5m4ieb+TgXmw2FQobo0ABEJIpDKjvnagrtaFVr0aasxLJPJsLufPwANxYAvaYRZw5tg92ZcMj63MwxvY3u8wtx2YiNS7/CLtdwSMuLEOAfgFsxwVi8dDNSCyshry6Ch6sP8qTyXn0vtOvR2NyM9nYDNPIizJryBTyj7g74xF/bKMH279bC92rKgIkfGDia18ljHzi2wWXrIny3xx0l5RJcCfFF/I1rWPvtD4hIyoOsTooQP3/cyi7reNooVt+gN77nNfI8fPHm+/COSoOyMxNlW0s1VtrMgnPwDTR1rj9nXotHXrqtWYp1S+bhiPcVlJXmwjcoBImRPljy3R7cLZCiXloATw9/FPRZ+qFdp0GLSm1ci7cm4wqmfPkNYu4Wmn7fq8ri8cZ7NojPKu2RZbSrfg9b4Cigpigd7i6OmDbpXbzwyttYvWEbAmNSUFGUDj8fVyyY9hGee/YVLP9xG7yCYlEnLUaIpwdWz/kcL77wEmYvWwcnz3BUN7SgPCMaM99/FS+++zkc3HwREhIMt7NBKJEU4aDtt1hhux0nzoUhP/MWzjjbYcrEd/D8317BT8f9jaMfgDbEBznjowl/x1NPv4SFqzbhdMAVyBQtXcA9vvcPHON8D2P+6p1Iyi5C0tVgXL+dgp0rV8It9AZq5TLcvBqKS7F3e01vaarIQGBUAmpqJdjxzWzsOhWC6sauYawCKpL98OaUZYjJ7L+USI/K3IeXAhSlN/Dl7IXwj0pGQWYigiOi4Xf8ALYf8UK+pBpFGYnwu3AN5XW917mV3ApDaGKO8UZx8Y3z+HSeLRKyS9ExQ1uPK27bMWv1AaSVVPeYo8vAcahOZOA4lM792icIaKmXwM/9FHbuP4TLscloUOqgaapBgNtxHHByRXppba8FxTVVSXjhP2f2XvfRVD/xUXw2nA8fwmmfUOPaYz0/BItzLFSKWhTk5yLo4iW0D5HUwHhKQYcD336EV6ZuRINyqAxyAtJDT2Da4gOQda1vZ6qTpbwQoFM3oqCoFGUSCSQSCUqLi1ApPh3RaVBaWmrcJm4vLshDiURmfHJaXSFBaefxxn3FRWhUa9FYL0VxWZmpTElhMeTNaijra1FS2r29rKQIlfXmrbnWJShmKPPaPA///runcTa+oF8wmnfpBL6zC75nRkrxfP0DR0AtK0OQ92ns2ncMMXfyoNXrUV+WCY+TTjh07AxupBcOMBxFQJz7NkyYsR4VMnEBd3GoTVeNxe+WETiKw2ol2UlwcbCHw+lzyJHUQd+mRcbNKBzdfxCuPheQL5X3etLcsxXi/50k/8OY9MVGlHYN3e1xgPUHjkBroxThfp7Yu+8YIm5kQKXVobEqH+fOnITdERfEJOdApe2b3ESA9M4FvP3BLMTniAtEi0Ocu98g7Xo1ooNc4R4aj0alBu16XUeg3vsXVw/p+/NSHEJaWZgK9xOOOHrCC3cLpdC2aZCbEgvnI/Zw8QxAVmnNkDfbarKiMOWT2YjLLOs311cMTN0dnHDlZo5xnqdepzIOZ+25DAEDR/P6dqwDR/F92lRdiAAvV9gdOYX4tHyoNRpIC1LhcdIZjie9cSujeIB1RwVkX3LCW198h/RicX54x+OLRsltzPliDi4n5RtvLPT4b2Bew0dQWnyfS3Juw83ZAU6nfZBRXAmtToOspOtwOnQYZ3yCkCOpRVv347U+ZxeQFHgMM222I7OoO9NvbpgzPvlmK/LKamDobG93wYcvcGxtaURpmQRlnX/jS0uLIa1vhLql0fg3v2u7pKwUkoo6tKpbUFEqQVnX3/6yUpRIqo030cThwZXFWfB2OYJVK9bghNcFlFY3GD9faJRNqKiQGkcxaFRNkFZWGD+flImfR2plndN+DJDXVkJSVmb67CKpqoF2wFwPfQNHQNtci2uh/rCzO4aL0UnGxGMt9aW4cM4dBw+fxJX4VChU3dOlxH7T61qhUreiPj8W06cvQHBsGtRtHSGW+P8iyXM3pi7ZisySqiEfKHS/B8bulZjvIf1mFJwOH4GHfzhKaxrQqmxAQmQI7A85wDfkKsprG3vd4BOv3trSbOyPdoMeUce3YeF6e+RK6owVEwwqnFm/BKv3uqK4pnNouXEPA8eheo6B41A6lrRP0GDjV5/CK7F8iA+5Q1dYp6pE+IVbxrvkQx0paKox79UnMGuL7yBz6jpKi3Mrj29cAYeQlEGTtgx1He4broABaaEOeORXj2CtQ595joIe7lvWwON6br9hlAOdfaDAcaDj7rVNaGvEhpkfYJPrVbQoa5FwPRO6Xn/QLCNwvFc77rlfTJay/Rt8tfUMZD2GKnaVs7TAsepOGGz3uqGxpesucVdNh/d9OMtxDOtMQht8D6zEzDWOkMoakHQrES2d2UEN7TqkRAbhwrVk05NIZU0xYhLToBnDRDDDqqfZBxlwJ8QRk6atR265zDSvRjxtu0aB8AAfxKYVdT6ZElBXeAPXc6tNGWXF4x5o4Jgfhx+2H0eNrOeHJLMRxvUEd/0ccOT8dcjukRhs8Er2nuM4+HH32CNocHDlNKw6HIDKmhrcThWHdqtREO+DydPWIbWwDJlJqcahoA/4/sg9Kj6M3YIO3nuXY+EO1x7rUBrgu28Flm3zRllFBdLu5ELVayrFwxY4DsPBYg/pHziOuqrinG5vO8xZugtp+d3rWIrzXb22L8di2xMolo5vRtXRtM3QpsS+NQuw6VgApLKO9U4Nqlr8ZGODvScuosb0ZFU8OwPHoYwZOA6lY2H7yhI8MW254wBPf4ZTUQH1OZEIv9uxQHXPEvpWBcL8fZBWImZtFbP/ReLJR/+MM7H5pknyPY/vet0kuQObhbYokin7PG3qOoLfx0qgofgGXn/8N3hzwZ5e6zkK2jqsmLsEaeWyYS0tMVaBo7YmA6+99imuZkkhTbmKiLsV0HZPELCYJ47m+gtaGWw/m4QD3rEDLsRsaYFjq6IG2fllptTvI23/mAWObTL8+MlkOAbchEyaiQsRKWgxLusjID/uHDbucUDY5Qhcu3YN165Fw9PpKHyvpEPdY5mKkdZ9XI4XdPDduwzztrqgqnNOsLEeBh1Cz9jD7pQXLkdEdbQzOhLHd27HjYIa05wi8dgHGTjqlDJk55aYst+Oi9kYX7SpsghF0nozkrONUeCoqcDsVyciKC4LFQXJuHoz3/ieTww8iGk/HUFBcTZCo5KMI1S6n72PMcZ9Op34e3DTzBk46BbRI0DXw27NNOz0vY7ivEREJBWjSdVzaSEGjvepOwY47dgFjoKuEfuW2WDXqQuQVkuRWyiFUq2DIGixc/nn+MExCNKG0d2YHKDiD2yTtrkcK2dMgcuFWDS26o3XVdflY96c2Tgubus1jJyB41Adw8BxKB0L2ycus3Fw9be4nFPbnfhmmHUUDBoEufmisd9C6eIQlMP437/8FVY6hUPb1gqPTTb44OudqGsZPAW00K5BsMNOnA5L6zd0cphV4mEjENCrarFk4sv44/OfI728ez1HRcE1fP29gylD6L1OOVaBo6BtwOGtG3Haxw9+4dfRIqbtFi9uaEd6RBBOuLhi7fzP8e4UG9g7HIOLTzSaNX2HM96rtuO/X1WVgQ/enwT/xII+T3R1uOzjCnf3U5j1yQRMX/ADHI7YI+R6OrR9/o+pKlNhs2wrCqu6+238WzZwDcYscBR0CHexx+HjHvD2DYO0M4W/suIWXn/69/jXf/4n/OIXvzB9/etv/gTPuJxeT+IGrqFlbTW0yvHTjGnYczqqV0bVjMsu+POjj+Cf/6m7jWJ7/9djHyK5pDMzZ2dTHmTgaFl6llKbMQocBQ3c9+zEKQ8fYwbz+qaOpDMNpXewa9c+nHHzQUqOeINt8PUvLUWkbz2UVRmYMnUmzl5N7XEDTUBWhBd2Hj0FV/dAVNQrTFmpO8ozcOzreP9+HrvAsbH4JqZ/9TWC49OQnxAG3+upqGvWQNDVYvlH7+F4YHfgdf/aM9ZnFiDLv45PP/wGlxJzoO185F+bfQ1zZ9jgYuzdPn97GDgO1QMMHIfSsbB94hjzxrJUbNvigJqWzg/qw6xjWUoULqV0rAvZu4iAtHBnvPzGTCTmVSAl4ixmzl+F2yXik0lTiqk+RQTjxO+d9h4WPLexd5Uf9p/EeY6em+bi1797Bj6meY4CEjz3YptbNJRdiUnu0dCxChzFuX/aViVkMnHxbn33pHJBgFIuQ1V1Lerq61FfX4/amipUiXMPuta6uEcdLWm35FYQJr4/BynG/w89nxMY0FBbjdq6OmMbxXZWV1ZC1qjsNTdZbMvPMnCEAH2bBg1yWcci8J2/S/RaJSoqyo1ziMT5Ql1fkgopVOKNhZ7ElvRGGKQuqpocTJ/8GXxiMnslxlE3N6KivGOuVFcbxe/l0tp+T8YYOA6C+8A2j1HgCAFtGhXkcjlUGnH9u443s2Boh6pZgUZF85BzZR9Yc0dxIUlSMKZ9scSY8bOtx+9xg6ENisYGNLWICXT6/ue13sCxXadCYV42svOK0KzuWutwFLA9iwgGNMiq0aBsHcCy54EDvR67wLE+LwbLv92M+Fu34el1HhnFUuNUJF1dOj56bRqCxIyqPd4DA9XG4rYJBqRfdMTkJRtxp6C88/OKgJxob8ycuQ5xqcV9RtcxcByqDxk4DqVjgfvESe5ZMRfhGXTTuDbPcKuokMkHnYeoba5BgMcJbNu+F6c8/JAnphwfLGiEgNYmKdxcPYzLG/RM8jDcuvC40QgYkHrxGH7760dg63wZxkWnBQ0OrVuFsJTSQfu275Va63KwdPlmFNWJiXv67uXP4jyOxroq1DUq0d6uw0WnDZi+/HDvYYgjZFJXp2Pp97tRXN0729sIT/NADtc2lGDN95uQKSaJ4hukv7kgQN0sR2WNHG16PfJjzmHq58uROkDG3f6FB97SWl+ANWt3ILOsluYDE93nre04vXM9/GOzTMsm3OcLWvzpjb8HZTWob1SiTa9F6MltWLDWHvniOpTD/rthQJz/CRz2jERdr/ljFt/8ISsoGNQ4a2eHc8EXsWXVUriEJ6Kh1xDdIYv32SnAYGiHVqOGJOcWbFevwIWbmaaMvH0OHuJHA5JCz8DOLRxVsoGyrg5RtM8ug7YJV/zccejYcUQmZndOMQBq7wbjnZnfISG7pDMjaZ+CFvyjOKXEZ9cqrNjsgqLKzvmZQjuivffCZv0R45rUvd/W7TizdwsCrqdC0Tms1YKb98CrxsDxgZObf0Fjtq4SCVrbB3kiaP4lhjiDAHVTLSplLaY7qkMc/FDvqi7Jh6xFHNtvGc2QF8bhtT89ggkLDxjnOeoVxVj09VrkjyAgMehUyM4s7Ag8LaNZFlULvUaB7d/NwU73CNxNCMealT/gWtrwA/OBGiOuc5idVWzMqmkhb6WBqmncJi6KnJdVYExaY+l1HbQR93GH0N6GUPuNWLzxBHLSb2HbBlu4hyeakvyM5tLiwtZ5OcVQdg33Hs1JWMYMAQHSggLUijeLhh8VmXE9yy/a3tqAvT8uw94zF5EUE4YNtpsQmZQzwr8bAhTVFSiTykxLOVl+y+9dQ1X5LXwwZQni7tzAlpUr4B+dgpZRz80WUFt0B0ePOmHvjvX4+9vvwDv6zigCRwFNdZUorajvN1Xi3i0azhECUnz2Y+E6R+RL6odTwKKOaW9TYOPiadjtFo7qpo6VAsTkjh5b1mCXozjMum+wLUBaVGhcv5Q3UPt3JQPH/ibcQgGjQMi+Fdgfkt5nbtv44eiVVfj63Rfw+IvTkVnRiPIkfyzd7IYGi10KZfysRntl4/IMRRm4FB6GyJhbqFOoRzyfeLTXZrmHQEAQ0FxXhuiISwi7Eo2SKvHJ7HjcwHsIrFjFh1ZAfOJYVZKNyMvhiIxJRLVcXHKJt5LEDs0OccDkhVuQW1o9pv3bUp0JmznT4RuTMorAcUyrYjqZmBk69locKupkcNq0Es4XElCv1Jn2W/ILtbwckVeTUCdvhrwwFlMnz0NoQgbktRLEJtxGpSQfG9f9iKDYVLRoH755x+Npz8BxPPV57TEVaKrIR9B5D2zavBd38/Nx9VIYzp31grPjaeRWisMER/aHT5Z9BTMW7oNM2XutI7HS4tCHrPgQLJg6Cc8/+QSe/ccH2Onki2pjoCEeIKC5tgjOu7dg/ry5sJm/CDsPnkJhtZggZWT16EIS5zm6b5iNX/32GZy/kY+AQ5txLCgZms6FpruO43cKUIACFKAABcZaQEDQwTVYaHsapZVju6SNJQaOFcnB+GTSfASGXcC6jQeRUVjeJwHSWPuO3fkSPA/gw9mrEZN4E0c2roG91yXUNDQj3ns/ps1dDx8vV+xx8kFBRf0Ihl+PXf0e5jMxcHyYe4917xYQ2hAVFowKeQM2zn0HU1ftQ15FPcRFX1ODjmDm+tNoae2ZKry76GCvDG0qOK1fDgf/eCh7DUURUJWTgPVb7BCZkIKCvBycd9iKZ574Iz5YsAVl9c1QSDOwatEKuAZGo6q+AUplM4ruxsHpjC/qWvoHooPVofd2A1KCj+J3v/4NfnT2he2S5YjJExeaHl0g2vvc/IkCFKAABShAgYEEKjPjsGfzD3j9r0/g5bcnYf6iZQhMyEKLVlzaQUCbVo0GudyULE1MmDbYV0NTS7/1tC0xcNQ1VyPExxX7j55ATGrRkOt6D2Q2ntsUFblwPWaH/fbOCLuWjIZmNYxzd6V58HRxhv0pb9wtrLSYEWXjaTXSazNwHKkYj7dMgbYGXAmKh0pdh0Vvv4JjlzI617ITILnpjT+8Oh+lTWq0KpsgkfTPdtgz86HpdWkpspKiYPPpx/jxoBvyy+uNQZq4tMklD1fcLqozBW2CQYcE/6P4429/h5lr9mPtgvnwiMro/UtJ0ONOVDBi0qXQj3J+qqwgBn9/4hG8/OEMTJ63CWVcQ9My34+sFQUoQAEKWI2AMYmNqhIrPpyI4wExqFUojX/HO27bGlB4Kwyrvl2EGTNm3PNr9W5XSOt6P7G0xMDRajqPDRlTAQaOY8rJk42bgGCAXt8ObXUKXnzyPdwolaFdHBIqGHDbdwcee2EOShQq5N8IxKzp0zB58uRhfX322Sd47rH/g1/++lGstvNDs7YNgroWLm6Xoei7LqFBA+9dC/E/f/nf8O7CY2hu7T8XoL7gNi5dvTPqtOz6lkrMf/t5/Pd/+Rd8sdkdilbtuJHzwhSgAAUoQIGfi4BenovJb0xHSHwmWvVjO9KHgePP5V308LeTgePD34dsQQ+Bkmun8fykxahSiIsvA0K7Dse+nYx3Fx9As6Z/INejaP+XgoDK9CuYMvVrXM8oNyUHEFprcdr9CprEILJPqdaqZLz0H/+O//HIs7iYUmJ6Itl1WH1+MsKjRh84QtDCdcNX+Ldf/QEnwu9Cp2diji5bfqcABShAAQrcLwF5XiRen7oIcVlF0I8yV8FgdWPgOJgMt1uaAANHS+sR1scMAQEhdisxeZEjmlTikzgBGkUxprz+Ojxj8tA2wuGh7a0yrLOZh5CkYrT1CNAEQysue3sjp0/CHX1rA47ZfosDJ1zw3jOP4f+9MQNJhdXdAWe7FtH+XojJEIeq9g05h9tsAcn+h/DUixORWFhrOvdwS/M4ClCAAhSgAAVGLpB/+RSmLNiIzELpmC/TxcBx5P3BEuMjwMBxfNx51fshILRix/z3MNFmL2oUKrTplAg7sRUrd3mhQaXr93TwXlUov+GNmd87Q6HuOxxUQGXuDTh7BKBQWouWlmZUFmXg6GZb7HAKNB5ffCsE77/0JP46YTp8L8UhNzcbF71PYPcRL8hGnRyno8bywhvYf9R7wGyv92oT91OAAhSgAAUoMFIBAVeOb8aC7x1RKJH3+TxhQPGdCKxf+z0WLFhwz68Nh7xQVd/UqwIMHHtx8AcLFmDgaMGdw6qNTMCgLscXz78J+zMBOOfjA28vT/gERUKhHnnQKF45eM9KOEbmDTgcVDDokZ14BdvXr8W8r2Zj4eLv4RYUixZNR+ZWQRBQXXgbO9Yuwl+eeBzP/vVVLFhnh8KaplEvxzEyDR5NAQpQgAIUoMCYCAh6HN88H6vs/SGRqfqcUoBW1YRKaYUx+Z6YgG+or8pauSnPgfhZwWAwQFGRhrmzPsfZq8lobm2DuJ3/KGCJAgwcLbFXWKdRCTTkRuCZNz9HVpW4VuKoTtGrkKKuCkpte587i70O4Q8UoAAFKEABCli7gKEJm7+aCufAWMjVI1vaaygadX0p3B2ccWjXJkz++GOssN2MrdsPIyG9BK1tXJh+KDvuGx8BBo7j486r3geBZO/dmDDVFrUKNYO9++DLU1KAAhSgAAV+jgLtjYWYNWUhriTlQDPCfAlDeRkMeihblFAqlVCpVMav5uYWaNv0Yz6Pcqh6cB8FhivAwHG4UjzOggUMkOSlYtuKmZj01Y+IvJENHe/UWXB/sWoUoAAFKEABCxcQ2pFy+SycPMKQHheIpRuOIbu0mtNNLLzbWL37K8DA8f768uwPRMCA0pw0JCbdRtLNWMTfzmfg+EDceREKUIACFKCAlQoIWpw9vB4bDrjihP0hBF5PhcKYsd1K28tmUWAYAgwch4HEQyhAAQpQgAIUoAAFfk4CAlSKGtxOTEBqdjGUmtEl2vs5ibGt1i/AwNH6+5gtpAAFKEABClCAAhSgAAUoYJYAA0ez+FiYAhSgAAUoQAEKUIACFKCA9QswcLT+PmYLKUABClCAAhSgAAUoQAEKmCXAwNEsPhamAAUoQAEKUIACFKAABShg/QIMHK2/j9lCClCAAhSgAAUoQAEKUIACZgkwcDSLkXeLvQAAA45JREFUj4UpQAEKUIACFKAABShAAQpYvwADR+vvY7aQAhSgAAUoQAEKUIACFKCAWQIMHM3iY2EKUIACFKAABShAAQpQgALWL8DA0fr7mC2kAAUoQAEKUIACFKAABShglgADR7P4WJgCFKAABShAAQpQgAIUoID1CzBwtP4+ZgspQAEKUIACFKAABShAAQqYJcDA0Sw+FqYABShAAQpQgAIUoAAFKGD9Agwcrb+P2UIKUIACFKAABShAAQpQgAJmCTBwNIuPhSlAAQpQgAIUoAAFKEABCli/AANH6+9jtpACFKAABShAAQpQgAIUoIBZAgwczeJjYQpQgAIUoAAFKEABClCAAtYvwMDR+vuYLaQABShAAQpQgAIUoAAFKGCWAANHs/hYmAIUoAAFKEABClCAAhSggPULMHC0/j5mCylAAQpQgAIUoAAFKEABCpglwMDRLD4WpgAFKEABClCAAhSgAAUoYP0CDBytv4/ZQgpQgAIUoAAFKEABClCAAmYJMHA0i4+FKUABClCAAhSgAAUoQAEKWL8AA0fr72O2kAIUoAAFKEABClCAAhSggFkCDBzN4mNhClCAAhSgAAUoQAEKUIAC1i/AwNH6+5gtpAAFKEABClCAAhSgAAUoYJYAA0ez+FiYAhSgAAUoQAEKUIACFKCA9QswcLT+PmYLKUABClCAAhSgAAUoQAEKmCXAwNEsPhamAAUoQAEKUIACFKAABShg/QIMHK2/j9lCClCAAhSgAAUoQAEKUIACZgkwcDSLj4UpQAEKUIACFKAABShAAQpYvwADR+vvY7aQAhSgAAUoQAEKUIACFKCAWQIMHM3iY2EKUIACFKAABShAAQpQgALWL8DA0fr7mC2kAAUoQAEKUIACFKAABShglgADR7P4WJgCFKAABShAAQpQgAIUoID1CzBwtP4+ZgspQAEKUIACFKAABShAAQqYJcDA0Sw+FqYABShAAQpQgAIUoAAFKGD9Agwcrb+P2UIKUIACFKAABShAAQpQgAJmCTBwNIuPhSlAAQpQgAIUoAAFKEABCli/AANH6+9jtpACFKAABShAAQpQgAIUoIBZAgwczeJjYQpQgAIUoAAFKEABClCAAtYvwMDR+vuYLaQABShAAQpQgAIUoAAFKGCWAANHs/hYmAIUoAAFKEABClCAAhSggPULMHC0/j5mCylAAQpQgAIUoAAFKEABCpgl8P8BeDmgIOyE+6oAAAAASUVORK5CYII=)"
      ]
    },
    {
      "cell_type": "markdown",
      "metadata": {
        "id": "XA_PLY2m4GJc"
      },
      "source": [
        "**Function คำนวณ manhattan distance ของ ข้อมูล N dimensions**"
      ]
    },
    {
      "cell_type": "markdown",
      "metadata": {
        "id": "HEuzDWrL4PQE"
      },
      "source": [
        "$|x1−x2|+|y1−y2|$"
      ]
    },
    {
      "cell_type": "code",
      "metadata": {
        "id": "ECZb_bHvoBZh"
      },
      "source": [
        "def dist_l1_n(p1,p2):\n",
        "    sum = 0\n",
        "    for i in range(len(p1)) :\n",
        "        sum = sum + np.abs(p1[i]-p2[i])\n",
        "    return sum"
      ],
      "execution_count": 59,
      "outputs": []
    },
    {
      "cell_type": "code",
      "metadata": {
        "id": "PPRe-QuH4Cf4",
        "outputId": "79fda1b6-823f-4550-b476-398eb60aa117",
        "colab": {
          "base_uri": "https://localhost:8080/"
        }
      },
      "source": [
        "dist_l1_n(data1[0,:],data1[1,:])"
      ],
      "execution_count": 60,
      "outputs": [
        {
          "output_type": "execute_result",
          "data": {
            "text/plain": [
              "5"
            ]
          },
          "metadata": {},
          "execution_count": 60
        }
      ]
    },
    {
      "cell_type": "markdown",
      "metadata": {
        "id": "r6vz1PQV4dtI"
      },
      "source": [
        "**Function คำนวณ L- ∞ ของ ข้อมูล N dimensions**"
      ]
    },
    {
      "cell_type": "markdown",
      "metadata": {
        "id": "aDC9SlUx4iE5"
      },
      "source": [
        "$lim\\sqrt{|x_1-x_2|^n+|y_1-y_2|^n} = max|x_1 - x_2|$"
      ]
    },
    {
      "cell_type": "code",
      "metadata": {
        "id": "9bTmylRx4daJ"
      },
      "source": [
        "def dist_inf_n(p1,p2):\n",
        "    max = -1000\n",
        "    for i in range(len(p1)) :\n",
        "        max = np.abs(p1[i]-p2[i])\n",
        "    return max"
      ],
      "execution_count": 61,
      "outputs": []
    },
    {
      "cell_type": "code",
      "metadata": {
        "id": "kv3E92gO4laH",
        "outputId": "2d4fa041-2eca-4dc2-e6f4-11514bc3c5c7",
        "colab": {
          "base_uri": "https://localhost:8080/"
        }
      },
      "source": [
        "dist_inf_n(data1[0,:],data1[1,:])"
      ],
      "execution_count": 62,
      "outputs": [
        {
          "output_type": "execute_result",
          "data": {
            "text/plain": [
              "3"
            ]
          },
          "metadata": {},
          "execution_count": 62
        }
      ]
    },
    {
      "cell_type": "markdown",
      "metadata": {
        "id": "8pyi5HUe4S6s"
      },
      "source": [
        "**Function คำนวณ Distance Matrix ด้วย Euclidean Distance**"
      ]
    },
    {
      "cell_type": "markdown",
      "metadata": {
        "id": "DIZZVDWS4WQ5"
      },
      "source": [
        "$\\sqrt{(x_1-x_2)^2+(y_1-y_2)^2}$"
      ]
    },
    {
      "cell_type": "code",
      "metadata": {
        "id": "K-h7uD2D4UME"
      },
      "source": [
        "def dist_l2(p1,p2):\n",
        "    return np.sqrt(np.power(p1[0]-p2[0],2)+np.power(p1[1]-p2[1],2))"
      ],
      "execution_count": 63,
      "outputs": []
    },
    {
      "cell_type": "code",
      "metadata": {
        "id": "Rs_BNsl44bkv",
        "outputId": "8120f764-90b4-41d5-e8c2-c43e0c250d97",
        "colab": {
          "base_uri": "https://localhost:8080/"
        }
      },
      "source": [
        "dist_l2(data1[0,:],data1[1,:])"
      ],
      "execution_count": 64,
      "outputs": [
        {
          "output_type": "execute_result",
          "data": {
            "text/plain": [
              "3.605551275463989"
            ]
          },
          "metadata": {},
          "execution_count": 64
        }
      ]
    }
  ]
}